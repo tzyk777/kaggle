{
 "cells": [
  {
   "cell_type": "markdown",
   "metadata": {},
   "source": [
    "In the locally weighted model, we have proved the similarity between data does have a positive effect on predictions.<br>\n",
    "However, to find the closest k points for one query point, we have to iterate the whole dataset at least k times, which can be really expensive. We cannot rely on this method in production.<br>\n",
    "To save computation time, here we are going to refer to Local Sensitive Hashing(LSH)<br>\n",
    "Read https://en.wikipedia.org/wiki/Locality-sensitive_hashing for more information<br><br>\n",
    "\n",
    "The basic idea behind LSH is that we want to narrow down our searching scope quickly and find the closest neighbors in a smal group of data. To achieve that goal, we divide data into n groups, to determine one query data point belongs to this group or not, we use a random generated vector with the same shape as the query point, calcualte the dot product between the random vector and the query point, if it's greater than 0, we say this point belongs to this group, otherwise it doesn't. (Actually random vector turns out to be a very good initialization). We generate n different random vector and calculate dot product for each, then we can get a vector of n 0/1 variables. "
   ]
  },
  {
   "cell_type": "code",
   "execution_count": 56,
   "metadata": {
    "collapsed": true
   },
   "outputs": [],
   "source": [
    "import pandas as pd\n",
    "import seaborn as sns\n",
    "import numpy as np\n",
    "import matplotlib.pyplot as plt\n",
    "import random\n",
    "from itertools import combinations\n",
    "from sklearn.metrics.pairwise import cosine_similarity\n",
    "import math\n",
    "\n",
    "import warnings\n",
    "warnings.filterwarnings(\"ignore\")\n",
    "\n",
    "pd.options.display.max_columns = 2000\n",
    "%matplotlib inline"
   ]
  },
  {
   "cell_type": "code",
   "execution_count": 2,
   "metadata": {
    "collapsed": true
   },
   "outputs": [],
   "source": [
    "df = pd.read_csv('train.csv')"
   ]
  },
  {
   "cell_type": "code",
   "execution_count": 3,
   "metadata": {
    "collapsed": true
   },
   "outputs": [],
   "source": [
    "del df['id']"
   ]
  },
  {
   "cell_type": "code",
   "execution_count": 4,
   "metadata": {
    "collapsed": true
   },
   "outputs": [],
   "source": [
    "dummy_df = pd.get_dummies(df)"
   ]
  },
  {
   "cell_type": "code",
   "execution_count": 5,
   "metadata": {
    "collapsed": true
   },
   "outputs": [],
   "source": [
    "y = dummy_df['loss'].values\n",
    "del dummy_df['loss']"
   ]
  },
  {
   "cell_type": "code",
   "execution_count": 6,
   "metadata": {
    "collapsed": true
   },
   "outputs": [],
   "source": [
    "zscore_df = (dummy_df - dummy_df.mean()) / dummy_df.std()\n",
    "zscore_df = zscore_df.values"
   ]
  },
  {
   "cell_type": "code",
   "execution_count": 7,
   "metadata": {
    "collapsed": true
   },
   "outputs": [],
   "source": [
    "def generate_random_vectors(num_vector, dim):\n",
    "    return np.random.randn(dim, num_vector)"
   ]
  },
  {
   "cell_type": "code",
   "execution_count": 8,
   "metadata": {
    "collapsed": true
   },
   "outputs": [],
   "source": [
    "def train_lsh(data, num_vector=16, seed=None):\n",
    "    dim = data.shape[1]\n",
    "    if seed is not None:\n",
    "        np.random.seed(seed)\n",
    "    random_vectors = generate_random_vectors(num_vector, dim)\n",
    "    \n",
    "    powers_of_two = 1 << np.arange(num_vector-1, -1, -1)\n",
    "    \n",
    "    table = {}\n",
    "    \n",
    "    bin_index_bits = (data.dot(random_vectors) >= 0)\n",
    "    \n",
    "    bin_indices = bin_index_bits.dot(powers_of_two)\n",
    "    \n",
    "    for data_index, bin_index in enumerate(bin_indices):\n",
    "        table.setdefault(bin_index, []).append(data_index)\n",
    "        \n",
    "    model = {'data': data,\n",
    "             'bin_index_bits': bin_index_bits,\n",
    "             'bin_indices': bin_indices,\n",
    "             'table': table,\n",
    "             'random_vectors': random_vectors,\n",
    "             'num_vectors': num_vector}\n",
    "    \n",
    "    return model"
   ]
  },
  {
   "cell_type": "code",
   "execution_count": 79,
   "metadata": {
    "collapsed": true
   },
   "outputs": [],
   "source": [
    "# Check it out how fast it can be\n",
    "model = train_lsh(zscore_df, 6)"
   ]
  },
  {
   "cell_type": "code",
   "execution_count": 80,
   "metadata": {
    "collapsed": false
   },
   "outputs": [],
   "source": [
    "assert len(zscore_df) == len([item for sublist in model['table'].values() for item in sublist])"
   ]
  },
  {
   "cell_type": "markdown",
   "metadata": {},
   "source": [
    "A vector of n random variables means 2^n different groups"
   ]
  },
  {
   "cell_type": "code",
   "execution_count": 81,
   "metadata": {
    "collapsed": false
   },
   "outputs": [],
   "source": [
    "assert np.power(2, 6)-1 == max(model['table'].keys())"
   ]
  },
  {
   "cell_type": "markdown",
   "metadata": {},
   "source": [
    "Check Point<br>\n",
    "\n",
    "Take a look at the data points in the first group"
   ]
  },
  {
   "cell_type": "code",
   "execution_count": 82,
   "metadata": {
    "collapsed": false
   },
   "outputs": [],
   "source": [
    "counts = {k: len(v) for k, v in model['table'].items()}"
   ]
  },
  {
   "cell_type": "code",
   "execution_count": 83,
   "metadata": {
    "collapsed": false
   },
   "outputs": [
    {
     "data": {
      "text/plain": [
       "<matplotlib.text.Text at 0x16590862eb8>"
      ]
     },
     "execution_count": 83,
     "metadata": {},
     "output_type": "execute_result"
    },
    {
     "data": {
      "image/png": "[encoded data removed]",
      "text/plain": [
       "<matplotlib.figure.Figure at 0x1658ea49630>"
      ]
     },
     "metadata": {},
     "output_type": "display_data"
    }
   ],
   "source": [
    "plt.figure(figsize=(11, 8))\n",
    "plt.bar(counts.keys(), counts.values())\n",
    "plt.xlabel('Group ID')\n",
    "plt.ylabel('Number of points')"
   ]
  },
  {
   "cell_type": "code",
   "execution_count": 84,
   "metadata": {
    "collapsed": true
   },
   "outputs": [],
   "source": [
    "def calculate_average_similarity(data):\n",
    "    num_points = data.shape[0]\n",
    "    f = math.factorial\n",
    "    combinations = f(num_points) / f(num_points - 2) / f(2)\n",
    "    return (cosine_similarity(data).sum() - num_points * 1) / 2 / combinations"
   ]
  },
  {
   "cell_type": "code",
   "execution_count": 87,
   "metadata": {
    "collapsed": false
   },
   "outputs": [
    {
     "name": "stdout",
     "output_type": "stream",
     "text": [
      "Average cosine similarity between each data points in group 0 is 0.02891507316488995\n",
      "Average cosine similarity between each data points in group 1 is 0.02309168539612048\n",
      "Average cosine similarity between each data points in group 2 is 0.035167103220146545\n",
      "Average cosine similarity between each data points in group 3 is 0.020056078657011128\n",
      "Average cosine similarity between each data points in group 4 is 0.025337098006906943\n",
      "Average cosine similarity between each data points in group 5 is 0.030226429122155292\n",
      "Average cosine similarity between each data points in group 6 is 0.03157254288548797\n",
      "Average cosine similarity between each data points in group 7 is 0.027640677869021982\n",
      "Average cosine similarity between each data points in group 8 is 0.026622299536373427\n",
      "Average cosine similarity between each data points in group 9 is 0.020074207588358525\n",
      "Average cosine similarity between each data points in group 10 is 0.03361635282461803\n",
      "Average cosine similarity between each data points in group 11 is 0.030262395177834293\n",
      "Average cosine similarity between each data points in group 12 is 0.02796614283798705\n",
      "Average cosine similarity between each data points in group 13 is 0.036208955489843125\n",
      "Average cosine similarity between each data points in group 14 is 0.031062638229480535\n",
      "Average cosine similarity between each data points in group 15 is 0.0350005115942601\n",
      "Average cosine similarity between each data points in group 16 is 0.02819233292835781\n",
      "Average cosine similarity between each data points in group 17 is 0.040757424085709905\n",
      "Average cosine similarity between each data points in group 18 is 0.02648156689654768\n",
      "Average cosine similarity between each data points in group 19 is 0.024037723381262574\n",
      "Average cosine similarity between each data points in group 20 is 0.03093056225859466\n",
      "Average cosine similarity between each data points in group 21 is 0.059065966083081456\n",
      "Average cosine similarity between each data points in group 22 is 0.020835601309249878\n",
      "Average cosine similarity between each data points in group 23 is 0.03498669444915579\n",
      "Average cosine similarity between each data points in group 24 is 0.023804247471482232\n",
      "Average cosine similarity between each data points in group 25 is 0.028950539004471212\n",
      "Average cosine similarity between each data points in group 26 is 0.027416074314932558\n",
      "Average cosine similarity between each data points in group 27 is 0.023400221193412382\n",
      "Average cosine similarity between each data points in group 28 is 0.028073370151880047\n",
      "Average cosine similarity between each data points in group 29 is 0.04569661092614591\n",
      "Average cosine similarity between each data points in group 30 is 0.019940821297188528\n",
      "Average cosine similarity between each data points in group 31 is 0.02620126900777132\n",
      "Average cosine similarity between each data points in group 32 is 0.027564521186356737\n",
      "Average cosine similarity between each data points in group 33 is 0.025888429784647515\n",
      "Average cosine similarity between each data points in group 34 is 0.05530959089163717\n",
      "Average cosine similarity between each data points in group 35 is 0.021130385674022232\n",
      "Average cosine similarity between each data points in group 36 is 0.025208134088026836\n",
      "Average cosine similarity between each data points in group 37 is 0.026115320569991603\n",
      "Average cosine similarity between each data points in group 38 is 0.03939686510174627\n",
      "Average cosine similarity between each data points in group 39 is 0.019730351065674542\n",
      "Average cosine similarity between each data points in group 40 is 0.03432369919374666\n",
      "Average cosine similarity between each data points in group 41 is 0.023039792020599914\n",
      "Average cosine similarity between each data points in group 42 is 0.036494478173065746\n",
      "Average cosine similarity between each data points in group 43 is 0.032430990659026264\n",
      "Average cosine similarity between each data points in group 44 is 0.025618091977285734\n",
      "Average cosine similarity between each data points in group 45 is 0.026368740234529297\n",
      "Average cosine similarity between each data points in group 46 is 0.030074809896977427\n",
      "Average cosine similarity between each data points in group 47 is 0.030317964740038724\n",
      "Average cosine similarity between each data points in group 48 is 0.029120539540899673\n",
      "Average cosine similarity between each data points in group 49 is 0.040269384581648734\n",
      "Average cosine similarity between each data points in group 50 is 0.02275461959782357\n",
      "Average cosine similarity between each data points in group 51 is 0.022491336565806055\n",
      "Average cosine similarity between each data points in group 52 is 0.0313146802377218\n",
      "Average cosine similarity between each data points in group 53 is 0.045481997296515475\n",
      "Average cosine similarity between each data points in group 54 is 0.018939165371469863\n",
      "Average cosine similarity between each data points in group 55 is 0.023232550518915113\n",
      "Average cosine similarity between each data points in group 56 is 0.027203762788135192\n",
      "Average cosine similarity between each data points in group 57 is 0.03934590074648982\n",
      "Average cosine similarity between each data points in group 58 is 0.025202833089501938\n",
      "Average cosine similarity between each data points in group 59 is 0.027248014483774164\n",
      "Average cosine similarity between each data points in group 60 is 0.027524093135382833\n",
      "Average cosine similarity between each data points in group 61 is 0.03714887597744362\n",
      "Average cosine similarity between each data points in group 62 is 0.02247790433703074\n",
      "Average cosine similarity between each data points in group 63 is 0.023519259303718607\n"
     ]
    }
   ],
   "source": [
    "for group_id, indexs in model['table'].items():\n",
    "    data_points = zscore_df[indexs]\n",
    "    print('Average cosine similarity between each data points in group {} is {}'.format(\n",
    "        group_id, calculate_average_similarity(data_points)))"
   ]
  },
  {
   "cell_type": "markdown",
   "metadata": {},
   "source": [
    "The similarity is really bad... probably LSH works better for categorical variables. <br>\n",
    "TODO: convert the original dataset to 0/1 variables.<br>\n",
    "For categorical variables, apply one hot encoding.<br>\n",
    "For continuous variables, divide them to different groups"
   ]
  },
  {
   "cell_type": "code",
   "execution_count": 89,
   "metadata": {
    "collapsed": true
   },
   "outputs": [],
   "source": [
    "def get_sorted_distances_and_index(data, target):\n",
    "    distances = cosine_similarity(target, data)[0]\n",
    "    orders = np.argsort(-distances)\n",
    "    return distances[orders], orders"
   ]
  },
  {
   "cell_type": "code",
   "execution_count": 90,
   "metadata": {
    "collapsed": false
   },
   "outputs": [
    {
     "name": "stdout",
     "output_type": "stream",
     "text": [
      "The closest data points from data point 0 is [ 37634  26102 177514  71709 108119]\n"
     ]
    }
   ],
   "source": [
    "for z in model['table'][0]:\n",
    "    target = zscore_df[z]\n",
    "    distances, idx = get_sorted_distances_and_index(zscore_df, target)\n",
    "    print('The closest data points from data point {} is {}'.format(z, idx[1:6]))\n",
    "    break"
   ]
  },
  {
   "cell_type": "code",
   "execution_count": null,
   "metadata": {
    "collapsed": true
   },
   "outputs": [],
   "source": []
  }
 ],
 "metadata": {
  "kernelspec": {
   "display_name": "Python 3",
   "language": "python",
   "name": "python3"
  },
  "language_info": {
   "codemirror_mode": {
    "name": "ipython",
    "version": 3
   },
   "file_extension": ".py",
   "mimetype": "text/x-python",
   "name": "python",
   "nbconvert_exporter": "python",
   "pygments_lexer": "ipython3",
   "version": "3.5.1"
  }
 },
 "nbformat": 4,
 "nbformat_minor": 0
}
