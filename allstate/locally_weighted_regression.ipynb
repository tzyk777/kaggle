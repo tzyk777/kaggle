{
 "cells": [
  {
   "cell_type": "code",
   "execution_count": 45,
   "metadata": {
    "collapsed": true
   },
   "outputs": [],
   "source": [
    "import pandas as pd\n",
    "import seaborn as sns\n",
    "import numpy as np\n",
    "import matplotlib.pyplot as plt\n",
    "import random\n",
    "\n",
    "pd.options.display.max_columns = 2000\n",
    "%matplotlib inline"
   ]
  },
  {
   "cell_type": "code",
   "execution_count": 2,
   "metadata": {
    "collapsed": true
   },
   "outputs": [],
   "source": [
    "df = pd.read_csv('train.csv')"
   ]
  },
  {
   "cell_type": "code",
   "execution_count": 3,
   "metadata": {
    "collapsed": true
   },
   "outputs": [],
   "source": [
    "del df['id']"
   ]
  },
  {
   "cell_type": "code",
   "execution_count": 4,
   "metadata": {
    "collapsed": true
   },
   "outputs": [],
   "source": [
    "dummy_df = pd.get_dummies(df)"
   ]
  },
  {
   "cell_type": "code",
   "execution_count": 5,
   "metadata": {
    "collapsed": true
   },
   "outputs": [],
   "source": [
    "y = dummy_df['loss'].values\n",
    "del dummy_df['loss']"
   ]
  },
  {
   "cell_type": "code",
   "execution_count": 6,
   "metadata": {
    "collapsed": false
   },
   "outputs": [],
   "source": [
    "from sklearn.metrics.pairwise import cosine_similarity"
   ]
  },
  {
   "cell_type": "code",
   "execution_count": 7,
   "metadata": {
    "collapsed": false,
    "scrolled": true
   },
   "outputs": [],
   "source": [
    "zscore_df = (dummy_df - dummy_df.mean()) / dummy_df.std()\n",
    "zscore_df = zscore_df.values"
   ]
  },
  {
   "cell_type": "code",
   "execution_count": 8,
   "metadata": {
    "collapsed": true
   },
   "outputs": [],
   "source": [
    "def get_sorted_distances_and_index(data, target):\n",
    "    distances = cosine_similarity(target, data)[0]\n",
    "    orders = np.argsort(-distances)\n",
    "    return distances[orders], orders"
   ]
  },
  {
   "cell_type": "code",
   "execution_count": 9,
   "metadata": {
    "collapsed": true
   },
   "outputs": [],
   "source": [
    "def get_estimations(data, target, y, k):\n",
    "    num_samples = len(data)\n",
    "    distances, orders = get_sorted_distances_and_index(data, target)\n",
    "    start, end = 0, k\n",
    "    estimates = []\n",
    "    while end < num_samples:\n",
    "        group_index = orders[start:end]\n",
    "        group_distances = distances[start:end]\n",
    "        group_y = y[group_index]\n",
    "        weights = group_distances / group_distances.sum()\n",
    "        estimated_y = weights @ group_y\n",
    "        estimates.append(estimated_y)\n",
    "        start = end\n",
    "        end += k\n",
    "    return estimates\n",
    "    #return group_index, group_distances, group_y, weights"
   ]
  },
  {
   "cell_type": "code",
   "execution_count": 10,
   "metadata": {
    "collapsed": false
   },
   "outputs": [],
   "source": [
    "def get_estimation_errors(data, target, y, target_y, k):\n",
    "    estimations = get_estimations(data, target, y, k)\n",
    "    return estimations - target_y"
   ]
  },
  {
   "cell_type": "code",
   "execution_count": 11,
   "metadata": {
    "collapsed": true
   },
   "outputs": [],
   "source": [
    "import warnings\n",
    "warnings.filterwarnings(\"ignore\")"
   ]
  },
  {
   "cell_type": "code",
   "execution_count": 43,
   "metadata": {
    "collapsed": false
   },
   "outputs": [],
   "source": [
    "def get_sample_errors(data, y, samples, k=1000):\n",
    "    errors = []\n",
    "    for idx, i in enumerate(samples):\n",
    "        if idx % 100 == 0:\n",
    "            print('Estimating training data {0}, {0}/{1}'.format(idx, len(samples)))\n",
    "        training_data_index = [j for j in range(len(y)) if j != i]\n",
    "        errors_ = get_estimation_errors(data[training_data_index], \n",
    "                                        data[i], \n",
    "                                        y[training_data_index],\n",
    "                                        y[i],\n",
    "                                        10000)\n",
    "        errors.append(errors_)\n",
    "    return errors"
   ]
  },
  {
   "cell_type": "code",
   "execution_count": 48,
   "metadata": {
    "collapsed": false
   },
   "outputs": [],
   "source": [
    "samples = random.sample(range(len(zscore_df)), 5000)"
   ]
  },
  {
   "cell_type": "code",
   "execution_count": 49,
   "metadata": {
    "collapsed": false
   },
   "outputs": [
    {
     "name": "stdout",
     "output_type": "stream",
     "text": [
      "Estimating training data 0, 0/5000\n",
      "Estimating training data 100, 100/5000\n",
      "Estimating training data 200, 200/5000\n",
      "Estimating training data 300, 300/5000\n",
      "Estimating training data 400, 400/5000\n",
      "Estimating training data 500, 500/5000\n",
      "Estimating training data 600, 600/5000\n",
      "Estimating training data 700, 700/5000\n",
      "Estimating training data 800, 800/5000\n",
      "Estimating training data 900, 900/5000\n",
      "Estimating training data 1000, 1000/5000\n",
      "Estimating training data 1100, 1100/5000\n",
      "Estimating training data 1200, 1200/5000\n",
      "Estimating training data 1300, 1300/5000\n",
      "Estimating training data 1400, 1400/5000\n",
      "Estimating training data 1500, 1500/5000\n",
      "Estimating training data 1600, 1600/5000\n",
      "Estimating training data 1700, 1700/5000\n",
      "Estimating training data 1800, 1800/5000\n",
      "Estimating training data 1900, 1900/5000\n",
      "Estimating training data 2000, 2000/5000\n",
      "Estimating training data 2100, 2100/5000\n",
      "Estimating training data 2200, 2200/5000\n",
      "Estimating training data 2300, 2300/5000\n",
      "Estimating training data 2400, 2400/5000\n",
      "Estimating training data 2500, 2500/5000\n",
      "Estimating training data 2600, 2600/5000\n",
      "Estimating training data 2700, 2700/5000\n",
      "Estimating training data 2800, 2800/5000\n",
      "Estimating training data 2900, 2900/5000\n",
      "Estimating training data 3000, 3000/5000\n",
      "Estimating training data 3100, 3100/5000\n",
      "Estimating training data 3200, 3200/5000\n",
      "Estimating training data 3300, 3300/5000\n",
      "Estimating training data 3400, 3400/5000\n",
      "Estimating training data 3500, 3500/5000\n",
      "Estimating training data 3600, 3600/5000\n",
      "Estimating training data 3700, 3700/5000\n",
      "Estimating training data 3800, 3800/5000\n",
      "Estimating training data 3900, 3900/5000\n",
      "Estimating training data 4000, 4000/5000\n",
      "Estimating training data 4100, 4100/5000\n",
      "Estimating training data 4200, 4200/5000\n",
      "Estimating training data 4300, 4300/5000\n",
      "Estimating training data 4400, 4400/5000\n",
      "Estimating training data 4500, 4500/5000\n",
      "Estimating training data 4600, 4600/5000\n",
      "Estimating training data 4700, 4700/5000\n",
      "Estimating training data 4800, 4800/5000\n",
      "Estimating training data 4900, 4900/5000\n"
     ]
    }
   ],
   "source": [
    "errors = get_sample_errors(zscore_df, y, samples)"
   ]
  },
  {
   "cell_type": "code",
   "execution_count": 79,
   "metadata": {
    "collapsed": true
   },
   "outputs": [],
   "source": [
    "err = np.array(errors)"
   ]
  },
  {
   "cell_type": "code",
   "execution_count": 80,
   "metadata": {
    "collapsed": false
   },
   "outputs": [],
   "source": [
    "err = np.sqrt(np.average(err**2, axis=0))"
   ]
  },
  {
   "cell_type": "code",
   "execution_count": 85,
   "metadata": {
    "collapsed": false
   },
   "outputs": [
    {
     "data": {
      "text/plain": [
       "<matplotlib.text.Text at 0x19b000c8a58>"
      ]
     },
     "execution_count": 85,
     "metadata": {},
     "output_type": "execute_result"
    },
    {
     "data": {
      "image/png": "[encoded data removed]",
      "text/plain": [
       "<matplotlib.figure.Figure at 0x19b003d3c18>"
      ]
     },
     "metadata": {},
     "output_type": "display_data"
    }
   ],
   "source": [
    "plt.figure()\n",
    "plt.plot(err)\n",
    "plt.xlabel('distance')\n",
    "plt.ylabel('average error')"
   ]
  },
  {
   "cell_type": "markdown",
   "metadata": {},
   "source": [
    "We see on average, error is increasing as the similarity decreases"
   ]
  },
  {
   "cell_type": "markdown",
   "metadata": {},
   "source": [
    "### Test"
   ]
  },
  {
   "cell_type": "code",
   "execution_count": 86,
   "metadata": {
    "collapsed": true
   },
   "outputs": [],
   "source": [
    "test_df = pd.read_csv('test.csv')"
   ]
  },
  {
   "cell_type": "code",
   "execution_count": 88,
   "metadata": {
    "collapsed": false
   },
   "outputs": [
    {
     "data": {
      "text/plain": [
       "(125546, 131)"
      ]
     },
     "execution_count": 88,
     "metadata": {},
     "output_type": "execute_result"
    }
   ],
   "source": [
    "test_df.shape"
   ]
  },
  {
   "cell_type": "markdown",
   "metadata": {},
   "source": [
    "This is a nonparametric algorithm, for each query data, we need to iterate all the training set to find the closest k points. It's really expensive! 5000 query points take about 10 hourse.."
   ]
  },
  {
   "cell_type": "code",
   "execution_count": null,
   "metadata": {
    "collapsed": true
   },
   "outputs": [],
   "source": []
  }
 ],
 "metadata": {
  "kernelspec": {
   "display_name": "Python 3",
   "language": "python",
   "name": "python3"
  },
  "language_info": {
   "codemirror_mode": {
    "name": "ipython",
    "version": 3
   },
   "file_extension": ".py",
   "mimetype": "text/x-python",
   "name": "python",
   "nbconvert_exporter": "python",
   "pygments_lexer": "ipython3",
   "version": "3.5.1"
  }
 },
 "nbformat": 4,
 "nbformat_minor": 0
}
