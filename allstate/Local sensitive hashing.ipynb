{
 "cells": [
  {
   "cell_type": "markdown",
   "metadata": {},
   "source": [
    "In the locally weighted model, we have proved the similarity between data does have a positive effect on predictions.<br>\n",
    "However, to find the closest k points for one query point, we have to iterate the whole dataset at least k times, which can be really expensive. We cannot rely on this method in production.<br>\n",
    "To save computation time, here we are going to refer to Local Sensitive Hashing(LSH)<br>\n",
    "Read https://en.wikipedia.org/wiki/Locality-sensitive_hashing for more information<br><br>\n",
    "\n",
    "The basic idea behind LSH is that we want to narrow down our searching scope quickly and find the closest neighbors in a smal group of data. To achieve that goal, we divide data into n groups, to determine one query data point belongs to this group or not, we use a random generated vector with the same shape as the query point, calcualte the dot product between the random vector and the query point, if it's greater than 0, we say this point belongs to this group, otherwise it doesn't. (Actually random vector turns out to be a very good initialization). We generate n different random vector and calculate dot product for each, then we can get a vector of n 0/1 variables. "
   ]
  },
  {
   "cell_type": "code",
   "execution_count": 1,
   "metadata": {
    "collapsed": true
   },
   "outputs": [],
   "source": [
    "import pandas as pd\n",
    "import seaborn as sns\n",
    "import numpy as np\n",
    "import matplotlib.pyplot as plt\n",
    "import random\n",
    "from itertools import combinations\n",
    "from sklearn.metrics.pairwise import cosine_similarity\n",
    "import math\n",
    "\n",
    "import warnings\n",
    "warnings.filterwarnings(\"ignore\")\n",
    "\n",
    "pd.options.display.max_columns = 2000\n",
    "%matplotlib inline"
   ]
  },
  {
   "cell_type": "code",
   "execution_count": 2,
   "metadata": {
    "collapsed": true
   },
   "outputs": [],
   "source": [
    "df = pd.read_csv('train.csv')"
   ]
  },
  {
   "cell_type": "code",
   "execution_count": 3,
   "metadata": {
    "collapsed": true
   },
   "outputs": [],
   "source": [
    "del df['id']"
   ]
  },
  {
   "cell_type": "code",
   "execution_count": 4,
   "metadata": {
    "collapsed": true
   },
   "outputs": [],
   "source": [
    "dummy_df = pd.get_dummies(df)"
   ]
  },
  {
   "cell_type": "code",
   "execution_count": 5,
   "metadata": {
    "collapsed": true
   },
   "outputs": [],
   "source": [
    "y = dummy_df['loss'].values\n",
    "del dummy_df['loss']"
   ]
  },
  {
   "cell_type": "code",
   "execution_count": 7,
   "metadata": {
    "collapsed": true
   },
   "outputs": [],
   "source": [
    "zscore_df = (dummy_df - dummy_df.mean()) / dummy_df.std()\n",
    "zscore_df = zscore_df.values"
   ]
  },
  {
   "cell_type": "code",
   "execution_count": 8,
   "metadata": {
    "collapsed": true
   },
   "outputs": [],
   "source": [
    "def generate_random_vectors(num_vector, dim):\n",
    "    return np.random.randn(dim, num_vector)"
   ]
  },
  {
   "cell_type": "code",
   "execution_count": 9,
   "metadata": {
    "collapsed": true
   },
   "outputs": [],
   "source": [
    "def train_lsh(data, num_vector=16, seed=None):\n",
    "    dim = data.shape[1]\n",
    "    if seed is not None:\n",
    "        np.random.seed(seed)\n",
    "    random_vectors = generate_random_vectors(num_vector, dim)\n",
    "    \n",
    "    powers_of_two = 1 << np.arange(num_vector-1, -1, -1)\n",
    "    \n",
    "    table = {}\n",
    "    \n",
    "    bin_index_bits = (data.dot(random_vectors) >= 0)\n",
    "    \n",
    "    bin_indices = bin_index_bits.dot(powers_of_two)\n",
    "    \n",
    "    for data_index, bin_index in enumerate(bin_indices):\n",
    "        table.setdefault(bin_index, []).append(data_index)\n",
    "        \n",
    "    model = {'data': data,\n",
    "             'bin_index_bits': bin_index_bits,\n",
    "             'bin_indices': bin_indices,\n",
    "             'table': table,\n",
    "             'random_vectors': random_vectors,\n",
    "             'num_vectors': num_vector}\n",
    "    \n",
    "    return model"
   ]
  },
  {
   "cell_type": "code",
   "execution_count": 10,
   "metadata": {
    "collapsed": true
   },
   "outputs": [],
   "source": [
    "# Check it out how fast it can be\n",
    "model = train_lsh(zscore_df, 6)"
   ]
  },
  {
   "cell_type": "code",
   "execution_count": 11,
   "metadata": {
    "collapsed": false
   },
   "outputs": [],
   "source": [
    "assert len(zscore_df) == len([item for sublist in model['table'].values() for item in sublist])"
   ]
  },
  {
   "cell_type": "markdown",
   "metadata": {},
   "source": [
    "A vector of n random variables means 2^n different groups"
   ]
  },
  {
   "cell_type": "code",
   "execution_count": 12,
   "metadata": {
    "collapsed": false
   },
   "outputs": [],
   "source": [
    "assert np.power(2, 6)-1 == max(model['table'].keys())"
   ]
  },
  {
   "cell_type": "markdown",
   "metadata": {},
   "source": [
    "Check Point<br>\n",
    "\n",
    "Take a look at the data points in the first group"
   ]
  },
  {
   "cell_type": "code",
   "execution_count": 13,
   "metadata": {
    "collapsed": false
   },
   "outputs": [],
   "source": [
    "counts = {k: len(v) for k, v in model['table'].items()}"
   ]
  },
  {
   "cell_type": "code",
   "execution_count": 14,
   "metadata": {
    "collapsed": false
   },
   "outputs": [
    {
     "data": {
      "text/plain": [
       "<matplotlib.text.Text at 0x1adcd418e48>"
      ]
     },
     "execution_count": 14,
     "metadata": {},
     "output_type": "execute_result"
    },
    {
     "data": {
      "image/png": "[encoded data removed]",
      "text/plain": [
       "<matplotlib.figure.Figure at 0x1adcd464860>"
      ]
     },
     "metadata": {},
     "output_type": "display_data"
    }
   ],
   "source": [
    "plt.figure(figsize=(11, 8))\n",
    "plt.bar(counts.keys(), counts.values())\n",
    "plt.xlabel('Group ID')\n",
    "plt.ylabel('Number of points')"
   ]
  },
  {
   "cell_type": "code",
   "execution_count": 15,
   "metadata": {
    "collapsed": true
   },
   "outputs": [],
   "source": [
    "def calculate_average_similarity(data):\n",
    "    num_points = data.shape[0]\n",
    "    f = math.factorial\n",
    "    combinations = f(num_points) / f(num_points - 2) / f(2)\n",
    "    return (cosine_similarity(data).sum() - num_points * 1) / 2 / combinations"
   ]
  },
  {
   "cell_type": "code",
   "execution_count": 87,
   "metadata": {
    "collapsed": false
   },
   "outputs": [
    {
     "name": "stdout",
     "output_type": "stream",
     "text": [
      "Average cosine similarity between each data points in group 0 is 0.02891507316488995\n",
      "Average cosine similarity between each data points in group 1 is 0.02309168539612048\n",
      "Average cosine similarity between each data points in group 2 is 0.035167103220146545\n",
      "Average cosine similarity between each data points in group 3 is 0.020056078657011128\n",
      "Average cosine similarity between each data points in group 4 is 0.025337098006906943\n",
      "Average cosine similarity between each data points in group 5 is 0.030226429122155292\n",
      "Average cosine similarity between each data points in group 6 is 0.03157254288548797\n",
      "Average cosine similarity between each data points in group 7 is 0.027640677869021982\n",
      "Average cosine similarity between each data points in group 8 is 0.026622299536373427\n",
      "Average cosine similarity between each data points in group 9 is 0.020074207588358525\n",
      "Average cosine similarity between each data points in group 10 is 0.03361635282461803\n",
      "Average cosine similarity between each data points in group 11 is 0.030262395177834293\n",
      "Average cosine similarity between each data points in group 12 is 0.02796614283798705\n",
      "Average cosine similarity between each data points in group 13 is 0.036208955489843125\n",
      "Average cosine similarity between each data points in group 14 is 0.031062638229480535\n",
      "Average cosine similarity between each data points in group 15 is 0.0350005115942601\n",
      "Average cosine similarity between each data points in group 16 is 0.02819233292835781\n",
      "Average cosine similarity between each data points in group 17 is 0.040757424085709905\n",
      "Average cosine similarity between each data points in group 18 is 0.02648156689654768\n",
      "Average cosine similarity between each data points in group 19 is 0.024037723381262574\n",
      "Average cosine similarity between each data points in group 20 is 0.03093056225859466\n",
      "Average cosine similarity between each data points in group 21 is 0.059065966083081456\n",
      "Average cosine similarity between each data points in group 22 is 0.020835601309249878\n",
      "Average cosine similarity between each data points in group 23 is 0.03498669444915579\n",
      "Average cosine similarity between each data points in group 24 is 0.023804247471482232\n",
      "Average cosine similarity between each data points in group 25 is 0.028950539004471212\n",
      "Average cosine similarity between each data points in group 26 is 0.027416074314932558\n",
      "Average cosine similarity between each data points in group 27 is 0.023400221193412382\n",
      "Average cosine similarity between each data points in group 28 is 0.028073370151880047\n",
      "Average cosine similarity between each data points in group 29 is 0.04569661092614591\n",
      "Average cosine similarity between each data points in group 30 is 0.019940821297188528\n",
      "Average cosine similarity between each data points in group 31 is 0.02620126900777132\n",
      "Average cosine similarity between each data points in group 32 is 0.027564521186356737\n",
      "Average cosine similarity between each data points in group 33 is 0.025888429784647515\n",
      "Average cosine similarity between each data points in group 34 is 0.05530959089163717\n",
      "Average cosine similarity between each data points in group 35 is 0.021130385674022232\n",
      "Average cosine similarity between each data points in group 36 is 0.025208134088026836\n",
      "Average cosine similarity between each data points in group 37 is 0.026115320569991603\n",
      "Average cosine similarity between each data points in group 38 is 0.03939686510174627\n",
      "Average cosine similarity between each data points in group 39 is 0.019730351065674542\n",
      "Average cosine similarity between each data points in group 40 is 0.03432369919374666\n",
      "Average cosine similarity between each data points in group 41 is 0.023039792020599914\n",
      "Average cosine similarity between each data points in group 42 is 0.036494478173065746\n",
      "Average cosine similarity between each data points in group 43 is 0.032430990659026264\n",
      "Average cosine similarity between each data points in group 44 is 0.025618091977285734\n",
      "Average cosine similarity between each data points in group 45 is 0.026368740234529297\n",
      "Average cosine similarity between each data points in group 46 is 0.030074809896977427\n",
      "Average cosine similarity between each data points in group 47 is 0.030317964740038724\n",
      "Average cosine similarity between each data points in group 48 is 0.029120539540899673\n",
      "Average cosine similarity between each data points in group 49 is 0.040269384581648734\n",
      "Average cosine similarity between each data points in group 50 is 0.02275461959782357\n",
      "Average cosine similarity between each data points in group 51 is 0.022491336565806055\n",
      "Average cosine similarity between each data points in group 52 is 0.0313146802377218\n",
      "Average cosine similarity between each data points in group 53 is 0.045481997296515475\n",
      "Average cosine similarity between each data points in group 54 is 0.018939165371469863\n",
      "Average cosine similarity between each data points in group 55 is 0.023232550518915113\n",
      "Average cosine similarity between each data points in group 56 is 0.027203762788135192\n",
      "Average cosine similarity between each data points in group 57 is 0.03934590074648982\n",
      "Average cosine similarity between each data points in group 58 is 0.025202833089501938\n",
      "Average cosine similarity between each data points in group 59 is 0.027248014483774164\n",
      "Average cosine similarity between each data points in group 60 is 0.027524093135382833\n",
      "Average cosine similarity between each data points in group 61 is 0.03714887597744362\n",
      "Average cosine similarity between each data points in group 62 is 0.02247790433703074\n",
      "Average cosine similarity between each data points in group 63 is 0.023519259303718607\n"
     ]
    }
   ],
   "source": [
    "for group_id, indexs in model['table'].items():\n",
    "    data_points = zscore_df[indexs]\n",
    "    print('Average cosine similarity between each data points in group {} is {}'.format(\n",
    "        group_id, calculate_average_similarity(data_points)))"
   ]
  },
  {
   "cell_type": "markdown",
   "metadata": {},
   "source": [
    "The similarity is really bad... probably LSH works better for categorical variables. <br>\n",
    "TODO: convert the original dataset to 0/1 variables.<br>\n",
    "For categorical variables, apply one hot encoding.<br>\n",
    "For continuous variables, divide them to different groups"
   ]
  },
  {
   "cell_type": "code",
   "execution_count": 20,
   "metadata": {
    "collapsed": false
   },
   "outputs": [],
   "source": [
    "continuous_vars = [c for c in dummy_df.columns if c.startswith('cont')]"
   ]
  },
  {
   "cell_type": "code",
   "execution_count": 66,
   "metadata": {
    "collapsed": false
   },
   "outputs": [
    {
     "data": {
      "image/png": "[encoded data removed]",
      "text/plain": [
       "<matplotlib.figure.Figure at 0x1ad849bfa58>"
      ]
     },
     "metadata": {},
     "output_type": "display_data"
    }
   ],
   "source": [
    "fig, axes = plt.subplots(nrows=7, ncols=2, figsize=(18, 18))\n",
    "for i, c in enumerate(continuous_vars):\n",
    "    sub = plt.subplot(7, 2, i+1)\n",
    "    sub.set_xlabel(c)\n",
    "    dummy_df[c].hist()\n",
    "\n",
    "fig.tight_layout()"
   ]
  },
  {
   "cell_type": "markdown",
   "metadata": {},
   "source": [
    "Apparently, they are not normal distributed, regardless of skweness, some features, i.e, cont14, absolutly cannot be expressed as a normal distribution. So the skweness corrections we took in linear regression were wrong."
   ]
  },
  {
   "cell_type": "code",
   "execution_count": 68,
   "metadata": {
    "collapsed": false
   },
   "outputs": [
    {
     "data": {
      "text/html": [
       "<div>\n",
       "<table border=\"1\" class=\"dataframe\">\n",
       "  <thead>\n",
       "    <tr style=\"text-align: right;\">\n",
       "      <th></th>\n",
       "      <th>cont1</th>\n",
       "      <th>cont2</th>\n",
       "      <th>cont3</th>\n",
       "      <th>cont4</th>\n",
       "      <th>cont5</th>\n",
       "      <th>cont6</th>\n",
       "      <th>cont7</th>\n",
       "      <th>cont8</th>\n",
       "      <th>cont9</th>\n",
       "      <th>cont10</th>\n",
       "      <th>cont11</th>\n",
       "      <th>cont12</th>\n",
       "      <th>cont13</th>\n",
       "      <th>cont14</th>\n",
       "    </tr>\n",
       "  </thead>\n",
       "  <tbody>\n",
       "    <tr>\n",
       "      <th>count</th>\n",
       "      <td>188318.000000</td>\n",
       "      <td>188318.000000</td>\n",
       "      <td>188318.000000</td>\n",
       "      <td>188318.000000</td>\n",
       "      <td>188318.000000</td>\n",
       "      <td>188318.000000</td>\n",
       "      <td>188318.000000</td>\n",
       "      <td>188318.000000</td>\n",
       "      <td>188318.000000</td>\n",
       "      <td>188318.000000</td>\n",
       "      <td>188318.000000</td>\n",
       "      <td>188318.000000</td>\n",
       "      <td>188318.000000</td>\n",
       "      <td>188318.000000</td>\n",
       "    </tr>\n",
       "    <tr>\n",
       "      <th>mean</th>\n",
       "      <td>0.493861</td>\n",
       "      <td>0.507188</td>\n",
       "      <td>0.498918</td>\n",
       "      <td>0.491812</td>\n",
       "      <td>0.487428</td>\n",
       "      <td>0.490945</td>\n",
       "      <td>0.484970</td>\n",
       "      <td>0.486437</td>\n",
       "      <td>0.485506</td>\n",
       "      <td>0.498066</td>\n",
       "      <td>0.493511</td>\n",
       "      <td>0.493150</td>\n",
       "      <td>0.493138</td>\n",
       "      <td>0.495717</td>\n",
       "    </tr>\n",
       "    <tr>\n",
       "      <th>std</th>\n",
       "      <td>0.187640</td>\n",
       "      <td>0.207202</td>\n",
       "      <td>0.202105</td>\n",
       "      <td>0.211292</td>\n",
       "      <td>0.209027</td>\n",
       "      <td>0.205273</td>\n",
       "      <td>0.178450</td>\n",
       "      <td>0.199370</td>\n",
       "      <td>0.181660</td>\n",
       "      <td>0.185877</td>\n",
       "      <td>0.209737</td>\n",
       "      <td>0.209427</td>\n",
       "      <td>0.212777</td>\n",
       "      <td>0.222488</td>\n",
       "    </tr>\n",
       "    <tr>\n",
       "      <th>min</th>\n",
       "      <td>0.000016</td>\n",
       "      <td>0.001149</td>\n",
       "      <td>0.002634</td>\n",
       "      <td>0.176921</td>\n",
       "      <td>0.281143</td>\n",
       "      <td>0.012683</td>\n",
       "      <td>0.069503</td>\n",
       "      <td>0.236880</td>\n",
       "      <td>0.000080</td>\n",
       "      <td>0.000000</td>\n",
       "      <td>0.035321</td>\n",
       "      <td>0.036232</td>\n",
       "      <td>0.000228</td>\n",
       "      <td>0.179722</td>\n",
       "    </tr>\n",
       "    <tr>\n",
       "      <th>25%</th>\n",
       "      <td>0.346090</td>\n",
       "      <td>0.358319</td>\n",
       "      <td>0.336963</td>\n",
       "      <td>0.327354</td>\n",
       "      <td>0.281143</td>\n",
       "      <td>0.336105</td>\n",
       "      <td>0.350175</td>\n",
       "      <td>0.312800</td>\n",
       "      <td>0.358970</td>\n",
       "      <td>0.364580</td>\n",
       "      <td>0.310961</td>\n",
       "      <td>0.311661</td>\n",
       "      <td>0.315758</td>\n",
       "      <td>0.294610</td>\n",
       "    </tr>\n",
       "    <tr>\n",
       "      <th>50%</th>\n",
       "      <td>0.475784</td>\n",
       "      <td>0.555782</td>\n",
       "      <td>0.527991</td>\n",
       "      <td>0.452887</td>\n",
       "      <td>0.422268</td>\n",
       "      <td>0.440945</td>\n",
       "      <td>0.438285</td>\n",
       "      <td>0.441060</td>\n",
       "      <td>0.441450</td>\n",
       "      <td>0.461190</td>\n",
       "      <td>0.457203</td>\n",
       "      <td>0.462286</td>\n",
       "      <td>0.363547</td>\n",
       "      <td>0.407403</td>\n",
       "    </tr>\n",
       "    <tr>\n",
       "      <th>75%</th>\n",
       "      <td>0.623912</td>\n",
       "      <td>0.681761</td>\n",
       "      <td>0.634224</td>\n",
       "      <td>0.652072</td>\n",
       "      <td>0.643315</td>\n",
       "      <td>0.655021</td>\n",
       "      <td>0.591045</td>\n",
       "      <td>0.623580</td>\n",
       "      <td>0.566820</td>\n",
       "      <td>0.614590</td>\n",
       "      <td>0.678924</td>\n",
       "      <td>0.675759</td>\n",
       "      <td>0.689974</td>\n",
       "      <td>0.724623</td>\n",
       "    </tr>\n",
       "    <tr>\n",
       "      <th>max</th>\n",
       "      <td>0.984975</td>\n",
       "      <td>0.862654</td>\n",
       "      <td>0.944251</td>\n",
       "      <td>0.954297</td>\n",
       "      <td>0.983674</td>\n",
       "      <td>0.997162</td>\n",
       "      <td>1.000000</td>\n",
       "      <td>0.980200</td>\n",
       "      <td>0.995400</td>\n",
       "      <td>0.994980</td>\n",
       "      <td>0.998742</td>\n",
       "      <td>0.998484</td>\n",
       "      <td>0.988494</td>\n",
       "      <td>0.844848</td>\n",
       "    </tr>\n",
       "  </tbody>\n",
       "</table>\n",
       "</div>"
      ],
      "text/plain": [
       "               cont1          cont2          cont3          cont4  \\\n",
       "count  188318.000000  188318.000000  188318.000000  188318.000000   \n",
       "mean        0.493861       0.507188       0.498918       0.491812   \n",
       "std         0.187640       0.207202       0.202105       0.211292   \n",
       "min         0.000016       0.001149       0.002634       0.176921   \n",
       "25%         0.346090       0.358319       0.336963       0.327354   \n",
       "50%         0.475784       0.555782       0.527991       0.452887   \n",
       "75%         0.623912       0.681761       0.634224       0.652072   \n",
       "max         0.984975       0.862654       0.944251       0.954297   \n",
       "\n",
       "               cont5          cont6          cont7          cont8  \\\n",
       "count  188318.000000  188318.000000  188318.000000  188318.000000   \n",
       "mean        0.487428       0.490945       0.484970       0.486437   \n",
       "std         0.209027       0.205273       0.178450       0.199370   \n",
       "min         0.281143       0.012683       0.069503       0.236880   \n",
       "25%         0.281143       0.336105       0.350175       0.312800   \n",
       "50%         0.422268       0.440945       0.438285       0.441060   \n",
       "75%         0.643315       0.655021       0.591045       0.623580   \n",
       "max         0.983674       0.997162       1.000000       0.980200   \n",
       "\n",
       "               cont9         cont10         cont11         cont12  \\\n",
       "count  188318.000000  188318.000000  188318.000000  188318.000000   \n",
       "mean        0.485506       0.498066       0.493511       0.493150   \n",
       "std         0.181660       0.185877       0.209737       0.209427   \n",
       "min         0.000080       0.000000       0.035321       0.036232   \n",
       "25%         0.358970       0.364580       0.310961       0.311661   \n",
       "50%         0.441450       0.461190       0.457203       0.462286   \n",
       "75%         0.566820       0.614590       0.678924       0.675759   \n",
       "max         0.995400       0.994980       0.998742       0.998484   \n",
       "\n",
       "              cont13         cont14  \n",
       "count  188318.000000  188318.000000  \n",
       "mean        0.493138       0.495717  \n",
       "std         0.212777       0.222488  \n",
       "min         0.000228       0.179722  \n",
       "25%         0.315758       0.294610  \n",
       "50%         0.363547       0.407403  \n",
       "75%         0.689974       0.724623  \n",
       "max         0.988494       0.844848  "
      ]
     },
     "execution_count": 68,
     "metadata": {},
     "output_type": "execute_result"
    }
   ],
   "source": [
    "dummy_df[continuous_vars].describe()"
   ]
  },
  {
   "cell_type": "markdown",
   "metadata": {},
   "source": [
    "All the continuous variables are from 0 to 1. We decide to divide each continous variables into 10 different groups.<br><br>\n",
    "10 groups means we need 10 digits to represent all groups. For example, the first group \n",
    "[0, 0.1) will be expressed as 0000000001, the second group [0.1, 0.2) 0000000011 and etc. \n",
    "<br><br>This representation method can keep the relative value information in the dataset, for example, the cosine distance between 0000000111(Query point) and 0000000011(A), which is 0.18,  is shorter than the cosine distance between 0000000111 and 0000000001(B), which is 0.42. This makes senses because A represents data in group [0.1, 0.2) while B represents data in group [0, 0.1), the Query point is in group [0.2, 0.3) so it should have shorter distance to A than B."
   ]
  },
  {
   "cell_type": "code",
   "execution_count": 10,
   "metadata": {
    "collapsed": true
   },
   "outputs": [],
   "source": [
    "continuous_vars = [c for c in dummy_df.columns if c.startswith('cont')]"
   ]
  },
  {
   "cell_type": "code",
   "execution_count": 11,
   "metadata": {
    "collapsed": false
   },
   "outputs": [],
   "source": [
    "# Function divides continuous variables into groups\n",
    "def continuous_to_groups(data, name):\n",
    "    names = [name+'_{}'.format(i) for i in range(10, 0, -1)]\n",
    "    decoded_data = []\n",
    "    for d in data:\n",
    "        group = d // 0.1 + 1\n",
    "        zeros = np.zeros(10)\n",
    "        zeros[-group:] = 1\n",
    "        decoded_data.append(zeros)\n",
    "    return pd.DataFrame(decoded_data, index=data.index, columns=names)"
   ]
  },
  {
   "cell_type": "code",
   "execution_count": 12,
   "metadata": {
    "collapsed": false
   },
   "outputs": [],
   "source": [
    "original_size = len(dummy_df)\n",
    "for col in continuous_vars:\n",
    "    decoded_df = continuous_to_groups(dummy_df[col], col)\n",
    "    dummy_df = pd.merge(dummy_df, decoded_df, how='inner', left_index=True, right_index=True)\n",
    "    assert len(dummy_df) == original_size"
   ]
  },
  {
   "cell_type": "code",
   "execution_count": 16,
   "metadata": {
    "collapsed": false
   },
   "outputs": [],
   "source": [
    "for c in continuous_vars:\n",
    "    del dummy_df[c]"
   ]
  },
  {
   "cell_type": "code",
   "execution_count": null,
   "metadata": {
    "collapsed": true
   },
   "outputs": [],
   "source": []
  },
  {
   "cell_type": "code",
   "execution_count": 170,
   "metadata": {
    "collapsed": true
   },
   "outputs": [],
   "source": [
    "def get_sorted_distances_and_index(data, target):\n",
    "    distances = cosine_similarity(target, data)[0]\n",
    "    orders = np.argsort(-distances)\n",
    "    return distances[orders], orders"
   ]
  },
  {
   "cell_type": "code",
   "execution_count": 90,
   "metadata": {
    "collapsed": false
   },
   "outputs": [
    {
     "name": "stdout",
     "output_type": "stream",
     "text": [
      "The closest data points from data point 0 is [ 37634  26102 177514  71709 108119]\n"
     ]
    }
   ],
   "source": [
    "for z in model['table'][0]:\n",
    "    target = zscore_df[z]\n",
    "    distances, idx = get_sorted_distances_and_index(zscore_df, target)\n",
    "    print('The closest data points from data point {} is {}'.format(z, idx[1:6]))\n",
    "    break"
   ]
  },
  {
   "cell_type": "code",
   "execution_count": null,
   "metadata": {
    "collapsed": true
   },
   "outputs": [],
   "source": []
  }
 ],
 "metadata": {
  "kernelspec": {
   "display_name": "Python 3",
   "language": "python",
   "name": "python3"
  },
  "language_info": {
   "codemirror_mode": {
    "name": "ipython",
    "version": 3
   },
   "file_extension": ".py",
   "mimetype": "text/x-python",
   "name": "python",
   "nbconvert_exporter": "python",
   "pygments_lexer": "ipython3",
   "version": "3.5.1"
  }
 },
 "nbformat": 4,
 "nbformat_minor": 0
}
