{
 "cells": [
  {
   "cell_type": "code",
   "execution_count": 1,
   "metadata": {
    "collapsed": false
   },
   "outputs": [
    {
     "name": "stderr",
     "output_type": "stream",
     "text": [
      "D:\\Users\\zeyang\\Miniconda3\\lib\\site-packages\\sklearn\\cross_validation.py:44: DeprecationWarning: This module was deprecated in version 0.18 in favor of the model_selection module into which all the refactored classes and functions are moved. Also note that the interface of the new CV iterators are different from that of this module. This module will be removed in 0.20.\n",
      "  \"This module will be removed in 0.20.\", DeprecationWarning)\n",
      "D:\\Users\\zeyang\\Miniconda3\\lib\\site-packages\\sklearn\\grid_search.py:43: DeprecationWarning: This module was deprecated in version 0.18 in favor of the model_selection module into which all the refactored classes and functions are moved. This module will be removed in 0.20.\n",
      "  DeprecationWarning)\n"
     ]
    }
   ],
   "source": [
    "import pandas as pd\n",
    "import numpy as np\n",
    "from sklearn.ensemble import GradientBoostingRegressor  #GBM algorithm\n",
    "from sklearn import cross_validation, metrics  #Additional scklearn functions\n",
    "from sklearn.metrics import make_scorer\n",
    "from sklearn.grid_search import GridSearchCV   #Perforing grid search\n",
    "import scipy\n",
    "\n",
    "import matplotlib.pylab as plt\n",
    "%matplotlib inline\n",
    "from matplotlib.pylab import rcParams\n",
    "rcParams['figure.figsize'] = 12, 4"
   ]
  },
  {
   "cell_type": "code",
   "execution_count": 2,
   "metadata": {
    "collapsed": true
   },
   "outputs": [],
   "source": [
    "training_df = pd.read_csv('train.csv')\n",
    "test_df = pd.read_csv('test.csv')\n",
    "df = pd.concat([training_df, test_df], join='inner')\n",
    "df = pd.get_dummies(df)\n",
    "training_data = df[:len(training_df)]\n",
    "test_data = df[len(training_df):]"
   ]
  },
  {
   "cell_type": "code",
   "execution_count": 3,
   "metadata": {
    "collapsed": false
   },
   "outputs": [],
   "source": [
    "features = [c for c in df.columns if c != 'id']\n",
    "X = training_data[features]\n",
    "Y = np.log(training_df['loss'])"
   ]
  },
  {
   "cell_type": "code",
   "execution_count": 4,
   "metadata": {
    "collapsed": false
   },
   "outputs": [],
   "source": [
    "def modelfit(model, X, Y, features, performCV=True, cv_folds=5, printFeatureImportance=True):\n",
    "    model.fit(X, Y)\n",
    "    \n",
    "    predictions = model.predict(X)\n",
    "    if performCV:\n",
    "        #score_func = make_scorer(metrics.mean_squared_error, greater_is_better=False)\n",
    "        cv_score = cross_validation.cross_val_score(model, X, \n",
    "                                                    Y, cv=cv_folds,\n",
    "                                                    n_jobs=4, scoring='neg_mean_squared_error',\n",
    "                                                    )\n",
    "    \n",
    "    print('Mean square error {}'.format(metrics.mean_squared_error(Y.values, predictions)))\n",
    "    \n",
    "    if performCV:\n",
    "        print('CV Score: Mean - {} | Std - {} | Min - {} | Max - {}'.format(\n",
    "            -np.mean(cv_score),\n",
    "            np.std(cv_score),\n",
    "            -np.max(cv_score),\n",
    "            -np.min(cv_score)))\n",
    "        \n",
    "    if printFeatureImportance:\n",
    "        feat_imp = pd.Series(model.feature_importances_,).sort_values(ascending=False)[:10]\n",
    "        feat_imp.plot(kind='bar', title='Feature Importances')\n",
    "        plt.ylabel('Feature Importance Score')"
   ]
  },
  {
   "cell_type": "markdown",
   "metadata": {},
   "source": [
    "For a gradient boosting model, there are 3 kinds of parmameters:<br>\n",
    "1. tree-specific\n",
    "2. boosting\n",
    "3. miscellaneous parameters"
   ]
  },
  {
   "cell_type": "markdown",
   "metadata": {},
   "source": [
    "A general approach to train a GBM:<br>\n",
    "1. Choose a relatively high learning rate. Generally the default value of 0.1 works but somewhere between 0.05 to 0.2 should work for different problems\n",
    "2. Determine the optimum number of trees for this learning rate. This should range around 40-70. Remember to choose a value on which your system can work fairly fast. This is because it will be used for testing various scenarios and determining the tree parameters.\n",
    "3. Tune tree-specific parameters for decided learning rate and number of trees. Note that we can choose different parameters to define a tree and I’ll take up an example here.\n",
    "4. Lower the learning rate and increase the estimators proportionally to get more robust models"
   ]
  },
  {
   "cell_type": "markdown",
   "metadata": {},
   "source": [
    "#### Tree specific parameters:\n",
    "1. min_samples_split = 500 : This should be ~0.5-1% of total values. Since this is imbalanced class problem, we’ll take a small value from the range.\n",
    "2. min_samples_leaf = 50 : Can be selected based on intuition. This is just used for preventing overfitting and again a small value because of imbalanced classes.\n",
    "3. max_depth = 8 : Should be chosen (5-8) based on the number of observations and predictors. This has 87K rows and 49 columns so lets take 8 here.\n",
    "4. max_features = ‘sqrt’ : Its a general thumb-rule to start with square root.\n",
    "5. subsample = 0.8 : This is a commonly used used start value"
   ]
  },
  {
   "cell_type": "markdown",
   "metadata": {},
   "source": [
    "References:\n",
    "1. http://www.ccs.neu.edu/home/vip/teach/MLcourse/4_boosting/slides/gradient_boosting.pdf\n",
    "2. https://www.analyticsvidhya.com/blog/2016/02/complete-guide-parameter-tuning-gradient-boosting-gbm-python/\n",
    "3. http://blog.kaggle.com/2017/01/23/a-kaggle-master-explains-gradient-boosting/"
   ]
  },
  {
   "cell_type": "markdown",
   "metadata": {},
   "source": [
    "Try to train a GBM by using parameters selected based on intuition."
   ]
  },
  {
   "cell_type": "code",
   "execution_count": 42,
   "metadata": {
    "collapsed": false
   },
   "outputs": [],
   "source": [
    "params = {'n_estimators': 60, 'learning_rate': 0.1, 'min_samples_split': 1800, \n",
    "          'min_samples_leaf': 50, 'max_depth': 8, 'max_features': 'sqrt', 'subsample': 0.8, \n",
    "          'random_state': 10, 'loss': 'ls'}\n",
    "model = GradientBoostingRegressor(**params)"
   ]
  },
  {
   "cell_type": "code",
   "execution_count": 43,
   "metadata": {
    "collapsed": false
   },
   "outputs": [
    {
     "name": "stdout",
     "output_type": "stream",
     "text": [
      "Mean square error 0.31027289460724783\n",
      "CV Score: Mean - 0.31466594468788944 | Std - 0.0022971470833609104 | Min - 0.31180157496765554 | Max - 0.31834128374022536\n"
     ]
    },
    {
     "data": {
      "image/png": "[encoded data removed]",
      "text/plain": [
       "<matplotlib.figure.Figure at 0x20400982e48>"
      ]
     },
     "metadata": {},
     "output_type": "display_data"
    }
   ],
   "source": [
    "modelfit(model, X, Y, features)"
   ]
  },
  {
   "cell_type": "markdown",
   "metadata": {},
   "source": [
    "### Parameter Tuning"
   ]
  },
  {
   "cell_type": "markdown",
   "metadata": {},
   "source": [
    "#### number of estimators"
   ]
  },
  {
   "cell_type": "code",
   "execution_count": 17,
   "metadata": {
    "collapsed": true
   },
   "outputs": [],
   "source": [
    "estimators = {'n_estimators':list(range(20,81,10))}\n",
    "model_params = {'learning_rate': 0.1, 'min_samples_split': 1800, \n",
    "                'min_samples_leaf': 50, 'max_depth': 8, 'max_features': 'sqrt', 'subsample': 0.8, \n",
    "                'random_state': 10, 'loss': 'ls'}"
   ]
  },
  {
   "cell_type": "code",
   "execution_count": 18,
   "metadata": {
    "collapsed": false
   },
   "outputs": [
    {
     "data": {
      "text/plain": [
       "GridSearchCV(cv=5, error_score='raise',\n",
       "       estimator=GradientBoostingRegressor(alpha=0.9, criterion='friedman_mse', init=None,\n",
       "             learning_rate=0.1, loss='ls', max_depth=8,\n",
       "             max_features='sqrt', max_leaf_nodes=None,\n",
       "             min_impurity_split=1e-07, min_samples_leaf=50,\n",
       "             min_samples_split=1800, min_weight_fraction_leaf=0.0,\n",
       "             n_estimators=100, presort='auto', random_state=10,\n",
       "             subsample=0.8, verbose=0, warm_start=False),\n",
       "       fit_params={}, iid=False, n_jobs=8,\n",
       "       param_grid={'n_estimators': [20, 30, 40, 50, 60, 70, 80]},\n",
       "       pre_dispatch='2*n_jobs', refit=True,\n",
       "       scoring='neg_mean_squared_error', verbose=0)"
      ]
     },
     "execution_count": 18,
     "metadata": {},
     "output_type": "execute_result"
    }
   ],
   "source": [
    "gsearch1 = GridSearchCV(estimator = GradientBoostingRegressor(**model_params), \n",
    "                        param_grid = estimators, scoring='neg_mean_squared_error',n_jobs=8,iid=False, cv=5)\n",
    "gsearch1.fit(X, Y)"
   ]
  },
  {
   "cell_type": "code",
   "execution_count": 19,
   "metadata": {
    "collapsed": false
   },
   "outputs": [
    {
     "data": {
      "text/plain": [
       "([mean: -0.37256, std: 0.00265, params: {'n_estimators': 20},\n",
       "  mean: -0.34420, std: 0.00313, params: {'n_estimators': 30},\n",
       "  mean: -0.32885, std: 0.00273, params: {'n_estimators': 40},\n",
       "  mean: -0.32053, std: 0.00237, params: {'n_estimators': 50},\n",
       "  mean: -0.31467, std: 0.00230, params: {'n_estimators': 60},\n",
       "  mean: -0.31089, std: 0.00233, params: {'n_estimators': 70},\n",
       "  mean: -0.30820, std: 0.00238, params: {'n_estimators': 80}],\n",
       " {'n_estimators': 80},\n",
       " -0.3081991097321425)"
      ]
     },
     "execution_count": 19,
     "metadata": {},
     "output_type": "execute_result"
    }
   ],
   "source": [
    "gsearch1.grid_scores_, gsearch1.best_params_, gsearch1.best_score_"
   ]
  },
  {
   "cell_type": "markdown",
   "metadata": {},
   "source": [
    "The optimal estimators for 0.1 learning rate is 80, which is the maximum value in the range, this indicates that the optimal estimators could be higher than 80. "
   ]
  },
  {
   "cell_type": "code",
   "execution_count": 5,
   "metadata": {
    "collapsed": true
   },
   "outputs": [],
   "source": [
    "estimators = {'n_estimators':list(range(80,300,20))}\n",
    "model_params = {'learning_rate': 0.1, 'min_samples_split': 1800, \n",
    "                'min_samples_leaf': 50, 'max_depth': 8, 'max_features': 'sqrt', 'subsample': 0.8, \n",
    "                'random_state': 10, 'loss': 'ls'}"
   ]
  },
  {
   "cell_type": "code",
   "execution_count": 6,
   "metadata": {
    "collapsed": false
   },
   "outputs": [
    {
     "data": {
      "text/plain": [
       "GridSearchCV(cv=5, error_score='raise',\n",
       "       estimator=GradientBoostingRegressor(alpha=0.9, criterion='friedman_mse', init=None,\n",
       "             learning_rate=0.1, loss='ls', max_depth=8,\n",
       "             max_features='sqrt', max_leaf_nodes=None,\n",
       "             min_impurity_split=1e-07, min_samples_leaf=50,\n",
       "             min_samples_split=1800, min_weight_fraction_leaf=0.0,\n",
       "             n_estimators=100, presort='auto', random_state=10,\n",
       "             subsample=0.8, verbose=0, warm_start=False),\n",
       "       fit_params={}, iid=False, n_jobs=2,\n",
       "       param_grid={'n_estimators': [80, 100, 120, 140, 160, 180, 200, 220, 240, 260, 280]},\n",
       "       pre_dispatch='2*n_jobs', refit=True,\n",
       "       scoring='neg_mean_squared_error', verbose=0)"
      ]
     },
     "execution_count": 6,
     "metadata": {},
     "output_type": "execute_result"
    }
   ],
   "source": [
    "gsearch2 = GridSearchCV(estimator = GradientBoostingRegressor(**model_params), \n",
    "                        param_grid = estimators, scoring='neg_mean_squared_error',n_jobs=2,iid=False, cv=5)\n",
    "gsearch2.fit(X, Y)"
   ]
  },
  {
   "cell_type": "code",
   "execution_count": 8,
   "metadata": {
    "collapsed": false
   },
   "outputs": [
    {
     "data": {
      "text/plain": [
       "([mean: -0.30820, std: 0.00238, params: {'n_estimators': 80},\n",
       "  mean: -0.30452, std: 0.00227, params: {'n_estimators': 100},\n",
       "  mean: -0.30207, std: 0.00212, params: {'n_estimators': 120},\n",
       "  mean: -0.30035, std: 0.00220, params: {'n_estimators': 140},\n",
       "  mean: -0.29902, std: 0.00231, params: {'n_estimators': 160},\n",
       "  mean: -0.29798, std: 0.00229, params: {'n_estimators': 180},\n",
       "  mean: -0.29707, std: 0.00237, params: {'n_estimators': 200},\n",
       "  mean: -0.29632, std: 0.00238, params: {'n_estimators': 220},\n",
       "  mean: -0.29573, std: 0.00234, params: {'n_estimators': 240},\n",
       "  mean: -0.29525, std: 0.00236, params: {'n_estimators': 260},\n",
       "  mean: -0.29482, std: 0.00237, params: {'n_estimators': 280}],\n",
       " {'n_estimators': 280},\n",
       " -0.29481993415013197)"
      ]
     },
     "execution_count": 8,
     "metadata": {},
     "output_type": "execute_result"
    }
   ],
   "source": [
    "gsearch2.grid_scores_, gsearch2.best_params_, gsearch2.best_score_"
   ]
  },
  {
   "cell_type": "code",
   "execution_count": 6,
   "metadata": {
    "collapsed": true
   },
   "outputs": [],
   "source": [
    "best_estimators = 280"
   ]
  },
  {
   "cell_type": "markdown",
   "metadata": {},
   "source": [
    "#### max_depth and min_samples_split"
   ]
  },
  {
   "cell_type": "code",
   "execution_count": 10,
   "metadata": {
    "collapsed": false
   },
   "outputs": [],
   "source": [
    "estimators = {'max_depth':list(range(5,16,2)), 'min_samples_split':list(range(1000,1801,200))}\n",
    "model_params = {'learning_rate': 0.1, 'min_samples_leaf': 50, \n",
    "                'max_features': 'sqrt', 'subsample': 0.8, \n",
    "                'random_state': 10, 'loss': 'ls',\n",
    "                'n_estimators': best_estimators}"
   ]
  },
  {
   "cell_type": "code",
   "execution_count": 11,
   "metadata": {
    "collapsed": false
   },
   "outputs": [
    {
     "data": {
      "text/plain": [
       "GridSearchCV(cv=5, error_score='raise',\n",
       "       estimator=GradientBoostingRegressor(alpha=0.9, criterion='friedman_mse', init=None,\n",
       "             learning_rate=0.1, loss='ls', max_depth=3,\n",
       "             max_features='sqrt', max_leaf_nodes=None,\n",
       "             min_impurity_split=1e-07, min_samples_leaf=50,\n",
       "             min_samples_split=2, min_weight_fraction_leaf=0.0,\n",
       "             n_estimators=280, presort='auto', random_state=10,\n",
       "             subsample=0.8, verbose=0, warm_start=False),\n",
       "       fit_params={}, iid=False, n_jobs=2,\n",
       "       param_grid={'min_samples_split': [1000, 1200, 1400, 1600, 1800], 'max_depth': [5, 7, 9, 11, 13, 15]},\n",
       "       pre_dispatch='2*n_jobs', refit=True,\n",
       "       scoring='neg_mean_squared_error', verbose=0)"
      ]
     },
     "execution_count": 11,
     "metadata": {},
     "output_type": "execute_result"
    }
   ],
   "source": [
    "gsearch3 = GridSearchCV(estimator = GradientBoostingRegressor(**model_params), \n",
    "                        param_grid = estimators, scoring='neg_mean_squared_error',n_jobs=2,iid=False, cv=5)\n",
    "gsearch3.fit(X, Y)"
   ]
  },
  {
   "cell_type": "code",
   "execution_count": 12,
   "metadata": {
    "collapsed": false
   },
   "outputs": [
    {
     "data": {
      "text/plain": [
       "([mean: -0.30128, std: 0.00261, params: {'min_samples_split': 1000, 'max_depth': 5},\n",
       "  mean: -0.30159, std: 0.00228, params: {'min_samples_split': 1200, 'max_depth': 5},\n",
       "  mean: -0.30140, std: 0.00272, params: {'min_samples_split': 1400, 'max_depth': 5},\n",
       "  mean: -0.30167, std: 0.00256, params: {'min_samples_split': 1600, 'max_depth': 5},\n",
       "  mean: -0.30172, std: 0.00242, params: {'min_samples_split': 1800, 'max_depth': 5},\n",
       "  mean: -0.29610, std: 0.00252, params: {'min_samples_split': 1000, 'max_depth': 7},\n",
       "  mean: -0.29606, std: 0.00267, params: {'min_samples_split': 1200, 'max_depth': 7},\n",
       "  mean: -0.29627, std: 0.00238, params: {'min_samples_split': 1400, 'max_depth': 7},\n",
       "  mean: -0.29630, std: 0.00270, params: {'min_samples_split': 1600, 'max_depth': 7},\n",
       "  mean: -0.29658, std: 0.00196, params: {'min_samples_split': 1800, 'max_depth': 7},\n",
       "  mean: -0.29346, std: 0.00257, params: {'min_samples_split': 1000, 'max_depth': 9},\n",
       "  mean: -0.29358, std: 0.00276, params: {'min_samples_split': 1200, 'max_depth': 9},\n",
       "  mean: -0.29350, std: 0.00268, params: {'min_samples_split': 1400, 'max_depth': 9},\n",
       "  mean: -0.29337, std: 0.00258, params: {'min_samples_split': 1600, 'max_depth': 9},\n",
       "  mean: -0.29357, std: 0.00252, params: {'min_samples_split': 1800, 'max_depth': 9},\n",
       "  mean: -0.29154, std: 0.00243, params: {'min_samples_split': 1000, 'max_depth': 11},\n",
       "  mean: -0.29137, std: 0.00274, params: {'min_samples_split': 1200, 'max_depth': 11},\n",
       "  mean: -0.29181, std: 0.00248, params: {'min_samples_split': 1400, 'max_depth': 11},\n",
       "  mean: -0.29174, std: 0.00276, params: {'min_samples_split': 1600, 'max_depth': 11},\n",
       "  mean: -0.29192, std: 0.00235, params: {'min_samples_split': 1800, 'max_depth': 11},\n",
       "  mean: -0.29020, std: 0.00270, params: {'min_samples_split': 1000, 'max_depth': 13},\n",
       "  mean: -0.29066, std: 0.00278, params: {'min_samples_split': 1200, 'max_depth': 13},\n",
       "  mean: -0.29059, std: 0.00279, params: {'min_samples_split': 1400, 'max_depth': 13},\n",
       "  mean: -0.29039, std: 0.00233, params: {'min_samples_split': 1600, 'max_depth': 13},\n",
       "  mean: -0.29079, std: 0.00260, params: {'min_samples_split': 1800, 'max_depth': 13},\n",
       "  mean: -0.28968, std: 0.00303, params: {'min_samples_split': 1000, 'max_depth': 15},\n",
       "  mean: -0.28995, std: 0.00274, params: {'min_samples_split': 1200, 'max_depth': 15},\n",
       "  mean: -0.29025, std: 0.00263, params: {'min_samples_split': 1400, 'max_depth': 15},\n",
       "  mean: -0.28990, std: 0.00263, params: {'min_samples_split': 1600, 'max_depth': 15},\n",
       "  mean: -0.29016, std: 0.00272, params: {'min_samples_split': 1800, 'max_depth': 15}],\n",
       " {'max_depth': 15, 'min_samples_split': 1000},\n",
       " -0.28967833216869965)"
      ]
     },
     "execution_count": 12,
     "metadata": {},
     "output_type": "execute_result"
    }
   ],
   "source": [
    "gsearch3.grid_scores_, gsearch3.best_params_, gsearch3.best_score_"
   ]
  },
  {
   "cell_type": "code",
   "execution_count": 7,
   "metadata": {
    "collapsed": true
   },
   "outputs": [],
   "source": [
    "best_max_depth = 15"
   ]
  },
  {
   "cell_type": "code",
   "execution_count": 11,
   "metadata": {
    "collapsed": false
   },
   "outputs": [],
   "source": [
    "estimators = {'min_samples_split':list(range(500,1500,100))}\n",
    "model_params = {'learning_rate': 0.1, 'min_samples_leaf': 50, \n",
    "                'max_features': 'sqrt', 'subsample': 0.8, \n",
    "                'random_state': 10, 'loss': 'ls',\n",
    "                'n_estimators': best_estimators,\n",
    "                'max_depth': best_max_depth}"
   ]
  },
  {
   "cell_type": "code",
   "execution_count": 12,
   "metadata": {
    "collapsed": false
   },
   "outputs": [
    {
     "data": {
      "text/plain": [
       "GridSearchCV(cv=5, error_score='raise',\n",
       "       estimator=GradientBoostingRegressor(alpha=0.9, criterion='friedman_mse', init=None,\n",
       "             learning_rate=0.1, loss='ls', max_depth=15,\n",
       "             max_features='sqrt', max_leaf_nodes=None,\n",
       "             min_impurity_split=1e-07, min_samples_leaf=50,\n",
       "             min_samples_split=2, min_weight_fraction_leaf=0.0,\n",
       "             n_estimators=280, presort='auto', random_state=10,\n",
       "             subsample=0.8, verbose=0, warm_start=False),\n",
       "       fit_params={}, iid=False, n_jobs=2,\n",
       "       param_grid={'min_samples_split': [500, 600, 700, 800, 900, 1000, 1100, 1200, 1300, 1400]},\n",
       "       pre_dispatch='2*n_jobs', refit=True,\n",
       "       scoring='neg_mean_squared_error', verbose=0)"
      ]
     },
     "execution_count": 12,
     "metadata": {},
     "output_type": "execute_result"
    }
   ],
   "source": [
    "gsearch4 = GridSearchCV(estimator = GradientBoostingRegressor(**model_params), \n",
    "                        param_grid = estimators, scoring='neg_mean_squared_error',n_jobs=2,iid=False, cv=5)\n",
    "gsearch4.fit(X, Y)"
   ]
  },
  {
   "cell_type": "code",
   "execution_count": 13,
   "metadata": {
    "collapsed": false
   },
   "outputs": [
    {
     "data": {
      "text/plain": [
       "([mean: -0.28960, std: 0.00241, params: {'min_samples_split': 500},\n",
       "  mean: -0.29004, std: 0.00255, params: {'min_samples_split': 600},\n",
       "  mean: -0.28991, std: 0.00301, params: {'min_samples_split': 700},\n",
       "  mean: -0.29021, std: 0.00299, params: {'min_samples_split': 800},\n",
       "  mean: -0.28981, std: 0.00272, params: {'min_samples_split': 900},\n",
       "  mean: -0.28968, std: 0.00303, params: {'min_samples_split': 1000},\n",
       "  mean: -0.28997, std: 0.00245, params: {'min_samples_split': 1100},\n",
       "  mean: -0.28995, std: 0.00274, params: {'min_samples_split': 1200},\n",
       "  mean: -0.29002, std: 0.00268, params: {'min_samples_split': 1300},\n",
       "  mean: -0.29025, std: 0.00263, params: {'min_samples_split': 1400}],\n",
       " {'min_samples_split': 500},\n",
       " -0.28959507015336283)"
      ]
     },
     "execution_count": 13,
     "metadata": {},
     "output_type": "execute_result"
    }
   ],
   "source": [
    "gsearch4.grid_scores_, gsearch4.best_params_, gsearch4.best_score_"
   ]
  },
  {
   "cell_type": "code",
   "execution_count": 14,
   "metadata": {
    "collapsed": true
   },
   "outputs": [],
   "source": [
    "best_min_samples_split = 500"
   ]
  },
  {
   "cell_type": "code",
   "execution_count": 15,
   "metadata": {
    "collapsed": true
   },
   "outputs": [],
   "source": [
    "grid_parameters = {'min_samples_leaf': list(range(10, 31, 5))}\n",
    "model_params = {'learning_rate': 0.1, 'subsample': 0.8,\n",
    "                'max_features': 'sqrt', 'min_samples_split': best_min_samples_split,\n",
    "                'random_state': 10, 'loss': 'ls',\n",
    "                'n_estimators': best_estimators, 'max_depth': best_max_depth}"
   ]
  },
  {
   "cell_type": "code",
   "execution_count": 16,
   "metadata": {
    "collapsed": false
   },
   "outputs": [
    {
     "data": {
      "text/plain": [
       "GridSearchCV(cv=5, error_score='raise',\n",
       "       estimator=GradientBoostingRegressor(alpha=0.9, criterion='friedman_mse', init=None,\n",
       "             learning_rate=0.1, loss='ls', max_depth=15,\n",
       "             max_features='sqrt', max_leaf_nodes=None,\n",
       "             min_impurity_split=1e-07, min_samples_leaf=1,\n",
       "             min_samples_split=500, min_weight_fraction_leaf=0.0,\n",
       "             n_estimators=280, presort='auto', random_state=10,\n",
       "             subsample=0.8, verbose=0, warm_start=False),\n",
       "       fit_params={}, iid=False, n_jobs=2,\n",
       "       param_grid={'min_samples_leaf': [10, 15, 20, 25, 30]},\n",
       "       pre_dispatch='2*n_jobs', refit=True,\n",
       "       scoring='neg_mean_squared_error', verbose=0)"
      ]
     },
     "execution_count": 16,
     "metadata": {},
     "output_type": "execute_result"
    }
   ],
   "source": [
    "gsearch5 = GridSearchCV(estimator = GradientBoostingRegressor(**model_params), \n",
    "                        param_grid = grid_parameters, scoring='neg_mean_squared_error',n_jobs=2,iid=False, cv=5)\n",
    "gsearch5.fit(X, Y)"
   ]
  },
  {
   "cell_type": "code",
   "execution_count": 17,
   "metadata": {
    "collapsed": false
   },
   "outputs": [
    {
     "data": {
      "text/plain": [
       "([mean: -0.29043, std: 0.00256, params: {'min_samples_leaf': 10},\n",
       "  mean: -0.29018, std: 0.00289, params: {'min_samples_leaf': 15},\n",
       "  mean: -0.28954, std: 0.00258, params: {'min_samples_leaf': 20},\n",
       "  mean: -0.29007, std: 0.00289, params: {'min_samples_leaf': 25},\n",
       "  mean: -0.28976, std: 0.00254, params: {'min_samples_leaf': 30}],\n",
       " {'min_samples_leaf': 20},\n",
       " -0.2895437871622214)"
      ]
     },
     "execution_count": 17,
     "metadata": {},
     "output_type": "execute_result"
    }
   ],
   "source": [
    "gsearch5.grid_scores_, gsearch5.best_params_, gsearch5.best_score_"
   ]
  },
  {
   "cell_type": "code",
   "execution_count": 18,
   "metadata": {
    "collapsed": true
   },
   "outputs": [],
   "source": [
    "best_min_samples_leaf = 20"
   ]
  },
  {
   "cell_type": "markdown",
   "metadata": {},
   "source": [
    "#### subsample"
   ]
  },
  {
   "cell_type": "code",
   "execution_count": 19,
   "metadata": {
    "collapsed": true
   },
   "outputs": [],
   "source": [
    "grid_parameters = {'subsample':[0.7,0.75,0.8,0.85,0.9]}\n",
    "model_params = {'learning_rate': 0.1, 'min_samples_leaf': best_min_samples_split, \n",
    "                'max_features': 'sqrt', 'min_samples_split': best_min_samples_split,\n",
    "                'random_state': 10, 'loss': 'ls',\n",
    "                'n_estimators': best_estimators, 'max_depth': best_max_depth}"
   ]
  },
  {
   "cell_type": "code",
   "execution_count": 20,
   "metadata": {
    "collapsed": false
   },
   "outputs": [
    {
     "data": {
      "text/plain": [
       "GridSearchCV(cv=5, error_score='raise',\n",
       "       estimator=GradientBoostingRegressor(alpha=0.9, criterion='friedman_mse', init=None,\n",
       "             learning_rate=0.1, loss='ls', max_depth=15,\n",
       "             max_features='sqrt', max_leaf_nodes=None,\n",
       "             min_impurity_split=1e-07, min_samples_leaf=500,\n",
       "             min_samples_split=500, min_weight_fraction_leaf=0.0,\n",
       "             n_estimators=280, presort='auto', random_state=10,\n",
       "             subsample=1.0, verbose=0, warm_start=False),\n",
       "       fit_params={}, iid=False, n_jobs=2,\n",
       "       param_grid={'subsample': [0.7, 0.75, 0.8, 0.85, 0.9]},\n",
       "       pre_dispatch='2*n_jobs', refit=True,\n",
       "       scoring='neg_mean_squared_error', verbose=0)"
      ]
     },
     "execution_count": 20,
     "metadata": {},
     "output_type": "execute_result"
    }
   ],
   "source": [
    "gsearch6 = GridSearchCV(estimator = GradientBoostingRegressor(**model_params), \n",
    "                        param_grid = grid_parameters, scoring='neg_mean_squared_error',n_jobs=2,iid=False, cv=5)\n",
    "gsearch6.fit(X, Y)"
   ]
  },
  {
   "cell_type": "code",
   "execution_count": 21,
   "metadata": {
    "collapsed": false,
    "scrolled": true
   },
   "outputs": [
    {
     "data": {
      "text/plain": [
       "([mean: -0.29336, std: 0.00232, params: {'subsample': 0.7},\n",
       "  mean: -0.29338, std: 0.00240, params: {'subsample': 0.75},\n",
       "  mean: -0.29307, std: 0.00229, params: {'subsample': 0.8},\n",
       "  mean: -0.29259, std: 0.00226, params: {'subsample': 0.85},\n",
       "  mean: -0.29245, std: 0.00260, params: {'subsample': 0.9}],\n",
       " {'subsample': 0.9},\n",
       " -0.29244861096031594)"
      ]
     },
     "execution_count": 21,
     "metadata": {},
     "output_type": "execute_result"
    }
   ],
   "source": [
    "gsearch6.grid_scores_, gsearch6.best_params_, gsearch6.best_score_"
   ]
  },
  {
   "cell_type": "code",
   "execution_count": 22,
   "metadata": {
    "collapsed": true
   },
   "outputs": [],
   "source": [
    "best_subsample = 0.9"
   ]
  },
  {
   "cell_type": "markdown",
   "metadata": {},
   "source": [
    "We have finished all the parameter tunning, the optimal values for each parameters are:"
   ]
  },
  {
   "cell_type": "code",
   "execution_count": 23,
   "metadata": {
    "collapsed": false
   },
   "outputs": [],
   "source": [
    "best_params = {'n_estimators': best_estimators, \n",
    "               'learning_rate': 0.1, \n",
    "               'min_samples_split': best_min_samples_split, \n",
    "               'min_samples_leaf': best_min_samples_leaf, \n",
    "               'max_depth': best_max_depth, \n",
    "               'max_features': 'sqrt', \n",
    "               'subsample': best_subsample, \n",
    "               'random_state': 10, \n",
    "               'loss': 'ls'}\n",
    "best_model = GradientBoostingRegressor(**best_params)"
   ]
  },
  {
   "cell_type": "code",
   "execution_count": 24,
   "metadata": {
    "collapsed": false
   },
   "outputs": [
    {
     "name": "stdout",
     "output_type": "stream",
     "text": [
      "Mean square error 0.2436731122485473\n",
      "CV Score: Mean - 0.2894692709981622 | Std - 0.002903868971123799 | Min - 0.2865021067012176 | Max - 0.2934177191511266\n"
     ]
    },
    {
     "data": {
      "image/png": "[encoded data removed]",
      "text/plain": [
       "<matplotlib.figure.Figure at 0x204008ceef0>"
      ]
     },
     "metadata": {},
     "output_type": "display_data"
    }
   ],
   "source": [
    "modelfit(best_model, X, Y, features)"
   ]
  },
  {
   "cell_type": "markdown",
   "metadata": {},
   "source": [
    "Comparing this \"best model\" with the model we built based on intution.<br><br>\n",
    "Old model:<br>\n",
    "Mean square error 0.31027289460724783<br>\n",
    "CV Score: Mean - 0.31466594468788944<br><br>\n",
    "\n",
    "\"Best model\":<br>\n",
    "Mean square error 0.2436731122485473<br>\n",
    "CV Score: Mean - 0.2894692709981622"
   ]
  },
  {
   "cell_type": "markdown",
   "metadata": {},
   "source": [
    "### Test dataset"
   ]
  },
  {
   "cell_type": "code",
   "execution_count": 32,
   "metadata": {
    "collapsed": true
   },
   "outputs": [],
   "source": [
    "predictions = np.exp(best_model.predict(test_data[features]))"
   ]
  },
  {
   "cell_type": "code",
   "execution_count": 33,
   "metadata": {
    "collapsed": false
   },
   "outputs": [],
   "source": [
    "results = pd.Series(predictions, index=test_data['id'])\n",
    "results = results.reset_index()\n",
    "results.columns = ['id', 'loss']"
   ]
  },
  {
   "cell_type": "code",
   "execution_count": 34,
   "metadata": {
    "collapsed": false
   },
   "outputs": [],
   "source": [
    "results.to_csv('gbm_predictions_v3_exp.csv')"
   ]
  },
  {
   "cell_type": "markdown",
   "metadata": {},
   "source": [
    "#### Score: 1128"
   ]
  },
  {
   "cell_type": "markdown",
   "metadata": {},
   "source": [
    "#### Reduce learning rate to 0.05 and increase n_estimators to 560"
   ]
  },
  {
   "cell_type": "code",
   "execution_count": 35,
   "metadata": {
    "collapsed": true
   },
   "outputs": [],
   "source": [
    "params_one = {'n_estimators': best_estimators * 2,  \n",
    "               'learning_rate': 0.05, \n",
    "               'min_samples_split': best_min_samples_split, \n",
    "               'min_samples_leaf': best_min_samples_leaf, \n",
    "               'max_depth': best_max_depth, \n",
    "               'max_features': 'sqrt', \n",
    "               'subsample': best_subsample, \n",
    "               'random_state': 10, \n",
    "               'loss': 'ls'}\n",
    "best_model_one = GradientBoostingRegressor(**params_one)"
   ]
  },
  {
   "cell_type": "code",
   "execution_count": 36,
   "metadata": {
    "collapsed": false
   },
   "outputs": [
    {
     "name": "stdout",
     "output_type": "stream",
     "text": [
      "Mean square error 0.24200759438917452\n",
      "CV Score: Mean - 0.28726711928588405 | Std - 0.002925167049360726 | Min - 0.2836316582271505 | Max - 0.29125082490322474\n"
     ]
    },
    {
     "data": {
      "image/png": "[encoded data removed]",
      "text/plain": [
       "<matplotlib.figure.Figure at 0x204009465c0>"
      ]
     },
     "metadata": {},
     "output_type": "display_data"
    }
   ],
   "source": [
    "modelfit(best_model_one, X, Y, features)"
   ]
  },
  {
   "cell_type": "markdown",
   "metadata": {},
   "source": [
    "#### Reduce learning rate to 0.01 and increase n_estimators to 2800"
   ]
  },
  {
   "cell_type": "code",
   "execution_count": 37,
   "metadata": {
    "collapsed": true
   },
   "outputs": [],
   "source": [
    "params_two = {'n_estimators': best_estimators * 10,  \n",
    "               'learning_rate': 0.01, \n",
    "               'min_samples_split': best_min_samples_split, \n",
    "               'min_samples_leaf': best_min_samples_leaf, \n",
    "               'max_depth': best_max_depth, \n",
    "               'max_features': 'sqrt', \n",
    "               'subsample': best_subsample, \n",
    "               'random_state': 10, \n",
    "               'loss': 'ls'}\n",
    "best_model_two = GradientBoostingRegressor(**params_two)"
   ]
  },
  {
   "cell_type": "code",
   "execution_count": 38,
   "metadata": {
    "collapsed": false
   },
   "outputs": [
    {
     "name": "stdout",
     "output_type": "stream",
     "text": [
      "Mean square error 0.23993860459462132\n",
      "CV Score: Mean - 0.28492321091289396 | Std - 0.0028892402254304013 | Min - 0.281389314121208 | Max - 0.28878412137865106\n"
     ]
    },
    {
     "data": {
      "image/png": "[encoded data removed]",
      "text/plain": [
       "<matplotlib.figure.Figure at 0x20400909630>"
      ]
     },
     "metadata": {},
     "output_type": "display_data"
    }
   ],
   "source": [
    "modelfit(best_model_two, X, Y, features)"
   ]
  },
  {
   "cell_type": "code",
   "execution_count": 39,
   "metadata": {
    "collapsed": true
   },
   "outputs": [],
   "source": [
    "predictions = np.exp(best_model_two.predict(test_data[features]))"
   ]
  },
  {
   "cell_type": "code",
   "execution_count": 40,
   "metadata": {
    "collapsed": true
   },
   "outputs": [],
   "source": [
    "results = pd.Series(predictions, index=test_data['id'])\n",
    "results = results.reset_index()\n",
    "results.columns = ['id', 'loss']"
   ]
  },
  {
   "cell_type": "code",
   "execution_count": 41,
   "metadata": {
    "collapsed": true
   },
   "outputs": [],
   "source": [
    "results.to_csv('gbm_predictions_v4_exp.csv')"
   ]
  },
  {
   "cell_type": "markdown",
   "metadata": {
    "collapsed": true
   },
   "source": [
    "#### Score 1115.60740"
   ]
  }
 ],
 "metadata": {
  "kernelspec": {
   "display_name": "Python 3",
   "language": "python",
   "name": "python3"
  },
  "language_info": {
   "codemirror_mode": {
    "name": "ipython",
    "version": 3
   },
   "file_extension": ".py",
   "mimetype": "text/x-python",
   "name": "python",
   "nbconvert_exporter": "python",
   "pygments_lexer": "ipython3",
   "version": "3.5.1"
  }
 },
 "nbformat": 4,
 "nbformat_minor": 0
}
