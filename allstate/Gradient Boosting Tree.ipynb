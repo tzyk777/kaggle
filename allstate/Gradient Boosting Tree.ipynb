{
 "cells": [
  {
   "cell_type": "code",
   "execution_count": 1,
   "metadata": {
    "collapsed": false
   },
   "outputs": [
    {
     "name": "stderr",
     "output_type": "stream",
     "text": [
      "D:\\Users\\zeyang\\Miniconda3\\lib\\site-packages\\sklearn\\cross_validation.py:44: DeprecationWarning: This module was deprecated in version 0.18 in favor of the model_selection module into which all the refactored classes and functions are moved. Also note that the interface of the new CV iterators are different from that of this module. This module will be removed in 0.20.\n",
      "  \"This module will be removed in 0.20.\", DeprecationWarning)\n",
      "D:\\Users\\zeyang\\Miniconda3\\lib\\site-packages\\sklearn\\grid_search.py:43: DeprecationWarning: This module was deprecated in version 0.18 in favor of the model_selection module into which all the refactored classes and functions are moved. This module will be removed in 0.20.\n",
      "  DeprecationWarning)\n"
     ]
    }
   ],
   "source": [
    "import pandas as pd\n",
    "import numpy as np\n",
    "from sklearn.ensemble import GradientBoostingRegressor  #GBM algorithm\n",
    "from sklearn import cross_validation, metrics  #Additional scklearn functions\n",
    "from sklearn.metrics import make_scorer\n",
    "from sklearn.grid_search import GridSearchCV   #Perforing grid search\n",
    "\n",
    "import matplotlib.pylab as plt\n",
    "%matplotlib inline\n",
    "from matplotlib.pylab import rcParams\n",
    "rcParams['figure.figsize'] = 12, 4"
   ]
  },
  {
   "cell_type": "code",
   "execution_count": 2,
   "metadata": {
    "collapsed": true
   },
   "outputs": [],
   "source": [
    "df = pd.read_csv('train.csv')\n",
    "del df['id']\n",
    "dummy_df = pd.get_dummies(df)"
   ]
  },
  {
   "cell_type": "code",
   "execution_count": 3,
   "metadata": {
    "collapsed": true
   },
   "outputs": [],
   "source": [
    "features = [c for c in dummy_df.columns if c != 'loss']\n",
    "target = dummy_df['loss'].values"
   ]
  },
  {
   "cell_type": "code",
   "execution_count": 4,
   "metadata": {
    "collapsed": false
   },
   "outputs": [],
   "source": [
    "def modelfit(model, train_data, features, performCV=True, cv_folds=5, printFeatureImportance=True):\n",
    "    model.fit(train_data[features], train_data['loss'])\n",
    "    \n",
    "    predictions = model.predict(train_data[features])\n",
    "    if performCV:\n",
    "        #score_func = make_scorer(metrics.mean_squared_error, greater_is_better=False)\n",
    "        cv_score = cross_validation.cross_val_score(model, train_data[features], \n",
    "                                                    train_data['loss'], cv=cv_folds,\n",
    "                                                    n_jobs=4, scoring='neg_mean_squared_error',\n",
    "                                                    )\n",
    "    \n",
    "    print('Mean square error {}'.format(metrics.mean_squared_error(train_data['loss'].values, predictions)))\n",
    "    \n",
    "    if performCV:\n",
    "        print('CV Score: Mean - {} | Std - {} | Min - {} | Max - {}'.format(\n",
    "            -np.mean(cv_score),\n",
    "            np.std(cv_score),\n",
    "            -np.max(cv_score),\n",
    "            -np.min(cv_score)))\n",
    "        \n",
    "    if printFeatureImportance:\n",
    "        feat_imp = pd.Series(model.feature_importances_, features).sort_values(ascending=False)[:10]\n",
    "        feat_imp.plot(kind='bar', title='Feature Importances')\n",
    "        plt.ylabel('Feature Importance Score')"
   ]
  },
  {
   "cell_type": "markdown",
   "metadata": {},
   "source": [
    "For a gradient boosting model, there are 3 kinds of parmameters:<br>\n",
    "1. tree-specific\n",
    "2. boosting\n",
    "3. miscellaneous parameters"
   ]
  },
  {
   "cell_type": "markdown",
   "metadata": {},
   "source": [
    "A general approach to train a GBM:<br>\n",
    "1. Choose a relatively high learning rate. Generally the default value of 0.1 works but somewhere between 0.05 to 0.2 should work for different problems\n",
    "2. Determine the optimum number of trees for this learning rate. This should range around 40-70. Remember to choose a value on which your system can work fairly fast. This is because it will be used for testing various scenarios and determining the tree parameters.\n",
    "3. Tune tree-specific parameters for decided learning rate and number of trees. Note that we can choose different parameters to define a tree and I’ll take up an example here.\n",
    "4. Lower the learning rate and increase the estimators proportionally to get more robust models"
   ]
  },
  {
   "cell_type": "markdown",
   "metadata": {},
   "source": [
    "#### Tree specific parameters:\n",
    "1. min_samples_split = 500 : This should be ~0.5-1% of total values. Since this is imbalanced class problem, we’ll take a small value from the range.\n",
    "2. min_samples_leaf = 50 : Can be selected based on intuition. This is just used for preventing overfitting and again a small value because of imbalanced classes.\n",
    "3. max_depth = 8 : Should be chosen (5-8) based on the number of observations and predictors. This has 87K rows and 49 columns so lets take 8 here.\n",
    "4. max_features = ‘sqrt’ : Its a general thumb-rule to start with square root.\n",
    "5. subsample = 0.8 : This is a commonly used used start value"
   ]
  },
  {
   "cell_type": "markdown",
   "metadata": {},
   "source": [
    "References:\n",
    "1. http://www.ccs.neu.edu/home/vip/teach/MLcourse/4_boosting/slides/gradient_boosting.pdf\n",
    "2. https://www.analyticsvidhya.com/blog/2016/02/complete-guide-parameter-tuning-gradient-boosting-gbm-python/\n",
    "3. http://blog.kaggle.com/2017/01/23/a-kaggle-master-explains-gradient-boosting/"
   ]
  },
  {
   "cell_type": "markdown",
   "metadata": {},
   "source": [
    "Try to train a GBM by using parameters selected based on intuition."
   ]
  },
  {
   "cell_type": "code",
   "execution_count": 113,
   "metadata": {
    "collapsed": false
   },
   "outputs": [],
   "source": [
    "params = {'n_estimators': 60, 'learning_rate': 0.1, 'min_samples_split': 1800, \n",
    "          'min_samples_leaf': 50, 'max_depth': 8, 'max_features': 'sqrt', 'subsample': 0.8, \n",
    "          'random_state': 10, 'loss': 'ls'}\n",
    "model = GradientBoostingRegressor(**params)"
   ]
  },
  {
   "cell_type": "code",
   "execution_count": 114,
   "metadata": {
    "collapsed": false
   },
   "outputs": [
    {
     "name": "stdout",
     "output_type": "stream",
     "text": [
      "Mean square error 3842112.6796678584\n",
      "CV Score: Mean - 3952696.6976141683 | Std - 95185.57782344749 | Min - 3831775.6214171518 | Max - 4068635.2153117447\n"
     ]
    },
    {
     "data": {
      "image/png": "[encoded data removed]",
      "text/plain": [
       "<matplotlib.figure.Figure at 0x29882452ef0>"
      ]
     },
     "metadata": {},
     "output_type": "display_data"
    }
   ],
   "source": [
    "modelfit(model, dummy_df, features)"
   ]
  },
  {
   "cell_type": "markdown",
   "metadata": {},
   "source": [
    "### Parameter Tuning"
   ]
  },
  {
   "cell_type": "markdown",
   "metadata": {},
   "source": [
    "#### number of estimators"
   ]
  },
  {
   "cell_type": "code",
   "execution_count": 119,
   "metadata": {
    "collapsed": true
   },
   "outputs": [],
   "source": [
    "estimators = {'n_estimators':list(range(20,81,10))}\n",
    "model_params = {'learning_rate': 0.1, 'min_samples_split': 1800, \n",
    "                'min_samples_leaf': 50, 'max_depth': 8, 'max_features': 'sqrt', 'subsample': 0.8, \n",
    "                'random_state': 10, 'loss': 'ls'}"
   ]
  },
  {
   "cell_type": "code",
   "execution_count": 122,
   "metadata": {
    "collapsed": false
   },
   "outputs": [
    {
     "data": {
      "text/plain": [
       "GridSearchCV(cv=5, error_score='raise',\n",
       "       estimator=GradientBoostingRegressor(alpha=0.9, criterion='friedman_mse', init=None,\n",
       "             learning_rate=0.1, loss='ls', max_depth=8,\n",
       "             max_features='sqrt', max_leaf_nodes=None,\n",
       "             min_impurity_split=1e-07, min_samples_leaf=50,\n",
       "             min_samples_split=1800, min_weight_fraction_leaf=0.0,\n",
       "             n_estimators=100, presort='auto', random_state=10,\n",
       "             subsample=0.8, verbose=0, warm_start=False),\n",
       "       fit_params={}, iid=False, n_jobs=4,\n",
       "       param_grid={'n_estimators': [20, 30, 40, 50, 60, 70, 80]},\n",
       "       pre_dispatch='2*n_jobs', refit=True,\n",
       "       scoring='neg_mean_squared_error', verbose=0)"
      ]
     },
     "execution_count": 122,
     "metadata": {},
     "output_type": "execute_result"
    }
   ],
   "source": [
    "gsearch1 = GridSearchCV(estimator = GradientBoostingRegressor(**model_params), \n",
    "                        param_grid = estimators, scoring='neg_mean_squared_error',n_jobs=4,iid=False, cv=5)\n",
    "gsearch1.fit(dummy_df[features], dummy_df['loss'])"
   ]
  },
  {
   "cell_type": "code",
   "execution_count": 123,
   "metadata": {
    "collapsed": false
   },
   "outputs": [
    {
     "data": {
      "text/plain": [
       "([mean: -4768669.01654, std: 124141.56583, params: {'n_estimators': 20},\n",
       "  mean: -4366829.62117, std: 120901.51594, params: {'n_estimators': 30},\n",
       "  mean: -4144515.53353, std: 109348.15004, params: {'n_estimators': 40},\n",
       "  mean: -4029902.79980, std: 103908.71091, params: {'n_estimators': 50},\n",
       "  mean: -3952696.69761, std: 95185.57782, params: {'n_estimators': 60},\n",
       "  mean: -3894807.27001, std: 90614.36102, params: {'n_estimators': 70},\n",
       "  mean: -3856532.56529, std: 89878.71891, params: {'n_estimators': 80}],\n",
       " {'n_estimators': 80},\n",
       " -3856532.5652858512)"
      ]
     },
     "execution_count": 123,
     "metadata": {},
     "output_type": "execute_result"
    }
   ],
   "source": [
    "gsearch1.grid_scores_, gsearch1.best_params_, gsearch1.best_score_"
   ]
  },
  {
   "cell_type": "markdown",
   "metadata": {},
   "source": [
    "The optimal estimators for 0.1 learning rate is 80, which is the maximum value in the range, this indicates that the optimal estimators could be higher than 80. "
   ]
  },
  {
   "cell_type": "code",
   "execution_count": 124,
   "metadata": {
    "collapsed": true
   },
   "outputs": [],
   "source": [
    "estimators = {'n_estimators':list(range(80,201,20))}\n",
    "model_params = {'learning_rate': 0.1, 'min_samples_split': 1800, \n",
    "                'min_samples_leaf': 50, 'max_depth': 8, 'max_features': 'sqrt', 'subsample': 0.8, \n",
    "                'random_state': 10, 'loss': 'ls'}"
   ]
  },
  {
   "cell_type": "code",
   "execution_count": 125,
   "metadata": {
    "collapsed": false
   },
   "outputs": [
    {
     "data": {
      "text/plain": [
       "GridSearchCV(cv=5, error_score='raise',\n",
       "       estimator=GradientBoostingRegressor(alpha=0.9, criterion='friedman_mse', init=None,\n",
       "             learning_rate=0.1, loss='ls', max_depth=8,\n",
       "             max_features='sqrt', max_leaf_nodes=None,\n",
       "             min_impurity_split=1e-07, min_samples_leaf=50,\n",
       "             min_samples_split=1800, min_weight_fraction_leaf=0.0,\n",
       "             n_estimators=100, presort='auto', random_state=10,\n",
       "             subsample=0.8, verbose=0, warm_start=False),\n",
       "       fit_params={}, iid=False, n_jobs=4,\n",
       "       param_grid={'n_estimators': [80, 100, 120, 140, 160, 180, 200]},\n",
       "       pre_dispatch='2*n_jobs', refit=True,\n",
       "       scoring='neg_mean_squared_error', verbose=0)"
      ]
     },
     "execution_count": 125,
     "metadata": {},
     "output_type": "execute_result"
    }
   ],
   "source": [
    "gsearch2 = GridSearchCV(estimator = GradientBoostingRegressor(**model_params), \n",
    "                        param_grid = estimators, scoring='neg_mean_squared_error',n_jobs=4,iid=False, cv=5)\n",
    "gsearch2.fit(dummy_df[features], dummy_df['loss'])"
   ]
  },
  {
   "cell_type": "code",
   "execution_count": 126,
   "metadata": {
    "collapsed": false
   },
   "outputs": [
    {
     "data": {
      "text/plain": [
       "([mean: -3856532.56529, std: 89878.71891, params: {'n_estimators': 80},\n",
       "  mean: -3799621.98359, std: 81005.95344, params: {'n_estimators': 100},\n",
       "  mean: -3766044.94894, std: 81170.11998, params: {'n_estimators': 120},\n",
       "  mean: -3741065.33839, std: 79141.24886, params: {'n_estimators': 140},\n",
       "  mean: -3721595.73125, std: 77111.30915, params: {'n_estimators': 160},\n",
       "  mean: -3702576.74594, std: 73916.44904, params: {'n_estimators': 180},\n",
       "  mean: -3689287.25372, std: 72455.61686, params: {'n_estimators': 200}],\n",
       " {'n_estimators': 200},\n",
       " -3689287.253723553)"
      ]
     },
     "execution_count": 126,
     "metadata": {},
     "output_type": "execute_result"
    }
   ],
   "source": [
    "gsearch2.grid_scores_, gsearch2.best_params_, gsearch2.best_score_"
   ]
  },
  {
   "cell_type": "markdown",
   "metadata": {},
   "source": [
    "It still hits the maximum value 200. Try estimator numbers from 200 to 1000, but increase learning rate to 0.5 to save computation time."
   ]
  },
  {
   "cell_type": "code",
   "execution_count": 8,
   "metadata": {
    "collapsed": false
   },
   "outputs": [],
   "source": [
    "estimators = {'n_estimators':list(range(200,1001,200))}\n",
    "model_params = {'learning_rate': 0.5, 'min_samples_split': 1800, \n",
    "                'min_samples_leaf': 50, 'max_depth': 8, 'max_features': 'sqrt', 'subsample': 0.8, \n",
    "                'random_state': 10, 'loss': 'ls'}"
   ]
  },
  {
   "cell_type": "code",
   "execution_count": 9,
   "metadata": {
    "collapsed": false
   },
   "outputs": [
    {
     "data": {
      "text/plain": [
       "GridSearchCV(cv=5, error_score='raise',\n",
       "       estimator=GradientBoostingRegressor(alpha=0.9, criterion='friedman_mse', init=None,\n",
       "             learning_rate=0.5, loss='ls', max_depth=8,\n",
       "             max_features='sqrt', max_leaf_nodes=None,\n",
       "             min_impurity_split=1e-07, min_samples_leaf=50,\n",
       "             min_samples_split=1800, min_weight_fraction_leaf=0.0,\n",
       "             n_estimators=100, presort='auto', random_state=10,\n",
       "             subsample=0.8, verbose=0, warm_start=False),\n",
       "       fit_params={}, iid=False, n_jobs=4,\n",
       "       param_grid={'n_estimators': [200, 400, 600, 800, 1000]},\n",
       "       pre_dispatch='2*n_jobs', refit=True,\n",
       "       scoring='neg_mean_squared_error', verbose=0)"
      ]
     },
     "execution_count": 9,
     "metadata": {},
     "output_type": "execute_result"
    }
   ],
   "source": [
    "gsearch3 = GridSearchCV(estimator = GradientBoostingRegressor(**model_params), \n",
    "                        param_grid = estimators, scoring='neg_mean_squared_error',n_jobs=4,iid=False, cv=5)\n",
    "gsearch3.fit(dummy_df[features], dummy_df['loss'])"
   ]
  },
  {
   "cell_type": "code",
   "execution_count": 10,
   "metadata": {
    "collapsed": false
   },
   "outputs": [
    {
     "data": {
      "text/plain": [
       "([mean: -3824580.26733, std: 40429.87340, params: {'n_estimators': 200},\n",
       "  mean: -3845968.91417, std: 25323.06381, params: {'n_estimators': 400},\n",
       "  mean: -3878790.68418, std: 28222.82928, params: {'n_estimators': 600},\n",
       "  mean: -3903485.39142, std: 22469.32946, params: {'n_estimators': 800},\n",
       "  mean: -3931857.99926, std: 11933.30456, params: {'n_estimators': 1000}],\n",
       " {'n_estimators': 200},\n",
       " -3824580.2673277715)"
      ]
     },
     "execution_count": 10,
     "metadata": {},
     "output_type": "execute_result"
    }
   ],
   "source": [
    "gsearch3.grid_scores_, gsearch3.best_params_, gsearch3.best_score_"
   ]
  },
  {
   "cell_type": "markdown",
   "metadata": {},
   "source": [
    "From this batch of nestimators parameters, we can fix n to 200. Note 200 may still not be the optimal value because we have increased learning rate to 0.5 to reduce computation time."
   ]
  },
  {
   "cell_type": "code",
   "execution_count": 47,
   "metadata": {
    "collapsed": true
   },
   "outputs": [],
   "source": [
    "best_estimators = 200"
   ]
  },
  {
   "cell_type": "markdown",
   "metadata": {},
   "source": [
    "#### max_depth and min_samples_split"
   ]
  },
  {
   "cell_type": "code",
   "execution_count": 14,
   "metadata": {
    "collapsed": true
   },
   "outputs": [],
   "source": [
    "estimators = {'max_depth':list(range(5,16,2)), 'min_samples_split':list(range(1400,2400,200))}\n",
    "model_params = {'learning_rate': 0.1, 'min_samples_leaf': 50, \n",
    "                'max_features': 'sqrt', 'subsample': 0.8, \n",
    "                'random_state': 10, 'loss': 'ls',\n",
    "                'n_estimators': best_estimators}"
   ]
  },
  {
   "cell_type": "code",
   "execution_count": 15,
   "metadata": {
    "collapsed": false
   },
   "outputs": [
    {
     "data": {
      "text/plain": [
       "GridSearchCV(cv=5, error_score='raise',\n",
       "       estimator=GradientBoostingRegressor(alpha=0.9, criterion='friedman_mse', init=None,\n",
       "             learning_rate=0.1, loss='ls', max_depth=3,\n",
       "             max_features='sqrt', max_leaf_nodes=None,\n",
       "             min_impurity_split=1e-07, min_samples_leaf=50,\n",
       "             min_samples_split=2, min_weight_fraction_leaf=0.0,\n",
       "             n_estimators=200, presort='auto', random_state=10,\n",
       "             subsample=0.8, verbose=0, warm_start=False),\n",
       "       fit_params={}, iid=False, n_jobs=4,\n",
       "       param_grid={'min_samples_split': [1400, 1600, 1800, 2000, 2200], 'max_depth': [5, 7, 9, 11, 13, 15]},\n",
       "       pre_dispatch='2*n_jobs', refit=True,\n",
       "       scoring='neg_mean_squared_error', verbose=0)"
      ]
     },
     "execution_count": 15,
     "metadata": {},
     "output_type": "execute_result"
    }
   ],
   "source": [
    "gsearch4 = GridSearchCV(estimator = GradientBoostingRegressor(**model_params), \n",
    "                        param_grid = estimators, scoring='neg_mean_squared_error',n_jobs=4,iid=False, cv=5)\n",
    "gsearch4.fit(dummy_df[features], dummy_df['loss'])"
   ]
  },
  {
   "cell_type": "code",
   "execution_count": 16,
   "metadata": {
    "collapsed": false
   },
   "outputs": [
    {
     "data": {
      "text/plain": [
       "([mean: -3792088.20105, std: 98500.33885, params: {'min_samples_split': 1400, 'max_depth': 5},\n",
       "  mean: -3793616.57114, std: 94738.92951, params: {'min_samples_split': 1600, 'max_depth': 5},\n",
       "  mean: -3802736.54866, std: 92812.55912, params: {'min_samples_split': 1800, 'max_depth': 5},\n",
       "  mean: -3813463.76624, std: 89896.02232, params: {'min_samples_split': 2000, 'max_depth': 5},\n",
       "  mean: -3810836.79696, std: 89579.44695, params: {'min_samples_split': 2200, 'max_depth': 5},\n",
       "  mean: -3709949.96364, std: 86780.24629, params: {'min_samples_split': 1400, 'max_depth': 7},\n",
       "  mean: -3716137.40800, std: 78662.02916, params: {'min_samples_split': 1600, 'max_depth': 7},\n",
       "  mean: -3706527.18591, std: 89415.06296, params: {'min_samples_split': 1800, 'max_depth': 7},\n",
       "  mean: -3718381.64372, std: 94866.16174, params: {'min_samples_split': 2000, 'max_depth': 7},\n",
       "  mean: -3733493.61820, std: 88833.78905, params: {'min_samples_split': 2200, 'max_depth': 7},\n",
       "  mean: -3661945.00814, std: 76236.69539, params: {'min_samples_split': 1400, 'max_depth': 9},\n",
       "  mean: -3676582.41630, std: 90083.25442, params: {'min_samples_split': 1600, 'max_depth': 9},\n",
       "  mean: -3680005.63514, std: 84922.15869, params: {'min_samples_split': 1800, 'max_depth': 9},\n",
       "  mean: -3692833.76853, std: 78653.96038, params: {'min_samples_split': 2000, 'max_depth': 9},\n",
       "  mean: -3686517.24667, std: 87182.87834, params: {'min_samples_split': 2200, 'max_depth': 9},\n",
       "  mean: -3638491.00665, std: 89470.77224, params: {'min_samples_split': 1400, 'max_depth': 11},\n",
       "  mean: -3649299.93976, std: 91397.67191, params: {'min_samples_split': 1600, 'max_depth': 11},\n",
       "  mean: -3661647.95400, std: 90705.29152, params: {'min_samples_split': 1800, 'max_depth': 11},\n",
       "  mean: -3653971.26393, std: 85700.36013, params: {'min_samples_split': 2000, 'max_depth': 11},\n",
       "  mean: -3666826.22594, std: 85801.63748, params: {'min_samples_split': 2200, 'max_depth': 11},\n",
       "  mean: -3633345.11772, std: 83319.23878, params: {'min_samples_split': 1400, 'max_depth': 13},\n",
       "  mean: -3640565.54080, std: 79127.00660, params: {'min_samples_split': 1600, 'max_depth': 13},\n",
       "  mean: -3642007.76002, std: 80832.05005, params: {'min_samples_split': 1800, 'max_depth': 13},\n",
       "  mean: -3639790.08762, std: 85858.47419, params: {'min_samples_split': 2000, 'max_depth': 13},\n",
       "  mean: -3662576.81203, std: 81756.55702, params: {'min_samples_split': 2200, 'max_depth': 13},\n",
       "  mean: -3615878.35696, std: 87221.48942, params: {'min_samples_split': 1400, 'max_depth': 15},\n",
       "  mean: -3627550.77893, std: 83186.64622, params: {'min_samples_split': 1600, 'max_depth': 15},\n",
       "  mean: -3626103.16852, std: 95124.63842, params: {'min_samples_split': 1800, 'max_depth': 15},\n",
       "  mean: -3638737.66204, std: 79688.54944, params: {'min_samples_split': 2000, 'max_depth': 15},\n",
       "  mean: -3652001.41707, std: 77896.22500, params: {'min_samples_split': 2200, 'max_depth': 15}],\n",
       " {'max_depth': 15, 'min_samples_split': 1400},\n",
       " -3615878.3569553746)"
      ]
     },
     "execution_count": 16,
     "metadata": {},
     "output_type": "execute_result"
    }
   ],
   "source": [
    "gsearch4.grid_scores_, gsearch4.best_params_, gsearch4.best_score_"
   ]
  },
  {
   "cell_type": "markdown",
   "metadata": {},
   "source": [
    "The optimal max_depth is 15, but the optimal min_saples_split of this grid search is 1400, which is the minimum value in the range."
   ]
  },
  {
   "cell_type": "code",
   "execution_count": 17,
   "metadata": {
    "collapsed": true
   },
   "outputs": [],
   "source": [
    "best_max_depth = 15"
   ]
  },
  {
   "cell_type": "code",
   "execution_count": 19,
   "metadata": {
    "collapsed": true
   },
   "outputs": [],
   "source": [
    "estimators = {'min_samples_split':list(range(100,1400,200))}\n",
    "model_params = {'learning_rate': 0.1, 'min_samples_leaf': 50, \n",
    "                'max_features': 'sqrt', 'subsample': 0.8, \n",
    "                'random_state': 10, 'loss': 'ls',\n",
    "                'n_estimators': best_estimators, 'max_depth': best_max_depth}"
   ]
  },
  {
   "cell_type": "code",
   "execution_count": 20,
   "metadata": {
    "collapsed": false
   },
   "outputs": [
    {
     "data": {
      "text/plain": [
       "GridSearchCV(cv=5, error_score='raise',\n",
       "       estimator=GradientBoostingRegressor(alpha=0.9, criterion='friedman_mse', init=None,\n",
       "             learning_rate=0.1, loss='ls', max_depth=15,\n",
       "             max_features='sqrt', max_leaf_nodes=None,\n",
       "             min_impurity_split=1e-07, min_samples_leaf=50,\n",
       "             min_samples_split=2, min_weight_fraction_leaf=0.0,\n",
       "             n_estimators=200, presort='auto', random_state=10,\n",
       "             subsample=0.8, verbose=0, warm_start=False),\n",
       "       fit_params={}, iid=False, n_jobs=4,\n",
       "       param_grid={'min_samples_split': [100, 300, 500, 700, 900, 1100, 1300]},\n",
       "       pre_dispatch='2*n_jobs', refit=True,\n",
       "       scoring='neg_mean_squared_error', verbose=0)"
      ]
     },
     "execution_count": 20,
     "metadata": {},
     "output_type": "execute_result"
    }
   ],
   "source": [
    "gsearch5 = GridSearchCV(estimator = GradientBoostingRegressor(**model_params), \n",
    "                        param_grid = estimators, scoring='neg_mean_squared_error',n_jobs=4,iid=False, cv=5)\n",
    "gsearch5.fit(dummy_df[features], dummy_df['loss'])"
   ]
  },
  {
   "cell_type": "code",
   "execution_count": 22,
   "metadata": {
    "collapsed": false,
    "scrolled": true
   },
   "outputs": [
    {
     "data": {
      "text/plain": [
       "([mean: -3591559.66493, std: 80447.05881, params: {'min_samples_split': 100},\n",
       "  mean: -3599964.00613, std: 85984.77205, params: {'min_samples_split': 300},\n",
       "  mean: -3595052.37844, std: 83646.26926, params: {'min_samples_split': 500},\n",
       "  mean: -3600049.39910, std: 74367.36698, params: {'min_samples_split': 700},\n",
       "  mean: -3606893.70257, std: 80310.45445, params: {'min_samples_split': 900},\n",
       "  mean: -3610026.14683, std: 86581.18360, params: {'min_samples_split': 1100},\n",
       "  mean: -3616993.00829, std: 82602.83865, params: {'min_samples_split': 1300}],\n",
       " {'min_samples_split': 100},\n",
       " -3591559.6649335995)"
      ]
     },
     "execution_count": 22,
     "metadata": {},
     "output_type": "execute_result"
    }
   ],
   "source": [
    "gsearch5.grid_scores_, gsearch5.best_params_, gsearch5.best_score_"
   ]
  },
  {
   "cell_type": "code",
   "execution_count": 43,
   "metadata": {
    "collapsed": true
   },
   "outputs": [],
   "source": [
    "best_min_samples_split = 100"
   ]
  },
  {
   "cell_type": "markdown",
   "metadata": {},
   "source": [
    "#### subsample"
   ]
  },
  {
   "cell_type": "code",
   "execution_count": 28,
   "metadata": {
    "collapsed": true
   },
   "outputs": [],
   "source": [
    "grid_parameters = {'subsample':[0.6,0.7,0.75,0.8,0.85,0.9]}\n",
    "model_params = {'learning_rate': 0.1, 'min_samples_leaf': 50, \n",
    "                'max_features': 'sqrt', 'min_samples_split': best_min_samples_split,\n",
    "                'random_state': 10, 'loss': 'ls',\n",
    "                'n_estimators': best_estimators, 'max_depth': best_max_depth}"
   ]
  },
  {
   "cell_type": "code",
   "execution_count": 29,
   "metadata": {
    "collapsed": false
   },
   "outputs": [
    {
     "data": {
      "text/plain": [
       "GridSearchCV(cv=5, error_score='raise',\n",
       "       estimator=GradientBoostingRegressor(alpha=0.9, criterion='friedman_mse', init=None,\n",
       "             learning_rate=0.1, loss='ls', max_depth=15,\n",
       "             max_features='sqrt', max_leaf_nodes=None,\n",
       "             min_impurity_split=1e-07, min_samples_leaf=50,\n",
       "             min_samples_split=40, min_weight_fraction_leaf=0.0,\n",
       "             n_estimators=200, presort='auto', random_state=10,\n",
       "             subsample=1.0, verbose=0, warm_start=False),\n",
       "       fit_params={}, iid=False, n_jobs=4,\n",
       "       param_grid={'subsample': [0.6, 0.7, 0.75, 0.8, 0.85, 0.9]},\n",
       "       pre_dispatch='2*n_jobs', refit=True,\n",
       "       scoring='neg_mean_squared_error', verbose=0)"
      ]
     },
     "execution_count": 29,
     "metadata": {},
     "output_type": "execute_result"
    }
   ],
   "source": [
    "gsearch7 = GridSearchCV(estimator = GradientBoostingRegressor(**model_params), \n",
    "                        param_grid = grid_parameters, scoring='neg_mean_squared_error',n_jobs=4,iid=False, cv=5)\n",
    "gsearch7.fit(dummy_df[features], dummy_df['loss'])"
   ]
  },
  {
   "cell_type": "code",
   "execution_count": 30,
   "metadata": {
    "collapsed": false,
    "scrolled": true
   },
   "outputs": [
    {
     "data": {
      "text/plain": [
       "([mean: -3616129.34031, std: 88840.25645, params: {'subsample': 0.6},\n",
       "  mean: -3601675.81786, std: 88907.99045, params: {'subsample': 0.7},\n",
       "  mean: -3601468.00289, std: 80435.01447, params: {'subsample': 0.75},\n",
       "  mean: -3591559.66493, std: 80447.05881, params: {'subsample': 0.8},\n",
       "  mean: -3589418.70110, std: 80290.06140, params: {'subsample': 0.85},\n",
       "  mean: -3584452.73371, std: 91638.60324, params: {'subsample': 0.9}],\n",
       " {'subsample': 0.9},\n",
       " -3584452.733710666)"
      ]
     },
     "execution_count": 30,
     "metadata": {},
     "output_type": "execute_result"
    }
   ],
   "source": [
    "gsearch7.grid_scores_, gsearch7.best_params_, gsearch7.best_score_"
   ]
  },
  {
   "cell_type": "code",
   "execution_count": 31,
   "metadata": {
    "collapsed": true
   },
   "outputs": [],
   "source": [
    "best_subsample = 0.9"
   ]
  },
  {
   "cell_type": "markdown",
   "metadata": {},
   "source": [
    "#### min_samples_leaf"
   ]
  },
  {
   "cell_type": "code",
   "execution_count": 37,
   "metadata": {
    "collapsed": false
   },
   "outputs": [],
   "source": [
    "grid_parameters = {'min_samples_leaf': list(range(30, 71, 10))}\n",
    "model_params = {'learning_rate': 0.1, 'subsample': 0.9,\n",
    "                'max_features': 'sqrt', 'min_samples_split': best_min_samples_split,\n",
    "                'random_state': 10, 'loss': 'ls',\n",
    "                'n_estimators': best_estimators, 'max_depth': best_max_depth}"
   ]
  },
  {
   "cell_type": "code",
   "execution_count": 38,
   "metadata": {
    "collapsed": false
   },
   "outputs": [
    {
     "data": {
      "text/plain": [
       "GridSearchCV(cv=5, error_score='raise',\n",
       "       estimator=GradientBoostingRegressor(alpha=0.9, criterion='friedman_mse', init=None,\n",
       "             learning_rate=0.1, loss='ls', max_depth=15,\n",
       "             max_features='sqrt', max_leaf_nodes=None,\n",
       "             min_impurity_split=1e-07, min_samples_leaf=1,\n",
       "             min_samples_split=40, min_weight_fraction_leaf=0.0,\n",
       "             n_estimators=200, presort='auto', random_state=10,\n",
       "             subsample=0.9, verbose=0, warm_start=False),\n",
       "       fit_params={}, iid=False, n_jobs=4,\n",
       "       param_grid={'min_samples_leaf': [30, 40, 50, 60, 70]},\n",
       "       pre_dispatch='2*n_jobs', refit=True,\n",
       "       scoring='neg_mean_squared_error', verbose=0)"
      ]
     },
     "execution_count": 38,
     "metadata": {},
     "output_type": "execute_result"
    }
   ],
   "source": [
    "gsearch8 = GridSearchCV(estimator = GradientBoostingRegressor(**model_params), \n",
    "                        param_grid = grid_parameters, scoring='neg_mean_squared_error',n_jobs=4,iid=False, cv=5)\n",
    "gsearch8.fit(dummy_df[features], dummy_df['loss'])"
   ]
  },
  {
   "cell_type": "code",
   "execution_count": 39,
   "metadata": {
    "collapsed": false
   },
   "outputs": [
    {
     "data": {
      "text/plain": [
       "([mean: -3593434.05566, std: 80642.49819, params: {'min_samples_leaf': 30},\n",
       "  mean: -3584346.54072, std: 81333.50725, params: {'min_samples_leaf': 40},\n",
       "  mean: -3584452.73371, std: 91638.60324, params: {'min_samples_leaf': 50},\n",
       "  mean: -3579687.16140, std: 79604.03572, params: {'min_samples_leaf': 60},\n",
       "  mean: -3586420.12107, std: 94328.09744, params: {'min_samples_leaf': 70}],\n",
       " {'min_samples_leaf': 60},\n",
       " -3579687.1614041217)"
      ]
     },
     "execution_count": 39,
     "metadata": {},
     "output_type": "execute_result"
    }
   ],
   "source": [
    "gsearch8.grid_scores_, gsearch8.best_params_, gsearch8.best_score_"
   ]
  },
  {
   "cell_type": "code",
   "execution_count": 40,
   "metadata": {
    "collapsed": true
   },
   "outputs": [],
   "source": [
    "best_min_samples_leaf = 60"
   ]
  },
  {
   "cell_type": "markdown",
   "metadata": {},
   "source": [
    "We have finished all the parameter tunning, the optimal values for each parameters are:"
   ]
  },
  {
   "cell_type": "code",
   "execution_count": 45,
   "metadata": {
    "collapsed": false
   },
   "outputs": [],
   "source": [
    "best_params = {'n_estimators': best_estimators, \n",
    "               'learning_rate': 0.1, \n",
    "               'min_samples_split': best_min_samples_split, \n",
    "               'min_samples_leaf': best_min_samples_leaf, \n",
    "               'max_depth': best_max_depth, \n",
    "               'max_features': 'sqrt', \n",
    "               'subsample': best_subsample, \n",
    "               'random_state': 10, \n",
    "               'loss': 'ls'}\n",
    "best_model = GradientBoostingRegressor(**best_params)"
   ]
  },
  {
   "cell_type": "code",
   "execution_count": 46,
   "metadata": {
    "collapsed": false
   },
   "outputs": [
    {
     "name": "stdout",
     "output_type": "stream",
     "text": [
      "Mean square error 2866644.7489400674\n",
      "CV Score: Mean - 3579687.1614041217 | Std - 79604.03572094227 | Min - 3468259.4194887825 | Max - 3687966.5542373657\n"
     ]
    },
    {
     "data": {
      "image/png": "[encoded data removed]",
      "text/plain": [
       "<matplotlib.figure.Figure at 0x22c34a46a20>"
      ]
     },
     "metadata": {},
     "output_type": "display_data"
    }
   ],
   "source": [
    "modelfit(best_model, dummy_df, features)"
   ]
  },
  {
   "cell_type": "markdown",
   "metadata": {},
   "source": [
    "Comparing this \"best model\" with the model we built based on intution.<br><br>\n",
    "Old model:<br>\n",
    "Mean square error 3842112.6796678584<br>\n",
    "CV Score: Mean - 3952696.6976141683<br><br>\n",
    "\n",
    "\"Best model\":<br>\n",
    "Mean square error 2866644.7489400674<br>\n",
    "CV Score: Mean - 3579687.1614041217"
   ]
  },
  {
   "cell_type": "markdown",
   "metadata": {},
   "source": [
    "### Test dataset"
   ]
  },
  {
   "cell_type": "code",
   "execution_count": 49,
   "metadata": {
    "collapsed": true
   },
   "outputs": [],
   "source": [
    "test_df = pd.read_csv('test.csv')"
   ]
  },
  {
   "cell_type": "code",
   "execution_count": 50,
   "metadata": {
    "collapsed": false
   },
   "outputs": [
    {
     "data": {
      "text/html": [
       "<div>\n",
       "<table border=\"1\" class=\"dataframe\">\n",
       "  <thead>\n",
       "    <tr style=\"text-align: right;\">\n",
       "      <th></th>\n",
       "      <th>id</th>\n",
       "      <th>cat1</th>\n",
       "      <th>cat2</th>\n",
       "      <th>cat3</th>\n",
       "      <th>cat4</th>\n",
       "      <th>cat5</th>\n",
       "      <th>cat6</th>\n",
       "      <th>cat7</th>\n",
       "      <th>cat8</th>\n",
       "      <th>cat9</th>\n",
       "      <th>...</th>\n",
       "      <th>cont5</th>\n",
       "      <th>cont6</th>\n",
       "      <th>cont7</th>\n",
       "      <th>cont8</th>\n",
       "      <th>cont9</th>\n",
       "      <th>cont10</th>\n",
       "      <th>cont11</th>\n",
       "      <th>cont12</th>\n",
       "      <th>cont13</th>\n",
       "      <th>cont14</th>\n",
       "    </tr>\n",
       "  </thead>\n",
       "  <tbody>\n",
       "    <tr>\n",
       "      <th>0</th>\n",
       "      <td>4</td>\n",
       "      <td>A</td>\n",
       "      <td>B</td>\n",
       "      <td>A</td>\n",
       "      <td>A</td>\n",
       "      <td>A</td>\n",
       "      <td>A</td>\n",
       "      <td>A</td>\n",
       "      <td>A</td>\n",
       "      <td>B</td>\n",
       "      <td>...</td>\n",
       "      <td>0.281143</td>\n",
       "      <td>0.466591</td>\n",
       "      <td>0.317681</td>\n",
       "      <td>0.61229</td>\n",
       "      <td>0.34365</td>\n",
       "      <td>0.38016</td>\n",
       "      <td>0.377724</td>\n",
       "      <td>0.369858</td>\n",
       "      <td>0.704052</td>\n",
       "      <td>0.392562</td>\n",
       "    </tr>\n",
       "    <tr>\n",
       "      <th>1</th>\n",
       "      <td>6</td>\n",
       "      <td>A</td>\n",
       "      <td>B</td>\n",
       "      <td>A</td>\n",
       "      <td>B</td>\n",
       "      <td>A</td>\n",
       "      <td>A</td>\n",
       "      <td>A</td>\n",
       "      <td>A</td>\n",
       "      <td>B</td>\n",
       "      <td>...</td>\n",
       "      <td>0.836443</td>\n",
       "      <td>0.482425</td>\n",
       "      <td>0.443760</td>\n",
       "      <td>0.71330</td>\n",
       "      <td>0.51890</td>\n",
       "      <td>0.60401</td>\n",
       "      <td>0.689039</td>\n",
       "      <td>0.675759</td>\n",
       "      <td>0.453468</td>\n",
       "      <td>0.208045</td>\n",
       "    </tr>\n",
       "    <tr>\n",
       "      <th>2</th>\n",
       "      <td>9</td>\n",
       "      <td>A</td>\n",
       "      <td>B</td>\n",
       "      <td>A</td>\n",
       "      <td>B</td>\n",
       "      <td>B</td>\n",
       "      <td>A</td>\n",
       "      <td>B</td>\n",
       "      <td>A</td>\n",
       "      <td>B</td>\n",
       "      <td>...</td>\n",
       "      <td>0.718531</td>\n",
       "      <td>0.212308</td>\n",
       "      <td>0.325779</td>\n",
       "      <td>0.29758</td>\n",
       "      <td>0.34365</td>\n",
       "      <td>0.30529</td>\n",
       "      <td>0.245410</td>\n",
       "      <td>0.241676</td>\n",
       "      <td>0.258586</td>\n",
       "      <td>0.297232</td>\n",
       "    </tr>\n",
       "    <tr>\n",
       "      <th>3</th>\n",
       "      <td>12</td>\n",
       "      <td>A</td>\n",
       "      <td>A</td>\n",
       "      <td>A</td>\n",
       "      <td>A</td>\n",
       "      <td>B</td>\n",
       "      <td>A</td>\n",
       "      <td>A</td>\n",
       "      <td>A</td>\n",
       "      <td>A</td>\n",
       "      <td>...</td>\n",
       "      <td>0.397069</td>\n",
       "      <td>0.369930</td>\n",
       "      <td>0.342355</td>\n",
       "      <td>0.40028</td>\n",
       "      <td>0.33237</td>\n",
       "      <td>0.31480</td>\n",
       "      <td>0.348867</td>\n",
       "      <td>0.341872</td>\n",
       "      <td>0.592264</td>\n",
       "      <td>0.555955</td>\n",
       "    </tr>\n",
       "    <tr>\n",
       "      <th>4</th>\n",
       "      <td>15</td>\n",
       "      <td>B</td>\n",
       "      <td>A</td>\n",
       "      <td>A</td>\n",
       "      <td>A</td>\n",
       "      <td>A</td>\n",
       "      <td>B</td>\n",
       "      <td>A</td>\n",
       "      <td>A</td>\n",
       "      <td>A</td>\n",
       "      <td>...</td>\n",
       "      <td>0.302678</td>\n",
       "      <td>0.398862</td>\n",
       "      <td>0.391833</td>\n",
       "      <td>0.23688</td>\n",
       "      <td>0.43731</td>\n",
       "      <td>0.50556</td>\n",
       "      <td>0.359572</td>\n",
       "      <td>0.352251</td>\n",
       "      <td>0.301535</td>\n",
       "      <td>0.825823</td>\n",
       "    </tr>\n",
       "  </tbody>\n",
       "</table>\n",
       "<p>5 rows × 131 columns</p>\n",
       "</div>"
      ],
      "text/plain": [
       "   id cat1 cat2 cat3 cat4 cat5 cat6 cat7 cat8 cat9    ...        cont5  \\\n",
       "0   4    A    B    A    A    A    A    A    A    B    ...     0.281143   \n",
       "1   6    A    B    A    B    A    A    A    A    B    ...     0.836443   \n",
       "2   9    A    B    A    B    B    A    B    A    B    ...     0.718531   \n",
       "3  12    A    A    A    A    B    A    A    A    A    ...     0.397069   \n",
       "4  15    B    A    A    A    A    B    A    A    A    ...     0.302678   \n",
       "\n",
       "      cont6     cont7    cont8    cont9   cont10    cont11    cont12  \\\n",
       "0  0.466591  0.317681  0.61229  0.34365  0.38016  0.377724  0.369858   \n",
       "1  0.482425  0.443760  0.71330  0.51890  0.60401  0.689039  0.675759   \n",
       "2  0.212308  0.325779  0.29758  0.34365  0.30529  0.245410  0.241676   \n",
       "3  0.369930  0.342355  0.40028  0.33237  0.31480  0.348867  0.341872   \n",
       "4  0.398862  0.391833  0.23688  0.43731  0.50556  0.359572  0.352251   \n",
       "\n",
       "     cont13    cont14  \n",
       "0  0.704052  0.392562  \n",
       "1  0.453468  0.208045  \n",
       "2  0.258586  0.297232  \n",
       "3  0.592264  0.555955  \n",
       "4  0.301535  0.825823  \n",
       "\n",
       "[5 rows x 131 columns]"
      ]
     },
     "execution_count": 50,
     "metadata": {},
     "output_type": "execute_result"
    }
   ],
   "source": [
    "test_df.head()"
   ]
  },
  {
   "cell_type": "code",
   "execution_count": 51,
   "metadata": {
    "collapsed": true
   },
   "outputs": [],
   "source": [
    "dummy_test_df = pd.get_dummies(test_df)"
   ]
  },
  {
   "cell_type": "code",
   "execution_count": 60,
   "metadata": {
    "collapsed": false
   },
   "outputs": [],
   "source": [
    "columns_to_drop = [c for c in dummy_test_df.columns if c not in dummy_df.columns]\n",
    "columns_to_fill = [c for c in dummy_df.columns if c not in dummy_test_df.columns]"
   ]
  },
  {
   "cell_type": "code",
   "execution_count": 65,
   "metadata": {
    "collapsed": false
   },
   "outputs": [],
   "source": [
    "columns_to_drop.remove('id')\n",
    "for c in columns_to_drop:\n",
    "    del dummy_test_df[c]"
   ]
  },
  {
   "cell_type": "code",
   "execution_count": 68,
   "metadata": {
    "collapsed": true
   },
   "outputs": [],
   "source": [
    "columns_to_fill.remove('loss')\n",
    "for c in columns_to_fill:\n",
    "    dummy_test_df[c] = 0"
   ]
  },
  {
   "cell_type": "code",
   "execution_count": 75,
   "metadata": {
    "collapsed": false
   },
   "outputs": [],
   "source": [
    "test_features = dummy_test_df[features]"
   ]
  },
  {
   "cell_type": "code",
   "execution_count": 77,
   "metadata": {
    "collapsed": true
   },
   "outputs": [],
   "source": [
    "predictions = best_model.predict(test_features)"
   ]
  },
  {
   "cell_type": "code",
   "execution_count": 82,
   "metadata": {
    "collapsed": false
   },
   "outputs": [],
   "source": [
    "results = pd.Series(predictions, index=dummy_test_df['id'])\n",
    "results = results.reset_index()\n",
    "results.columns = ['id', 'loss']"
   ]
  },
  {
   "cell_type": "code",
   "execution_count": 85,
   "metadata": {
    "collapsed": false
   },
   "outputs": [],
   "source": [
    "results.to_csv('gbm_predictions.csv')"
   ]
  },
  {
   "cell_type": "markdown",
   "metadata": {},
   "source": [
    "#### Score: 1166"
   ]
  },
  {
   "cell_type": "markdown",
   "metadata": {},
   "source": [
    "##### NOTE: I made a mistake when training these models, that is, I forgot to combine training dataset and test dataset first then train the model. We need to make sure the training dataset has the same columns as the test dataset. I don't want to redo all the things again because it's really slow to find the optimal parameters. However there are couple of things we need to notice.<br>\n",
    "1. The number of estimators(trees) was set to 200. But this might not be the optimal value because we increased the learning rate to 0.5 when training these models, we changed it back to 0.1 when searching other optimal parameters though.\n",
    "2. min_samples_split might not be optimal because it was the minimum value in the range.\n",
    "3. We didn't CV learning rate. Probably we can try some smaller learning rates, however, it really takes time.."
   ]
  },
  {
   "cell_type": "code",
   "execution_count": null,
   "metadata": {
    "collapsed": true
   },
   "outputs": [],
   "source": []
  }
 ],
 "metadata": {
  "kernelspec": {
   "display_name": "Python 3",
   "language": "python",
   "name": "python3"
  },
  "language_info": {
   "codemirror_mode": {
    "name": "ipython",
    "version": 3
   },
   "file_extension": ".py",
   "mimetype": "text/x-python",
   "name": "python",
   "nbconvert_exporter": "python",
   "pygments_lexer": "ipython3",
   "version": "3.5.1"
  }
 },
 "nbformat": 4,
 "nbformat_minor": 0
}
