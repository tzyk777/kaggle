{
 "cells": [
  {
   "cell_type": "code",
   "execution_count": 1,
   "metadata": {
    "collapsed": false
   },
   "outputs": [
    {
     "name": "stderr",
     "output_type": "stream",
     "text": [
      "D:\\Users\\zeyang\\Miniconda3\\lib\\site-packages\\sklearn\\cross_validation.py:44: DeprecationWarning: This module was deprecated in version 0.18 in favor of the model_selection module into which all the refactored classes and functions are moved. Also note that the interface of the new CV iterators are different from that of this module. This module will be removed in 0.20.\n",
      "  \"This module will be removed in 0.20.\", DeprecationWarning)\n",
      "D:\\Users\\zeyang\\Miniconda3\\lib\\site-packages\\sklearn\\grid_search.py:43: DeprecationWarning: This module was deprecated in version 0.18 in favor of the model_selection module into which all the refactored classes and functions are moved. This module will be removed in 0.20.\n",
      "  DeprecationWarning)\n"
     ]
    }
   ],
   "source": [
    "import pandas as pd\n",
    "import numpy as np\n",
    "from sklearn.ensemble import GradientBoostingRegressor  #GBM algorithm\n",
    "from sklearn import cross_validation, metrics  #Additional scklearn functions\n",
    "from sklearn.metrics import make_scorer\n",
    "from sklearn.grid_search import GridSearchCV   #Perforing grid search\n",
    "\n",
    "import matplotlib.pylab as plt\n",
    "%matplotlib inline\n",
    "from matplotlib.pylab import rcParams\n",
    "rcParams['figure.figsize'] = 12, 4"
   ]
  },
  {
   "cell_type": "code",
   "execution_count": 2,
   "metadata": {
    "collapsed": true
   },
   "outputs": [],
   "source": [
    "training_df = pd.read_csv('train.csv')\n",
    "test_df = pd.read_csv('test.csv')\n",
    "df = pd.concat([training_df, test_df], join='inner')\n",
    "df = pd.get_dummies(df)\n",
    "training_data = df[:len(training_df)]\n",
    "test_data = df[len(training_df):]"
   ]
  },
  {
   "cell_type": "code",
   "execution_count": 3,
   "metadata": {
    "collapsed": false
   },
   "outputs": [],
   "source": [
    "features = [c for c in df.columns if c != 'id']\n",
    "X = training_data[features]\n",
    "Y = training_df['loss']"
   ]
  },
  {
   "cell_type": "code",
   "execution_count": 28,
   "metadata": {
    "collapsed": false
   },
   "outputs": [],
   "source": [
    "def modelfit(model, X, Y, features, performCV=True, cv_folds=5, printFeatureImportance=True):\n",
    "    model.fit(X, Y)\n",
    "    \n",
    "    predictions = model.predict(X)\n",
    "    if performCV:\n",
    "        #score_func = make_scorer(metrics.mean_squared_error, greater_is_better=False)\n",
    "        cv_score = cross_validation.cross_val_score(model, X, \n",
    "                                                    Y, cv=cv_folds,\n",
    "                                                    n_jobs=4, scoring='neg_mean_squared_error',\n",
    "                                                    )\n",
    "    \n",
    "    print('Mean square error {}'.format(metrics.mean_squared_error(Y.values, predictions)))\n",
    "    \n",
    "    if performCV:\n",
    "        print('CV Score: Mean - {} | Std - {} | Min - {} | Max - {}'.format(\n",
    "            -np.mean(cv_score),\n",
    "            np.std(cv_score),\n",
    "            -np.max(cv_score),\n",
    "            -np.min(cv_score)))\n",
    "        \n",
    "    if printFeatureImportance:\n",
    "        feat_imp = pd.Series(model.feature_importances_,).sort_values(ascending=False)[:10]\n",
    "        feat_imp.plot(kind='bar', title='Feature Importances')\n",
    "        plt.ylabel('Feature Importance Score')"
   ]
  },
  {
   "cell_type": "markdown",
   "metadata": {},
   "source": [
    "For a gradient boosting model, there are 3 kinds of parmameters:<br>\n",
    "1. tree-specific\n",
    "2. boosting\n",
    "3. miscellaneous parameters"
   ]
  },
  {
   "cell_type": "markdown",
   "metadata": {},
   "source": [
    "A general approach to train a GBM:<br>\n",
    "1. Choose a relatively high learning rate. Generally the default value of 0.1 works but somewhere between 0.05 to 0.2 should work for different problems\n",
    "2. Determine the optimum number of trees for this learning rate. This should range around 40-70. Remember to choose a value on which your system can work fairly fast. This is because it will be used for testing various scenarios and determining the tree parameters.\n",
    "3. Tune tree-specific parameters for decided learning rate and number of trees. Note that we can choose different parameters to define a tree and I’ll take up an example here.\n",
    "4. Lower the learning rate and increase the estimators proportionally to get more robust models"
   ]
  },
  {
   "cell_type": "markdown",
   "metadata": {},
   "source": [
    "#### Tree specific parameters:\n",
    "1. min_samples_split = 500 : This should be ~0.5-1% of total values. Since this is imbalanced class problem, we’ll take a small value from the range.\n",
    "2. min_samples_leaf = 50 : Can be selected based on intuition. This is just used for preventing overfitting and again a small value because of imbalanced classes.\n",
    "3. max_depth = 8 : Should be chosen (5-8) based on the number of observations and predictors. This has 87K rows and 49 columns so lets take 8 here.\n",
    "4. max_features = ‘sqrt’ : Its a general thumb-rule to start with square root.\n",
    "5. subsample = 0.8 : This is a commonly used used start value"
   ]
  },
  {
   "cell_type": "markdown",
   "metadata": {},
   "source": [
    "References:\n",
    "1. http://www.ccs.neu.edu/home/vip/teach/MLcourse/4_boosting/slides/gradient_boosting.pdf\n",
    "2. https://www.analyticsvidhya.com/blog/2016/02/complete-guide-parameter-tuning-gradient-boosting-gbm-python/\n",
    "3. http://blog.kaggle.com/2017/01/23/a-kaggle-master-explains-gradient-boosting/"
   ]
  },
  {
   "cell_type": "markdown",
   "metadata": {},
   "source": [
    "Try to train a GBM by using parameters selected based on intuition."
   ]
  },
  {
   "cell_type": "code",
   "execution_count": 28,
   "metadata": {
    "collapsed": false
   },
   "outputs": [],
   "source": [
    "params = {'n_estimators': 60, 'learning_rate': 0.1, 'min_samples_split': 1800, \n",
    "          'min_samples_leaf': 50, 'max_depth': 8, 'max_features': 'sqrt', 'subsample': 0.8, \n",
    "          'random_state': 10, 'loss': 'ls'}\n",
    "model = GradientBoostingRegressor(**params)"
   ]
  },
  {
   "cell_type": "code",
   "execution_count": 29,
   "metadata": {
    "collapsed": false
   },
   "outputs": [
    {
     "name": "stdout",
     "output_type": "stream",
     "text": [
      "Mean square error 7517667.213350877\n",
      "CV Score: Mean - 10783837.717042612 | Std - 13711960.368180536 | Min - 1669963.6196816324 | Max - 38083807.5433455\n"
     ]
    },
    {
     "data": {
      "image/png": "[encoded data removed]",
      "text/plain": [
       "<matplotlib.figure.Figure at 0x21122185550>"
      ]
     },
     "metadata": {},
     "output_type": "display_data"
    }
   ],
   "source": [
    "modelfit(model, X, Y, features)"
   ]
  },
  {
   "cell_type": "markdown",
   "metadata": {},
   "source": [
    "### Parameter Tuning"
   ]
  },
  {
   "cell_type": "markdown",
   "metadata": {},
   "source": [
    "#### number of estimators"
   ]
  },
  {
   "cell_type": "code",
   "execution_count": 5,
   "metadata": {
    "collapsed": true
   },
   "outputs": [],
   "source": [
    "estimators = {'n_estimators':list(range(20,81,10))}\n",
    "model_params = {'learning_rate': 0.1, 'min_samples_split': 1800, \n",
    "                'min_samples_leaf': 50, 'max_depth': 8, 'max_features': 'sqrt', 'subsample': 0.8, \n",
    "                'random_state': 10, 'loss': 'ls'}"
   ]
  },
  {
   "cell_type": "code",
   "execution_count": 6,
   "metadata": {
    "collapsed": false
   },
   "outputs": [
    {
     "data": {
      "text/plain": [
       "GridSearchCV(cv=5, error_score='raise',\n",
       "       estimator=GradientBoostingRegressor(alpha=0.9, criterion='friedman_mse', init=None,\n",
       "             learning_rate=0.1, loss='ls', max_depth=8,\n",
       "             max_features='sqrt', max_leaf_nodes=None,\n",
       "             min_impurity_split=1e-07, min_samples_leaf=50,\n",
       "             min_samples_split=1800, min_weight_fraction_leaf=0.0,\n",
       "             n_estimators=100, presort='auto', random_state=10,\n",
       "             subsample=0.8, verbose=0, warm_start=False),\n",
       "       fit_params={}, iid=False, n_jobs=8,\n",
       "       param_grid={'n_estimators': [20, 30, 40, 50, 60, 70, 80]},\n",
       "       pre_dispatch='2*n_jobs', refit=True,\n",
       "       scoring='neg_mean_squared_error', verbose=0)"
      ]
     },
     "execution_count": 6,
     "metadata": {},
     "output_type": "execute_result"
    }
   ],
   "source": [
    "gsearch1 = GridSearchCV(estimator = GradientBoostingRegressor(**model_params), \n",
    "                        param_grid = estimators, scoring='neg_mean_squared_error',n_jobs=8,iid=False, cv=5)\n",
    "gsearch1.fit(X, Y)"
   ]
  },
  {
   "cell_type": "code",
   "execution_count": 7,
   "metadata": {
    "collapsed": false
   },
   "outputs": [
    {
     "data": {
      "text/plain": [
       "([mean: -4731799.93858, std: 129147.48360, params: {'n_estimators': 20},\n",
       "  mean: -4371664.74605, std: 122786.81896, params: {'n_estimators': 30},\n",
       "  mean: -4167027.39796, std: 111633.96686, params: {'n_estimators': 40},\n",
       "  mean: -4044960.91967, std: 113109.41987, params: {'n_estimators': 50},\n",
       "  mean: -3967301.53674, std: 107416.26406, params: {'n_estimators': 60},\n",
       "  mean: -3911997.48904, std: 106883.95238, params: {'n_estimators': 70},\n",
       "  mean: -3875963.11726, std: 101597.08756, params: {'n_estimators': 80}],\n",
       " {'n_estimators': 80},\n",
       " -3875963.1172550707)"
      ]
     },
     "execution_count": 7,
     "metadata": {},
     "output_type": "execute_result"
    }
   ],
   "source": [
    "gsearch1.grid_scores_, gsearch1.best_params_, gsearch1.best_score_"
   ]
  },
  {
   "cell_type": "markdown",
   "metadata": {},
   "source": [
    "The optimal estimators for 0.1 learning rate is 80, which is the maximum value in the range, this indicates that the optimal estimators could be higher than 80. "
   ]
  },
  {
   "cell_type": "code",
   "execution_count": 6,
   "metadata": {
    "collapsed": true
   },
   "outputs": [],
   "source": [
    "estimators = {'n_estimators':list(range(80,300,20))}\n",
    "model_params = {'learning_rate': 0.1, 'min_samples_split': 1800, \n",
    "                'min_samples_leaf': 50, 'max_depth': 8, 'max_features': 'sqrt', 'subsample': 0.8, \n",
    "                'random_state': 10, 'loss': 'ls'}"
   ]
  },
  {
   "cell_type": "code",
   "execution_count": 7,
   "metadata": {
    "collapsed": false
   },
   "outputs": [
    {
     "data": {
      "text/plain": [
       "GridSearchCV(cv=5, error_score='raise',\n",
       "       estimator=GradientBoostingRegressor(alpha=0.9, criterion='friedman_mse', init=None,\n",
       "             learning_rate=0.1, loss='ls', max_depth=8,\n",
       "             max_features='sqrt', max_leaf_nodes=None,\n",
       "             min_impurity_split=1e-07, min_samples_leaf=50,\n",
       "             min_samples_split=1800, min_weight_fraction_leaf=0.0,\n",
       "             n_estimators=100, presort='auto', random_state=10,\n",
       "             subsample=0.8, verbose=0, warm_start=False),\n",
       "       fit_params={}, iid=False, n_jobs=8,\n",
       "       param_grid={'n_estimators': [80, 100, 120, 140, 160, 180, 200, 220, 240, 260, 280]},\n",
       "       pre_dispatch='2*n_jobs', refit=True,\n",
       "       scoring='neg_mean_squared_error', verbose=0)"
      ]
     },
     "execution_count": 7,
     "metadata": {},
     "output_type": "execute_result"
    }
   ],
   "source": [
    "gsearch2 = GridSearchCV(estimator = GradientBoostingRegressor(**model_params), \n",
    "                        param_grid = estimators, scoring='neg_mean_squared_error',n_jobs=8,iid=False, cv=5)\n",
    "gsearch2.fit(X, Y)"
   ]
  },
  {
   "cell_type": "code",
   "execution_count": 8,
   "metadata": {
    "collapsed": false
   },
   "outputs": [
    {
     "data": {
      "text/plain": [
       "([mean: -3875963.11726, std: 101597.08756, params: {'n_estimators': 80},\n",
       "  mean: -3825573.78655, std: 102551.91998, params: {'n_estimators': 100},\n",
       "  mean: -3791107.25022, std: 97494.51572, params: {'n_estimators': 120},\n",
       "  mean: -3765542.23943, std: 93968.32078, params: {'n_estimators': 140},\n",
       "  mean: -3742743.50992, std: 92719.69544, params: {'n_estimators': 160},\n",
       "  mean: -3725148.23440, std: 93287.51090, params: {'n_estimators': 180},\n",
       "  mean: -3711006.79774, std: 90642.60446, params: {'n_estimators': 200},\n",
       "  mean: -3698696.61178, std: 87062.59275, params: {'n_estimators': 220},\n",
       "  mean: -3689930.26089, std: 84383.18485, params: {'n_estimators': 240},\n",
       "  mean: -3682321.02582, std: 81934.26823, params: {'n_estimators': 260},\n",
       "  mean: -3675894.55675, std: 80645.05581, params: {'n_estimators': 280}],\n",
       " {'n_estimators': 280},\n",
       " -3675894.55674937)"
      ]
     },
     "execution_count": 8,
     "metadata": {},
     "output_type": "execute_result"
    }
   ],
   "source": [
    "gsearch2.grid_scores_, gsearch2.best_params_, gsearch2.best_score_"
   ]
  },
  {
   "cell_type": "code",
   "execution_count": 4,
   "metadata": {
    "collapsed": true
   },
   "outputs": [],
   "source": [
    "best_estimators = 280"
   ]
  },
  {
   "cell_type": "markdown",
   "metadata": {},
   "source": [
    "#### max_depth and min_samples_split"
   ]
  },
  {
   "cell_type": "code",
   "execution_count": 5,
   "metadata": {
    "collapsed": false
   },
   "outputs": [],
   "source": [
    "estimators = {'max_depth':list(range(5,16,2)), 'min_samples_split':list(range(1000,1801,200))}\n",
    "model_params = {'learning_rate': 0.1, 'min_samples_leaf': 50, \n",
    "                'max_features': 'sqrt', 'subsample': 0.8, \n",
    "                'random_state': 10, 'loss': 'ls',\n",
    "                'n_estimators': best_estimators}"
   ]
  },
  {
   "cell_type": "code",
   "execution_count": 6,
   "metadata": {
    "collapsed": false
   },
   "outputs": [
    {
     "data": {
      "text/plain": [
       "GridSearchCV(cv=5, error_score='raise',\n",
       "       estimator=GradientBoostingRegressor(alpha=0.9, criterion='friedman_mse', init=None,\n",
       "             learning_rate=0.1, loss='ls', max_depth=3,\n",
       "             max_features='sqrt', max_leaf_nodes=None,\n",
       "             min_impurity_split=1e-07, min_samples_leaf=50,\n",
       "             min_samples_split=2, min_weight_fraction_leaf=0.0,\n",
       "             n_estimators=280, presort='auto', random_state=10,\n",
       "             subsample=0.8, verbose=0, warm_start=False),\n",
       "       fit_params={}, iid=False, n_jobs=2,\n",
       "       param_grid={'min_samples_split': [1000, 1200, 1400, 1600, 1800], 'max_depth': [5, 7, 9, 11, 13, 15]},\n",
       "       pre_dispatch='2*n_jobs', refit=True,\n",
       "       scoring='neg_mean_squared_error', verbose=0)"
      ]
     },
     "execution_count": 6,
     "metadata": {},
     "output_type": "execute_result"
    }
   ],
   "source": [
    "gsearch3 = GridSearchCV(estimator = GradientBoostingRegressor(**model_params), \n",
    "                        param_grid = estimators, scoring='neg_mean_squared_error',n_jobs=2,iid=False, cv=5)\n",
    "gsearch3.fit(X, Y)"
   ]
  },
  {
   "cell_type": "code",
   "execution_count": 7,
   "metadata": {
    "collapsed": false
   },
   "outputs": [
    {
     "data": {
      "text/plain": [
       "([mean: -3742221.44098, std: 82111.70451, params: {'min_samples_split': 1000, 'max_depth': 5},\n",
       "  mean: -3751241.98247, std: 88602.93164, params: {'min_samples_split': 1200, 'max_depth': 5},\n",
       "  mean: -3749850.47350, std: 90579.06344, params: {'min_samples_split': 1400, 'max_depth': 5},\n",
       "  mean: -3745143.52502, std: 79563.03320, params: {'min_samples_split': 1600, 'max_depth': 5},\n",
       "  mean: -3750020.28326, std: 78252.02084, params: {'min_samples_split': 1800, 'max_depth': 5},\n",
       "  mean: -3668698.95514, std: 91717.86279, params: {'min_samples_split': 1000, 'max_depth': 7},\n",
       "  mean: -3676810.30770, std: 86019.11401, params: {'min_samples_split': 1200, 'max_depth': 7},\n",
       "  mean: -3678828.48914, std: 76650.62200, params: {'min_samples_split': 1400, 'max_depth': 7},\n",
       "  mean: -3673236.70060, std: 82971.12898, params: {'min_samples_split': 1600, 'max_depth': 7},\n",
       "  mean: -3688565.47400, std: 88669.43319, params: {'min_samples_split': 1800, 'max_depth': 7},\n",
       "  mean: -3629789.04180, std: 79526.33954, params: {'min_samples_split': 1000, 'max_depth': 9},\n",
       "  mean: -3629944.48717, std: 94401.81770, params: {'min_samples_split': 1200, 'max_depth': 9},\n",
       "  mean: -3636373.57780, std: 86175.84414, params: {'min_samples_split': 1400, 'max_depth': 9},\n",
       "  mean: -3642306.58834, std: 82187.52144, params: {'min_samples_split': 1600, 'max_depth': 9},\n",
       "  mean: -3657923.59460, std: 84303.64704, params: {'min_samples_split': 1800, 'max_depth': 9},\n",
       "  mean: -3623761.75409, std: 81976.60179, params: {'min_samples_split': 1000, 'max_depth': 11},\n",
       "  mean: -3613021.41181, std: 76595.69776, params: {'min_samples_split': 1200, 'max_depth': 11},\n",
       "  mean: -3614659.93070, std: 79773.65324, params: {'min_samples_split': 1400, 'max_depth': 11},\n",
       "  mean: -3618716.22847, std: 72977.69621, params: {'min_samples_split': 1600, 'max_depth': 11},\n",
       "  mean: -3625580.39291, std: 73463.02438, params: {'min_samples_split': 1800, 'max_depth': 11},\n",
       "  mean: -3599376.65471, std: 81437.68328, params: {'min_samples_split': 1000, 'max_depth': 13},\n",
       "  mean: -3597874.00598, std: 75404.59047, params: {'min_samples_split': 1200, 'max_depth': 13},\n",
       "  mean: -3607254.19617, std: 91595.27267, params: {'min_samples_split': 1400, 'max_depth': 13},\n",
       "  mean: -3612603.72561, std: 87012.39424, params: {'min_samples_split': 1600, 'max_depth': 13},\n",
       "  mean: -3608244.59400, std: 75989.47109, params: {'min_samples_split': 1800, 'max_depth': 13},\n",
       "  mean: -3600528.39062, std: 76177.67688, params: {'min_samples_split': 1000, 'max_depth': 15},\n",
       "  mean: -3594242.31593, std: 91827.53370, params: {'min_samples_split': 1200, 'max_depth': 15},\n",
       "  mean: -3603729.19902, std: 84135.82816, params: {'min_samples_split': 1400, 'max_depth': 15},\n",
       "  mean: -3593694.04445, std: 83190.69462, params: {'min_samples_split': 1600, 'max_depth': 15},\n",
       "  mean: -3601408.56436, std: 84389.80180, params: {'min_samples_split': 1800, 'max_depth': 15}],\n",
       " {'max_depth': 15, 'min_samples_split': 1600},\n",
       " -3593694.0444536447)"
      ]
     },
     "execution_count": 7,
     "metadata": {},
     "output_type": "execute_result"
    }
   ],
   "source": [
    "gsearch3.grid_scores_, gsearch3.best_params_, gsearch3.best_score_"
   ]
  },
  {
   "cell_type": "code",
   "execution_count": 9,
   "metadata": {
    "collapsed": true
   },
   "outputs": [],
   "source": [
    "best_max_depth = 15\n",
    "best_min_samples_split = 1600"
   ]
  },
  {
   "cell_type": "code",
   "execution_count": 16,
   "metadata": {
    "collapsed": true
   },
   "outputs": [],
   "source": [
    "grid_parameters = {'min_samples_leaf': list(range(10, 31, 5))}\n",
    "model_params = {'learning_rate': 0.1, 'subsample': 0.8,\n",
    "                'max_features': 'sqrt', 'min_samples_split': best_min_samples_split,\n",
    "                'random_state': 10, 'loss': 'ls',\n",
    "                'n_estimators': best_estimators, 'max_depth': best_max_depth}"
   ]
  },
  {
   "cell_type": "code",
   "execution_count": 17,
   "metadata": {
    "collapsed": false
   },
   "outputs": [
    {
     "data": {
      "text/plain": [
       "GridSearchCV(cv=5, error_score='raise',\n",
       "       estimator=GradientBoostingRegressor(alpha=0.9, criterion='friedman_mse', init=None,\n",
       "             learning_rate=0.1, loss='ls', max_depth=15,\n",
       "             max_features='sqrt', max_leaf_nodes=None,\n",
       "             min_impurity_split=1e-07, min_samples_leaf=1,\n",
       "             min_samples_split=1600, min_weight_fraction_leaf=0.0,\n",
       "             n_estimators=280, presort='auto', random_state=10,\n",
       "             subsample=0.8, verbose=0, warm_start=False),\n",
       "       fit_params={}, iid=False, n_jobs=2,\n",
       "       param_grid={'min_samples_leaf': [10, 15, 20, 25, 30]},\n",
       "       pre_dispatch='2*n_jobs', refit=True,\n",
       "       scoring='neg_mean_squared_error', verbose=0)"
      ]
     },
     "execution_count": 17,
     "metadata": {},
     "output_type": "execute_result"
    }
   ],
   "source": [
    "gsearch4 = GridSearchCV(estimator = GradientBoostingRegressor(**model_params), \n",
    "                        param_grid = grid_parameters, scoring='neg_mean_squared_error',n_jobs=2,iid=False, cv=5)\n",
    "gsearch4.fit(X, Y)"
   ]
  },
  {
   "cell_type": "code",
   "execution_count": 18,
   "metadata": {
    "collapsed": false
   },
   "outputs": [
    {
     "data": {
      "text/plain": [
       "([mean: -3587471.39118, std: 79995.15042, params: {'min_samples_leaf': 10},\n",
       "  mean: -3585248.96263, std: 59166.86427, params: {'min_samples_leaf': 15},\n",
       "  mean: -3591248.28366, std: 80629.69610, params: {'min_samples_leaf': 20},\n",
       "  mean: -3597103.95144, std: 61737.06569, params: {'min_samples_leaf': 25},\n",
       "  mean: -3588238.26914, std: 72321.59689, params: {'min_samples_leaf': 30}],\n",
       " {'min_samples_leaf': 15},\n",
       " -3585248.962630873)"
      ]
     },
     "execution_count": 18,
     "metadata": {},
     "output_type": "execute_result"
    }
   ],
   "source": [
    "gsearch4.grid_scores_, gsearch4.best_params_, gsearch4.best_score_"
   ]
  },
  {
   "cell_type": "code",
   "execution_count": 19,
   "metadata": {
    "collapsed": true
   },
   "outputs": [],
   "source": [
    "best_min_samples_leaf = 15"
   ]
  },
  {
   "cell_type": "markdown",
   "metadata": {},
   "source": [
    "#### subsample"
   ]
  },
  {
   "cell_type": "code",
   "execution_count": 22,
   "metadata": {
    "collapsed": true
   },
   "outputs": [],
   "source": [
    "grid_parameters = {'subsample':[0.7,0.75,0.8,0.85,0.9]}\n",
    "model_params = {'learning_rate': 0.1, 'min_samples_leaf': best_min_samples_split, \n",
    "                'max_features': 'sqrt', 'min_samples_split': best_min_samples_split,\n",
    "                'random_state': 10, 'loss': 'ls',\n",
    "                'n_estimators': best_estimators, 'max_depth': best_max_depth}"
   ]
  },
  {
   "cell_type": "code",
   "execution_count": 23,
   "metadata": {
    "collapsed": false
   },
   "outputs": [
    {
     "data": {
      "text/plain": [
       "GridSearchCV(cv=5, error_score='raise',\n",
       "       estimator=GradientBoostingRegressor(alpha=0.9, criterion='friedman_mse', init=None,\n",
       "             learning_rate=0.1, loss='ls', max_depth=15,\n",
       "             max_features='sqrt', max_leaf_nodes=None,\n",
       "             min_impurity_split=1e-07, min_samples_leaf=1600,\n",
       "             min_samples_split=1600, min_weight_fraction_leaf=0.0,\n",
       "             n_estimators=280, presort='auto', random_state=10,\n",
       "             subsample=1.0, verbose=0, warm_start=False),\n",
       "       fit_params={}, iid=False, n_jobs=2,\n",
       "       param_grid={'subsample': [0.7, 0.75, 0.8, 0.85, 0.9]},\n",
       "       pre_dispatch='2*n_jobs', refit=True,\n",
       "       scoring='neg_mean_squared_error', verbose=0)"
      ]
     },
     "execution_count": 23,
     "metadata": {},
     "output_type": "execute_result"
    }
   ],
   "source": [
    "gsearch5 = GridSearchCV(estimator = GradientBoostingRegressor(**model_params), \n",
    "                        param_grid = grid_parameters, scoring='neg_mean_squared_error',n_jobs=2,iid=False, cv=5)\n",
    "gsearch5.fit(X, Y)"
   ]
  },
  {
   "cell_type": "code",
   "execution_count": 24,
   "metadata": {
    "collapsed": false,
    "scrolled": true
   },
   "outputs": [
    {
     "data": {
      "text/plain": [
       "([mean: -3887814.22381, std: 104349.22889, params: {'subsample': 0.7},\n",
       "  mean: -3866737.65764, std: 103289.66894, params: {'subsample': 0.75},\n",
       "  mean: -3849626.18544, std: 101527.84397, params: {'subsample': 0.8},\n",
       "  mean: -3840716.53971, std: 103012.58697, params: {'subsample': 0.85},\n",
       "  mean: -3834767.41592, std: 110870.64621, params: {'subsample': 0.9}],\n",
       " {'subsample': 0.9},\n",
       " -3834767.41591727)"
      ]
     },
     "execution_count": 24,
     "metadata": {},
     "output_type": "execute_result"
    }
   ],
   "source": [
    "gsearch5.grid_scores_, gsearch5.best_params_, gsearch5.best_score_"
   ]
  },
  {
   "cell_type": "code",
   "execution_count": 25,
   "metadata": {
    "collapsed": true
   },
   "outputs": [],
   "source": [
    "best_subsample = 0.9"
   ]
  },
  {
   "cell_type": "markdown",
   "metadata": {},
   "source": [
    "We have finished all the parameter tunning, the optimal values for each parameters are:"
   ]
  },
  {
   "cell_type": "code",
   "execution_count": 26,
   "metadata": {
    "collapsed": false
   },
   "outputs": [],
   "source": [
    "best_params = {'n_estimators': best_estimators, \n",
    "               'learning_rate': 0.1, \n",
    "               'min_samples_split': best_min_samples_split, \n",
    "               'min_samples_leaf': best_min_samples_leaf, \n",
    "               'max_depth': best_max_depth, \n",
    "               'max_features': 'sqrt', \n",
    "               'subsample': best_subsample, \n",
    "               'random_state': 10, \n",
    "               'loss': 'ls'}\n",
    "best_model = GradientBoostingRegressor(**best_params)"
   ]
  },
  {
   "cell_type": "code",
   "execution_count": 30,
   "metadata": {
    "collapsed": false
   },
   "outputs": [
    {
     "name": "stdout",
     "output_type": "stream",
     "text": [
      "Mean square error 3019103.9707495794\n",
      "CV Score: Mean - 3592088.7547443868 | Std - 78456.600906637 | Min - 3484494.6497005303 | Max - 3711142.134075766\n"
     ]
    },
    {
     "data": {
      "image/png": "[encoded data removed]",
      "text/plain": [
       "<matplotlib.figure.Figure at 0x23105b56550>"
      ]
     },
     "metadata": {},
     "output_type": "display_data"
    }
   ],
   "source": [
    "modelfit(best_model, X, Y, features)"
   ]
  },
  {
   "cell_type": "markdown",
   "metadata": {},
   "source": [
    "Comparing this \"best model\" with the model we built based on intution.<br><br>\n",
    "Old model:<br>\n",
    "Mean square error 3842112.6796678584<br>\n",
    "CV Score: Mean - 3952696.6976141683<br><br>\n",
    "\n",
    "\"Best model\":<br>\n",
    "Mean square error 3019103.9707495794<br>\n",
    "CV Score: Mean - 3592088.7547443868 "
   ]
  },
  {
   "cell_type": "markdown",
   "metadata": {},
   "source": [
    "### Test dataset"
   ]
  },
  {
   "cell_type": "code",
   "execution_count": 33,
   "metadata": {
    "collapsed": true
   },
   "outputs": [],
   "source": [
    "predictions = best_model.predict(test_data[features])"
   ]
  },
  {
   "cell_type": "code",
   "execution_count": 45,
   "metadata": {
    "collapsed": false
   },
   "outputs": [],
   "source": [
    "results = pd.Series(predictions, index=test_data['id'])\n",
    "results = results.reset_index()\n",
    "results.columns = ['id', 'loss']"
   ]
  },
  {
   "cell_type": "code",
   "execution_count": 47,
   "metadata": {
    "collapsed": false
   },
   "outputs": [],
   "source": [
    "results.to_csv('gbm_predictions_v2.csv')"
   ]
  },
  {
   "cell_type": "markdown",
   "metadata": {},
   "source": [
    "#### Score: 1169"
   ]
  },
  {
   "cell_type": "markdown",
   "metadata": {},
   "source": [
    "#### Reduce learning rate to 0.05 and increase n_estimators to 560"
   ]
  },
  {
   "cell_type": "code",
   "execution_count": 51,
   "metadata": {
    "collapsed": true
   },
   "outputs": [],
   "source": [
    "params_one = {'n_estimators': best_estimators * 2,  \n",
    "               'learning_rate': 0.05, \n",
    "               'min_samples_split': best_min_samples_split, \n",
    "               'min_samples_leaf': best_min_samples_leaf, \n",
    "               'max_depth': best_max_depth, \n",
    "               'max_features': 'sqrt', \n",
    "               'subsample': best_subsample, \n",
    "               'random_state': 10, \n",
    "               'loss': 'ls'}\n",
    "best_model_one = GradientBoostingRegressor(**params_one)"
   ]
  },
  {
   "cell_type": "code",
   "execution_count": 52,
   "metadata": {
    "collapsed": false
   },
   "outputs": [
    {
     "name": "stdout",
     "output_type": "stream",
     "text": [
      "Mean square error 2979393.1947850753\n",
      "CV Score: Mean - 3538901.539534764 | Std - 67792.35552240051 | Min - 3423845.398359565 | Max - 3621535.688940967\n"
     ]
    },
    {
     "data": {
      "image/png": "[encoded data removed]",
      "text/plain": [
       "<matplotlib.figure.Figure at 0x2310a73e320>"
      ]
     },
     "metadata": {},
     "output_type": "display_data"
    }
   ],
   "source": [
    "modelfit(best_model_one, X, Y, features)"
   ]
  },
  {
   "cell_type": "markdown",
   "metadata": {},
   "source": [
    "#### Reduce learning rate to 0.01 and increase n_estimators to 2800"
   ]
  },
  {
   "cell_type": "code",
   "execution_count": 53,
   "metadata": {
    "collapsed": true
   },
   "outputs": [],
   "source": [
    "params_two = {'n_estimators': best_estimators * 10,  \n",
    "               'learning_rate': 0.01, \n",
    "               'min_samples_split': best_min_samples_split, \n",
    "               'min_samples_leaf': best_min_samples_leaf, \n",
    "               'max_depth': best_max_depth, \n",
    "               'max_features': 'sqrt', \n",
    "               'subsample': best_subsample, \n",
    "               'random_state': 10, \n",
    "               'loss': 'ls'}\n",
    "best_model_two = GradientBoostingRegressor(**params_two)"
   ]
  },
  {
   "cell_type": "code",
   "execution_count": 54,
   "metadata": {
    "collapsed": false
   },
   "outputs": [
    {
     "name": "stdout",
     "output_type": "stream",
     "text": [
      "Mean square error 2948668.9837352196\n",
      "CV Score: Mean - 3513137.126614137 | Std - 62024.59210627065 | Min - 3420284.9266948183 | Max - 3600945.7106511057\n"
     ]
    },
    {
     "data": {
      "image/png": "[encoded data removed]",
      "text/plain": [
       "<matplotlib.figure.Figure at 0x2310a315d30>"
      ]
     },
     "metadata": {},
     "output_type": "display_data"
    }
   ],
   "source": [
    "modelfit(best_model_two, X, Y, features)"
   ]
  },
  {
   "cell_type": "code",
   "execution_count": 55,
   "metadata": {
    "collapsed": true
   },
   "outputs": [],
   "source": [
    "predictions = best_model_two.predict(test_data[features])"
   ]
  },
  {
   "cell_type": "code",
   "execution_count": 56,
   "metadata": {
    "collapsed": true
   },
   "outputs": [],
   "source": [
    "results = pd.Series(predictions, index=test_data['id'])\n",
    "results = results.reset_index()\n",
    "results.columns = ['id', 'loss']"
   ]
  },
  {
   "cell_type": "code",
   "execution_count": 57,
   "metadata": {
    "collapsed": true
   },
   "outputs": [],
   "source": [
    "results.to_csv('gbm_predictions_v3.csv')"
   ]
  },
  {
   "cell_type": "markdown",
   "metadata": {
    "collapsed": true
   },
   "source": [
    "#### Score Private 1165.55141 Public 1156.19951"
   ]
  },
  {
   "cell_type": "code",
   "execution_count": null,
   "metadata": {
    "collapsed": true
   },
   "outputs": [],
   "source": []
  }
 ],
 "metadata": {
  "kernelspec": {
   "display_name": "Python 3",
   "language": "python",
   "name": "python3"
  },
  "language_info": {
   "codemirror_mode": {
    "name": "ipython",
    "version": 3
   },
   "file_extension": ".py",
   "mimetype": "text/x-python",
   "name": "python",
   "nbconvert_exporter": "python",
   "pygments_lexer": "ipython3",
   "version": "3.5.1"
  }
 },
 "nbformat": 4,
 "nbformat_minor": 0
}
