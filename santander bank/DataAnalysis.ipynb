{
 "cells": [
  {
   "cell_type": "code",
   "execution_count": 1,
   "metadata": {
    "collapsed": true
   },
   "outputs": [],
   "source": [
    "import pandas as pd\n",
    "import datetime as dt\n",
    "import numpy as np\n",
    "from sklearn.preprocessing import Imputer\n",
    "\n",
    "pd.options.display.max_columns = 50"
   ]
  },
  {
   "cell_type": "code",
   "execution_count": 2,
   "metadata": {
    "collapsed": false,
    "scrolled": false
   },
   "outputs": [
    {
     "name": "stderr",
     "output_type": "stream",
     "text": [
      "D:\\Users\\zeyang\\Miniconda3\\lib\\site-packages\\IPython\\core\\interactiveshell.py:2723: DtypeWarning: Columns (5,8,11,15) have mixed types. Specify dtype option on import or set low_memory=False.\n",
      "  interactivity=interactivity, compiler=compiler, result=result)\n"
     ]
    }
   ],
   "source": [
    "data = pd.read_csv('train_ver2.csv')"
   ]
  },
  {
   "cell_type": "code",
   "execution_count": 3,
   "metadata": {
    "collapsed": false,
    "scrolled": true
   },
   "outputs": [
    {
     "data": {
      "text/plain": [
       "fecha_dato                object\n",
       "ncodpers                   int64\n",
       "ind_empleado              object\n",
       "pais_residencia           object\n",
       "sexo                      object\n",
       "age                       object\n",
       "fecha_alta                object\n",
       "ind_nuevo                float64\n",
       "antiguedad                object\n",
       "indrel                   float64\n",
       "ult_fec_cli_1t            object\n",
       "indrel_1mes               object\n",
       "tiprel_1mes               object\n",
       "indresi                   object\n",
       "indext                    object\n",
       "conyuemp                  object\n",
       "canal_entrada             object\n",
       "indfall                   object\n",
       "tipodom                  float64\n",
       "cod_prov                 float64\n",
       "nomprov                   object\n",
       "ind_actividad_cliente    float64\n",
       "renta                    float64\n",
       "segmento                  object\n",
       "ind_ahor_fin_ult1          int64\n",
       "ind_aval_fin_ult1          int64\n",
       "ind_cco_fin_ult1           int64\n",
       "ind_cder_fin_ult1          int64\n",
       "ind_cno_fin_ult1           int64\n",
       "ind_ctju_fin_ult1          int64\n",
       "ind_ctma_fin_ult1          int64\n",
       "ind_ctop_fin_ult1          int64\n",
       "ind_ctpp_fin_ult1          int64\n",
       "ind_deco_fin_ult1          int64\n",
       "ind_deme_fin_ult1          int64\n",
       "ind_dela_fin_ult1          int64\n",
       "ind_ecue_fin_ult1          int64\n",
       "ind_fond_fin_ult1          int64\n",
       "ind_hip_fin_ult1           int64\n",
       "ind_plan_fin_ult1          int64\n",
       "ind_pres_fin_ult1          int64\n",
       "ind_reca_fin_ult1          int64\n",
       "ind_tjcr_fin_ult1          int64\n",
       "ind_valo_fin_ult1          int64\n",
       "ind_viv_fin_ult1           int64\n",
       "ind_nomina_ult1          float64\n",
       "ind_nom_pens_ult1        float64\n",
       "ind_recibo_ult1            int64\n",
       "dtype: object"
      ]
     },
     "execution_count": 3,
     "metadata": {},
     "output_type": "execute_result"
    }
   ],
   "source": [
    "data.dtypes"
   ]
  },
  {
   "cell_type": "code",
   "execution_count": 4,
   "metadata": {
    "collapsed": false
   },
   "outputs": [
    {
     "data": {
      "text/html": [
       "<div>\n",
       "<table border=\"1\" class=\"dataframe\">\n",
       "  <thead>\n",
       "    <tr style=\"text-align: right;\">\n",
       "      <th></th>\n",
       "      <th>fecha_dato</th>\n",
       "      <th>ncodpers</th>\n",
       "      <th>ind_empleado</th>\n",
       "      <th>pais_residencia</th>\n",
       "      <th>sexo</th>\n",
       "      <th>age</th>\n",
       "      <th>fecha_alta</th>\n",
       "      <th>ind_nuevo</th>\n",
       "      <th>antiguedad</th>\n",
       "      <th>indrel</th>\n",
       "      <th>ult_fec_cli_1t</th>\n",
       "      <th>indrel_1mes</th>\n",
       "      <th>tiprel_1mes</th>\n",
       "      <th>indresi</th>\n",
       "      <th>indext</th>\n",
       "      <th>conyuemp</th>\n",
       "      <th>canal_entrada</th>\n",
       "      <th>indfall</th>\n",
       "      <th>tipodom</th>\n",
       "      <th>cod_prov</th>\n",
       "      <th>nomprov</th>\n",
       "      <th>ind_actividad_cliente</th>\n",
       "      <th>renta</th>\n",
       "      <th>segmento</th>\n",
       "      <th>ind_ahor_fin_ult1</th>\n",
       "      <th>ind_aval_fin_ult1</th>\n",
       "      <th>ind_cco_fin_ult1</th>\n",
       "      <th>ind_cder_fin_ult1</th>\n",
       "      <th>ind_cno_fin_ult1</th>\n",
       "      <th>ind_ctju_fin_ult1</th>\n",
       "      <th>ind_ctma_fin_ult1</th>\n",
       "      <th>ind_ctop_fin_ult1</th>\n",
       "      <th>ind_ctpp_fin_ult1</th>\n",
       "      <th>ind_deco_fin_ult1</th>\n",
       "      <th>ind_deme_fin_ult1</th>\n",
       "      <th>ind_dela_fin_ult1</th>\n",
       "      <th>ind_ecue_fin_ult1</th>\n",
       "      <th>ind_fond_fin_ult1</th>\n",
       "      <th>ind_hip_fin_ult1</th>\n",
       "      <th>ind_plan_fin_ult1</th>\n",
       "      <th>ind_pres_fin_ult1</th>\n",
       "      <th>ind_reca_fin_ult1</th>\n",
       "      <th>ind_tjcr_fin_ult1</th>\n",
       "      <th>ind_valo_fin_ult1</th>\n",
       "      <th>ind_viv_fin_ult1</th>\n",
       "      <th>ind_nomina_ult1</th>\n",
       "      <th>ind_nom_pens_ult1</th>\n",
       "      <th>ind_recibo_ult1</th>\n",
       "    </tr>\n",
       "  </thead>\n",
       "  <tbody>\n",
       "    <tr>\n",
       "      <th>0</th>\n",
       "      <td>2015-01-28</td>\n",
       "      <td>1375586</td>\n",
       "      <td>N</td>\n",
       "      <td>ES</td>\n",
       "      <td>H</td>\n",
       "      <td>35</td>\n",
       "      <td>2015-01-12</td>\n",
       "      <td>0</td>\n",
       "      <td>6</td>\n",
       "      <td>1</td>\n",
       "      <td>NaN</td>\n",
       "      <td>1</td>\n",
       "      <td>A</td>\n",
       "      <td>S</td>\n",
       "      <td>N</td>\n",
       "      <td>NaN</td>\n",
       "      <td>KHL</td>\n",
       "      <td>N</td>\n",
       "      <td>1</td>\n",
       "      <td>29</td>\n",
       "      <td>MALAGA</td>\n",
       "      <td>1</td>\n",
       "      <td>87218.10</td>\n",
       "      <td>02 - PARTICULARES</td>\n",
       "      <td>0</td>\n",
       "      <td>0</td>\n",
       "      <td>1</td>\n",
       "      <td>0</td>\n",
       "      <td>0</td>\n",
       "      <td>0</td>\n",
       "      <td>0</td>\n",
       "      <td>0</td>\n",
       "      <td>0</td>\n",
       "      <td>0</td>\n",
       "      <td>0</td>\n",
       "      <td>0</td>\n",
       "      <td>0</td>\n",
       "      <td>0</td>\n",
       "      <td>0</td>\n",
       "      <td>0</td>\n",
       "      <td>0</td>\n",
       "      <td>0</td>\n",
       "      <td>0</td>\n",
       "      <td>0</td>\n",
       "      <td>0</td>\n",
       "      <td>0</td>\n",
       "      <td>0</td>\n",
       "      <td>0</td>\n",
       "    </tr>\n",
       "    <tr>\n",
       "      <th>1</th>\n",
       "      <td>2015-01-28</td>\n",
       "      <td>1050611</td>\n",
       "      <td>N</td>\n",
       "      <td>ES</td>\n",
       "      <td>V</td>\n",
       "      <td>23</td>\n",
       "      <td>2012-08-10</td>\n",
       "      <td>0</td>\n",
       "      <td>35</td>\n",
       "      <td>1</td>\n",
       "      <td>NaN</td>\n",
       "      <td>1</td>\n",
       "      <td>I</td>\n",
       "      <td>S</td>\n",
       "      <td>S</td>\n",
       "      <td>NaN</td>\n",
       "      <td>KHE</td>\n",
       "      <td>N</td>\n",
       "      <td>1</td>\n",
       "      <td>13</td>\n",
       "      <td>CIUDAD REAL</td>\n",
       "      <td>0</td>\n",
       "      <td>35548.74</td>\n",
       "      <td>03 - UNIVERSITARIO</td>\n",
       "      <td>0</td>\n",
       "      <td>0</td>\n",
       "      <td>1</td>\n",
       "      <td>0</td>\n",
       "      <td>0</td>\n",
       "      <td>0</td>\n",
       "      <td>0</td>\n",
       "      <td>0</td>\n",
       "      <td>0</td>\n",
       "      <td>0</td>\n",
       "      <td>0</td>\n",
       "      <td>0</td>\n",
       "      <td>0</td>\n",
       "      <td>0</td>\n",
       "      <td>0</td>\n",
       "      <td>0</td>\n",
       "      <td>0</td>\n",
       "      <td>0</td>\n",
       "      <td>0</td>\n",
       "      <td>0</td>\n",
       "      <td>0</td>\n",
       "      <td>0</td>\n",
       "      <td>0</td>\n",
       "      <td>0</td>\n",
       "    </tr>\n",
       "    <tr>\n",
       "      <th>2</th>\n",
       "      <td>2015-01-28</td>\n",
       "      <td>1050612</td>\n",
       "      <td>N</td>\n",
       "      <td>ES</td>\n",
       "      <td>V</td>\n",
       "      <td>23</td>\n",
       "      <td>2012-08-10</td>\n",
       "      <td>0</td>\n",
       "      <td>35</td>\n",
       "      <td>1</td>\n",
       "      <td>NaN</td>\n",
       "      <td>1</td>\n",
       "      <td>I</td>\n",
       "      <td>S</td>\n",
       "      <td>N</td>\n",
       "      <td>NaN</td>\n",
       "      <td>KHE</td>\n",
       "      <td>N</td>\n",
       "      <td>1</td>\n",
       "      <td>13</td>\n",
       "      <td>CIUDAD REAL</td>\n",
       "      <td>0</td>\n",
       "      <td>122179.11</td>\n",
       "      <td>03 - UNIVERSITARIO</td>\n",
       "      <td>0</td>\n",
       "      <td>0</td>\n",
       "      <td>1</td>\n",
       "      <td>0</td>\n",
       "      <td>0</td>\n",
       "      <td>0</td>\n",
       "      <td>0</td>\n",
       "      <td>0</td>\n",
       "      <td>0</td>\n",
       "      <td>0</td>\n",
       "      <td>0</td>\n",
       "      <td>0</td>\n",
       "      <td>0</td>\n",
       "      <td>0</td>\n",
       "      <td>0</td>\n",
       "      <td>0</td>\n",
       "      <td>0</td>\n",
       "      <td>0</td>\n",
       "      <td>0</td>\n",
       "      <td>0</td>\n",
       "      <td>0</td>\n",
       "      <td>0</td>\n",
       "      <td>0</td>\n",
       "      <td>0</td>\n",
       "    </tr>\n",
       "    <tr>\n",
       "      <th>3</th>\n",
       "      <td>2015-01-28</td>\n",
       "      <td>1050613</td>\n",
       "      <td>N</td>\n",
       "      <td>ES</td>\n",
       "      <td>H</td>\n",
       "      <td>22</td>\n",
       "      <td>2012-08-10</td>\n",
       "      <td>0</td>\n",
       "      <td>35</td>\n",
       "      <td>1</td>\n",
       "      <td>NaN</td>\n",
       "      <td>1</td>\n",
       "      <td>I</td>\n",
       "      <td>S</td>\n",
       "      <td>N</td>\n",
       "      <td>NaN</td>\n",
       "      <td>KHD</td>\n",
       "      <td>N</td>\n",
       "      <td>1</td>\n",
       "      <td>50</td>\n",
       "      <td>ZARAGOZA</td>\n",
       "      <td>0</td>\n",
       "      <td>119775.54</td>\n",
       "      <td>03 - UNIVERSITARIO</td>\n",
       "      <td>0</td>\n",
       "      <td>0</td>\n",
       "      <td>0</td>\n",
       "      <td>0</td>\n",
       "      <td>0</td>\n",
       "      <td>0</td>\n",
       "      <td>0</td>\n",
       "      <td>0</td>\n",
       "      <td>0</td>\n",
       "      <td>1</td>\n",
       "      <td>0</td>\n",
       "      <td>0</td>\n",
       "      <td>0</td>\n",
       "      <td>0</td>\n",
       "      <td>0</td>\n",
       "      <td>0</td>\n",
       "      <td>0</td>\n",
       "      <td>0</td>\n",
       "      <td>0</td>\n",
       "      <td>0</td>\n",
       "      <td>0</td>\n",
       "      <td>0</td>\n",
       "      <td>0</td>\n",
       "      <td>0</td>\n",
       "    </tr>\n",
       "    <tr>\n",
       "      <th>4</th>\n",
       "      <td>2015-01-28</td>\n",
       "      <td>1050614</td>\n",
       "      <td>N</td>\n",
       "      <td>ES</td>\n",
       "      <td>V</td>\n",
       "      <td>23</td>\n",
       "      <td>2012-08-10</td>\n",
       "      <td>0</td>\n",
       "      <td>35</td>\n",
       "      <td>1</td>\n",
       "      <td>NaN</td>\n",
       "      <td>1</td>\n",
       "      <td>A</td>\n",
       "      <td>S</td>\n",
       "      <td>N</td>\n",
       "      <td>NaN</td>\n",
       "      <td>KHE</td>\n",
       "      <td>N</td>\n",
       "      <td>1</td>\n",
       "      <td>50</td>\n",
       "      <td>ZARAGOZA</td>\n",
       "      <td>1</td>\n",
       "      <td>NaN</td>\n",
       "      <td>03 - UNIVERSITARIO</td>\n",
       "      <td>0</td>\n",
       "      <td>0</td>\n",
       "      <td>1</td>\n",
       "      <td>0</td>\n",
       "      <td>0</td>\n",
       "      <td>0</td>\n",
       "      <td>0</td>\n",
       "      <td>0</td>\n",
       "      <td>0</td>\n",
       "      <td>0</td>\n",
       "      <td>0</td>\n",
       "      <td>0</td>\n",
       "      <td>0</td>\n",
       "      <td>0</td>\n",
       "      <td>0</td>\n",
       "      <td>0</td>\n",
       "      <td>0</td>\n",
       "      <td>0</td>\n",
       "      <td>0</td>\n",
       "      <td>0</td>\n",
       "      <td>0</td>\n",
       "      <td>0</td>\n",
       "      <td>0</td>\n",
       "      <td>0</td>\n",
       "    </tr>\n",
       "  </tbody>\n",
       "</table>\n",
       "</div>"
      ],
      "text/plain": [
       "   fecha_dato  ncodpers ind_empleado pais_residencia sexo  age  fecha_alta  \\\n",
       "0  2015-01-28   1375586            N              ES    H   35  2015-01-12   \n",
       "1  2015-01-28   1050611            N              ES    V   23  2012-08-10   \n",
       "2  2015-01-28   1050612            N              ES    V   23  2012-08-10   \n",
       "3  2015-01-28   1050613            N              ES    H   22  2012-08-10   \n",
       "4  2015-01-28   1050614            N              ES    V   23  2012-08-10   \n",
       "\n",
       "   ind_nuevo antiguedad  indrel ult_fec_cli_1t indrel_1mes tiprel_1mes  \\\n",
       "0          0          6       1            NaN           1           A   \n",
       "1          0         35       1            NaN           1           I   \n",
       "2          0         35       1            NaN           1           I   \n",
       "3          0         35       1            NaN           1           I   \n",
       "4          0         35       1            NaN           1           A   \n",
       "\n",
       "  indresi indext conyuemp canal_entrada indfall  tipodom  cod_prov  \\\n",
       "0       S      N      NaN           KHL       N        1        29   \n",
       "1       S      S      NaN           KHE       N        1        13   \n",
       "2       S      N      NaN           KHE       N        1        13   \n",
       "3       S      N      NaN           KHD       N        1        50   \n",
       "4       S      N      NaN           KHE       N        1        50   \n",
       "\n",
       "       nomprov  ind_actividad_cliente      renta            segmento  \\\n",
       "0       MALAGA                      1   87218.10   02 - PARTICULARES   \n",
       "1  CIUDAD REAL                      0   35548.74  03 - UNIVERSITARIO   \n",
       "2  CIUDAD REAL                      0  122179.11  03 - UNIVERSITARIO   \n",
       "3     ZARAGOZA                      0  119775.54  03 - UNIVERSITARIO   \n",
       "4     ZARAGOZA                      1        NaN  03 - UNIVERSITARIO   \n",
       "\n",
       "   ind_ahor_fin_ult1  ind_aval_fin_ult1  ind_cco_fin_ult1  ind_cder_fin_ult1  \\\n",
       "0                  0                  0                 1                  0   \n",
       "1                  0                  0                 1                  0   \n",
       "2                  0                  0                 1                  0   \n",
       "3                  0                  0                 0                  0   \n",
       "4                  0                  0                 1                  0   \n",
       "\n",
       "   ind_cno_fin_ult1  ind_ctju_fin_ult1  ind_ctma_fin_ult1  ind_ctop_fin_ult1  \\\n",
       "0                 0                  0                  0                  0   \n",
       "1                 0                  0                  0                  0   \n",
       "2                 0                  0                  0                  0   \n",
       "3                 0                  0                  0                  0   \n",
       "4                 0                  0                  0                  0   \n",
       "\n",
       "   ind_ctpp_fin_ult1  ind_deco_fin_ult1  ind_deme_fin_ult1  ind_dela_fin_ult1  \\\n",
       "0                  0                  0                  0                  0   \n",
       "1                  0                  0                  0                  0   \n",
       "2                  0                  0                  0                  0   \n",
       "3                  0                  1                  0                  0   \n",
       "4                  0                  0                  0                  0   \n",
       "\n",
       "   ind_ecue_fin_ult1  ind_fond_fin_ult1  ind_hip_fin_ult1  ind_plan_fin_ult1  \\\n",
       "0                  0                  0                 0                  0   \n",
       "1                  0                  0                 0                  0   \n",
       "2                  0                  0                 0                  0   \n",
       "3                  0                  0                 0                  0   \n",
       "4                  0                  0                 0                  0   \n",
       "\n",
       "   ind_pres_fin_ult1  ind_reca_fin_ult1  ind_tjcr_fin_ult1  ind_valo_fin_ult1  \\\n",
       "0                  0                  0                  0                  0   \n",
       "1                  0                  0                  0                  0   \n",
       "2                  0                  0                  0                  0   \n",
       "3                  0                  0                  0                  0   \n",
       "4                  0                  0                  0                  0   \n",
       "\n",
       "   ind_viv_fin_ult1  ind_nomina_ult1  ind_nom_pens_ult1  ind_recibo_ult1  \n",
       "0                 0                0                  0                0  \n",
       "1                 0                0                  0                0  \n",
       "2                 0                0                  0                0  \n",
       "3                 0                0                  0                0  \n",
       "4                 0                0                  0                0  "
      ]
     },
     "execution_count": 4,
     "metadata": {},
     "output_type": "execute_result"
    }
   ],
   "source": [
    "data.head()"
   ]
  },
  {
   "cell_type": "markdown",
   "metadata": {},
   "source": [
    "### Missing data"
   ]
  },
  {
   "cell_type": "code",
   "execution_count": 5,
   "metadata": {
    "collapsed": false
   },
   "outputs": [],
   "source": [
    "null_table = pd.DataFrame({'num_null': len(data) - data.count(), 'percentage(%)': 100 * (len(data) - data.count())/len(data)})"
   ]
  },
  {
   "cell_type": "code",
   "execution_count": 6,
   "metadata": {
    "collapsed": false
   },
   "outputs": [
    {
     "data": {
      "text/html": [
       "<div>\n",
       "<table border=\"1\" class=\"dataframe\">\n",
       "  <thead>\n",
       "    <tr style=\"text-align: right;\">\n",
       "      <th></th>\n",
       "      <th>num_null</th>\n",
       "      <th>percentage(%)</th>\n",
       "    </tr>\n",
       "  </thead>\n",
       "  <tbody>\n",
       "    <tr>\n",
       "      <th>ind_empleado</th>\n",
       "      <td>27734</td>\n",
       "      <td>0.203220</td>\n",
       "    </tr>\n",
       "    <tr>\n",
       "      <th>pais_residencia</th>\n",
       "      <td>27734</td>\n",
       "      <td>0.203220</td>\n",
       "    </tr>\n",
       "    <tr>\n",
       "      <th>sexo</th>\n",
       "      <td>27804</td>\n",
       "      <td>0.203732</td>\n",
       "    </tr>\n",
       "    <tr>\n",
       "      <th>fecha_alta</th>\n",
       "      <td>27734</td>\n",
       "      <td>0.203220</td>\n",
       "    </tr>\n",
       "    <tr>\n",
       "      <th>ind_nuevo</th>\n",
       "      <td>27734</td>\n",
       "      <td>0.203220</td>\n",
       "    </tr>\n",
       "    <tr>\n",
       "      <th>indrel</th>\n",
       "      <td>27734</td>\n",
       "      <td>0.203220</td>\n",
       "    </tr>\n",
       "    <tr>\n",
       "      <th>ult_fec_cli_1t</th>\n",
       "      <td>13622516</td>\n",
       "      <td>99.818330</td>\n",
       "    </tr>\n",
       "    <tr>\n",
       "      <th>indrel_1mes</th>\n",
       "      <td>149781</td>\n",
       "      <td>1.097513</td>\n",
       "    </tr>\n",
       "    <tr>\n",
       "      <th>tiprel_1mes</th>\n",
       "      <td>149781</td>\n",
       "      <td>1.097513</td>\n",
       "    </tr>\n",
       "    <tr>\n",
       "      <th>indresi</th>\n",
       "      <td>27734</td>\n",
       "      <td>0.203220</td>\n",
       "    </tr>\n",
       "    <tr>\n",
       "      <th>indext</th>\n",
       "      <td>27734</td>\n",
       "      <td>0.203220</td>\n",
       "    </tr>\n",
       "    <tr>\n",
       "      <th>conyuemp</th>\n",
       "      <td>13645501</td>\n",
       "      <td>99.986752</td>\n",
       "    </tr>\n",
       "    <tr>\n",
       "      <th>canal_entrada</th>\n",
       "      <td>186126</td>\n",
       "      <td>1.363829</td>\n",
       "    </tr>\n",
       "    <tr>\n",
       "      <th>indfall</th>\n",
       "      <td>27734</td>\n",
       "      <td>0.203220</td>\n",
       "    </tr>\n",
       "    <tr>\n",
       "      <th>tipodom</th>\n",
       "      <td>27735</td>\n",
       "      <td>0.203227</td>\n",
       "    </tr>\n",
       "    <tr>\n",
       "      <th>cod_prov</th>\n",
       "      <td>93591</td>\n",
       "      <td>0.685784</td>\n",
       "    </tr>\n",
       "    <tr>\n",
       "      <th>nomprov</th>\n",
       "      <td>93591</td>\n",
       "      <td>0.685784</td>\n",
       "    </tr>\n",
       "    <tr>\n",
       "      <th>ind_actividad_cliente</th>\n",
       "      <td>27734</td>\n",
       "      <td>0.203220</td>\n",
       "    </tr>\n",
       "    <tr>\n",
       "      <th>renta</th>\n",
       "      <td>2794375</td>\n",
       "      <td>20.475648</td>\n",
       "    </tr>\n",
       "    <tr>\n",
       "      <th>segmento</th>\n",
       "      <td>189368</td>\n",
       "      <td>1.387585</td>\n",
       "    </tr>\n",
       "    <tr>\n",
       "      <th>ind_nomina_ult1</th>\n",
       "      <td>16063</td>\n",
       "      <td>0.117701</td>\n",
       "    </tr>\n",
       "    <tr>\n",
       "      <th>ind_nom_pens_ult1</th>\n",
       "      <td>16063</td>\n",
       "      <td>0.117701</td>\n",
       "    </tr>\n",
       "  </tbody>\n",
       "</table>\n",
       "</div>"
      ],
      "text/plain": [
       "                       num_null  percentage(%)\n",
       "ind_empleado              27734       0.203220\n",
       "pais_residencia           27734       0.203220\n",
       "sexo                      27804       0.203732\n",
       "fecha_alta                27734       0.203220\n",
       "ind_nuevo                 27734       0.203220\n",
       "indrel                    27734       0.203220\n",
       "ult_fec_cli_1t         13622516      99.818330\n",
       "indrel_1mes              149781       1.097513\n",
       "tiprel_1mes              149781       1.097513\n",
       "indresi                   27734       0.203220\n",
       "indext                    27734       0.203220\n",
       "conyuemp               13645501      99.986752\n",
       "canal_entrada            186126       1.363829\n",
       "indfall                   27734       0.203220\n",
       "tipodom                   27735       0.203227\n",
       "cod_prov                  93591       0.685784\n",
       "nomprov                   93591       0.685784\n",
       "ind_actividad_cliente     27734       0.203220\n",
       "renta                   2794375      20.475648\n",
       "segmento                 189368       1.387585\n",
       "ind_nomina_ult1           16063       0.117701\n",
       "ind_nom_pens_ult1         16063       0.117701"
      ]
     },
     "execution_count": 6,
     "metadata": {},
     "output_type": "execute_result"
    }
   ],
   "source": [
    "null_table[null_table.num_null != 0]"
   ]
  },
  {
   "cell_type": "markdown",
   "metadata": {},
   "source": [
    "27734 is the most frequent number in this table, let's check if they point to the same group of people"
   ]
  },
  {
   "cell_type": "code",
   "execution_count": 7,
   "metadata": {
    "collapsed": false
   },
   "outputs": [],
   "source": [
    "interested_columns = null_table[null_table.num_null != 0].index.values.tolist()"
   ]
  },
  {
   "cell_type": "code",
   "execution_count": 8,
   "metadata": {
    "collapsed": false
   },
   "outputs": [
    {
     "data": {
      "text/plain": [
       "ind_empleado                 0\n",
       "pais_residencia              0\n",
       "sexo                         0\n",
       "fecha_alta                   0\n",
       "ind_nuevo                    0\n",
       "indrel                       0\n",
       "ult_fec_cli_1t               0\n",
       "indrel_1mes                  0\n",
       "tiprel_1mes                  0\n",
       "indresi                      0\n",
       "indext                       0\n",
       "conyuemp                     0\n",
       "canal_entrada                0\n",
       "indfall                      0\n",
       "tipodom                      0\n",
       "cod_prov                     0\n",
       "nomprov                      0\n",
       "ind_actividad_cliente        0\n",
       "renta                        0\n",
       "segmento                     0\n",
       "ind_nomina_ult1          11888\n",
       "ind_nom_pens_ult1        11888\n",
       "dtype: int64"
      ]
     },
     "execution_count": 8,
     "metadata": {},
     "output_type": "execute_result"
    }
   ],
   "source": [
    "data.loc[data.ind_empleado.isnull(), interested_columns].count()"
   ]
  },
  {
   "cell_type": "markdown",
   "metadata": {},
   "source": [
    "We select rows with missing data in column ind_empleado, then we count the numebr of not null values in other columns, it turns out that except for labels ind_nomina_utl1 and ind_nom_pens_utl1, all the other columns' counts are 0, this indicates that these 27734 rows with missing ind_empleado only have null value in other columns.<br>\n",
    "\n",
    "Given this fact and 27734 only counts for about 0.2% of data, it's safe to drop these rows."
   ]
  },
  {
   "cell_type": "code",
   "execution_count": 9,
   "metadata": {
    "collapsed": true
   },
   "outputs": [],
   "source": [
    "data = data[pd.notnull(data.ind_empleado)]"
   ]
  },
  {
   "cell_type": "code",
   "execution_count": 10,
   "metadata": {
    "collapsed": true
   },
   "outputs": [],
   "source": [
    "null_table = pd.DataFrame({'num_null': len(data) - data.count(), 'percentage(%)': 100 * (len(data) - data.count())/len(data)})"
   ]
  },
  {
   "cell_type": "code",
   "execution_count": 11,
   "metadata": {
    "collapsed": false
   },
   "outputs": [
    {
     "data": {
      "text/html": [
       "<div>\n",
       "<table border=\"1\" class=\"dataframe\">\n",
       "  <thead>\n",
       "    <tr style=\"text-align: right;\">\n",
       "      <th></th>\n",
       "      <th>num_null</th>\n",
       "      <th>percentage(%)</th>\n",
       "    </tr>\n",
       "  </thead>\n",
       "  <tbody>\n",
       "    <tr>\n",
       "      <th>sexo</th>\n",
       "      <td>70</td>\n",
       "      <td>0.000514</td>\n",
       "    </tr>\n",
       "    <tr>\n",
       "      <th>ult_fec_cli_1t</th>\n",
       "      <td>13594782</td>\n",
       "      <td>99.817961</td>\n",
       "    </tr>\n",
       "    <tr>\n",
       "      <th>indrel_1mes</th>\n",
       "      <td>122047</td>\n",
       "      <td>0.896115</td>\n",
       "    </tr>\n",
       "    <tr>\n",
       "      <th>tiprel_1mes</th>\n",
       "      <td>122047</td>\n",
       "      <td>0.896115</td>\n",
       "    </tr>\n",
       "    <tr>\n",
       "      <th>conyuemp</th>\n",
       "      <td>13617767</td>\n",
       "      <td>99.986725</td>\n",
       "    </tr>\n",
       "    <tr>\n",
       "      <th>canal_entrada</th>\n",
       "      <td>158392</td>\n",
       "      <td>1.162973</td>\n",
       "    </tr>\n",
       "    <tr>\n",
       "      <th>tipodom</th>\n",
       "      <td>1</td>\n",
       "      <td>0.000007</td>\n",
       "    </tr>\n",
       "    <tr>\n",
       "      <th>cod_prov</th>\n",
       "      <td>65857</td>\n",
       "      <td>0.483547</td>\n",
       "    </tr>\n",
       "    <tr>\n",
       "      <th>nomprov</th>\n",
       "      <td>65857</td>\n",
       "      <td>0.483547</td>\n",
       "    </tr>\n",
       "    <tr>\n",
       "      <th>renta</th>\n",
       "      <td>2766641</td>\n",
       "      <td>20.313710</td>\n",
       "    </tr>\n",
       "    <tr>\n",
       "      <th>segmento</th>\n",
       "      <td>161634</td>\n",
       "      <td>1.186777</td>\n",
       "    </tr>\n",
       "    <tr>\n",
       "      <th>ind_nomina_ult1</th>\n",
       "      <td>217</td>\n",
       "      <td>0.001593</td>\n",
       "    </tr>\n",
       "    <tr>\n",
       "      <th>ind_nom_pens_ult1</th>\n",
       "      <td>217</td>\n",
       "      <td>0.001593</td>\n",
       "    </tr>\n",
       "  </tbody>\n",
       "</table>\n",
       "</div>"
      ],
      "text/plain": [
       "                   num_null  percentage(%)\n",
       "sexo                     70       0.000514\n",
       "ult_fec_cli_1t     13594782      99.817961\n",
       "indrel_1mes          122047       0.896115\n",
       "tiprel_1mes          122047       0.896115\n",
       "conyuemp           13617767      99.986725\n",
       "canal_entrada        158392       1.162973\n",
       "tipodom                   1       0.000007\n",
       "cod_prov              65857       0.483547\n",
       "nomprov               65857       0.483547\n",
       "renta               2766641      20.313710\n",
       "segmento             161634       1.186777\n",
       "ind_nomina_ult1         217       0.001593\n",
       "ind_nom_pens_ult1       217       0.001593"
      ]
     },
     "execution_count": 11,
     "metadata": {},
     "output_type": "execute_result"
    }
   ],
   "source": [
    "null_table[null_table.num_null != 0]"
   ]
  },
  {
   "cell_type": "markdown",
   "metadata": {},
   "source": [
    "First of all, for features with less than 1% missing data, our strategy is to drop the corresponding rows."
   ]
  },
  {
   "cell_type": "code",
   "execution_count": 12,
   "metadata": {
    "collapsed": false
   },
   "outputs": [],
   "source": [
    "columns_to_drop = null_table[(null_table.num_null != 0) & (null_table['percentage(%)'] < 1)].index.values.tolist()"
   ]
  },
  {
   "cell_type": "code",
   "execution_count": 13,
   "metadata": {
    "collapsed": false
   },
   "outputs": [],
   "source": [
    "# Remove labels\n",
    "columns_to_drop.remove('ind_nomina_ult1')\n",
    "columns_to_drop.remove('ind_nom_pens_ult1')"
   ]
  },
  {
   "cell_type": "code",
   "execution_count": 14,
   "metadata": {
    "collapsed": false
   },
   "outputs": [
    {
     "data": {
      "text/plain": [
       "['sexo', 'indrel_1mes', 'tiprel_1mes', 'tipodom', 'cod_prov', 'nomprov']"
      ]
     },
     "execution_count": 14,
     "metadata": {},
     "output_type": "execute_result"
    }
   ],
   "source": [
    "columns_to_drop"
   ]
  },
  {
   "cell_type": "code",
   "execution_count": 15,
   "metadata": {
    "collapsed": true
   },
   "outputs": [],
   "source": [
    "columns_to_drop_set = set()"
   ]
  },
  {
   "cell_type": "code",
   "execution_count": 16,
   "metadata": {
    "collapsed": false
   },
   "outputs": [],
   "source": [
    "for col in columns_to_drop:\n",
    "    columns_to_drop_set.update(data[data[col].isnull()].index.values)"
   ]
  },
  {
   "cell_type": "code",
   "execution_count": 17,
   "metadata": {
    "collapsed": false
   },
   "outputs": [],
   "source": [
    "data = data.drop(list(columns_to_drop_set))"
   ]
  },
  {
   "cell_type": "markdown",
   "metadata": {},
   "source": [
    "We focus on features which have more than 1% missing data.<br>\n",
    "\n",
    "The first one is ult_fec_cli_1t<br>\n",
    "\n",
    "##### ult_fec_cli_1t: Last date as primary customer (if he isn't at the end of the month)\n",
    "According to the definition, we can know it will only be set if the customer is the Primary customer during the month but not at the end of the month. 99.9% missing vlaues mean only very small amount of people canceled their primary account at that month.<br>\n",
    "\n",
    "After looking into the field description deeply, ult_fec_cli_1t has a strong correlation to indrel.<br>\n",
    "\n",
    "##### \tindrel: 1 (First/Primary), 99 (Primary customer during the month but not at the end of the month)\n",
    "If indrel is 1, ult_fec_cli_1t should be NaN value because she/he is always Primary customer, no last date as Primary customer should be set. However, if indrel is 99, then we should know when is the last date. "
   ]
  },
  {
   "cell_type": "code",
   "execution_count": 18,
   "metadata": {
    "collapsed": true
   },
   "outputs": [],
   "source": [
    "canceled_customers = data[pd.notnull(data.ult_fec_cli_1t)]"
   ]
  },
  {
   "cell_type": "code",
   "execution_count": 19,
   "metadata": {
    "collapsed": false
   },
   "outputs": [
    {
     "data": {
      "text/plain": [
       "array([ 99.])"
      ]
     },
     "execution_count": 19,
     "metadata": {},
     "output_type": "execute_result"
    }
   ],
   "source": [
    "canceled_customers.indrel.unique()"
   ]
  },
  {
   "cell_type": "code",
   "execution_count": 20,
   "metadata": {
    "collapsed": false
   },
   "outputs": [
    {
     "data": {
      "text/plain": [
       "array([ 1.])"
      ]
     },
     "execution_count": 20,
     "metadata": {},
     "output_type": "execute_result"
    }
   ],
   "source": [
    "data.loc[data.ult_fec_cli_1t.isnull(), 'indrel'].unique()"
   ]
  },
  {
   "cell_type": "markdown",
   "metadata": {},
   "source": [
    "Indeed, it proves our assumption about indrel and ult_fec_cli_1t. Given this information and nearly 100% of rows don't have ult_fec_cli_1t, it's safe to drop this column."
   ]
  },
  {
   "cell_type": "code",
   "execution_count": 21,
   "metadata": {
    "collapsed": true
   },
   "outputs": [],
   "source": [
    "del data['ult_fec_cli_1t']"
   ]
  },
  {
   "cell_type": "markdown",
   "metadata": {},
   "source": [
    "##### conyuemp: Spouse index. 1 if the customer is spouse of an employee\n",
    "\n",
    "99.9% rows don't have this field set which means this column is probably not very informative. We can either drop this column or fill with the most frequent value"
   ]
  },
  {
   "cell_type": "code",
   "execution_count": 22,
   "metadata": {
    "collapsed": false
   },
   "outputs": [
    {
     "data": {
      "text/plain": [
       "N    1789\n",
       "S      17\n",
       "Name: conyuemp, dtype: int64"
      ]
     },
     "execution_count": 22,
     "metadata": {},
     "output_type": "execute_result"
    }
   ],
   "source": [
    "data.conyuemp.value_counts()"
   ]
  },
  {
   "cell_type": "code",
   "execution_count": 23,
   "metadata": {
    "collapsed": false
   },
   "outputs": [],
   "source": [
    "# We assume most of customers don't have spouse working at Santander Bank\n",
    "data['conyuemp'].fillna('N', inplace=True)"
   ]
  },
  {
   "cell_type": "markdown",
   "metadata": {},
   "source": [
    "##### canal_entrada: channel used by the customer to join"
   ]
  },
  {
   "cell_type": "code",
   "execution_count": 24,
   "metadata": {
    "collapsed": false
   },
   "outputs": [
    {
     "data": {
      "text/plain": [
       "KHE    4050971\n",
       "KAT    3242351\n",
       "KFC    3089476\n",
       "KHQ     591036\n",
       "KFA     399299\n",
       "Name: canal_entrada, dtype: int64"
      ]
     },
     "execution_count": 24,
     "metadata": {},
     "output_type": "execute_result"
    }
   ],
   "source": [
    "data.canal_entrada.value_counts().head()"
   ]
  },
  {
   "cell_type": "markdown",
   "metadata": {},
   "source": [
    "Here we will use the most frequent values to fillna."
   ]
  },
  {
   "cell_type": "code",
   "execution_count": 25,
   "metadata": {
    "collapsed": true
   },
   "outputs": [],
   "source": [
    "data.canal_entrada.fillna('KHE', inplace=True)"
   ]
  },
  {
   "cell_type": "markdown",
   "metadata": {},
   "source": [
    "##### renta: Gross income of the household\n",
    "\n",
    "This is an very informative feature as it usually determines what financial products you can buy. We first group data by columns nomprov and sexo, then we compute the mean of income."
   ]
  },
  {
   "cell_type": "code",
   "execution_count": 26,
   "metadata": {
    "collapsed": true
   },
   "outputs": [],
   "source": [
    "income_data = data[pd.notnull(data.renta)]"
   ]
  },
  {
   "cell_type": "code",
   "execution_count": 27,
   "metadata": {
    "collapsed": false
   },
   "outputs": [
    {
     "data": {
      "text/plain": [
       "nomprov                 sexo\n",
       "ALAVA                   H       111536.070000\n",
       "                        V       110938.903636\n",
       "ALBACETE                H        82014.508058\n",
       "                        V        84110.780197\n",
       "ALICANTE                H        83994.795825\n",
       "                        V        89876.912760\n",
       "ALMERIA                 H        86140.187147\n",
       "                        V        84946.329801\n",
       "ASTURIAS                H        99542.859587\n",
       "                        V       103011.454191\n",
       "AVILA                   H        73946.622347\n",
       "                        V        79460.534194\n",
       "BADAJOZ                 H        69934.437157\n",
       "                        V        74500.307290\n",
       "BALEARS, ILLES          H       182959.747946\n",
       "                        V       164769.099130\n",
       "BARCELONA               H       162857.264627\n",
       "                        V       166077.527855\n",
       "BIZKAIA                 H        92530.287049\n",
       "                        V       122492.361000\n",
       "BURGOS                  H        95468.426213\n",
       "                        V       100221.392989\n",
       "CACERES                 H        71891.532679\n",
       "                        V        79171.485865\n",
       "CADIZ                   H        97030.440069\n",
       "                        V       100190.986626\n",
       "CANTABRIA               H       119056.240890\n",
       "                        V       122938.726657\n",
       "CASTELLON               H        76682.910262\n",
       "                        V        81312.287568\n",
       "                                    ...      \n",
       "PALMAS, LAS             H        96620.422466\n",
       "                        V       103291.942919\n",
       "PONTEVEDRA              H       112178.938206\n",
       "                        V       114825.352625\n",
       "RIOJA, LA               H        98088.482518\n",
       "                        V       101174.556099\n",
       "SALAMANCA               H       108129.390399\n",
       "                        V       103483.319202\n",
       "SANTA CRUZ DE TENERIFE  H        98394.543197\n",
       "                        V       105217.543579\n",
       "SEGOVIA                 H        97503.605283\n",
       "                        V        99284.591735\n",
       "SEVILLA                 H       117093.559044\n",
       "                        V       117730.493811\n",
       "SORIA                   H        89367.063010\n",
       "                        V        87079.085778\n",
       "TARRAGONA               H       104564.975973\n",
       "                        V       104547.762846\n",
       "TERUEL                  H        85588.615908\n",
       "                        V        89539.636230\n",
       "TOLEDO                  H        77191.912596\n",
       "                        V        83781.017349\n",
       "VALENCIA                H        90159.402817\n",
       "                        V        89597.993460\n",
       "VALLADOLID              H        99534.543289\n",
       "                        V       103558.978391\n",
       "ZAMORA                  H        80584.720270\n",
       "                        V        86202.608157\n",
       "ZARAGOZA                H       110488.865798\n",
       "                        V       110697.748752\n",
       "Name: renta, dtype: float64"
      ]
     },
     "execution_count": 27,
     "metadata": {},
     "output_type": "execute_result"
    }
   ],
   "source": [
    "income_data.groupby(['nomprov', 'sexo'])['renta'].mean()"
   ]
  },
  {
   "cell_type": "code",
   "execution_count": 28,
   "metadata": {
    "collapsed": true
   },
   "outputs": [],
   "source": [
    "renta_data = income_data.groupby(['nomprov', 'sexo'])['renta'].mean().reset_index()"
   ]
  },
  {
   "cell_type": "code",
   "execution_count": 29,
   "metadata": {
    "collapsed": false
   },
   "outputs": [
    {
     "data": {
      "text/html": [
       "<div>\n",
       "<table border=\"1\" class=\"dataframe\">\n",
       "  <thead>\n",
       "    <tr style=\"text-align: right;\">\n",
       "      <th></th>\n",
       "      <th>nomprov</th>\n",
       "      <th>sexo</th>\n",
       "      <th>renta</th>\n",
       "    </tr>\n",
       "  </thead>\n",
       "  <tbody>\n",
       "    <tr>\n",
       "      <th>0</th>\n",
       "      <td>ALAVA</td>\n",
       "      <td>H</td>\n",
       "      <td>111536.070000</td>\n",
       "    </tr>\n",
       "    <tr>\n",
       "      <th>1</th>\n",
       "      <td>ALAVA</td>\n",
       "      <td>V</td>\n",
       "      <td>110938.903636</td>\n",
       "    </tr>\n",
       "    <tr>\n",
       "      <th>2</th>\n",
       "      <td>ALBACETE</td>\n",
       "      <td>H</td>\n",
       "      <td>82014.508058</td>\n",
       "    </tr>\n",
       "    <tr>\n",
       "      <th>3</th>\n",
       "      <td>ALBACETE</td>\n",
       "      <td>V</td>\n",
       "      <td>84110.780197</td>\n",
       "    </tr>\n",
       "    <tr>\n",
       "      <th>4</th>\n",
       "      <td>ALICANTE</td>\n",
       "      <td>H</td>\n",
       "      <td>83994.795825</td>\n",
       "    </tr>\n",
       "  </tbody>\n",
       "</table>\n",
       "</div>"
      ],
      "text/plain": [
       "    nomprov sexo          renta\n",
       "0     ALAVA    H  111536.070000\n",
       "1     ALAVA    V  110938.903636\n",
       "2  ALBACETE    H   82014.508058\n",
       "3  ALBACETE    V   84110.780197\n",
       "4  ALICANTE    H   83994.795825"
      ]
     },
     "execution_count": 29,
     "metadata": {},
     "output_type": "execute_result"
    }
   ],
   "source": [
    "renta_data.head()"
   ]
  },
  {
   "cell_type": "code",
   "execution_count": 30,
   "metadata": {
    "collapsed": false
   },
   "outputs": [],
   "source": [
    "data = pd.merge(data, renta_data, how='left', on=['nomprov', 'sexo'])"
   ]
  },
  {
   "cell_type": "markdown",
   "metadata": {},
   "source": [
    "Here we fill missing data with the mean income from the people in the same Province and have the same sex.<br>\n",
    "##### TODO: Take age into consideration"
   ]
  },
  {
   "cell_type": "code",
   "execution_count": 31,
   "metadata": {
    "collapsed": true
   },
   "outputs": [],
   "source": [
    "data.renta_x.fillna(data.renta_y, inplace=True)"
   ]
  },
  {
   "cell_type": "code",
   "execution_count": 32,
   "metadata": {
    "collapsed": false,
    "scrolled": false
   },
   "outputs": [],
   "source": [
    "del data['renta_y']\n",
    "data.rename(columns={'renta_x': 'renta'}, inplace=True)"
   ]
  },
  {
   "cell_type": "markdown",
   "metadata": {
    "collapsed": true
   },
   "source": [
    "##### segmento: segmentation: 01 - VIP, 02 - Individuals 03 - college graduated\n",
    "\n",
    "Here we naively replace NaN value with the most frequent values\n",
    "\n",
    "##### TODO: we can impove the strategy by checking customer's age, if he/she is a young customer, it's likely that it should be categorized as 03 - college graduated"
   ]
  },
  {
   "cell_type": "code",
   "execution_count": 34,
   "metadata": {
    "collapsed": false
   },
   "outputs": [
    {
     "data": {
      "text/plain": [
       "02 - PARTICULARES     7902964\n",
       "03 - UNIVERSITARIO    4930818\n",
       "01 - TOP               558401\n",
       "Name: segmento, dtype: int64"
      ]
     },
     "execution_count": 34,
     "metadata": {},
     "output_type": "execute_result"
    }
   ],
   "source": [
    "data.segmento.value_counts()"
   ]
  },
  {
   "cell_type": "code",
   "execution_count": 35,
   "metadata": {
    "collapsed": true
   },
   "outputs": [],
   "source": [
    "data.segmento.fillna('02 - PARTICULARES', inplace=True)"
   ]
  },
  {
   "cell_type": "markdown",
   "metadata": {},
   "source": [
    "For the missing labels ind_nomina_ult1 and ind_nom_pens_ult1, we assume they are all 0"
   ]
  },
  {
   "cell_type": "code",
   "execution_count": 37,
   "metadata": {
    "collapsed": true
   },
   "outputs": [],
   "source": [
    "data.ind_nomina_ult1.fillna(0, inplace=True)\n",
    "data.ind_nom_pens_ult1.fillna(0, inplace=True)"
   ]
  },
  {
   "cell_type": "code",
   "execution_count": 38,
   "metadata": {
    "collapsed": false
   },
   "outputs": [
    {
     "data": {
      "text/plain": [
       "fecha_dato               0\n",
       "ncodpers                 0\n",
       "ind_empleado             0\n",
       "pais_residencia          0\n",
       "sexo                     0\n",
       "age                      0\n",
       "fecha_alta               0\n",
       "ind_nuevo                0\n",
       "antiguedad               0\n",
       "indrel                   0\n",
       "indrel_1mes              0\n",
       "tiprel_1mes              0\n",
       "indresi                  0\n",
       "indext                   0\n",
       "conyuemp                 0\n",
       "canal_entrada            0\n",
       "indfall                  0\n",
       "tipodom                  0\n",
       "cod_prov                 0\n",
       "nomprov                  0\n",
       "ind_actividad_cliente    0\n",
       "renta                    0\n",
       "segmento                 0\n",
       "ind_ahor_fin_ult1        0\n",
       "ind_aval_fin_ult1        0\n",
       "ind_cco_fin_ult1         0\n",
       "ind_cder_fin_ult1        0\n",
       "ind_cno_fin_ult1         0\n",
       "ind_ctju_fin_ult1        0\n",
       "ind_ctma_fin_ult1        0\n",
       "ind_ctop_fin_ult1        0\n",
       "ind_ctpp_fin_ult1        0\n",
       "ind_deco_fin_ult1        0\n",
       "ind_deme_fin_ult1        0\n",
       "ind_dela_fin_ult1        0\n",
       "ind_ecue_fin_ult1        0\n",
       "ind_fond_fin_ult1        0\n",
       "ind_hip_fin_ult1         0\n",
       "ind_plan_fin_ult1        0\n",
       "ind_pres_fin_ult1        0\n",
       "ind_reca_fin_ult1        0\n",
       "ind_tjcr_fin_ult1        0\n",
       "ind_valo_fin_ult1        0\n",
       "ind_viv_fin_ult1         0\n",
       "ind_nomina_ult1          0\n",
       "ind_nom_pens_ult1        0\n",
       "ind_recibo_ult1          0\n",
       "dtype: int64"
      ]
     },
     "execution_count": 38,
     "metadata": {},
     "output_type": "execute_result"
    }
   ],
   "source": [
    "len(data) - data.count()"
   ]
  },
  {
   "cell_type": "markdown",
   "metadata": {},
   "source": [
    "#### Done!"
   ]
  },
  {
   "cell_type": "code",
   "execution_count": null,
   "metadata": {
    "collapsed": true
   },
   "outputs": [],
   "source": []
  }
 ],
 "metadata": {
  "kernelspec": {
   "display_name": "Python 3",
   "language": "python",
   "name": "python3"
  },
  "language_info": {
   "codemirror_mode": {
    "name": "ipython",
    "version": 3
   },
   "file_extension": ".py",
   "mimetype": "text/x-python",
   "name": "python",
   "nbconvert_exporter": "python",
   "pygments_lexer": "ipython3",
   "version": "3.5.1"
  }
 },
 "nbformat": 4,
 "nbformat_minor": 0
}
