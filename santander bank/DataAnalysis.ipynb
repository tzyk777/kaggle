{
 "cells": [
  {
   "cell_type": "code",
   "execution_count": 1,
   "metadata": {
    "collapsed": false
   },
   "outputs": [
    {
     "name": "stdout",
     "output_type": "stream",
     "text": [
      "Populating the interactive namespace from numpy and matplotlib\n"
     ]
    }
   ],
   "source": [
    "import pandas as pd\n",
    "import datetime as dt\n",
    "import numpy as np\n",
    "from sklearn.preprocessing import Imputer\n",
    "import matplotlib.pyplot as plt\n",
    "%pylab inline\n",
    "\n",
    "pd.options.display.max_columns = 50"
   ]
  },
  {
   "cell_type": "code",
   "execution_count": 2,
   "metadata": {
    "collapsed": false,
    "scrolled": false
   },
   "outputs": [
    {
     "name": "stderr",
     "output_type": "stream",
     "text": [
      "D:\\Users\\zeyang\\Miniconda3\\lib\\site-packages\\IPython\\core\\interactiveshell.py:2723: DtypeWarning: Columns (5,8,11,15) have mixed types. Specify dtype option on import or set low_memory=False.\n",
      "  interactivity=interactivity, compiler=compiler, result=result)\n"
     ]
    }
   ],
   "source": [
    "data = pd.read_csv('train_ver2.csv')"
   ]
  },
  {
   "cell_type": "code",
   "execution_count": 3,
   "metadata": {
    "collapsed": false
   },
   "outputs": [
    {
     "data": {
      "text/html": [
       "<div>\n",
       "<table border=\"1\" class=\"dataframe\">\n",
       "  <thead>\n",
       "    <tr style=\"text-align: right;\">\n",
       "      <th></th>\n",
       "      <th>fecha_dato</th>\n",
       "      <th>ncodpers</th>\n",
       "      <th>ind_empleado</th>\n",
       "      <th>pais_residencia</th>\n",
       "      <th>sexo</th>\n",
       "      <th>age</th>\n",
       "      <th>fecha_alta</th>\n",
       "      <th>ind_nuevo</th>\n",
       "      <th>antiguedad</th>\n",
       "      <th>indrel</th>\n",
       "      <th>ult_fec_cli_1t</th>\n",
       "      <th>indrel_1mes</th>\n",
       "      <th>tiprel_1mes</th>\n",
       "      <th>indresi</th>\n",
       "      <th>indext</th>\n",
       "      <th>conyuemp</th>\n",
       "      <th>canal_entrada</th>\n",
       "      <th>indfall</th>\n",
       "      <th>tipodom</th>\n",
       "      <th>cod_prov</th>\n",
       "      <th>nomprov</th>\n",
       "      <th>ind_actividad_cliente</th>\n",
       "      <th>renta</th>\n",
       "      <th>segmento</th>\n",
       "      <th>ind_ahor_fin_ult1</th>\n",
       "      <th>ind_aval_fin_ult1</th>\n",
       "      <th>ind_cco_fin_ult1</th>\n",
       "      <th>ind_cder_fin_ult1</th>\n",
       "      <th>ind_cno_fin_ult1</th>\n",
       "      <th>ind_ctju_fin_ult1</th>\n",
       "      <th>ind_ctma_fin_ult1</th>\n",
       "      <th>ind_ctop_fin_ult1</th>\n",
       "      <th>ind_ctpp_fin_ult1</th>\n",
       "      <th>ind_deco_fin_ult1</th>\n",
       "      <th>ind_deme_fin_ult1</th>\n",
       "      <th>ind_dela_fin_ult1</th>\n",
       "      <th>ind_ecue_fin_ult1</th>\n",
       "      <th>ind_fond_fin_ult1</th>\n",
       "      <th>ind_hip_fin_ult1</th>\n",
       "      <th>ind_plan_fin_ult1</th>\n",
       "      <th>ind_pres_fin_ult1</th>\n",
       "      <th>ind_reca_fin_ult1</th>\n",
       "      <th>ind_tjcr_fin_ult1</th>\n",
       "      <th>ind_valo_fin_ult1</th>\n",
       "      <th>ind_viv_fin_ult1</th>\n",
       "      <th>ind_nomina_ult1</th>\n",
       "      <th>ind_nom_pens_ult1</th>\n",
       "      <th>ind_recibo_ult1</th>\n",
       "    </tr>\n",
       "  </thead>\n",
       "  <tbody>\n",
       "    <tr>\n",
       "      <th>0</th>\n",
       "      <td>2015-01-28</td>\n",
       "      <td>1375586</td>\n",
       "      <td>N</td>\n",
       "      <td>ES</td>\n",
       "      <td>H</td>\n",
       "      <td>35</td>\n",
       "      <td>2015-01-12</td>\n",
       "      <td>0</td>\n",
       "      <td>6</td>\n",
       "      <td>1</td>\n",
       "      <td>NaN</td>\n",
       "      <td>1</td>\n",
       "      <td>A</td>\n",
       "      <td>S</td>\n",
       "      <td>N</td>\n",
       "      <td>NaN</td>\n",
       "      <td>KHL</td>\n",
       "      <td>N</td>\n",
       "      <td>1</td>\n",
       "      <td>29</td>\n",
       "      <td>MALAGA</td>\n",
       "      <td>1</td>\n",
       "      <td>87218.10</td>\n",
       "      <td>02 - PARTICULARES</td>\n",
       "      <td>0</td>\n",
       "      <td>0</td>\n",
       "      <td>1</td>\n",
       "      <td>0</td>\n",
       "      <td>0</td>\n",
       "      <td>0</td>\n",
       "      <td>0</td>\n",
       "      <td>0</td>\n",
       "      <td>0</td>\n",
       "      <td>0</td>\n",
       "      <td>0</td>\n",
       "      <td>0</td>\n",
       "      <td>0</td>\n",
       "      <td>0</td>\n",
       "      <td>0</td>\n",
       "      <td>0</td>\n",
       "      <td>0</td>\n",
       "      <td>0</td>\n",
       "      <td>0</td>\n",
       "      <td>0</td>\n",
       "      <td>0</td>\n",
       "      <td>0</td>\n",
       "      <td>0</td>\n",
       "      <td>0</td>\n",
       "    </tr>\n",
       "    <tr>\n",
       "      <th>1</th>\n",
       "      <td>2015-01-28</td>\n",
       "      <td>1050611</td>\n",
       "      <td>N</td>\n",
       "      <td>ES</td>\n",
       "      <td>V</td>\n",
       "      <td>23</td>\n",
       "      <td>2012-08-10</td>\n",
       "      <td>0</td>\n",
       "      <td>35</td>\n",
       "      <td>1</td>\n",
       "      <td>NaN</td>\n",
       "      <td>1</td>\n",
       "      <td>I</td>\n",
       "      <td>S</td>\n",
       "      <td>S</td>\n",
       "      <td>NaN</td>\n",
       "      <td>KHE</td>\n",
       "      <td>N</td>\n",
       "      <td>1</td>\n",
       "      <td>13</td>\n",
       "      <td>CIUDAD REAL</td>\n",
       "      <td>0</td>\n",
       "      <td>35548.74</td>\n",
       "      <td>03 - UNIVERSITARIO</td>\n",
       "      <td>0</td>\n",
       "      <td>0</td>\n",
       "      <td>1</td>\n",
       "      <td>0</td>\n",
       "      <td>0</td>\n",
       "      <td>0</td>\n",
       "      <td>0</td>\n",
       "      <td>0</td>\n",
       "      <td>0</td>\n",
       "      <td>0</td>\n",
       "      <td>0</td>\n",
       "      <td>0</td>\n",
       "      <td>0</td>\n",
       "      <td>0</td>\n",
       "      <td>0</td>\n",
       "      <td>0</td>\n",
       "      <td>0</td>\n",
       "      <td>0</td>\n",
       "      <td>0</td>\n",
       "      <td>0</td>\n",
       "      <td>0</td>\n",
       "      <td>0</td>\n",
       "      <td>0</td>\n",
       "      <td>0</td>\n",
       "    </tr>\n",
       "  </tbody>\n",
       "</table>\n",
       "</div>"
      ],
      "text/plain": [
       "   fecha_dato  ncodpers ind_empleado pais_residencia sexo  age  fecha_alta  \\\n",
       "0  2015-01-28   1375586            N              ES    H   35  2015-01-12   \n",
       "1  2015-01-28   1050611            N              ES    V   23  2012-08-10   \n",
       "\n",
       "   ind_nuevo antiguedad  indrel ult_fec_cli_1t indrel_1mes tiprel_1mes  \\\n",
       "0          0          6       1            NaN           1           A   \n",
       "1          0         35       1            NaN           1           I   \n",
       "\n",
       "  indresi indext conyuemp canal_entrada indfall  tipodom  cod_prov  \\\n",
       "0       S      N      NaN           KHL       N        1        29   \n",
       "1       S      S      NaN           KHE       N        1        13   \n",
       "\n",
       "       nomprov  ind_actividad_cliente     renta            segmento  \\\n",
       "0       MALAGA                      1  87218.10   02 - PARTICULARES   \n",
       "1  CIUDAD REAL                      0  35548.74  03 - UNIVERSITARIO   \n",
       "\n",
       "   ind_ahor_fin_ult1  ind_aval_fin_ult1  ind_cco_fin_ult1  ind_cder_fin_ult1  \\\n",
       "0                  0                  0                 1                  0   \n",
       "1                  0                  0                 1                  0   \n",
       "\n",
       "   ind_cno_fin_ult1  ind_ctju_fin_ult1  ind_ctma_fin_ult1  ind_ctop_fin_ult1  \\\n",
       "0                 0                  0                  0                  0   \n",
       "1                 0                  0                  0                  0   \n",
       "\n",
       "   ind_ctpp_fin_ult1  ind_deco_fin_ult1  ind_deme_fin_ult1  ind_dela_fin_ult1  \\\n",
       "0                  0                  0                  0                  0   \n",
       "1                  0                  0                  0                  0   \n",
       "\n",
       "   ind_ecue_fin_ult1  ind_fond_fin_ult1  ind_hip_fin_ult1  ind_plan_fin_ult1  \\\n",
       "0                  0                  0                 0                  0   \n",
       "1                  0                  0                 0                  0   \n",
       "\n",
       "   ind_pres_fin_ult1  ind_reca_fin_ult1  ind_tjcr_fin_ult1  ind_valo_fin_ult1  \\\n",
       "0                  0                  0                  0                  0   \n",
       "1                  0                  0                  0                  0   \n",
       "\n",
       "   ind_viv_fin_ult1  ind_nomina_ult1  ind_nom_pens_ult1  ind_recibo_ult1  \n",
       "0                 0                0                  0                0  \n",
       "1                 0                0                  0                0  "
      ]
     },
     "execution_count": 3,
     "metadata": {},
     "output_type": "execute_result"
    }
   ],
   "source": [
    "data.head(2)"
   ]
  },
  {
   "cell_type": "markdown",
   "metadata": {},
   "source": [
    "### Missing data"
   ]
  },
  {
   "cell_type": "code",
   "execution_count": 4,
   "metadata": {
    "collapsed": false
   },
   "outputs": [],
   "source": [
    "null_table = pd.DataFrame({'num_null': len(data) - data.count(), 'percentage(%)': 100 * (len(data) - data.count())/len(data)})"
   ]
  },
  {
   "cell_type": "code",
   "execution_count": 5,
   "metadata": {
    "collapsed": false
   },
   "outputs": [
    {
     "data": {
      "text/html": [
       "<div>\n",
       "<table border=\"1\" class=\"dataframe\">\n",
       "  <thead>\n",
       "    <tr style=\"text-align: right;\">\n",
       "      <th></th>\n",
       "      <th>num_null</th>\n",
       "      <th>percentage(%)</th>\n",
       "    </tr>\n",
       "  </thead>\n",
       "  <tbody>\n",
       "    <tr>\n",
       "      <th>ind_empleado</th>\n",
       "      <td>27734</td>\n",
       "      <td>0.203220</td>\n",
       "    </tr>\n",
       "    <tr>\n",
       "      <th>pais_residencia</th>\n",
       "      <td>27734</td>\n",
       "      <td>0.203220</td>\n",
       "    </tr>\n",
       "    <tr>\n",
       "      <th>sexo</th>\n",
       "      <td>27804</td>\n",
       "      <td>0.203732</td>\n",
       "    </tr>\n",
       "    <tr>\n",
       "      <th>fecha_alta</th>\n",
       "      <td>27734</td>\n",
       "      <td>0.203220</td>\n",
       "    </tr>\n",
       "    <tr>\n",
       "      <th>ind_nuevo</th>\n",
       "      <td>27734</td>\n",
       "      <td>0.203220</td>\n",
       "    </tr>\n",
       "    <tr>\n",
       "      <th>indrel</th>\n",
       "      <td>27734</td>\n",
       "      <td>0.203220</td>\n",
       "    </tr>\n",
       "    <tr>\n",
       "      <th>ult_fec_cli_1t</th>\n",
       "      <td>13622516</td>\n",
       "      <td>99.818330</td>\n",
       "    </tr>\n",
       "    <tr>\n",
       "      <th>indrel_1mes</th>\n",
       "      <td>149781</td>\n",
       "      <td>1.097513</td>\n",
       "    </tr>\n",
       "    <tr>\n",
       "      <th>tiprel_1mes</th>\n",
       "      <td>149781</td>\n",
       "      <td>1.097513</td>\n",
       "    </tr>\n",
       "    <tr>\n",
       "      <th>indresi</th>\n",
       "      <td>27734</td>\n",
       "      <td>0.203220</td>\n",
       "    </tr>\n",
       "    <tr>\n",
       "      <th>indext</th>\n",
       "      <td>27734</td>\n",
       "      <td>0.203220</td>\n",
       "    </tr>\n",
       "    <tr>\n",
       "      <th>conyuemp</th>\n",
       "      <td>13645501</td>\n",
       "      <td>99.986752</td>\n",
       "    </tr>\n",
       "    <tr>\n",
       "      <th>canal_entrada</th>\n",
       "      <td>186126</td>\n",
       "      <td>1.363829</td>\n",
       "    </tr>\n",
       "    <tr>\n",
       "      <th>indfall</th>\n",
       "      <td>27734</td>\n",
       "      <td>0.203220</td>\n",
       "    </tr>\n",
       "    <tr>\n",
       "      <th>tipodom</th>\n",
       "      <td>27735</td>\n",
       "      <td>0.203227</td>\n",
       "    </tr>\n",
       "    <tr>\n",
       "      <th>cod_prov</th>\n",
       "      <td>93591</td>\n",
       "      <td>0.685784</td>\n",
       "    </tr>\n",
       "    <tr>\n",
       "      <th>nomprov</th>\n",
       "      <td>93591</td>\n",
       "      <td>0.685784</td>\n",
       "    </tr>\n",
       "    <tr>\n",
       "      <th>ind_actividad_cliente</th>\n",
       "      <td>27734</td>\n",
       "      <td>0.203220</td>\n",
       "    </tr>\n",
       "    <tr>\n",
       "      <th>renta</th>\n",
       "      <td>2794375</td>\n",
       "      <td>20.475648</td>\n",
       "    </tr>\n",
       "    <tr>\n",
       "      <th>segmento</th>\n",
       "      <td>189368</td>\n",
       "      <td>1.387585</td>\n",
       "    </tr>\n",
       "    <tr>\n",
       "      <th>ind_nomina_ult1</th>\n",
       "      <td>16063</td>\n",
       "      <td>0.117701</td>\n",
       "    </tr>\n",
       "    <tr>\n",
       "      <th>ind_nom_pens_ult1</th>\n",
       "      <td>16063</td>\n",
       "      <td>0.117701</td>\n",
       "    </tr>\n",
       "  </tbody>\n",
       "</table>\n",
       "</div>"
      ],
      "text/plain": [
       "                       num_null  percentage(%)\n",
       "ind_empleado              27734       0.203220\n",
       "pais_residencia           27734       0.203220\n",
       "sexo                      27804       0.203732\n",
       "fecha_alta                27734       0.203220\n",
       "ind_nuevo                 27734       0.203220\n",
       "indrel                    27734       0.203220\n",
       "ult_fec_cli_1t         13622516      99.818330\n",
       "indrel_1mes              149781       1.097513\n",
       "tiprel_1mes              149781       1.097513\n",
       "indresi                   27734       0.203220\n",
       "indext                    27734       0.203220\n",
       "conyuemp               13645501      99.986752\n",
       "canal_entrada            186126       1.363829\n",
       "indfall                   27734       0.203220\n",
       "tipodom                   27735       0.203227\n",
       "cod_prov                  93591       0.685784\n",
       "nomprov                   93591       0.685784\n",
       "ind_actividad_cliente     27734       0.203220\n",
       "renta                   2794375      20.475648\n",
       "segmento                 189368       1.387585\n",
       "ind_nomina_ult1           16063       0.117701\n",
       "ind_nom_pens_ult1         16063       0.117701"
      ]
     },
     "execution_count": 5,
     "metadata": {},
     "output_type": "execute_result"
    }
   ],
   "source": [
    "null_table[null_table.num_null != 0]"
   ]
  },
  {
   "cell_type": "markdown",
   "metadata": {},
   "source": [
    "27734 is the most frequent number in this table, let's check if they point to the same group of people"
   ]
  },
  {
   "cell_type": "code",
   "execution_count": 6,
   "metadata": {
    "collapsed": false
   },
   "outputs": [],
   "source": [
    "interested_columns = null_table[null_table.num_null != 0].index.values.tolist()"
   ]
  },
  {
   "cell_type": "code",
   "execution_count": 7,
   "metadata": {
    "collapsed": false
   },
   "outputs": [
    {
     "data": {
      "text/plain": [
       "ind_empleado                 0\n",
       "pais_residencia              0\n",
       "sexo                         0\n",
       "fecha_alta                   0\n",
       "ind_nuevo                    0\n",
       "indrel                       0\n",
       "ult_fec_cli_1t               0\n",
       "indrel_1mes                  0\n",
       "tiprel_1mes                  0\n",
       "indresi                      0\n",
       "indext                       0\n",
       "conyuemp                     0\n",
       "canal_entrada                0\n",
       "indfall                      0\n",
       "tipodom                      0\n",
       "cod_prov                     0\n",
       "nomprov                      0\n",
       "ind_actividad_cliente        0\n",
       "renta                        0\n",
       "segmento                     0\n",
       "ind_nomina_ult1          11888\n",
       "ind_nom_pens_ult1        11888\n",
       "dtype: int64"
      ]
     },
     "execution_count": 7,
     "metadata": {},
     "output_type": "execute_result"
    }
   ],
   "source": [
    "data.loc[data.ind_empleado.isnull(), interested_columns].count()"
   ]
  },
  {
   "cell_type": "markdown",
   "metadata": {},
   "source": [
    "We select rows with missing ind_empleado, then we count the numebr of not null values in other columns, it turns out that except for labels ind_nomina_utl1 and ind_nom_pens_utl1, all the other columns' counts are 0, this indicates that these 27734 rows with missing ind_empleado only have null value in other columns.<br>\n",
    "\n",
    "Given this fact and 27734 only counts for about 0.2% of data, it's safe to drop these rows."
   ]
  },
  {
   "cell_type": "code",
   "execution_count": 8,
   "metadata": {
    "collapsed": true
   },
   "outputs": [],
   "source": [
    "data = data[pd.notnull(data.ind_empleado)]"
   ]
  },
  {
   "cell_type": "code",
   "execution_count": 9,
   "metadata": {
    "collapsed": true
   },
   "outputs": [],
   "source": [
    "null_table = pd.DataFrame({'num_null': len(data) - data.count(), 'percentage(%)': 100 * (len(data) - data.count())/len(data)})"
   ]
  },
  {
   "cell_type": "code",
   "execution_count": 10,
   "metadata": {
    "collapsed": false
   },
   "outputs": [
    {
     "data": {
      "text/html": [
       "<div>\n",
       "<table border=\"1\" class=\"dataframe\">\n",
       "  <thead>\n",
       "    <tr style=\"text-align: right;\">\n",
       "      <th></th>\n",
       "      <th>num_null</th>\n",
       "      <th>percentage(%)</th>\n",
       "    </tr>\n",
       "  </thead>\n",
       "  <tbody>\n",
       "    <tr>\n",
       "      <th>sexo</th>\n",
       "      <td>70</td>\n",
       "      <td>0.000514</td>\n",
       "    </tr>\n",
       "    <tr>\n",
       "      <th>ult_fec_cli_1t</th>\n",
       "      <td>13594782</td>\n",
       "      <td>99.817961</td>\n",
       "    </tr>\n",
       "    <tr>\n",
       "      <th>indrel_1mes</th>\n",
       "      <td>122047</td>\n",
       "      <td>0.896115</td>\n",
       "    </tr>\n",
       "    <tr>\n",
       "      <th>tiprel_1mes</th>\n",
       "      <td>122047</td>\n",
       "      <td>0.896115</td>\n",
       "    </tr>\n",
       "    <tr>\n",
       "      <th>conyuemp</th>\n",
       "      <td>13617767</td>\n",
       "      <td>99.986725</td>\n",
       "    </tr>\n",
       "    <tr>\n",
       "      <th>canal_entrada</th>\n",
       "      <td>158392</td>\n",
       "      <td>1.162973</td>\n",
       "    </tr>\n",
       "    <tr>\n",
       "      <th>tipodom</th>\n",
       "      <td>1</td>\n",
       "      <td>0.000007</td>\n",
       "    </tr>\n",
       "    <tr>\n",
       "      <th>cod_prov</th>\n",
       "      <td>65857</td>\n",
       "      <td>0.483547</td>\n",
       "    </tr>\n",
       "    <tr>\n",
       "      <th>nomprov</th>\n",
       "      <td>65857</td>\n",
       "      <td>0.483547</td>\n",
       "    </tr>\n",
       "    <tr>\n",
       "      <th>renta</th>\n",
       "      <td>2766641</td>\n",
       "      <td>20.313710</td>\n",
       "    </tr>\n",
       "    <tr>\n",
       "      <th>segmento</th>\n",
       "      <td>161634</td>\n",
       "      <td>1.186777</td>\n",
       "    </tr>\n",
       "    <tr>\n",
       "      <th>ind_nomina_ult1</th>\n",
       "      <td>217</td>\n",
       "      <td>0.001593</td>\n",
       "    </tr>\n",
       "    <tr>\n",
       "      <th>ind_nom_pens_ult1</th>\n",
       "      <td>217</td>\n",
       "      <td>0.001593</td>\n",
       "    </tr>\n",
       "  </tbody>\n",
       "</table>\n",
       "</div>"
      ],
      "text/plain": [
       "                   num_null  percentage(%)\n",
       "sexo                     70       0.000514\n",
       "ult_fec_cli_1t     13594782      99.817961\n",
       "indrel_1mes          122047       0.896115\n",
       "tiprel_1mes          122047       0.896115\n",
       "conyuemp           13617767      99.986725\n",
       "canal_entrada        158392       1.162973\n",
       "tipodom                   1       0.000007\n",
       "cod_prov              65857       0.483547\n",
       "nomprov               65857       0.483547\n",
       "renta               2766641      20.313710\n",
       "segmento             161634       1.186777\n",
       "ind_nomina_ult1         217       0.001593\n",
       "ind_nom_pens_ult1       217       0.001593"
      ]
     },
     "execution_count": 10,
     "metadata": {},
     "output_type": "execute_result"
    }
   ],
   "source": [
    "null_table[null_table.num_null != 0]"
   ]
  },
  {
   "cell_type": "markdown",
   "metadata": {},
   "source": [
    "First of all, for features with less than 1% missing data, our strategy is to drop the corresponding rows."
   ]
  },
  {
   "cell_type": "code",
   "execution_count": 11,
   "metadata": {
    "collapsed": false
   },
   "outputs": [],
   "source": [
    "columns_to_drop = null_table[(null_table.num_null != 0) & (null_table['percentage(%)'] < 1)].index.values.tolist()"
   ]
  },
  {
   "cell_type": "code",
   "execution_count": 12,
   "metadata": {
    "collapsed": false
   },
   "outputs": [],
   "source": [
    "# Remove labels\n",
    "columns_to_drop.remove('ind_nomina_ult1')\n",
    "columns_to_drop.remove('ind_nom_pens_ult1')"
   ]
  },
  {
   "cell_type": "code",
   "execution_count": 13,
   "metadata": {
    "collapsed": false
   },
   "outputs": [
    {
     "data": {
      "text/plain": [
       "['sexo', 'indrel_1mes', 'tiprel_1mes', 'tipodom', 'cod_prov', 'nomprov']"
      ]
     },
     "execution_count": 13,
     "metadata": {},
     "output_type": "execute_result"
    }
   ],
   "source": [
    "columns_to_drop"
   ]
  },
  {
   "cell_type": "code",
   "execution_count": 14,
   "metadata": {
    "collapsed": true
   },
   "outputs": [],
   "source": [
    "columns_to_drop_set = set()"
   ]
  },
  {
   "cell_type": "code",
   "execution_count": 15,
   "metadata": {
    "collapsed": false
   },
   "outputs": [],
   "source": [
    "for col in columns_to_drop:\n",
    "    columns_to_drop_set.update(data[data[col].isnull()].index.values)"
   ]
  },
  {
   "cell_type": "code",
   "execution_count": 16,
   "metadata": {
    "collapsed": false
   },
   "outputs": [],
   "source": [
    "data = data.drop(list(columns_to_drop_set))"
   ]
  },
  {
   "cell_type": "markdown",
   "metadata": {},
   "source": [
    "We focus on features which have more than 1% missing data.<br>\n",
    "\n",
    "The first one is ult_fec_cli_1t<br>\n",
    "\n",
    "##### ult_fec_cli_1t: Last date as primary customer (if he isn't at the end of the month)\n",
    "According to the definition, we can know it will only be set if the customer is the Primary customer during the month but not at the end of the month. 99.9% missing vlaues mean only very small amount of people canceled their primary account at that month.<br>\n",
    "\n",
    "After looking into the field description deeply, ult_fec_cli_1t has a strong correlation to indrel.<br>\n",
    "\n",
    "##### \tindrel: 1 (First/Primary), 99 (Primary customer during the month but not at the end of the month)\n",
    "If indrel is 1, ult_fec_cli_1t should be NaN value because she/he is always Primary customer, no last date as Primary customer should be set. However, if indrel is 99, then we should know when is the last date. "
   ]
  },
  {
   "cell_type": "code",
   "execution_count": 17,
   "metadata": {
    "collapsed": true
   },
   "outputs": [],
   "source": [
    "canceled_customers = data[pd.notnull(data.ult_fec_cli_1t)]"
   ]
  },
  {
   "cell_type": "code",
   "execution_count": 18,
   "metadata": {
    "collapsed": false
   },
   "outputs": [
    {
     "data": {
      "text/plain": [
       "array([ 99.])"
      ]
     },
     "execution_count": 18,
     "metadata": {},
     "output_type": "execute_result"
    }
   ],
   "source": [
    "canceled_customers.indrel.unique()"
   ]
  },
  {
   "cell_type": "code",
   "execution_count": 19,
   "metadata": {
    "collapsed": false
   },
   "outputs": [
    {
     "data": {
      "text/plain": [
       "array([ 1.])"
      ]
     },
     "execution_count": 19,
     "metadata": {},
     "output_type": "execute_result"
    }
   ],
   "source": [
    "data.loc[data.ult_fec_cli_1t.isnull(), 'indrel'].unique()"
   ]
  },
  {
   "cell_type": "markdown",
   "metadata": {},
   "source": [
    "Indeed, it proves our assumption about indrel and ult_fec_cli_1t. Given this information and nearly 100% of rows don't have ult_fec_cli_1t, it's safe to drop this column."
   ]
  },
  {
   "cell_type": "code",
   "execution_count": 20,
   "metadata": {
    "collapsed": true
   },
   "outputs": [],
   "source": [
    "del data['ult_fec_cli_1t']"
   ]
  },
  {
   "cell_type": "markdown",
   "metadata": {},
   "source": [
    "##### conyuemp: Spouse index. 1 if the customer is spouse of an employee\n",
    "\n",
    "99.9% rows don't have this field set which means this column is probably not very informative. We can either drop this column or fill with the most frequent value"
   ]
  },
  {
   "cell_type": "code",
   "execution_count": 21,
   "metadata": {
    "collapsed": false
   },
   "outputs": [
    {
     "data": {
      "text/plain": [
       "N    1789\n",
       "S      17\n",
       "Name: conyuemp, dtype: int64"
      ]
     },
     "execution_count": 21,
     "metadata": {},
     "output_type": "execute_result"
    }
   ],
   "source": [
    "data.conyuemp.value_counts()"
   ]
  },
  {
   "cell_type": "code",
   "execution_count": 22,
   "metadata": {
    "collapsed": false
   },
   "outputs": [],
   "source": [
    "# We assume most of customers don't have spouse working at Santander Bank\n",
    "data['conyuemp'].fillna('N', inplace=True)"
   ]
  },
  {
   "cell_type": "markdown",
   "metadata": {},
   "source": [
    "##### canal_entrada: channel used by the customer to join"
   ]
  },
  {
   "cell_type": "code",
   "execution_count": 23,
   "metadata": {
    "collapsed": false
   },
   "outputs": [
    {
     "data": {
      "text/plain": [
       "KHE    4050971\n",
       "KAT    3242351\n",
       "KFC    3089476\n",
       "KHQ     591036\n",
       "KFA     399299\n",
       "Name: canal_entrada, dtype: int64"
      ]
     },
     "execution_count": 23,
     "metadata": {},
     "output_type": "execute_result"
    }
   ],
   "source": [
    "data.canal_entrada.value_counts().head()"
   ]
  },
  {
   "cell_type": "markdown",
   "metadata": {},
   "source": [
    "Here we will use the most frequent values to fillna."
   ]
  },
  {
   "cell_type": "code",
   "execution_count": 24,
   "metadata": {
    "collapsed": true
   },
   "outputs": [],
   "source": [
    "data.canal_entrada.fillna('KHE', inplace=True)"
   ]
  },
  {
   "cell_type": "markdown",
   "metadata": {},
   "source": [
    "##### renta: Gross income of the household\n",
    "\n",
    "This is a very informative feature as it usually determines what financial products you can buy. We first group data by columns nomprov and sexo, then we compute the mean of income."
   ]
  },
  {
   "cell_type": "code",
   "execution_count": 25,
   "metadata": {
    "collapsed": true
   },
   "outputs": [],
   "source": [
    "income_data = data[pd.notnull(data.renta)]"
   ]
  },
  {
   "cell_type": "code",
   "execution_count": 26,
   "metadata": {
    "collapsed": false
   },
   "outputs": [
    {
     "data": {
      "text/plain": [
       "nomprov                 sexo\n",
       "ALAVA                   H       111536.070000\n",
       "                        V       110938.903636\n",
       "ALBACETE                H        82014.508058\n",
       "                        V        84110.780197\n",
       "ALICANTE                H        83994.795825\n",
       "                        V        89876.912760\n",
       "ALMERIA                 H        86140.187147\n",
       "                        V        84946.329801\n",
       "ASTURIAS                H        99542.859587\n",
       "                        V       103011.454191\n",
       "AVILA                   H        73946.622347\n",
       "                        V        79460.534194\n",
       "BADAJOZ                 H        69934.437157\n",
       "                        V        74500.307290\n",
       "BALEARS, ILLES          H       182959.747946\n",
       "                        V       164769.099130\n",
       "BARCELONA               H       162857.264627\n",
       "                        V       166077.527855\n",
       "BIZKAIA                 H        92530.287049\n",
       "                        V       122492.361000\n",
       "BURGOS                  H        95468.426213\n",
       "                        V       100221.392989\n",
       "CACERES                 H        71891.532679\n",
       "                        V        79171.485865\n",
       "CADIZ                   H        97030.440069\n",
       "                        V       100190.986626\n",
       "CANTABRIA               H       119056.240890\n",
       "                        V       122938.726657\n",
       "CASTELLON               H        76682.910262\n",
       "                        V        81312.287568\n",
       "                                    ...      \n",
       "PALMAS, LAS             H        96620.422466\n",
       "                        V       103291.942919\n",
       "PONTEVEDRA              H       112178.938206\n",
       "                        V       114825.352625\n",
       "RIOJA, LA               H        98088.482518\n",
       "                        V       101174.556099\n",
       "SALAMANCA               H       108129.390399\n",
       "                        V       103483.319202\n",
       "SANTA CRUZ DE TENERIFE  H        98394.543197\n",
       "                        V       105217.543579\n",
       "SEGOVIA                 H        97503.605283\n",
       "                        V        99284.591735\n",
       "SEVILLA                 H       117093.559044\n",
       "                        V       117730.493811\n",
       "SORIA                   H        89367.063010\n",
       "                        V        87079.085778\n",
       "TARRAGONA               H       104564.975973\n",
       "                        V       104547.762846\n",
       "TERUEL                  H        85588.615908\n",
       "                        V        89539.636230\n",
       "TOLEDO                  H        77191.912596\n",
       "                        V        83781.017349\n",
       "VALENCIA                H        90159.402817\n",
       "                        V        89597.993460\n",
       "VALLADOLID              H        99534.543289\n",
       "                        V       103558.978391\n",
       "ZAMORA                  H        80584.720270\n",
       "                        V        86202.608157\n",
       "ZARAGOZA                H       110488.865798\n",
       "                        V       110697.748752\n",
       "Name: renta, dtype: float64"
      ]
     },
     "execution_count": 26,
     "metadata": {},
     "output_type": "execute_result"
    }
   ],
   "source": [
    "income_data.groupby(['nomprov', 'sexo'])['renta'].mean()"
   ]
  },
  {
   "cell_type": "code",
   "execution_count": 27,
   "metadata": {
    "collapsed": true
   },
   "outputs": [],
   "source": [
    "renta_data = income_data.groupby(['nomprov', 'sexo'])['renta'].mean().reset_index()"
   ]
  },
  {
   "cell_type": "code",
   "execution_count": 28,
   "metadata": {
    "collapsed": false
   },
   "outputs": [
    {
     "data": {
      "text/html": [
       "<div>\n",
       "<table border=\"1\" class=\"dataframe\">\n",
       "  <thead>\n",
       "    <tr style=\"text-align: right;\">\n",
       "      <th></th>\n",
       "      <th>nomprov</th>\n",
       "      <th>sexo</th>\n",
       "      <th>renta</th>\n",
       "    </tr>\n",
       "  </thead>\n",
       "  <tbody>\n",
       "    <tr>\n",
       "      <th>0</th>\n",
       "      <td>ALAVA</td>\n",
       "      <td>H</td>\n",
       "      <td>111536.070000</td>\n",
       "    </tr>\n",
       "    <tr>\n",
       "      <th>1</th>\n",
       "      <td>ALAVA</td>\n",
       "      <td>V</td>\n",
       "      <td>110938.903636</td>\n",
       "    </tr>\n",
       "    <tr>\n",
       "      <th>2</th>\n",
       "      <td>ALBACETE</td>\n",
       "      <td>H</td>\n",
       "      <td>82014.508058</td>\n",
       "    </tr>\n",
       "    <tr>\n",
       "      <th>3</th>\n",
       "      <td>ALBACETE</td>\n",
       "      <td>V</td>\n",
       "      <td>84110.780197</td>\n",
       "    </tr>\n",
       "    <tr>\n",
       "      <th>4</th>\n",
       "      <td>ALICANTE</td>\n",
       "      <td>H</td>\n",
       "      <td>83994.795825</td>\n",
       "    </tr>\n",
       "  </tbody>\n",
       "</table>\n",
       "</div>"
      ],
      "text/plain": [
       "    nomprov sexo          renta\n",
       "0     ALAVA    H  111536.070000\n",
       "1     ALAVA    V  110938.903636\n",
       "2  ALBACETE    H   82014.508058\n",
       "3  ALBACETE    V   84110.780197\n",
       "4  ALICANTE    H   83994.795825"
      ]
     },
     "execution_count": 28,
     "metadata": {},
     "output_type": "execute_result"
    }
   ],
   "source": [
    "renta_data.head()"
   ]
  },
  {
   "cell_type": "code",
   "execution_count": 29,
   "metadata": {
    "collapsed": false
   },
   "outputs": [],
   "source": [
    "data = pd.merge(data, renta_data, how='left', on=['nomprov', 'sexo'])"
   ]
  },
  {
   "cell_type": "markdown",
   "metadata": {},
   "source": [
    "Here we fill missing data with the mean income from the people in the same Province and have the same sex.<br>\n",
    "##### TODO: Take age into consideration"
   ]
  },
  {
   "cell_type": "code",
   "execution_count": 30,
   "metadata": {
    "collapsed": true
   },
   "outputs": [],
   "source": [
    "data.renta_x.fillna(data.renta_y, inplace=True)"
   ]
  },
  {
   "cell_type": "code",
   "execution_count": 31,
   "metadata": {
    "collapsed": false,
    "scrolled": false
   },
   "outputs": [],
   "source": [
    "del data['renta_y']\n",
    "data.rename(columns={'renta_x': 'renta'}, inplace=True)"
   ]
  },
  {
   "cell_type": "markdown",
   "metadata": {
    "collapsed": true
   },
   "source": [
    "##### segmento: segmentation: 01 - VIP, 02 - Individuals 03 - college graduated\n",
    "\n",
    "Here we naively replace NaN value with the most frequent values\n",
    "\n",
    "##### TODO: we can impove the strategy by checking customer's age, if he/she is a young customer, it's likely that it should be categorized as 03 - college graduated"
   ]
  },
  {
   "cell_type": "code",
   "execution_count": 32,
   "metadata": {
    "collapsed": false
   },
   "outputs": [
    {
     "data": {
      "text/plain": [
       "02 - PARTICULARES     7902964\n",
       "03 - UNIVERSITARIO    4930818\n",
       "01 - TOP               558401\n",
       "Name: segmento, dtype: int64"
      ]
     },
     "execution_count": 32,
     "metadata": {},
     "output_type": "execute_result"
    }
   ],
   "source": [
    "data.segmento.value_counts()"
   ]
  },
  {
   "cell_type": "code",
   "execution_count": 33,
   "metadata": {
    "collapsed": true
   },
   "outputs": [],
   "source": [
    "data.segmento.fillna('02 - PARTICULARES', inplace=True)"
   ]
  },
  {
   "cell_type": "markdown",
   "metadata": {},
   "source": [
    "For the missing labels ind_nomina_ult1 and ind_nom_pens_ult1, we assume they are all 0"
   ]
  },
  {
   "cell_type": "code",
   "execution_count": 34,
   "metadata": {
    "collapsed": true
   },
   "outputs": [],
   "source": [
    "data.ind_nomina_ult1.fillna(0, inplace=True)\n",
    "data.ind_nom_pens_ult1.fillna(0, inplace=True)"
   ]
  },
  {
   "cell_type": "code",
   "execution_count": 35,
   "metadata": {
    "collapsed": false
   },
   "outputs": [],
   "source": [
    "assert sum(len(data) - data.count()) == 0, 'still have missing data'"
   ]
  },
  {
   "cell_type": "markdown",
   "metadata": {},
   "source": [
    "#### Done!"
   ]
  },
  {
   "cell_type": "markdown",
   "metadata": {},
   "source": [
    "### Data Analysis"
   ]
  },
  {
   "cell_type": "code",
   "execution_count": 36,
   "metadata": {
    "collapsed": true
   },
   "outputs": [],
   "source": [
    "columns = {\n",
    "    'fecha_dato': 'dt',\n",
    "    'ncodpers': 'customer_code',\n",
    "    'ind_empleado': 'employee_status',\n",
    "    'pais_residencia': 'country',\n",
    "    'sexo': 'sex',\n",
    "    'age': 'age',\n",
    "    'fecha_alta': 'first_holder_starting_dt',\n",
    "    'ind_nuevo': 'nex_customer',\n",
    "    'antiguedad': 'seniority',\n",
    "    'indrel': 'primary',\n",
    "    'ult_fec_cli_1t': 'last_date_as_primary',\n",
    "    'indrel_1mes': 'customer_type',\n",
    "    'tiprel_1mes': 'customer_relation',\n",
    "    'indresi': 'residence_country',\n",
    "    'indext': 'foreigner_country',\n",
    "    'conyuemp': 'employee_spouse',\n",
    "    'canal_entrada': 'channel',\n",
    "    'indfall': 'deceased',\n",
    "    'tipodom': 'addr_type',\n",
    "    'cod_prov': 'province_code',\n",
    "    'nomprov': 'province_name',\n",
    "    'ind_actividad_cliente': 'active',\n",
    "    'renta': 'gross_income',\n",
    "    'segmento': 'segmentation',\n",
    "}"
   ]
  },
  {
   "cell_type": "code",
   "execution_count": 37,
   "metadata": {
    "collapsed": true
   },
   "outputs": [],
   "source": [
    "labels = \"\"\"\n",
    "ind_ahor_fin_ult1\tSaving Account\n",
    "ind_aval_fin_ult1\tGuarantees\n",
    "ind_cco_fin_ult1\tCurrent Accounts\n",
    "ind_cder_fin_ult1\tDerivada Account\n",
    "ind_cno_fin_ult1\tPayroll Account\n",
    "ind_ctju_fin_ult1\tJunior Account\n",
    "ind_ctma_fin_ult1\tMás particular Account\n",
    "ind_ctop_fin_ult1\tparticular Account\n",
    "ind_ctpp_fin_ult1\tparticular Plus Account\n",
    "ind_deco_fin_ult1\tShort-term deposits\n",
    "ind_deme_fin_ult1\tMedium-term deposits\n",
    "ind_dela_fin_ult1\tLong-term deposits\n",
    "ind_ecue_fin_ult1\te-account\n",
    "ind_fond_fin_ult1\tFunds\n",
    "ind_hip_fin_ult1\tMortgage\n",
    "ind_plan_fin_ult1\tPensions\n",
    "ind_pres_fin_ult1\tLoans\n",
    "ind_reca_fin_ult1\tTaxes\n",
    "ind_tjcr_fin_ult1\tCredit Card\n",
    "ind_valo_fin_ult1\tSecurities\n",
    "ind_viv_fin_ult1\tHome Account\n",
    "ind_nomina_ult1\tPayroll\n",
    "ind_nom_pens_ult1\tPensions 2\n",
    "ind_recibo_ult1\tDirect Debit\n",
    "\"\"\""
   ]
  },
  {
   "cell_type": "code",
   "execution_count": 38,
   "metadata": {
    "collapsed": false
   },
   "outputs": [],
   "source": [
    "for x in labels.split('\\n'):\n",
    "    if x:\n",
    "        key, value = x.split('\\t')\n",
    "        value = value.replace(' ', '_')\n",
    "        columns.update({key: value})"
   ]
  },
  {
   "cell_type": "code",
   "execution_count": 39,
   "metadata": {
    "collapsed": false
   },
   "outputs": [],
   "source": [
    "data.rename(columns=columns, inplace=True)"
   ]
  },
  {
   "cell_type": "code",
   "execution_count": 40,
   "metadata": {
    "collapsed": false
   },
   "outputs": [],
   "source": [
    "data.age = pd.to_numeric(data.age)\n",
    "data.seniority = pd.to_numeric(data.seniority)"
   ]
  },
  {
   "cell_type": "code",
   "execution_count": 41,
   "metadata": {
    "collapsed": false
   },
   "outputs": [
    {
     "data": {
      "text/html": [
       "<div>\n",
       "<table border=\"1\" class=\"dataframe\">\n",
       "  <thead>\n",
       "    <tr style=\"text-align: right;\">\n",
       "      <th></th>\n",
       "      <th>dt</th>\n",
       "      <th>customer_code</th>\n",
       "      <th>employee_status</th>\n",
       "      <th>country</th>\n",
       "      <th>sex</th>\n",
       "      <th>age</th>\n",
       "      <th>first_holder_starting_dt</th>\n",
       "      <th>nex_customer</th>\n",
       "      <th>seniority</th>\n",
       "      <th>primary</th>\n",
       "      <th>customer_type</th>\n",
       "      <th>customer_relation</th>\n",
       "      <th>residence_country</th>\n",
       "      <th>foreigner_country</th>\n",
       "      <th>employee_spouse</th>\n",
       "      <th>channel</th>\n",
       "      <th>deceased</th>\n",
       "      <th>addr_type</th>\n",
       "      <th>province_code</th>\n",
       "      <th>province_name</th>\n",
       "      <th>active</th>\n",
       "      <th>gross_income</th>\n",
       "      <th>segmentation</th>\n",
       "      <th>Saving_Account</th>\n",
       "      <th>Guarantees</th>\n",
       "      <th>Current_Accounts</th>\n",
       "      <th>Derivada_Account</th>\n",
       "      <th>Payroll_Account</th>\n",
       "      <th>Junior_Account</th>\n",
       "      <th>Más_particular_Account</th>\n",
       "      <th>particular_Account</th>\n",
       "      <th>particular_Plus_Account</th>\n",
       "      <th>Short-term_deposits</th>\n",
       "      <th>Medium-term_deposits</th>\n",
       "      <th>Long-term_deposits</th>\n",
       "      <th>e-account</th>\n",
       "      <th>Funds</th>\n",
       "      <th>Mortgage</th>\n",
       "      <th>Pensions</th>\n",
       "      <th>Loans</th>\n",
       "      <th>Taxes</th>\n",
       "      <th>Credit_Card</th>\n",
       "      <th>Securities</th>\n",
       "      <th>Home_Account</th>\n",
       "      <th>Payroll</th>\n",
       "      <th>Pensions_2</th>\n",
       "      <th>Direct_Debit</th>\n",
       "    </tr>\n",
       "  </thead>\n",
       "  <tbody>\n",
       "    <tr>\n",
       "      <th>0</th>\n",
       "      <td>2015-01-28</td>\n",
       "      <td>1375586</td>\n",
       "      <td>N</td>\n",
       "      <td>ES</td>\n",
       "      <td>H</td>\n",
       "      <td>35</td>\n",
       "      <td>2015-01-12</td>\n",
       "      <td>0</td>\n",
       "      <td>6</td>\n",
       "      <td>1</td>\n",
       "      <td>1</td>\n",
       "      <td>A</td>\n",
       "      <td>S</td>\n",
       "      <td>N</td>\n",
       "      <td>N</td>\n",
       "      <td>KHL</td>\n",
       "      <td>N</td>\n",
       "      <td>1</td>\n",
       "      <td>29</td>\n",
       "      <td>MALAGA</td>\n",
       "      <td>1</td>\n",
       "      <td>87218.10</td>\n",
       "      <td>02 - PARTICULARES</td>\n",
       "      <td>0</td>\n",
       "      <td>0</td>\n",
       "      <td>1</td>\n",
       "      <td>0</td>\n",
       "      <td>0</td>\n",
       "      <td>0</td>\n",
       "      <td>0</td>\n",
       "      <td>0</td>\n",
       "      <td>0</td>\n",
       "      <td>0</td>\n",
       "      <td>0</td>\n",
       "      <td>0</td>\n",
       "      <td>0</td>\n",
       "      <td>0</td>\n",
       "      <td>0</td>\n",
       "      <td>0</td>\n",
       "      <td>0</td>\n",
       "      <td>0</td>\n",
       "      <td>0</td>\n",
       "      <td>0</td>\n",
       "      <td>0</td>\n",
       "      <td>0</td>\n",
       "      <td>0</td>\n",
       "      <td>0</td>\n",
       "    </tr>\n",
       "    <tr>\n",
       "      <th>1</th>\n",
       "      <td>2015-01-28</td>\n",
       "      <td>1050611</td>\n",
       "      <td>N</td>\n",
       "      <td>ES</td>\n",
       "      <td>V</td>\n",
       "      <td>23</td>\n",
       "      <td>2012-08-10</td>\n",
       "      <td>0</td>\n",
       "      <td>35</td>\n",
       "      <td>1</td>\n",
       "      <td>1</td>\n",
       "      <td>I</td>\n",
       "      <td>S</td>\n",
       "      <td>S</td>\n",
       "      <td>N</td>\n",
       "      <td>KHE</td>\n",
       "      <td>N</td>\n",
       "      <td>1</td>\n",
       "      <td>13</td>\n",
       "      <td>CIUDAD REAL</td>\n",
       "      <td>0</td>\n",
       "      <td>35548.74</td>\n",
       "      <td>03 - UNIVERSITARIO</td>\n",
       "      <td>0</td>\n",
       "      <td>0</td>\n",
       "      <td>1</td>\n",
       "      <td>0</td>\n",
       "      <td>0</td>\n",
       "      <td>0</td>\n",
       "      <td>0</td>\n",
       "      <td>0</td>\n",
       "      <td>0</td>\n",
       "      <td>0</td>\n",
       "      <td>0</td>\n",
       "      <td>0</td>\n",
       "      <td>0</td>\n",
       "      <td>0</td>\n",
       "      <td>0</td>\n",
       "      <td>0</td>\n",
       "      <td>0</td>\n",
       "      <td>0</td>\n",
       "      <td>0</td>\n",
       "      <td>0</td>\n",
       "      <td>0</td>\n",
       "      <td>0</td>\n",
       "      <td>0</td>\n",
       "      <td>0</td>\n",
       "    </tr>\n",
       "  </tbody>\n",
       "</table>\n",
       "</div>"
      ],
      "text/plain": [
       "           dt  customer_code employee_status country sex  age  \\\n",
       "0  2015-01-28        1375586               N      ES   H   35   \n",
       "1  2015-01-28        1050611               N      ES   V   23   \n",
       "\n",
       "  first_holder_starting_dt  nex_customer  seniority  primary customer_type  \\\n",
       "0               2015-01-12             0          6        1             1   \n",
       "1               2012-08-10             0         35        1             1   \n",
       "\n",
       "  customer_relation residence_country foreigner_country employee_spouse  \\\n",
       "0                 A                 S                 N               N   \n",
       "1                 I                 S                 S               N   \n",
       "\n",
       "  channel deceased  addr_type  province_code province_name  active  \\\n",
       "0     KHL        N          1             29        MALAGA       1   \n",
       "1     KHE        N          1             13   CIUDAD REAL       0   \n",
       "\n",
       "   gross_income        segmentation  Saving_Account  Guarantees  \\\n",
       "0      87218.10   02 - PARTICULARES               0           0   \n",
       "1      35548.74  03 - UNIVERSITARIO               0           0   \n",
       "\n",
       "   Current_Accounts  Derivada_Account  Payroll_Account  Junior_Account  \\\n",
       "0                 1                 0                0               0   \n",
       "1                 1                 0                0               0   \n",
       "\n",
       "   Más_particular_Account  particular_Account  particular_Plus_Account  \\\n",
       "0                       0                   0                        0   \n",
       "1                       0                   0                        0   \n",
       "\n",
       "   Short-term_deposits  Medium-term_deposits  Long-term_deposits  e-account  \\\n",
       "0                    0                     0                   0          0   \n",
       "1                    0                     0                   0          0   \n",
       "\n",
       "   Funds  Mortgage  Pensions  Loans  Taxes  Credit_Card  Securities  \\\n",
       "0      0         0         0      0      0            0           0   \n",
       "1      0         0         0      0      0            0           0   \n",
       "\n",
       "   Home_Account  Payroll  Pensions_2  Direct_Debit  \n",
       "0             0        0           0             0  \n",
       "1             0        0           0             0  "
      ]
     },
     "execution_count": 41,
     "metadata": {},
     "output_type": "execute_result"
    }
   ],
   "source": [
    "data.head(2)"
   ]
  },
  {
   "cell_type": "markdown",
   "metadata": {},
   "source": [
    "#### Age"
   ]
  },
  {
   "cell_type": "markdown",
   "metadata": {},
   "source": [
    "First, we take a look at age distribution"
   ]
  },
  {
   "cell_type": "code",
   "execution_count": 42,
   "metadata": {
    "collapsed": false
   },
   "outputs": [
    {
     "data": {
      "text/plain": [
       "<matplotlib.text.Text at 0x141fd975e10>"
      ]
     },
     "execution_count": 42,
     "metadata": {},
     "output_type": "execute_result"
    },
    {
     "data": {
      "image/png": "[encoded data removed]",
      "text/plain": [
       "<matplotlib.figure.Figure at 0x141ffb67908>"
      ]
     },
     "metadata": {},
     "output_type": "display_data"
    }
   ],
   "source": [
    "data['age'].hist(bins=50, figsize=(8,8))\n",
    "plt.title('customer Age Distribution')\n",
    "plt.xlabel('Age')\n",
    "plt.ylabel('Number of Customers')"
   ]
  },
  {
   "cell_type": "markdown",
   "metadata": {},
   "source": [
    "We see there are two peaks, one is around 20 and another one is around 40.<br>"
   ]
  },
  {
   "cell_type": "markdown",
   "metadata": {},
   "source": [
    "#### Age vs Gross Income\n",
    "\n",
    "Let's take a look what's their wealth distribution."
   ]
  },
  {
   "cell_type": "code",
   "execution_count": 43,
   "metadata": {
    "collapsed": false
   },
   "outputs": [],
   "source": [
    "gi = data.groupby(pd.cut(data['age'], np.arange(0, data['age'].max()+5, 5)))['gross_income'].mean().reset_index()\n",
    "gi.dropna(how='any', inplace=True)"
   ]
  },
  {
   "cell_type": "code",
   "execution_count": 44,
   "metadata": {
    "collapsed": false
   },
   "outputs": [
    {
     "data": {
      "text/plain": [
       "<matplotlib.axes._subplots.AxesSubplot at 0x141fdb06128>"
      ]
     },
     "execution_count": 44,
     "metadata": {},
     "output_type": "execute_result"
    },
    {
     "data": {
      "image/png": "[encoded data removed]",
      "text/plain": [
       "<matplotlib.figure.Figure at 0x141fd95d710>"
      ]
     },
     "metadata": {},
     "output_type": "display_data"
    }
   ],
   "source": [
    "gi.plot(x='age', y='gross_income', style='o')"
   ]
  },
  {
   "cell_type": "markdown",
   "metadata": {},
   "source": [
    "At a first glance, on average, customers under 20 years old or older than 50 years old have higher gross income than people between."
   ]
  },
  {
   "cell_type": "markdown",
   "metadata": {},
   "source": [
    "#### Age vs Products"
   ]
  },
  {
   "cell_type": "markdown",
   "metadata": {},
   "source": [
    "Let's take a look the most populer products"
   ]
  },
  {
   "cell_type": "code",
   "execution_count": 45,
   "metadata": {
    "collapsed": false
   },
   "outputs": [
    {
     "data": {
      "text/html": [
       "<div>\n",
       "<table border=\"1\" class=\"dataframe\">\n",
       "  <thead>\n",
       "    <tr style=\"text-align: right;\">\n",
       "      <th></th>\n",
       "      <th>count</th>\n",
       "      <th>percentage</th>\n",
       "    </tr>\n",
       "  </thead>\n",
       "  <tbody>\n",
       "    <tr>\n",
       "      <th>Current_Accounts</th>\n",
       "      <td>8820310</td>\n",
       "      <td>0.656683</td>\n",
       "    </tr>\n",
       "    <tr>\n",
       "      <th>particular_Account</th>\n",
       "      <td>1744453</td>\n",
       "      <td>0.129877</td>\n",
       "    </tr>\n",
       "    <tr>\n",
       "      <th>Direct_Debit</th>\n",
       "      <td>1739428</td>\n",
       "      <td>0.129503</td>\n",
       "    </tr>\n",
       "    <tr>\n",
       "      <th>e-account</th>\n",
       "      <td>1123774</td>\n",
       "      <td>0.083666</td>\n",
       "    </tr>\n",
       "    <tr>\n",
       "      <th>Payroll_Account</th>\n",
       "      <td>1101393</td>\n",
       "      <td>0.082000</td>\n",
       "    </tr>\n",
       "    <tr>\n",
       "      <th>Pensions_2</th>\n",
       "      <td>808849</td>\n",
       "      <td>0.060220</td>\n",
       "    </tr>\n",
       "    <tr>\n",
       "      <th>Payroll</th>\n",
       "      <td>744914</td>\n",
       "      <td>0.055460</td>\n",
       "    </tr>\n",
       "    <tr>\n",
       "      <th>Taxes</th>\n",
       "      <td>704950</td>\n",
       "      <td>0.052484</td>\n",
       "    </tr>\n",
       "    <tr>\n",
       "      <th>Credit_Card</th>\n",
       "      <td>603257</td>\n",
       "      <td>0.044913</td>\n",
       "    </tr>\n",
       "    <tr>\n",
       "      <th>particular_Plus_Account</th>\n",
       "      <td>588575</td>\n",
       "      <td>0.043820</td>\n",
       "    </tr>\n",
       "    <tr>\n",
       "      <th>Long-term_deposits</th>\n",
       "      <td>583453</td>\n",
       "      <td>0.043439</td>\n",
       "    </tr>\n",
       "    <tr>\n",
       "      <th>Securities</th>\n",
       "      <td>344820</td>\n",
       "      <td>0.025672</td>\n",
       "    </tr>\n",
       "    <tr>\n",
       "      <th>Funds</th>\n",
       "      <td>249921</td>\n",
       "      <td>0.018607</td>\n",
       "    </tr>\n",
       "    <tr>\n",
       "      <th>Más_particular_Account</th>\n",
       "      <td>130540</td>\n",
       "      <td>0.009719</td>\n",
       "    </tr>\n",
       "    <tr>\n",
       "      <th>Junior_Account</th>\n",
       "      <td>128593</td>\n",
       "      <td>0.009574</td>\n",
       "    </tr>\n",
       "    <tr>\n",
       "      <th>Pensions</th>\n",
       "      <td>124335</td>\n",
       "      <td>0.009257</td>\n",
       "    </tr>\n",
       "    <tr>\n",
       "      <th>Mortgage</th>\n",
       "      <td>79961</td>\n",
       "      <td>0.005953</td>\n",
       "    </tr>\n",
       "    <tr>\n",
       "      <th>Home_Account</th>\n",
       "      <td>52416</td>\n",
       "      <td>0.003902</td>\n",
       "    </tr>\n",
       "    <tr>\n",
       "      <th>Loans</th>\n",
       "      <td>34455</td>\n",
       "      <td>0.002565</td>\n",
       "    </tr>\n",
       "    <tr>\n",
       "      <th>Short-term_deposits</th>\n",
       "      <td>23245</td>\n",
       "      <td>0.001731</td>\n",
       "    </tr>\n",
       "    <tr>\n",
       "      <th>Medium-term_deposits</th>\n",
       "      <td>22324</td>\n",
       "      <td>0.001662</td>\n",
       "    </tr>\n",
       "    <tr>\n",
       "      <th>Derivada_Account</th>\n",
       "      <td>5354</td>\n",
       "      <td>0.000399</td>\n",
       "    </tr>\n",
       "    <tr>\n",
       "      <th>Saving_Account</th>\n",
       "      <td>1396</td>\n",
       "      <td>0.000104</td>\n",
       "    </tr>\n",
       "    <tr>\n",
       "      <th>Guarantees</th>\n",
       "      <td>299</td>\n",
       "      <td>0.000022</td>\n",
       "    </tr>\n",
       "  </tbody>\n",
       "</table>\n",
       "</div>"
      ],
      "text/plain": [
       "                           count  percentage\n",
       "Current_Accounts         8820310    0.656683\n",
       "particular_Account       1744453    0.129877\n",
       "Direct_Debit             1739428    0.129503\n",
       "e-account                1123774    0.083666\n",
       "Payroll_Account          1101393    0.082000\n",
       "Pensions_2                808849    0.060220\n",
       "Payroll                   744914    0.055460\n",
       "Taxes                     704950    0.052484\n",
       "Credit_Card               603257    0.044913\n",
       "particular_Plus_Account   588575    0.043820\n",
       "Long-term_deposits        583453    0.043439\n",
       "Securities                344820    0.025672\n",
       "Funds                     249921    0.018607\n",
       "Más_particular_Account    130540    0.009719\n",
       "Junior_Account            128593    0.009574\n",
       "Pensions                  124335    0.009257\n",
       "Mortgage                   79961    0.005953\n",
       "Home_Account               52416    0.003902\n",
       "Loans                      34455    0.002565\n",
       "Short-term_deposits        23245    0.001731\n",
       "Medium-term_deposits       22324    0.001662\n",
       "Derivada_Account            5354    0.000399\n",
       "Saving_Account              1396    0.000104\n",
       "Guarantees                   299    0.000022"
      ]
     },
     "execution_count": 45,
     "metadata": {},
     "output_type": "execute_result"
    }
   ],
   "source": [
    "pd.DataFrame({'count': data.ix[:, 23:].sum().sort_values(ascending=False),\n",
    "              'percentage': data.ix[:, 23:].sum().sort_values(ascending=False)/len(data)\n",
    "              })"
   ]
  },
  {
   "cell_type": "markdown",
   "metadata": {},
   "source": [
    "Current Accounts is the most populer product, nearly 65% people bought this. Particular Account after that, accounts for about 13% people. Let's take a look at the age distribution by product."
   ]
  },
  {
   "cell_type": "code",
   "execution_count": 46,
   "metadata": {
    "collapsed": false
   },
   "outputs": [
    {
     "data": {
      "text/plain": [
       "<matplotlib.text.Text at 0x141fe96b160>"
      ]
     },
     "execution_count": 46,
     "metadata": {},
     "output_type": "execute_result"
    },
    {
     "data": {
      "image/png": "[encoded data removed]",
      "text/plain": [
       "<matplotlib.figure.Figure at 0x141fdaecd68>"
      ]
     },
     "metadata": {},
     "output_type": "display_data"
    }
   ],
   "source": [
    "data.loc[data.Current_Accounts == 1, 'age'].hist(bins=50, figsize=(8, 8))\n",
    "plt.title('Current Accounts Customer Age Distribution')\n",
    "plt.xlabel('Age')\n",
    "plt.ylabel('Number of Customers')"
   ]
  },
  {
   "cell_type": "markdown",
   "metadata": {},
   "source": [
    "It almost has the same distribution as the over all age distribution, except for some outliers are gone in this graph."
   ]
  },
  {
   "cell_type": "code",
   "execution_count": 47,
   "metadata": {
    "collapsed": false
   },
   "outputs": [
    {
     "data": {
      "text/plain": [
       "<matplotlib.text.Text at 0x141fe211978>"
      ]
     },
     "execution_count": 47,
     "metadata": {},
     "output_type": "execute_result"
    },
    {
     "data": {
      "image/png": "[encoded data removed]",
      "text/plain": [
       "<matplotlib.figure.Figure at 0x141fd95d588>"
      ]
     },
     "metadata": {},
     "output_type": "display_data"
    }
   ],
   "source": [
    "data.loc[data.particular_Account == 1, 'age'].hist(bins=50, figsize=(8, 8))\n",
    "plt.title('Particular Accounts Customer Age Distribution')\n",
    "plt.xlabel('Age')\n",
    "plt.ylabel('Number of Customers')"
   ]
  },
  {
   "cell_type": "markdown",
   "metadata": {},
   "source": [
    "This is very different than the previous age distributions, people around 45 years old really like this product. However, it's not that welcome to young people.<br>\n",
    "\n",
    "Do one more Junior Account, from the title we can guess it's only for young people."
   ]
  },
  {
   "cell_type": "code",
   "execution_count": 48,
   "metadata": {
    "collapsed": false
   },
   "outputs": [
    {
     "data": {
      "text/plain": [
       "<matplotlib.text.Text at 0x142c9733e10>"
      ]
     },
     "execution_count": 48,
     "metadata": {},
     "output_type": "execute_result"
    },
    {
     "data": {
      "image/png": "[encoded data removed]",
      "text/plain": [
       "<matplotlib.figure.Figure at 0x142c9742780>"
      ]
     },
     "metadata": {},
     "output_type": "display_data"
    }
   ],
   "source": [
    "data.loc[data.Junior_Account == 1, 'age'].hist(bins=50, figsize=(8, 8))\n",
    "plt.title('Junior Account Customer Age Distribution')\n",
    "plt.xlabel('Age')\n",
    "plt.ylabel('Number of Customers')"
   ]
  },
  {
   "cell_type": "markdown",
   "metadata": {},
   "source": [
    "Ineed, people under 20 years old are the main buyers of this product.<br>\n",
    "\n",
    "These different distributions indicate that customer's age does have an affect on his/her decision.<br>\n",
    "\n",
    "When building the predition model, age is a very informative feature and we should keep an eye on it."
   ]
  },
  {
   "cell_type": "markdown",
   "metadata": {},
   "source": [
    "#### Gross Income vs Products"
   ]
  },
  {
   "cell_type": "markdown",
   "metadata": {},
   "source": [
    "First of all, we will take a look at gross income distribution"
   ]
  },
  {
   "cell_type": "code",
   "execution_count": 49,
   "metadata": {
    "collapsed": false
   },
   "outputs": [
    {
     "data": {
      "text/plain": [
       "count    13431610.000000\n",
       "mean       131811.845459\n",
       "std        207762.545619\n",
       "min          1202.730000\n",
       "25%         75002.220000\n",
       "50%        104564.975973\n",
       "75%        158013.210000\n",
       "max      28894395.510000\n",
       "Name: gross_income, dtype: float64"
      ]
     },
     "execution_count": 49,
     "metadata": {},
     "output_type": "execute_result"
    }
   ],
   "source": [
    "data.gross_income.describe()"
   ]
  },
  {
   "cell_type": "markdown",
   "metadata": {},
   "source": [
    "We define the top 5% customers are from wealth families, the bottom 5% customers are from poor families, the between are from mid-class. "
   ]
  },
  {
   "cell_type": "code",
   "execution_count": 50,
   "metadata": {
    "collapsed": true
   },
   "outputs": [],
   "source": [
    "rich = data[data.gross_income >= data.gross_income.quantile(0.95)]\n",
    "poor = data[data.gross_income < data.gross_income.quantile(0.05)]\n",
    "middle_class = data[(data.gross_income >= data.gross_income.quantile(0.05)) & (data.gross_income < data.gross_income.quantile(0.95))]"
   ]
  },
  {
   "cell_type": "code",
   "execution_count": 78,
   "metadata": {
    "collapsed": false
   },
   "outputs": [
    {
     "data": {
      "image/png": "[encoded data removed]",
      "text/plain": [
       "<matplotlib.figure.Figure at 0x142ca3def98>"
      ]
     },
     "metadata": {},
     "output_type": "display_data"
    }
   ],
   "source": [
    "rich_sum = rich.ix[:, 25:48].sum()\n",
    "rich_sum.sort_values(ascending=False, inplace=True)\n",
    "rich_percent = 100 * rich_sum / sum(rich_sum)\n",
    "plt.pie(rich_sum.values, labels=rich_sum.index.values, shadow=True, startangle=140);"
   ]
  },
  {
   "cell_type": "code",
   "execution_count": 76,
   "metadata": {
    "collapsed": false
   },
   "outputs": [
    {
     "data": {
      "image/png": "[encoded data removed]",
      "text/plain": [
       "<matplotlib.figure.Figure at 0x142ca2fc390>"
      ]
     },
     "metadata": {},
     "output_type": "display_data"
    }
   ],
   "source": [
    "middle_sum = middle_class.ix[:, 25:48].sum()\n",
    "middle_sum.sort_values(ascending=False, inplace=True)\n",
    "middle_percent = 100 * middle_sum / sum(middle_sum)\n",
    "plt.pie(middle_sum.values, labels=middle_sum.index.values, shadow=True, startangle=140);"
   ]
  },
  {
   "cell_type": "code",
   "execution_count": 77,
   "metadata": {
    "collapsed": false
   },
   "outputs": [
    {
     "data": {
      "image/png": "[encoded data removed]",
      "text/plain": [
       "<matplotlib.figure.Figure at 0x142ca5f2518>"
      ]
     },
     "metadata": {},
     "output_type": "display_data"
    }
   ],
   "source": [
    "poor_sum = poor.ix[:, 25:48].sum()\n",
    "poor_sum.sort_values(ascending=False, inplace=True)\n",
    "poor_percent = 100 * poor_sum / sum(poor_sum)\n",
    "plt.pie(poor_sum.values, labels=poor_sum.index.values, shadow=True, startangle=140);"
   ]
  },
  {
   "cell_type": "code",
   "execution_count": 80,
   "metadata": {
    "collapsed": false
   },
   "outputs": [
    {
     "data": {
      "text/html": [
       "<div>\n",
       "<table border=\"1\" class=\"dataframe\">\n",
       "  <thead>\n",
       "    <tr style=\"text-align: right;\">\n",
       "      <th></th>\n",
       "      <th>rich(%)</th>\n",
       "      <th>middle(%)</th>\n",
       "      <th>poor(%)</th>\n",
       "    </tr>\n",
       "  </thead>\n",
       "  <tbody>\n",
       "    <tr>\n",
       "      <th>Current_Accounts</th>\n",
       "      <td>34.046217</td>\n",
       "      <td>44.696367</td>\n",
       "      <td>58.896800</td>\n",
       "    </tr>\n",
       "    <tr>\n",
       "      <th>particular_Account</th>\n",
       "      <td>11.178782</td>\n",
       "      <td>8.799498</td>\n",
       "      <td>6.022121</td>\n",
       "    </tr>\n",
       "    <tr>\n",
       "      <th>Direct_Debit</th>\n",
       "      <td>9.040468</td>\n",
       "      <td>8.801215</td>\n",
       "      <td>8.496081</td>\n",
       "    </tr>\n",
       "    <tr>\n",
       "      <th>e-account</th>\n",
       "      <td>6.527212</td>\n",
       "      <td>5.715779</td>\n",
       "      <td>3.829228</td>\n",
       "    </tr>\n",
       "    <tr>\n",
       "      <th>Payroll_Account</th>\n",
       "      <td>5.784682</td>\n",
       "      <td>5.587807</td>\n",
       "      <td>4.962171</td>\n",
       "    </tr>\n",
       "    <tr>\n",
       "      <th>Taxes</th>\n",
       "      <td>5.566396</td>\n",
       "      <td>3.479205</td>\n",
       "      <td>2.586238</td>\n",
       "    </tr>\n",
       "    <tr>\n",
       "      <th>Pensions_2</th>\n",
       "      <td>4.266990</td>\n",
       "      <td>4.110223</td>\n",
       "      <td>3.471078</td>\n",
       "    </tr>\n",
       "    <tr>\n",
       "      <th>Credit_Card</th>\n",
       "      <td>4.043461</td>\n",
       "      <td>3.042931</td>\n",
       "      <td>1.823466</td>\n",
       "    </tr>\n",
       "    <tr>\n",
       "      <th>particular_Plus_Account</th>\n",
       "      <td>3.823145</td>\n",
       "      <td>2.980329</td>\n",
       "      <td>1.705487</td>\n",
       "    </tr>\n",
       "    <tr>\n",
       "      <th>Payroll</th>\n",
       "      <td>3.711043</td>\n",
       "      <td>3.798729</td>\n",
       "      <td>3.222233</td>\n",
       "    </tr>\n",
       "    <tr>\n",
       "      <th>Long-term_deposits</th>\n",
       "      <td>3.269905</td>\n",
       "      <td>2.996503</td>\n",
       "      <td>1.525545</td>\n",
       "    </tr>\n",
       "    <tr>\n",
       "      <th>Securities</th>\n",
       "      <td>3.027692</td>\n",
       "      <td>1.699604</td>\n",
       "      <td>0.866871</td>\n",
       "    </tr>\n",
       "    <tr>\n",
       "      <th>Funds</th>\n",
       "      <td>2.140934</td>\n",
       "      <td>1.236025</td>\n",
       "      <td>0.614803</td>\n",
       "    </tr>\n",
       "    <tr>\n",
       "      <th>Pensions</th>\n",
       "      <td>1.147738</td>\n",
       "      <td>0.610038</td>\n",
       "      <td>0.292220</td>\n",
       "    </tr>\n",
       "    <tr>\n",
       "      <th>Junior_Account</th>\n",
       "      <td>0.745066</td>\n",
       "      <td>0.660236</td>\n",
       "      <td>0.304737</td>\n",
       "    </tr>\n",
       "    <tr>\n",
       "      <th>Más_particular_Account</th>\n",
       "      <td>0.534557</td>\n",
       "      <td>0.677052</td>\n",
       "      <td>0.484308</td>\n",
       "    </tr>\n",
       "    <tr>\n",
       "      <th>Home_Account</th>\n",
       "      <td>0.448494</td>\n",
       "      <td>0.257491</td>\n",
       "      <td>0.168045</td>\n",
       "    </tr>\n",
       "    <tr>\n",
       "      <th>Mortgage</th>\n",
       "      <td>0.374435</td>\n",
       "      <td>0.413291</td>\n",
       "      <td>0.259256</td>\n",
       "    </tr>\n",
       "    <tr>\n",
       "      <th>Medium-term_deposits</th>\n",
       "      <td>0.118105</td>\n",
       "      <td>0.115422</td>\n",
       "      <td>0.051678</td>\n",
       "    </tr>\n",
       "    <tr>\n",
       "      <th>Loans</th>\n",
       "      <td>0.097477</td>\n",
       "      <td>0.173420</td>\n",
       "      <td>0.308083</td>\n",
       "    </tr>\n",
       "    <tr>\n",
       "      <th>Short-term_deposits</th>\n",
       "      <td>0.077778</td>\n",
       "      <td>0.121449</td>\n",
       "      <td>0.092202</td>\n",
       "    </tr>\n",
       "    <tr>\n",
       "      <th>Derivada_Account</th>\n",
       "      <td>0.029421</td>\n",
       "      <td>0.027384</td>\n",
       "      <td>0.017350</td>\n",
       "    </tr>\n",
       "  </tbody>\n",
       "</table>\n",
       "</div>"
      ],
      "text/plain": [
       "                           rich(%)  middle(%)    poor(%)\n",
       "Current_Accounts         34.046217  44.696367  58.896800\n",
       "particular_Account       11.178782   8.799498   6.022121\n",
       "Direct_Debit              9.040468   8.801215   8.496081\n",
       "e-account                 6.527212   5.715779   3.829228\n",
       "Payroll_Account           5.784682   5.587807   4.962171\n",
       "Taxes                     5.566396   3.479205   2.586238\n",
       "Pensions_2                4.266990   4.110223   3.471078\n",
       "Credit_Card               4.043461   3.042931   1.823466\n",
       "particular_Plus_Account   3.823145   2.980329   1.705487\n",
       "Payroll                   3.711043   3.798729   3.222233\n",
       "Long-term_deposits        3.269905   2.996503   1.525545\n",
       "Securities                3.027692   1.699604   0.866871\n",
       "Funds                     2.140934   1.236025   0.614803\n",
       "Pensions                  1.147738   0.610038   0.292220\n",
       "Junior_Account            0.745066   0.660236   0.304737\n",
       "Más_particular_Account    0.534557   0.677052   0.484308\n",
       "Home_Account              0.448494   0.257491   0.168045\n",
       "Mortgage                  0.374435   0.413291   0.259256\n",
       "Medium-term_deposits      0.118105   0.115422   0.051678\n",
       "Loans                     0.097477   0.173420   0.308083\n",
       "Short-term_deposits       0.077778   0.121449   0.092202\n",
       "Derivada_Account          0.029421   0.027384   0.017350"
      ]
     },
     "execution_count": 80,
     "metadata": {},
     "output_type": "execute_result"
    }
   ],
   "source": [
    "merged_df = pd.concat([rich_percent, middle_percent, poor_percent], axis=1)\n",
    "merged_df.columns = ['rich(%)', 'middle(%)', 'poor(%)']\n",
    "merged_df.sort_values(by='rich(%)', ascending=False)"
   ]
  },
  {
   "cell_type": "markdown",
   "metadata": {},
   "source": [
    "Overall, Current Account is the most popular product, but from the table, we see its percentage is decreasing as gross income increase, which means Current Account is a basic financial product that most people will consider, just like our debt card or credit card.<br>\n",
    "However, for almost all the other products, the proportion is increasing as we go from poor to rich. Probably the other products like particular account or direct debt, they require more capital than current account, so fewer people can afford them."
   ]
  },
  {
   "cell_type": "markdown",
   "metadata": {},
   "source": [
    "#### Sex vs Products"
   ]
  }
 ],
 "metadata": {
  "kernelspec": {
   "display_name": "Python 3",
   "language": "python",
   "name": "python3"
  },
  "language_info": {
   "codemirror_mode": {
    "name": "ipython",
    "version": 3
   },
   "file_extension": ".py",
   "mimetype": "text/x-python",
   "name": "python",
   "nbconvert_exporter": "python",
   "pygments_lexer": "ipython3",
   "version": "3.5.1"
  }
 },
 "nbformat": 4,
 "nbformat_minor": 0
}
