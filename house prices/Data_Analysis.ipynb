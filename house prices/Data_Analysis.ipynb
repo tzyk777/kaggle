{
 "cells": [
  {
   "cell_type": "markdown",
   "metadata": {},
   "source": [
    "# Data Analysis"
   ]
  },
  {
   "cell_type": "markdown",
   "metadata": {},
   "source": [
    "Loading the data"
   ]
  },
  {
   "cell_type": "code",
   "execution_count": 1,
   "metadata": {
    "collapsed": false
   },
   "outputs": [],
   "source": [
    "import pandas as pd\n",
    "data = pd.DataFrame.from_csv('train.csv')\n",
    "import seaborn as sns\n",
    "\n",
    "import matplotlib.pyplot as plt\n",
    "import matplotlib\n",
    "from matplotlib import pyplot\n",
    "\n",
    "import numpy as np\n",
    "\n",
    "%config InlineBackend.figure_format = 'png' #set 'png' here when working on notebook\n",
    "%matplotlib inline"
   ]
  },
  {
   "cell_type": "code",
   "execution_count": 2,
   "metadata": {
    "collapsed": false
   },
   "outputs": [
    {
     "data": {
      "text/html": [
       "<div>\n",
       "<table border=\"1\" class=\"dataframe\">\n",
       "  <thead>\n",
       "    <tr style=\"text-align: right;\">\n",
       "      <th></th>\n",
       "      <th>MSSubClass</th>\n",
       "      <th>MSZoning</th>\n",
       "      <th>LotFrontage</th>\n",
       "      <th>LotArea</th>\n",
       "      <th>Street</th>\n",
       "      <th>Alley</th>\n",
       "      <th>LotShape</th>\n",
       "      <th>LandContour</th>\n",
       "      <th>Utilities</th>\n",
       "      <th>LotConfig</th>\n",
       "      <th>...</th>\n",
       "      <th>PoolArea</th>\n",
       "      <th>PoolQC</th>\n",
       "      <th>Fence</th>\n",
       "      <th>MiscFeature</th>\n",
       "      <th>MiscVal</th>\n",
       "      <th>MoSold</th>\n",
       "      <th>YrSold</th>\n",
       "      <th>SaleType</th>\n",
       "      <th>SaleCondition</th>\n",
       "      <th>SalePrice</th>\n",
       "    </tr>\n",
       "    <tr>\n",
       "      <th>Id</th>\n",
       "      <th></th>\n",
       "      <th></th>\n",
       "      <th></th>\n",
       "      <th></th>\n",
       "      <th></th>\n",
       "      <th></th>\n",
       "      <th></th>\n",
       "      <th></th>\n",
       "      <th></th>\n",
       "      <th></th>\n",
       "      <th></th>\n",
       "      <th></th>\n",
       "      <th></th>\n",
       "      <th></th>\n",
       "      <th></th>\n",
       "      <th></th>\n",
       "      <th></th>\n",
       "      <th></th>\n",
       "      <th></th>\n",
       "      <th></th>\n",
       "      <th></th>\n",
       "    </tr>\n",
       "  </thead>\n",
       "  <tbody>\n",
       "    <tr>\n",
       "      <th>1</th>\n",
       "      <td>60</td>\n",
       "      <td>RL</td>\n",
       "      <td>65</td>\n",
       "      <td>8450</td>\n",
       "      <td>Pave</td>\n",
       "      <td>NaN</td>\n",
       "      <td>Reg</td>\n",
       "      <td>Lvl</td>\n",
       "      <td>AllPub</td>\n",
       "      <td>Inside</td>\n",
       "      <td>...</td>\n",
       "      <td>0</td>\n",
       "      <td>NaN</td>\n",
       "      <td>NaN</td>\n",
       "      <td>NaN</td>\n",
       "      <td>0</td>\n",
       "      <td>2</td>\n",
       "      <td>2008</td>\n",
       "      <td>WD</td>\n",
       "      <td>Normal</td>\n",
       "      <td>208500</td>\n",
       "    </tr>\n",
       "    <tr>\n",
       "      <th>2</th>\n",
       "      <td>20</td>\n",
       "      <td>RL</td>\n",
       "      <td>80</td>\n",
       "      <td>9600</td>\n",
       "      <td>Pave</td>\n",
       "      <td>NaN</td>\n",
       "      <td>Reg</td>\n",
       "      <td>Lvl</td>\n",
       "      <td>AllPub</td>\n",
       "      <td>FR2</td>\n",
       "      <td>...</td>\n",
       "      <td>0</td>\n",
       "      <td>NaN</td>\n",
       "      <td>NaN</td>\n",
       "      <td>NaN</td>\n",
       "      <td>0</td>\n",
       "      <td>5</td>\n",
       "      <td>2007</td>\n",
       "      <td>WD</td>\n",
       "      <td>Normal</td>\n",
       "      <td>181500</td>\n",
       "    </tr>\n",
       "    <tr>\n",
       "      <th>3</th>\n",
       "      <td>60</td>\n",
       "      <td>RL</td>\n",
       "      <td>68</td>\n",
       "      <td>11250</td>\n",
       "      <td>Pave</td>\n",
       "      <td>NaN</td>\n",
       "      <td>IR1</td>\n",
       "      <td>Lvl</td>\n",
       "      <td>AllPub</td>\n",
       "      <td>Inside</td>\n",
       "      <td>...</td>\n",
       "      <td>0</td>\n",
       "      <td>NaN</td>\n",
       "      <td>NaN</td>\n",
       "      <td>NaN</td>\n",
       "      <td>0</td>\n",
       "      <td>9</td>\n",
       "      <td>2008</td>\n",
       "      <td>WD</td>\n",
       "      <td>Normal</td>\n",
       "      <td>223500</td>\n",
       "    </tr>\n",
       "    <tr>\n",
       "      <th>4</th>\n",
       "      <td>70</td>\n",
       "      <td>RL</td>\n",
       "      <td>60</td>\n",
       "      <td>9550</td>\n",
       "      <td>Pave</td>\n",
       "      <td>NaN</td>\n",
       "      <td>IR1</td>\n",
       "      <td>Lvl</td>\n",
       "      <td>AllPub</td>\n",
       "      <td>Corner</td>\n",
       "      <td>...</td>\n",
       "      <td>0</td>\n",
       "      <td>NaN</td>\n",
       "      <td>NaN</td>\n",
       "      <td>NaN</td>\n",
       "      <td>0</td>\n",
       "      <td>2</td>\n",
       "      <td>2006</td>\n",
       "      <td>WD</td>\n",
       "      <td>Abnorml</td>\n",
       "      <td>140000</td>\n",
       "    </tr>\n",
       "    <tr>\n",
       "      <th>5</th>\n",
       "      <td>60</td>\n",
       "      <td>RL</td>\n",
       "      <td>84</td>\n",
       "      <td>14260</td>\n",
       "      <td>Pave</td>\n",
       "      <td>NaN</td>\n",
       "      <td>IR1</td>\n",
       "      <td>Lvl</td>\n",
       "      <td>AllPub</td>\n",
       "      <td>FR2</td>\n",
       "      <td>...</td>\n",
       "      <td>0</td>\n",
       "      <td>NaN</td>\n",
       "      <td>NaN</td>\n",
       "      <td>NaN</td>\n",
       "      <td>0</td>\n",
       "      <td>12</td>\n",
       "      <td>2008</td>\n",
       "      <td>WD</td>\n",
       "      <td>Normal</td>\n",
       "      <td>250000</td>\n",
       "    </tr>\n",
       "  </tbody>\n",
       "</table>\n",
       "<p>5 rows × 80 columns</p>\n",
       "</div>"
      ],
      "text/plain": [
       "    MSSubClass MSZoning  LotFrontage  LotArea Street Alley LotShape  \\\n",
       "Id                                                                    \n",
       "1           60       RL           65     8450   Pave   NaN      Reg   \n",
       "2           20       RL           80     9600   Pave   NaN      Reg   \n",
       "3           60       RL           68    11250   Pave   NaN      IR1   \n",
       "4           70       RL           60     9550   Pave   NaN      IR1   \n",
       "5           60       RL           84    14260   Pave   NaN      IR1   \n",
       "\n",
       "   LandContour Utilities LotConfig    ...     PoolArea PoolQC Fence  \\\n",
       "Id                                    ...                             \n",
       "1          Lvl    AllPub    Inside    ...            0    NaN   NaN   \n",
       "2          Lvl    AllPub       FR2    ...            0    NaN   NaN   \n",
       "3          Lvl    AllPub    Inside    ...            0    NaN   NaN   \n",
       "4          Lvl    AllPub    Corner    ...            0    NaN   NaN   \n",
       "5          Lvl    AllPub       FR2    ...            0    NaN   NaN   \n",
       "\n",
       "   MiscFeature MiscVal MoSold  YrSold  SaleType  SaleCondition  SalePrice  \n",
       "Id                                                                         \n",
       "1          NaN       0      2    2008        WD         Normal     208500  \n",
       "2          NaN       0      5    2007        WD         Normal     181500  \n",
       "3          NaN       0      9    2008        WD         Normal     223500  \n",
       "4          NaN       0      2    2006        WD        Abnorml     140000  \n",
       "5          NaN       0     12    2008        WD         Normal     250000  \n",
       "\n",
       "[5 rows x 80 columns]"
      ]
     },
     "execution_count": 2,
     "metadata": {},
     "output_type": "execute_result"
    }
   ],
   "source": [
    "data.head()"
   ]
  },
  {
   "cell_type": "markdown",
   "metadata": {},
   "source": [
    "## Missing values"
   ]
  },
  {
   "cell_type": "code",
   "execution_count": 3,
   "metadata": {
    "collapsed": false,
    "scrolled": false
   },
   "outputs": [
    {
     "data": {
      "text/plain": [
       "Electrical       0.068493\n",
       "MasVnrType       0.547945\n",
       "MasVnrArea       0.547945\n",
       "BsmtQual         2.534247\n",
       "BsmtCond         2.534247\n",
       "BsmtFinType1     2.534247\n",
       "BsmtExposure     2.602740\n",
       "BsmtFinType2     2.602740\n",
       "GarageCond       5.547945\n",
       "GarageQual       5.547945\n",
       "GarageFinish     5.547945\n",
       "GarageType       5.547945\n",
       "GarageYrBlt      5.547945\n",
       "LotFrontage     17.739726\n",
       "FireplaceQu     47.260274\n",
       "Fence           80.753425\n",
       "Alley           93.767123\n",
       "MiscFeature     96.301370\n",
       "PoolQC          99.520548\n",
       "dtype: float64"
      ]
     },
     "execution_count": 3,
     "metadata": {},
     "output_type": "execute_result"
    }
   ],
   "source": [
    "data.isnull().sum()[data.isnull().sum() != 0].sort_values() /len(data) * 100"
   ]
  },
  {
   "cell_type": "markdown",
   "metadata": {},
   "source": [
    "### PoolQC"
   ]
  },
  {
   "cell_type": "markdown",
   "metadata": {},
   "source": [
    "99.52% houses don't have a Pool\n",
    "\n",
    "Another thing to note about PoolQC is that it is strong related to PoolArea, for those houses without a pool, their \"PoolArea\" are always 0"
   ]
  },
  {
   "cell_type": "code",
   "execution_count": 4,
   "metadata": {
    "collapsed": false
   },
   "outputs": [],
   "source": [
    "data_copy = data.fillna('NA').copy()"
   ]
  },
  {
   "cell_type": "code",
   "execution_count": 5,
   "metadata": {
    "collapsed": false
   },
   "outputs": [
    {
     "data": {
      "text/plain": [
       "<matplotlib.axes._subplots.AxesSubplot at 0x1aaebe8c940>"
      ]
     },
     "execution_count": 5,
     "metadata": {},
     "output_type": "execute_result"
    },
    {
     "data": {
      "image/png": "[encoded data removed]",
      "text/plain": [
       "<matplotlib.figure.Figure at 0x1aaebeb56d8>"
      ]
     },
     "metadata": {},
     "output_type": "display_data"
    }
   ],
   "source": [
    "data_copy.boxplot(column='SalePrice', by='PoolQC', figsize=(4,4))"
   ]
  },
  {
   "cell_type": "code",
   "execution_count": 6,
   "metadata": {
    "collapsed": false
   },
   "outputs": [
    {
     "data": {
      "text/plain": [
       "PoolQC       \n",
       "Ex      count         2.000000\n",
       "        mean     490000.000000\n",
       "        std      360624.458405\n",
       "        min      235000.000000\n",
       "        25%      362500.000000\n",
       "        50%      490000.000000\n",
       "        75%      617500.000000\n",
       "        max      745000.000000\n",
       "Fa      count         2.000000\n",
       "        mean     215500.000000\n",
       "        std       48790.367902\n",
       "        min      181000.000000\n",
       "        25%      198250.000000\n",
       "        50%      215500.000000\n",
       "        75%      232750.000000\n",
       "        max      250000.000000\n",
       "Gd      count         3.000000\n",
       "        mean     201990.000000\n",
       "        std       63441.392639\n",
       "        min      160000.000000\n",
       "        25%      165500.000000\n",
       "        50%      171000.000000\n",
       "        75%      222985.000000\n",
       "        max      274970.000000\n",
       "NA      count      1453.000000\n",
       "        mean     180404.663455\n",
       "        std       78168.872519\n",
       "        min       34900.000000\n",
       "        25%      129900.000000\n",
       "        50%      162900.000000\n",
       "        75%      213500.000000\n",
       "        max      755000.000000\n",
       "dtype: float64"
      ]
     },
     "execution_count": 6,
     "metadata": {},
     "output_type": "execute_result"
    }
   ],
   "source": [
    "data_copy.groupby('PoolQC')['SalePrice'].describe()"
   ]
  },
  {
   "cell_type": "markdown",
   "metadata": {},
   "source": [
    "We can see two houses with excellent pool do have higher prices than others, probably this indicates these two houses' other properties are also good, an excellent house should be excellent on all the aspects, right? let's check these two houses' \"OverallQual\", we are looking a litte bit ahead here, however we will see soon that \"OverallQual\" is a crucial element in determing the house price"
   ]
  },
  {
   "cell_type": "code",
   "execution_count": 7,
   "metadata": {
    "collapsed": false
   },
   "outputs": [
    {
     "data": {
      "text/plain": [
       "Id\n",
       "198      8\n",
       "1183    10\n",
       "Name: OverallQual, dtype: int64"
      ]
     },
     "execution_count": 7,
     "metadata": {},
     "output_type": "execute_result"
    }
   ],
   "source": [
    "data_copy[data_copy['PoolQC'] == 'Ex']['OverallQual']"
   ]
  },
  {
   "cell_type": "markdown",
   "metadata": {},
   "source": [
    "According to the documentation:\n",
    "    \n",
    "OverallQual: Rates the overall material and finish of the house\n",
    "\n",
    "       10\tVery Excellent\n",
    "       9\tExcellent\n",
    "       8\tVery Good\n",
    "       7\tGood\n",
    "       6\tAbove Average\n",
    "       5\tAverage\n",
    "       4\tBelow Average\n",
    "       3\tFair\n",
    "       2\tPoor\n",
    "       1\tVery Poor\n",
    "       \n",
    "Indeed, these two houses' overall quality are very good! However, prices for houses without pool range from 34900 to 755000, we cannot say houses with pool are more expensive than houses without one. \n",
    "\n",
    "Next, let's take a look at PoolArea"
   ]
  },
  {
   "cell_type": "code",
   "execution_count": 8,
   "metadata": {
    "collapsed": false
   },
   "outputs": [
    {
     "data": {
      "text/plain": [
       "<matplotlib.axes._subplots.AxesSubplot at 0x1aaec7f7748>"
      ]
     },
     "execution_count": 8,
     "metadata": {},
     "output_type": "execute_result"
    },
    {
     "data": {
      "image/png": "[encoded data removed]",
      "text/plain": [
       "<matplotlib.figure.Figure at 0x1aaec339438>"
      ]
     },
     "metadata": {},
     "output_type": "display_data"
    }
   ],
   "source": [
    "data_copy.boxplot(column='SalePrice', by='PoolArea', figsize=(4, 4))"
   ]
  },
  {
   "cell_type": "markdown",
   "metadata": {},
   "source": [
    "Again, we cannot find a strong relationship between PoolArea and SalePrice, house with bigger pool doesn't always has a higher sale price, given most of houses don't have pool and the facts we found about PoolQC and PoolArea, we can drop these two columns."
   ]
  },
  {
   "cell_type": "markdown",
   "metadata": {},
   "source": [
    "### FireplaceQu"
   ]
  },
  {
   "cell_type": "markdown",
   "metadata": {},
   "source": [
    "Miscellaneous feature not covered in other categories, from the name and definition we can see this is not really a property of a house, we can throw it away by only looking at the name, but to be safe, let's take a look first"
   ]
  },
  {
   "cell_type": "code",
   "execution_count": 9,
   "metadata": {
    "collapsed": false
   },
   "outputs": [
    {
     "data": {
      "text/plain": [
       "<matplotlib.axes._subplots.AxesSubplot at 0x1aaec31f198>"
      ]
     },
     "execution_count": 9,
     "metadata": {},
     "output_type": "execute_result"
    },
    {
     "data": {
      "image/png": "[encoded data removed]",
      "text/plain": [
       "<matplotlib.figure.Figure at 0x1aaec85aef0>"
      ]
     },
     "metadata": {},
     "output_type": "display_data"
    }
   ],
   "source": [
    "data_copy.boxplot(column='SalePrice', by='MiscFeature', figsize=(4,4))"
   ]
  },
  {
   "cell_type": "markdown",
   "metadata": {},
   "source": [
    "No valuable information, it doesn't worth spending too much time on this, I bet when you buying a house, this is the last thing to consider"
   ]
  },
  {
   "cell_type": "markdown",
   "metadata": {},
   "source": [
    "### Alley"
   ]
  },
  {
   "cell_type": "markdown",
   "metadata": {},
   "source": [
    "Type of alley access to property\n",
    "\n",
    "Again, from the definition, this is only a good thing to have, we won't give too much weights to it."
   ]
  },
  {
   "cell_type": "code",
   "execution_count": 10,
   "metadata": {
    "collapsed": false
   },
   "outputs": [
    {
     "data": {
      "text/plain": [
       "<matplotlib.axes._subplots.AxesSubplot at 0x1aaeca11668>"
      ]
     },
     "execution_count": 10,
     "metadata": {},
     "output_type": "execute_result"
    },
    {
     "data": {
      "image/png": "[encoded data removed]",
      "text/plain": [
       "<matplotlib.figure.Figure at 0x1aaec9818d0>"
      ]
     },
     "metadata": {},
     "output_type": "display_data"
    }
   ],
   "source": [
    "data_copy.boxplot(column='SalePrice', by='Alley', figsize=(4,4))"
   ]
  },
  {
   "cell_type": "code",
   "execution_count": 11,
   "metadata": {
    "collapsed": false
   },
   "outputs": [
    {
     "data": {
      "text/plain": [
       "Alley       \n",
       "Grvl   count        50.000000\n",
       "       mean     122219.080000\n",
       "       std       34780.780734\n",
       "       min       52500.000000\n",
       "       25%      105312.500000\n",
       "       50%      119500.000000\n",
       "       75%      136750.000000\n",
       "       max      256000.000000\n",
       "NA     count      1369.000000\n",
       "       mean     183452.131483\n",
       "       std       80667.145180\n",
       "       min       34900.000000\n",
       "       25%      130500.000000\n",
       "       50%      165000.000000\n",
       "       75%      217500.000000\n",
       "       max      755000.000000\n",
       "Pave   count        41.000000\n",
       "       mean     168000.585366\n",
       "       std       38370.375243\n",
       "       min       40000.000000\n",
       "       25%      151000.000000\n",
       "       50%      172500.000000\n",
       "       75%      185000.000000\n",
       "       max      265979.000000\n",
       "dtype: float64"
      ]
     },
     "execution_count": 11,
     "metadata": {},
     "output_type": "execute_result"
    }
   ],
   "source": [
    "data_copy.groupby('Alley')['SalePrice'].describe()"
   ]
  },
  {
   "cell_type": "markdown",
   "metadata": {},
   "source": [
    "### Fence"
   ]
  },
  {
   "cell_type": "markdown",
   "metadata": {},
   "source": [
    "Fence Quality"
   ]
  },
  {
   "cell_type": "code",
   "execution_count": 12,
   "metadata": {
    "collapsed": false
   },
   "outputs": [
    {
     "data": {
      "text/plain": [
       "<matplotlib.axes._subplots.AxesSubplot at 0x1aaecabba90>"
      ]
     },
     "execution_count": 12,
     "metadata": {},
     "output_type": "execute_result"
    },
    {
     "data": {
      "image/png": "[encoded data removed]",
      "text/plain": [
       "<matplotlib.figure.Figure at 0x1aaeca0aba8>"
      ]
     },
     "metadata": {},
     "output_type": "display_data"
    }
   ],
   "source": [
    "data_copy.boxplot(column='SalePrice', by='Fence', figsize=(4, 4))"
   ]
  },
  {
   "cell_type": "markdown",
   "metadata": {},
   "source": [
    "### FireplaceQu"
   ]
  },
  {
   "cell_type": "code",
   "execution_count": 13,
   "metadata": {
    "collapsed": false
   },
   "outputs": [
    {
     "data": {
      "text/plain": [
       "<matplotlib.axes._subplots.AxesSubplot at 0x1aaecb857f0>"
      ]
     },
     "execution_count": 13,
     "metadata": {},
     "output_type": "execute_result"
    },
    {
     "data": {
      "image/png": "[encoded data removed]",
      "text/plain": [
       "<matplotlib.figure.Figure at 0x1aaecaff2e8>"
      ]
     },
     "metadata": {},
     "output_type": "display_data"
    }
   ],
   "source": [
    "data_copy.boxplot(column='SalePrice', by='FireplaceQu', figsize=(4, 4))"
   ]
  },
  {
   "cell_type": "markdown",
   "metadata": {},
   "source": [
    "We see that FireplaceQu does have an affect on SalePrice, we cannot throw it away arbitrarily, however, it has nearly 50% missing data, what should we do? "
   ]
  },
  {
   "cell_type": "code",
   "execution_count": 14,
   "metadata": {
    "collapsed": false
   },
   "outputs": [
    {
     "data": {
      "text/plain": [
       "FireplaceQu       \n",
       "Ex           count        24.000000\n",
       "             mean     337712.500000\n",
       "             std      123611.471764\n",
       "             min      130500.000000\n",
       "             25%      265070.000000\n",
       "             50%      314250.000000\n",
       "             75%      411324.500000\n",
       "             max      755000.000000\n",
       "Fa           count        33.000000\n",
       "             mean     167298.484848\n",
       "             std       34287.717564\n",
       "             min      117000.000000\n",
       "             25%      143000.000000\n",
       "             50%      158000.000000\n",
       "             75%      187000.000000\n",
       "             max      262000.000000\n",
       "Gd           count       380.000000\n",
       "             mean     226351.415789\n",
       "             std       91123.148369\n",
       "             min       90350.000000\n",
       "             25%      159671.250000\n",
       "             50%      206950.000000\n",
       "             75%      274977.500000\n",
       "             max      611657.000000\n",
       "NA           count       690.000000\n",
       "             mean     141331.482609\n",
       "             std       44389.786884\n",
       "             min       34900.000000\n",
       "             25%      112000.000000\n",
       "             50%      135000.000000\n",
       "             75%      164375.000000\n",
       "             max      342643.000000\n",
       "Po           count        20.000000\n",
       "             mean     129764.150000\n",
       "             std       31080.842115\n",
       "             min       60000.000000\n",
       "             25%      120925.000000\n",
       "             50%      131500.000000\n",
       "             75%      149500.000000\n",
       "             max      172000.000000\n",
       "TA           count       313.000000\n",
       "             mean     205723.488818\n",
       "             std       71367.028772\n",
       "             min       82500.000000\n",
       "             25%      165000.000000\n",
       "             50%      187500.000000\n",
       "             75%      236000.000000\n",
       "             max      745000.000000\n",
       "dtype: float64"
      ]
     },
     "execution_count": 14,
     "metadata": {},
     "output_type": "execute_result"
    }
   ],
   "source": [
    "data_copy.groupby('FireplaceQu')['SalePrice'].describe()"
   ]
  },
  {
   "cell_type": "code",
   "execution_count": 15,
   "metadata": {
    "collapsed": false
   },
   "outputs": [
    {
     "data": {
      "image/png": "[encoded data removed]",
      "text/plain": [
       "<matplotlib.figure.Figure at 0x1aaecbde550>"
      ]
     },
     "metadata": {},
     "output_type": "display_data"
    }
   ],
   "source": [
    "fig = plt.figure(figsize=(12, 12))\n",
    "for x, condition in enumerate([cond for cond in data_copy['FireplaceQu'].unique() if cond != 'NA']):\n",
    "    bins = np.linspace(data_copy[data_copy['FireplaceQu'].isin(['NA', condition])]['SalePrice'].min(),\n",
    "                       data_copy[data_copy['FireplaceQu'].isin(['NA', condition])]['SalePrice'].max(),\n",
    "                       100)\n",
    "    fig = plt.subplot(3, 2, x+1)\n",
    "    fig.hist(data_copy[data_copy['FireplaceQu'] == condition]['SalePrice'], bins, label=condition)\n",
    "    fig.hist(data_copy[data_copy['FireplaceQu'] == 'NA']['SalePrice'], bins, label='NA')\n",
    "    fig.legend()"
   ]
  },
  {
   "cell_type": "markdown",
   "metadata": {},
   "source": [
    "No matter from the statistics and the graph, we can see houses without fireplace have similar price as houses with a poor condition fireplace. Looking at https://www.houselogic.com/organize-maintain/home-maintenance-tips/fireplace-addition-costs/ it does cost about 5000 to install a gas fireplace and over 10000 to install a wood-burning fireplace, it's reasonable for the owner to ask a higher price if he/she has one in house. So we are going to fill na values with 'Po'"
   ]
  },
  {
   "cell_type": "markdown",
   "metadata": {},
   "source": [
    "By the way, there is another property called Fireplaces which describes how many fireplaces a house has, let's take a look at it before we continue"
   ]
  },
  {
   "cell_type": "code",
   "execution_count": 16,
   "metadata": {
    "collapsed": false
   },
   "outputs": [
    {
     "data": {
      "text/plain": [
       "<matplotlib.axes._subplots.AxesSubplot at 0x1aaecc7bc50>"
      ]
     },
     "execution_count": 16,
     "metadata": {},
     "output_type": "execute_result"
    },
    {
     "data": {
      "image/png": "[encoded data removed]",
      "text/plain": [
       "<matplotlib.figure.Figure at 0x1aaecc7b4a8>"
      ]
     },
     "metadata": {},
     "output_type": "display_data"
    }
   ],
   "source": [
    "data_copy.boxplot(column='SalePrice', by='Fireplaces', figsize=(4, 4))"
   ]
  },
  {
   "cell_type": "markdown",
   "metadata": {},
   "source": [
    "We do see a pattern that houses with more fireplaces on average have higher sale prices!"
   ]
  },
  {
   "cell_type": "markdown",
   "metadata": {},
   "source": [
    "### LotFrontage"
   ]
  },
  {
   "cell_type": "markdown",
   "metadata": {},
   "source": [
    "Finally, let's investigate LotFrontage as it has roughly 18% missing vlaues."
   ]
  },
  {
   "cell_type": "code",
   "execution_count": 17,
   "metadata": {
    "collapsed": false
   },
   "outputs": [
    {
     "data": {
      "text/plain": [
       "count    1460.000000\n",
       "mean       57.623288\n",
       "std        34.664304\n",
       "min         0.000000\n",
       "25%        42.000000\n",
       "50%        63.000000\n",
       "75%        79.000000\n",
       "max       313.000000\n",
       "Name: LotFrontage, dtype: float64"
      ]
     },
     "execution_count": 17,
     "metadata": {},
     "output_type": "execute_result"
    }
   ],
   "source": [
    "data_copy.loc[data_copy['LotFrontage'] == 'NA', 'LotFrontage'] = 0\n",
    "data_copy['LotFrontage'].astype(float).describe()"
   ]
  },
  {
   "cell_type": "code",
   "execution_count": 18,
   "metadata": {
    "collapsed": true
   },
   "outputs": [],
   "source": [
    "data_copy['LotFrontageGroup'] = data_copy['LotFrontage'].apply(lambda x: x // 20 * 20)"
   ]
  },
  {
   "cell_type": "code",
   "execution_count": 19,
   "metadata": {
    "collapsed": false
   },
   "outputs": [
    {
     "data": {
      "text/plain": [
       "<matplotlib.axes._subplots.AxesSubplot at 0x1aaeea6abe0>"
      ]
     },
     "execution_count": 19,
     "metadata": {},
     "output_type": "execute_result"
    },
    {
     "data": {
      "image/png": "[encoded data removed]",
      "text/plain": [
       "<matplotlib.figure.Figure at 0x1aaecc5afd0>"
      ]
     },
     "metadata": {},
     "output_type": "display_data"
    }
   ],
   "source": [
    "data_copy.boxplot(column='SalePrice', by='LotFrontageGroup', figsize=(4, 4))"
   ]
  },
  {
   "cell_type": "markdown",
   "metadata": {},
   "source": [
    "On average, house price increases as LotFrontage increases, so we do not drop this feature, instead, we should fill missing values with 0 and convert it to a numeric variable later"
   ]
  },
  {
   "cell_type": "markdown",
   "metadata": {},
   "source": [
    "Okay, we are pretty much done with missing values, we have checked features which have more than 15% missing values and came up with the strategy to handle them.\n",
    "In sum, we do the following:\n",
    "- PoolQC and PoolArea: Drop\n",
    "- MiscFeature: Drop\n",
    "- Alley: Drop\n",
    "- Fence: Drop\n",
    "- FireplaceQu: Fill with 'Po'\n",
    "\n",
    "For the remaining features which have missing values we fill them with mean if they are numerical variables or fill them with the most frequent category if they are categorical variables"
   ]
  },
  {
   "cell_type": "code",
   "execution_count": 20,
   "metadata": {
    "collapsed": false
   },
   "outputs": [],
   "source": [
    "interested_cols = [col for col in data.columns if col not in ('PoolQC', 'PoolArea', 'MiscFeature', 'Alley', 'Fence')]"
   ]
  },
  {
   "cell_type": "code",
   "execution_count": 21,
   "metadata": {
    "collapsed": false
   },
   "outputs": [],
   "source": [
    "data = data[interested_cols]\n",
    "data.loc['FireplaceQu'] = data['FireplaceQu'].fillna('Po')"
   ]
  },
  {
   "cell_type": "markdown",
   "metadata": {},
   "source": [
    "To distinguish between categorical variable and numerical variable, we assume that if the proportion of unique values if less than 5%, we think this variable is a categorical variable, otherwise it's a numerical variable"
   ]
  },
  {
   "cell_type": "code",
   "execution_count": 22,
   "metadata": {
    "collapsed": false
   },
   "outputs": [],
   "source": [
    "numerical_features = []\n",
    "categorical_features = []\n",
    "for var in interested_cols:\n",
    "    if 1. * data[var].nunique() / data[var].count() < 0.05:\n",
    "        categorical_features.append(var)\n",
    "        data[var] = data[var].astype('category')\n",
    "    elif var != 'SalePrice':\n",
    "        numerical_features.append(var)\n",
    "        data[var] = data[var].astype(float)"
   ]
  },
  {
   "cell_type": "markdown",
   "metadata": {},
   "source": [
    "Fill the remaning missing values, here we take different strategies for categorical variables and numerical variables.\n",
    "\n",
    "For numerical variables, we fill the missing values with mean, for categorical variables we fill the missing values with the most frequent value"
   ]
  },
  {
   "cell_type": "code",
   "execution_count": 26,
   "metadata": {
    "collapsed": false
   },
   "outputs": [],
   "source": [
    "from sklearn.preprocessing import Imputer\n",
    "\n",
    "imr = Imputer(missing_values='NaN', strategy='mean', axis=0)\n",
    "data[numerical_features] = imr.fit_transform(data[numerical_features])"
   ]
  },
  {
   "cell_type": "code",
   "execution_count": 27,
   "metadata": {
    "collapsed": true
   },
   "outputs": [],
   "source": [
    "for var in categorical_features:\n",
    "    data[var] = data[var].fillna(data[var].value_counts().idxmax())"
   ]
  },
  {
   "cell_type": "markdown",
   "metadata": {},
   "source": [
    "## Correlation"
   ]
  },
  {
   "cell_type": "markdown",
   "metadata": {},
   "source": [
    "### Numerical variables"
   ]
  },
  {
   "cell_type": "code",
   "execution_count": 28,
   "metadata": {
    "collapsed": false
   },
   "outputs": [
    {
     "data": {
      "text/plain": [
       "<matplotlib.axes._subplots.AxesSubplot at 0x1aaef40a908>"
      ]
     },
     "execution_count": 28,
     "metadata": {},
     "output_type": "execute_result"
    },
    {
     "data": {
      "image/png": "[encoded data removed]",
      "text/plain": [
       "<matplotlib.figure.Figure at 0x1aaef2ffd30>"
      ]
     },
     "metadata": {},
     "output_type": "display_data"
    }
   ],
   "source": [
    "correlation_matrix = data[numerical_features].corr()\n",
    "plt.figure(figsize=(10, 10))\n",
    "sns.heatmap(correlation_matrix, vmax=1, square=True)"
   ]
  },
  {
   "cell_type": "code",
   "execution_count": 114,
   "metadata": {
    "collapsed": false
   },
   "outputs": [
    {
     "data": {
      "text/plain": [
       "'LotFrontage'"
      ]
     },
     "execution_count": 114,
     "metadata": {},
     "output_type": "execute_result"
    }
   ],
   "source": [
    "correlation_matrix.columns[0]"
   ]
  },
  {
   "cell_type": "code",
   "execution_count": 117,
   "metadata": {
    "collapsed": true
   },
   "outputs": [],
   "source": [
    "corr = {}\n",
    "for row in range(1, len(correlation_matrix)):\n",
    "    for col in range(0, row):\n",
    "        corr[(correlation_matrix.columns[row], correlation_matrix.columns[col])] = correlation_matrix.iloc[row, col]\n",
    "\n",
    "import operator\n",
    "sorted_corr = sorted(corr.items(), key=operator.itemgetter(1), reverse=True)   "
   ]
  },
  {
   "cell_type": "code",
   "execution_count": 118,
   "metadata": {
    "collapsed": false
   },
   "outputs": [
    {
     "data": {
      "text/plain": [
       "[(('1stFlrSF', 'TotalBsmtSF'), 0.81952997500503533),\n",
       " (('GarageYrBlt', 'YearBuilt'), 0.78055499353095714),\n",
       " (('GrLivArea', '2ndFlrSF'), 0.68750106416660084),\n",
       " (('GrLivArea', '1stFlrSF'), 0.56602396893574869),\n",
       " (('TotalBsmtSF', 'BsmtFinSF1'), 0.52239605199239059),\n",
       " (('2ndFlrSF', '1stFlrSF'), -0.20264618100231988),\n",
       " (('BsmtUnfSF', 'BsmtFinSF2'), -0.20929449241994658),\n",
       " (('EnclosedPorch', 'GarageYrBlt'), -0.28588228045714892),\n",
       " (('EnclosedPorch', 'YearBuilt'), -0.38726778292807695),\n",
       " (('BsmtUnfSF', 'BsmtFinSF1'), -0.49525146925701485)]"
      ]
     },
     "execution_count": 118,
     "metadata": {},
     "output_type": "execute_result"
    }
   ],
   "source": [
    "sorted_corr[:5] + sorted_corr[-5:]"
   ]
  },
  {
   "cell_type": "markdown",
   "metadata": {},
   "source": [
    "1stFlrSF has a strong correlation with TotalBsmtSF, this makes sense as "
   ]
  }
 ],
 "metadata": {
  "kernelspec": {
   "display_name": "Python 3",
   "language": "python",
   "name": "python3"
  },
  "language_info": {
   "codemirror_mode": {
    "name": "ipython",
    "version": 3
   },
   "file_extension": ".py",
   "mimetype": "text/x-python",
   "name": "python",
   "nbconvert_exporter": "python",
   "pygments_lexer": "ipython3",
   "version": "3.5.1"
  }
 },
 "nbformat": 4,
 "nbformat_minor": 0
}
