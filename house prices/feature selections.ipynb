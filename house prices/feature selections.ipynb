{
 "cells": [
  {
   "cell_type": "markdown",
   "metadata": {},
   "source": [
    "# Feautre Selection"
   ]
  },
  {
   "cell_type": "markdown",
   "metadata": {},
   "source": [
    "#### Data preprocess"
   ]
  },
  {
   "cell_type": "code",
   "execution_count": 153,
   "metadata": {
    "collapsed": false
   },
   "outputs": [],
   "source": [
    "import pandas as pd\n",
    "import numpy as np\n",
    "from sklearn.feature_selection import RFE\n",
    "from sklearn import linear_model\n",
    "from mutual_info import mutual_information_2d, mutual_information\n",
    "import operator\n",
    "from matplotlib import pyplot as plt\n",
    "from scipy import stats\n",
    "from sklearn.model_selection import cross_val_score\n",
    "from sklearn import linear_model\n",
    "import matplotlib\n",
    "from sklearn.metrics import mean_squared_error\n",
    "from scipy.stats import skew"
   ]
  },
  {
   "cell_type": "code",
   "execution_count": 154,
   "metadata": {
    "collapsed": true
   },
   "outputs": [],
   "source": [
    "training_data = pd.DataFrame.from_csv('train.csv')\n",
    "test_data = pd.DataFrame.from_csv('test.csv')\n",
    "training_data_idx = len(training_data)\n",
    "data = pd.concat([training_data, test_data])\n",
    "target = 'SalePrice'\n",
    "saleprice = training_data[target]"
   ]
  },
  {
   "cell_type": "markdown",
   "metadata": {},
   "source": [
    "Check each feature's data type"
   ]
  },
  {
   "cell_type": "code",
   "execution_count": 155,
   "metadata": {
    "collapsed": true
   },
   "outputs": [],
   "source": [
    "categorical_variables = []\n",
    "numerical_variables = []\n",
    "for col in data.columns:\n",
    "    if data[col].dtype == object or 'yr' in col.lower() or 'year' in col.lower():\n",
    "        categorical_variables.append(col)\n",
    "    elif col != target:\n",
    "        numerical_variables.append(col)"
   ]
  },
  {
   "cell_type": "markdown",
   "metadata": {},
   "source": [
    "numerical variables can still be categorical"
   ]
  },
  {
   "cell_type": "code",
   "execution_count": 156,
   "metadata": {
    "collapsed": true
   },
   "outputs": [],
   "source": [
    "fig = plt.figure(1)\n",
    "for idx, col_name in enumerate(numerical_variables):\n",
    "    fig.add_subplot(8, 4, idx+1)\n",
    "    plt.scatter(training_data[col_name], saleprice)\n",
    "    plt.title(col_name)\n",
    "plt.show()"
   ]
  },
  {
   "cell_type": "code",
   "execution_count": 157,
   "metadata": {
    "collapsed": true
   },
   "outputs": [],
   "source": [
    "continuous_variables = ['LotFrontage', 'LotArea', 'MasVnrArea', 'BsmtFinSF1', 'BsmtFinSF2',\n",
    "                       'BsmtUnfSF', 'TotalBsmtSF', '1stFlrSF', '2ndFlrSF', 'GrLivArea', \n",
    "                       'GarageArea', 'WoodDeckSF', 'OpenPorchSF', 'EnclosedPorch', 'ScreenPorch',\n",
    "                       'MiscVal']"
   ]
  },
  {
   "cell_type": "code",
   "execution_count": 158,
   "metadata": {
    "collapsed": true
   },
   "outputs": [],
   "source": [
    "categorical_variables = [var for var in data.columns.values.tolist() if var not in continuous_variables and var != target]"
   ]
  },
  {
   "cell_type": "code",
   "execution_count": 159,
   "metadata": {
    "collapsed": false
   },
   "outputs": [],
   "source": [
    "data[continuous_variables] = data[continuous_variables].fillna(data[:training_data_idx][continuous_variables].mean())\n",
    "data[categorical_variables] = data[categorical_variables].fillna('NA')\n",
    "for col in categorical_variables: data[col] = data[col].astype('category')"
   ]
  },
  {
   "cell_type": "markdown",
   "metadata": {},
   "source": [
    "Categorical feature selection"
   ]
  },
  {
   "cell_type": "code",
   "execution_count": 160,
   "metadata": {
    "collapsed": false
   },
   "outputs": [
    {
     "data": {
      "text/html": [
       "<div>\n",
       "<table border=\"1\" class=\"dataframe\">\n",
       "  <thead>\n",
       "    <tr style=\"text-align: right;\">\n",
       "      <th></th>\n",
       "      <th>3SsnPorch</th>\n",
       "      <th>Alley</th>\n",
       "      <th>BedroomAbvGr</th>\n",
       "      <th>BldgType</th>\n",
       "      <th>BsmtCond</th>\n",
       "      <th>BsmtExposure</th>\n",
       "      <th>BsmtFinType1</th>\n",
       "      <th>BsmtFinType2</th>\n",
       "      <th>BsmtFullBath</th>\n",
       "      <th>BsmtHalfBath</th>\n",
       "      <th>...</th>\n",
       "      <th>RoofMatl</th>\n",
       "      <th>RoofStyle</th>\n",
       "      <th>SaleCondition</th>\n",
       "      <th>SaleType</th>\n",
       "      <th>Street</th>\n",
       "      <th>TotRmsAbvGrd</th>\n",
       "      <th>Utilities</th>\n",
       "      <th>YearBuilt</th>\n",
       "      <th>YearRemodAdd</th>\n",
       "      <th>YrSold</th>\n",
       "    </tr>\n",
       "    <tr>\n",
       "      <th>Id</th>\n",
       "      <th></th>\n",
       "      <th></th>\n",
       "      <th></th>\n",
       "      <th></th>\n",
       "      <th></th>\n",
       "      <th></th>\n",
       "      <th></th>\n",
       "      <th></th>\n",
       "      <th></th>\n",
       "      <th></th>\n",
       "      <th></th>\n",
       "      <th></th>\n",
       "      <th></th>\n",
       "      <th></th>\n",
       "      <th></th>\n",
       "      <th></th>\n",
       "      <th></th>\n",
       "      <th></th>\n",
       "      <th></th>\n",
       "      <th></th>\n",
       "      <th></th>\n",
       "    </tr>\n",
       "  </thead>\n",
       "  <tbody>\n",
       "    <tr>\n",
       "      <th>1</th>\n",
       "      <td>0</td>\n",
       "      <td>NaN</td>\n",
       "      <td>3</td>\n",
       "      <td>1Fam</td>\n",
       "      <td>TA</td>\n",
       "      <td>No</td>\n",
       "      <td>GLQ</td>\n",
       "      <td>Unf</td>\n",
       "      <td>1</td>\n",
       "      <td>0</td>\n",
       "      <td>...</td>\n",
       "      <td>CompShg</td>\n",
       "      <td>Gable</td>\n",
       "      <td>Normal</td>\n",
       "      <td>WD</td>\n",
       "      <td>Pave</td>\n",
       "      <td>8</td>\n",
       "      <td>AllPub</td>\n",
       "      <td>2003</td>\n",
       "      <td>2003</td>\n",
       "      <td>2008</td>\n",
       "    </tr>\n",
       "    <tr>\n",
       "      <th>2</th>\n",
       "      <td>0</td>\n",
       "      <td>NaN</td>\n",
       "      <td>3</td>\n",
       "      <td>1Fam</td>\n",
       "      <td>TA</td>\n",
       "      <td>Gd</td>\n",
       "      <td>ALQ</td>\n",
       "      <td>Unf</td>\n",
       "      <td>0</td>\n",
       "      <td>1</td>\n",
       "      <td>...</td>\n",
       "      <td>CompShg</td>\n",
       "      <td>Gable</td>\n",
       "      <td>Normal</td>\n",
       "      <td>WD</td>\n",
       "      <td>Pave</td>\n",
       "      <td>6</td>\n",
       "      <td>AllPub</td>\n",
       "      <td>1976</td>\n",
       "      <td>1976</td>\n",
       "      <td>2007</td>\n",
       "    </tr>\n",
       "    <tr>\n",
       "      <th>3</th>\n",
       "      <td>0</td>\n",
       "      <td>NaN</td>\n",
       "      <td>3</td>\n",
       "      <td>1Fam</td>\n",
       "      <td>TA</td>\n",
       "      <td>Mn</td>\n",
       "      <td>GLQ</td>\n",
       "      <td>Unf</td>\n",
       "      <td>1</td>\n",
       "      <td>0</td>\n",
       "      <td>...</td>\n",
       "      <td>CompShg</td>\n",
       "      <td>Gable</td>\n",
       "      <td>Normal</td>\n",
       "      <td>WD</td>\n",
       "      <td>Pave</td>\n",
       "      <td>6</td>\n",
       "      <td>AllPub</td>\n",
       "      <td>2001</td>\n",
       "      <td>2002</td>\n",
       "      <td>2008</td>\n",
       "    </tr>\n",
       "    <tr>\n",
       "      <th>4</th>\n",
       "      <td>0</td>\n",
       "      <td>NaN</td>\n",
       "      <td>3</td>\n",
       "      <td>1Fam</td>\n",
       "      <td>Gd</td>\n",
       "      <td>No</td>\n",
       "      <td>ALQ</td>\n",
       "      <td>Unf</td>\n",
       "      <td>1</td>\n",
       "      <td>0</td>\n",
       "      <td>...</td>\n",
       "      <td>CompShg</td>\n",
       "      <td>Gable</td>\n",
       "      <td>Abnorml</td>\n",
       "      <td>WD</td>\n",
       "      <td>Pave</td>\n",
       "      <td>7</td>\n",
       "      <td>AllPub</td>\n",
       "      <td>1915</td>\n",
       "      <td>1970</td>\n",
       "      <td>2006</td>\n",
       "    </tr>\n",
       "    <tr>\n",
       "      <th>5</th>\n",
       "      <td>0</td>\n",
       "      <td>NaN</td>\n",
       "      <td>4</td>\n",
       "      <td>1Fam</td>\n",
       "      <td>TA</td>\n",
       "      <td>Av</td>\n",
       "      <td>GLQ</td>\n",
       "      <td>Unf</td>\n",
       "      <td>1</td>\n",
       "      <td>0</td>\n",
       "      <td>...</td>\n",
       "      <td>CompShg</td>\n",
       "      <td>Gable</td>\n",
       "      <td>Normal</td>\n",
       "      <td>WD</td>\n",
       "      <td>Pave</td>\n",
       "      <td>9</td>\n",
       "      <td>AllPub</td>\n",
       "      <td>2000</td>\n",
       "      <td>2000</td>\n",
       "      <td>2008</td>\n",
       "    </tr>\n",
       "  </tbody>\n",
       "</table>\n",
       "<p>5 rows × 63 columns</p>\n",
       "</div>"
      ],
      "text/plain": [
       "    3SsnPorch Alley  BedroomAbvGr BldgType BsmtCond BsmtExposure BsmtFinType1  \\\n",
       "Id                                                                              \n",
       "1           0   NaN             3     1Fam       TA           No          GLQ   \n",
       "2           0   NaN             3     1Fam       TA           Gd          ALQ   \n",
       "3           0   NaN             3     1Fam       TA           Mn          GLQ   \n",
       "4           0   NaN             3     1Fam       Gd           No          ALQ   \n",
       "5           0   NaN             4     1Fam       TA           Av          GLQ   \n",
       "\n",
       "   BsmtFinType2  BsmtFullBath  BsmtHalfBath  ...   RoofMatl RoofStyle  \\\n",
       "Id                                           ...                        \n",
       "1           Unf             1             0  ...    CompShg     Gable   \n",
       "2           Unf             0             1  ...    CompShg     Gable   \n",
       "3           Unf             1             0  ...    CompShg     Gable   \n",
       "4           Unf             1             0  ...    CompShg     Gable   \n",
       "5           Unf             1             0  ...    CompShg     Gable   \n",
       "\n",
       "   SaleCondition SaleType Street TotRmsAbvGrd Utilities YearBuilt  \\\n",
       "Id                                                                  \n",
       "1         Normal       WD   Pave            8    AllPub      2003   \n",
       "2         Normal       WD   Pave            6    AllPub      1976   \n",
       "3         Normal       WD   Pave            6    AllPub      2001   \n",
       "4        Abnorml       WD   Pave            7    AllPub      1915   \n",
       "5         Normal       WD   Pave            9    AllPub      2000   \n",
       "\n",
       "   YearRemodAdd YrSold  \n",
       "Id                      \n",
       "1          2003   2008  \n",
       "2          1976   2007  \n",
       "3          2002   2008  \n",
       "4          1970   2006  \n",
       "5          2000   2008  \n",
       "\n",
       "[5 rows x 63 columns]"
      ]
     },
     "execution_count": 160,
     "metadata": {},
     "output_type": "execute_result"
    }
   ],
   "source": [
    "training_data[categorical_variables].head()"
   ]
  },
  {
   "cell_type": "code",
   "execution_count": 161,
   "metadata": {
    "collapsed": false
   },
   "outputs": [],
   "source": [
    "p_vals = {}\n",
    "for col_name in categorical_variables:\n",
    "    df = training_data.groupby(col_name).SalePrice\n",
    "    f_val, p_val = stats.f_oneway(*[tup[1] for tup in df])\n",
    "    p_vals[col_name] = p_val"
   ]
  },
  {
   "cell_type": "code",
   "execution_count": 162,
   "metadata": {
    "collapsed": false
   },
   "outputs": [],
   "source": [
    "anova_features = sorted(p_vals.items(), key=operator.itemgetter(1))"
   ]
  },
  {
   "cell_type": "code",
   "execution_count": 163,
   "metadata": {
    "collapsed": false
   },
   "outputs": [
    {
     "data": {
      "text/plain": [
       "[('OverallQual', 0.0),\n",
       " ('Neighborhood', 1.5586002827707996e-225),\n",
       " ('GarageCars', 1.1211287650614395e-211),\n",
       " ('ExterQual', 1.4395510967787893e-204),\n",
       " ('KitchenQual', 3.0322127528402335e-192)]"
      ]
     },
     "execution_count": 163,
     "metadata": {},
     "output_type": "execute_result"
    }
   ],
   "source": [
    "anova_features[:5]"
   ]
  },
  {
   "cell_type": "code",
   "execution_count": 164,
   "metadata": {
    "collapsed": false
   },
   "outputs": [],
   "source": [
    "training_data.boxplot(column=target, by='Alley', figsize=(8,8))\n",
    "plt.show()"
   ]
  },
  {
   "cell_type": "code",
   "execution_count": 165,
   "metadata": {
    "collapsed": false
   },
   "outputs": [],
   "source": [
    "selected_categorical_features = [feature[0] for feature in anova_features if feature[1] < 0.05]"
   ]
  },
  {
   "cell_type": "code",
   "execution_count": 166,
   "metadata": {
    "collapsed": false
   },
   "outputs": [
    {
     "data": {
      "text/plain": [
       "['OverallQual', 'Neighborhood', 'GarageCars', 'ExterQual', 'KitchenQual']"
      ]
     },
     "execution_count": 166,
     "metadata": {},
     "output_type": "execute_result"
    }
   ],
   "source": [
    "selected_categorical_features[:5]"
   ]
  },
  {
   "cell_type": "markdown",
   "metadata": {},
   "source": [
    "Continuous variables"
   ]
  },
  {
   "cell_type": "code",
   "execution_count": 167,
   "metadata": {
    "collapsed": true
   },
   "outputs": [],
   "source": [
    "cvar_cor_rankings = {}\n",
    "for col_name in continuous_variables:\n",
    "    cvar_cor_rankings[col_name] = np.corrcoef(data[:training_data_idx][col_name], saleprice)[0,1]"
   ]
  },
  {
   "cell_type": "code",
   "execution_count": 168,
   "metadata": {
    "collapsed": false
   },
   "outputs": [],
   "source": [
    "sorted_cvar_cor_rankings = sorted(cvar_cor_rankings.items(), key=operator.itemgetter(1), reverse=True)"
   ]
  },
  {
   "cell_type": "code",
   "execution_count": 169,
   "metadata": {
    "collapsed": false
   },
   "outputs": [],
   "source": [
    "selected_continuous_features = [feature[0] for feature in sorted_cvar_cor_rankings]"
   ]
  },
  {
   "cell_type": "code",
   "execution_count": 170,
   "metadata": {
    "collapsed": false
   },
   "outputs": [],
   "source": [
    "fig = plt.figure(1)\n",
    "for idx, col_tuple in enumerate(sorted_cvar_cor_rankings):\n",
    "    fig.add_subplot(len(sorted_cvar_cor_rankings)/4, 4, idx+1)\n",
    "    plt.scatter(training_data[col_tuple[0]], saleprice)\n",
    "    plt.title(col_tuple[0])\n",
    "plt.show()"
   ]
  },
  {
   "cell_type": "markdown",
   "metadata": {},
   "source": [
    "Check continuous data skewness"
   ]
  },
  {
   "cell_type": "code",
   "execution_count": 171,
   "metadata": {
    "collapsed": false
   },
   "outputs": [],
   "source": [
    "fig = plt.figure(1)\n",
    "for idx, col_name in enumerate(selected_continuous_features):\n",
    "    fig.add_subplot(len(selected_continuous_features)/4, 4, idx+1)\n",
    "    plt.hist(data[:training_data_idx][col_name])\n",
    "    plt.title(col_name)\n",
    "plt.show()"
   ]
  },
  {
   "cell_type": "code",
   "execution_count": 172,
   "metadata": {
    "collapsed": false
   },
   "outputs": [
    {
     "name": "stdout",
     "output_type": "stream",
     "text": [
      "Log transform skewed numeric features GrLivArea\n",
      "Log transform skewed numeric features TotalBsmtSF\n",
      "Log transform skewed numeric features 1stFlrSF\n",
      "Log transform skewed numeric features MasVnrArea\n",
      "Log transform skewed numeric features BsmtFinSF1\n",
      "Log transform skewed numeric features LotFrontage\n",
      "Log transform skewed numeric features WoodDeckSF\n",
      "Log transform skewed numeric features 2ndFlrSF\n",
      "Log transform skewed numeric features OpenPorchSF\n",
      "Log transform skewed numeric features LotArea\n",
      "Log transform skewed numeric features BsmtUnfSF\n",
      "Log transform skewed numeric features ScreenPorch\n",
      "Log transform skewed numeric features BsmtFinSF2\n",
      "Log transform skewed numeric features MiscVal\n",
      "Log transform skewed numeric features EnclosedPorch\n"
     ]
    }
   ],
   "source": [
    "for col_name in selected_continuous_features:\n",
    "    if skew(data[:training_data_idx][col_name]) > 0.75:\n",
    "        print('Log transform skewed numeric features {}'.format(col_name))\n",
    "        data[col_name] = np.log1p(data[col_name])\n",
    "saleprice = np.log1p(saleprice)"
   ]
  },
  {
   "cell_type": "markdown",
   "metadata": {},
   "source": [
    "Get data ready"
   ]
  },
  {
   "cell_type": "code",
   "execution_count": 173,
   "metadata": {
    "collapsed": false
   },
   "outputs": [],
   "source": [
    "dummy_df = pd.get_dummies(data[selected_categorical_features], dummy_na=True)\n",
    "data = pd.concat([data[selected_continuous_features], dummy_df], axis=1)"
   ]
  },
  {
   "cell_type": "code",
   "execution_count": 176,
   "metadata": {
    "collapsed": false
   },
   "outputs": [],
   "source": [
    "features = data.columns.values.tolist()"
   ]
  },
  {
   "cell_type": "code",
   "execution_count": 178,
   "metadata": {
    "collapsed": false
   },
   "outputs": [
    {
     "data": {
      "text/plain": [
       "['GrLivArea',\n",
       " 'GarageArea',\n",
       " 'TotalBsmtSF',\n",
       " '1stFlrSF',\n",
       " 'MasVnrArea',\n",
       " 'BsmtFinSF1',\n",
       " 'LotFrontage',\n",
       " 'WoodDeckSF',\n",
       " '2ndFlrSF',\n",
       " 'OpenPorchSF',\n",
       " 'LotArea',\n",
       " 'BsmtUnfSF',\n",
       " 'ScreenPorch',\n",
       " 'BsmtFinSF2',\n",
       " 'MiscVal',\n",
       " 'EnclosedPorch']"
      ]
     },
     "execution_count": 178,
     "metadata": {},
     "output_type": "execute_result"
    }
   ],
   "source": [
    "selected_continuous_features"
   ]
  },
  {
   "cell_type": "code",
   "execution_count": 179,
   "metadata": {
    "collapsed": true
   },
   "outputs": [],
   "source": [
    "def calculate_validation_error_and_penalty(x, y):\n",
    "    penalties = [1, 3, 5, 10, 15, 30, 50, 70,100,150,250]\n",
    "    best_penalty = None\n",
    "    best_error = None\n",
    "    for penalty in penalties:\n",
    "        error = np.sqrt(-cross_val_score(linear_model.Lasso(alpha=penalty, max_iter=1000000), x, y, scoring='neg_mean_squared_error', cv=5)).mean()\n",
    "        if best_error is None or error < best_error:\n",
    "            best_error = error\n",
    "            best_penalty = penalty\n",
    "    return best_error, best_penalty"
   ]
  },
  {
   "cell_type": "code",
   "execution_count": 180,
   "metadata": {
    "collapsed": false
   },
   "outputs": [
    {
     "name": "stdout",
     "output_type": "stream",
     "text": [
      "16 continuous features have not been checked\n",
      "53 categorical features have not been checked\n",
      "Continuous feature GrLivArea vs Categorical feature OverallQual. Winner is OverallQual\n",
      "16 continuous features have not been checked\n",
      "52 categorical features have not been checked\n",
      "Continuous feature GrLivArea vs Categorical feature Neighborhood. Winner is Neighborhood\n",
      "16 continuous features have not been checked\n",
      "51 categorical features have not been checked\n",
      "Continuous feature GrLivArea vs Categorical feature GarageCars. Winner is GarageCars\n",
      "16 continuous features have not been checked\n",
      "50 categorical features have not been checked\n",
      "Continuous feature GrLivArea vs Categorical feature ExterQual. Winner is ExterQual\n",
      "16 continuous features have not been checked\n",
      "49 categorical features have not been checked\n",
      "Continuous feature GrLivArea vs Categorical feature KitchenQual. Winner is KitchenQual\n",
      "16 continuous features have not been checked\n",
      "48 categorical features have not been checked\n",
      "Continuous feature GrLivArea vs Categorical feature BsmtQual. Winner is BsmtQual\n",
      "16 continuous features have not been checked\n",
      "47 categorical features have not been checked\n",
      "Continuous feature GrLivArea vs Categorical feature FullBath. Winner is FullBath\n",
      "16 continuous features have not been checked\n",
      "46 categorical features have not been checked\n",
      "Continuous feature GrLivArea vs Categorical feature YearBuilt. Winner is YearBuilt\n",
      "16 continuous features have not been checked\n",
      "45 categorical features have not been checked\n",
      "Continuous feature GrLivArea vs Categorical feature TotRmsAbvGrd. Winner is TotRmsAbvGrd\n",
      "16 continuous features have not been checked\n",
      "44 categorical features have not been checked\n",
      "Continuous feature GrLivArea vs Categorical feature GarageFinish. Winner is GarageFinish\n",
      "16 continuous features have not been checked\n",
      "43 categorical features have not been checked\n",
      "Continuous feature GrLivArea vs Categorical feature Foundation. Winner is Foundation\n",
      "16 continuous features have not been checked\n",
      "42 categorical features have not been checked\n",
      "Continuous feature GrLivArea vs Categorical feature Fireplaces. Winner is Fireplaces\n",
      "16 continuous features have not been checked\n",
      "41 categorical features have not been checked\n",
      "Continuous feature GrLivArea vs Categorical feature MSSubClass. Winner is MSSubClass\n",
      "16 continuous features have not been checked\n",
      "40 categorical features have not been checked\n",
      "Continuous feature GrLivArea vs Categorical feature YearRemodAdd. Winner is YearRemodAdd\n",
      "16 continuous features have not been checked\n",
      "39 categorical features have not been checked\n",
      "Continuous feature GrLivArea vs Categorical feature GarageYrBlt. Winner is GarageYrBlt\n",
      "16 continuous features have not been checked\n",
      "38 categorical features have not been checked\n",
      "Continuous feature GrLivArea vs Categorical feature HeatingQC. Winner is HeatingQC\n",
      "16 continuous features have not been checked\n",
      "37 categorical features have not been checked\n",
      "Continuous feature GrLivArea vs Categorical feature GarageType. Winner is GarageType\n",
      "16 continuous features have not been checked\n",
      "36 categorical features have not been checked\n",
      "Continuous feature GrLivArea vs Categorical feature MasVnrType. Winner is MasVnrType\n",
      "16 continuous features have not been checked\n",
      "35 categorical features have not been checked\n",
      "Continuous feature GrLivArea vs Categorical feature BsmtFinType1. Winner is BsmtFinType1\n",
      "16 continuous features have not been checked\n",
      "34 categorical features have not been checked\n",
      "Continuous feature GrLivArea vs Categorical feature SaleCondition. Winner is SaleCondition\n",
      "16 continuous features have not been checked\n",
      "33 categorical features have not been checked\n",
      "Continuous feature GrLivArea vs Categorical feature Exterior1st. Winner is Exterior1st\n",
      "16 continuous features have not been checked\n",
      "32 categorical features have not been checked\n",
      "Continuous feature GrLivArea vs Categorical feature Exterior2nd. Winner is Exterior2nd\n",
      "16 continuous features have not been checked\n",
      "31 categorical features have not been checked\n",
      "Continuous feature GrLivArea vs Categorical feature BsmtExposure. Winner is BsmtExposure\n",
      "16 continuous features have not been checked\n",
      "30 categorical features have not been checked\n",
      "Continuous feature GrLivArea vs Categorical feature SaleType. Winner is SaleType\n",
      "16 continuous features have not been checked\n",
      "29 categorical features have not been checked\n",
      "Continuous feature GrLivArea vs Categorical feature OverallCond. Winner is OverallCond\n",
      "16 continuous features have not been checked\n",
      "28 categorical features have not been checked\n",
      "Continuous feature GrLivArea vs Categorical feature MSZoning. Winner is MSZoning\n",
      "16 continuous features have not been checked\n",
      "27 categorical features have not been checked\n",
      "Continuous feature GrLivArea vs Categorical feature HalfBath. Winner is HalfBath\n",
      "16 continuous features have not been checked\n",
      "26 categorical features have not been checked\n",
      "Continuous feature GrLivArea vs Categorical feature HouseStyle. Winner is HouseStyle\n",
      "16 continuous features have not been checked\n",
      "25 categorical features have not been checked\n",
      "Continuous feature GrLivArea vs Categorical feature LotShape. Winner is LotShape\n",
      "16 continuous features have not been checked\n",
      "24 categorical features have not been checked\n",
      "Continuous feature GrLivArea vs Categorical feature CentralAir. Winner is CentralAir\n",
      "16 continuous features have not been checked\n",
      "23 categorical features have not been checked\n",
      "Continuous feature GrLivArea vs Categorical feature FireplaceQu. Winner is FireplaceQu\n",
      "16 continuous features have not been checked\n",
      "22 categorical features have not been checked\n",
      "Continuous feature GrLivArea vs Categorical feature Electrical. Winner is Electrical\n",
      "16 continuous features have not been checked\n",
      "21 categorical features have not been checked\n",
      "Continuous feature GrLivArea vs Categorical feature PavedDrive. Winner is PavedDrive\n",
      "16 continuous features have not been checked\n",
      "20 categorical features have not been checked\n",
      "Continuous feature GrLivArea vs Categorical feature BsmtFullBath. Winner is BsmtFullBath\n",
      "16 continuous features have not been checked\n",
      "19 categorical features have not been checked\n",
      "Continuous feature GrLivArea vs Categorical feature RoofStyle. Winner is RoofStyle\n",
      "16 continuous features have not been checked\n",
      "18 categorical features have not been checked\n",
      "Continuous feature GrLivArea vs Categorical feature BedroomAbvGr. Winner is BedroomAbvGr\n",
      "16 continuous features have not been checked\n",
      "17 categorical features have not been checked\n",
      "Continuous feature GrLivArea vs Categorical feature BldgType. Winner is BldgType\n",
      "16 continuous features have not been checked\n",
      "16 categorical features have not been checked\n",
      "Continuous feature GrLivArea vs Categorical feature PoolArea. Winner is PoolArea\n",
      "16 continuous features have not been checked\n",
      "15 categorical features have not been checked\n",
      "Continuous feature GrLivArea vs Categorical feature BsmtCond. Winner is BsmtCond\n",
      "16 continuous features have not been checked\n",
      "14 categorical features have not been checked\n",
      "Continuous feature GrLivArea vs Categorical feature LandContour. Winner is LandContour\n",
      "16 continuous features have not been checked\n",
      "13 categorical features have not been checked\n",
      "Continuous feature GrLivArea vs Categorical feature Alley. Winner is Alley\n",
      "16 continuous features have not been checked\n",
      "12 categorical features have not been checked\n",
      "Continuous feature GrLivArea vs Categorical feature RoofMatl. Winner is RoofMatl\n",
      "16 continuous features have not been checked\n",
      "11 categorical features have not been checked\n",
      "Continuous feature GrLivArea vs Categorical feature Condition1. Winner is Condition1\n",
      "16 continuous features have not been checked\n",
      "10 categorical features have not been checked\n",
      "Continuous feature GrLivArea vs Categorical feature GarageQual. Winner is GarageQual\n",
      "16 continuous features have not been checked\n",
      "9 categorical features have not been checked\n",
      "Continuous feature GrLivArea vs Categorical feature GarageCond. Winner is GarageCond\n",
      "16 continuous features have not been checked\n",
      "8 categorical features have not been checked\n",
      "Continuous feature GrLivArea vs Categorical feature ExterCond. Winner is ExterCond\n",
      "16 continuous features have not been checked\n",
      "7 categorical features have not been checked\n",
      "Continuous feature GrLivArea vs Categorical feature KitchenAbvGr. Winner is KitchenAbvGr\n",
      "16 continuous features have not been checked\n",
      "6 categorical features have not been checked\n",
      "Continuous feature GrLivArea vs Categorical feature LotConfig. Winner is LotConfig\n",
      "16 continuous features have not been checked\n",
      "5 categorical features have not been checked\n",
      "Continuous feature GrLivArea vs Categorical feature Functional. Winner is Functional\n",
      "16 continuous features have not been checked\n",
      "4 categorical features have not been checked\n",
      "Continuous feature GrLivArea vs Categorical feature Heating. Winner is Heating\n",
      "16 continuous features have not been checked\n",
      "3 categorical features have not been checked\n",
      "Continuous feature GrLivArea vs Categorical feature Fence. Winner is Fence\n",
      "16 continuous features have not been checked\n",
      "2 categorical features have not been checked\n",
      "Continuous feature GrLivArea vs Categorical feature BsmtFinType2. Winner is BsmtFinType2\n",
      "16 continuous features have not been checked\n",
      "1 categorical features have not been checked\n",
      "Continuous feature GrLivArea vs Categorical feature Condition2. Winner is Condition2\n",
      "16 continuous features have not been checked\n",
      "0 categorical features have not been checked\n",
      "Only continuous features left, added GrLivArea to feature list\n",
      "15 continuous features have not been checked\n",
      "0 categorical features have not been checked\n",
      "Only continuous features left, added GarageArea to feature list\n",
      "14 continuous features have not been checked\n",
      "0 categorical features have not been checked\n",
      "Only continuous features left, added TotalBsmtSF to feature list\n",
      "13 continuous features have not been checked\n",
      "0 categorical features have not been checked\n",
      "Only continuous features left, added 1stFlrSF to feature list\n",
      "12 continuous features have not been checked\n",
      "0 categorical features have not been checked\n",
      "Only continuous features left, added MasVnrArea to feature list\n",
      "11 continuous features have not been checked\n",
      "0 categorical features have not been checked\n",
      "Only continuous features left, added BsmtFinSF1 to feature list\n",
      "10 continuous features have not been checked\n",
      "0 categorical features have not been checked\n",
      "Only continuous features left, added LotFrontage to feature list\n",
      "9 continuous features have not been checked\n",
      "0 categorical features have not been checked\n",
      "Only continuous features left, added WoodDeckSF to feature list\n",
      "8 continuous features have not been checked\n",
      "0 categorical features have not been checked\n",
      "Only continuous features left, added 2ndFlrSF to feature list\n",
      "7 continuous features have not been checked\n",
      "0 categorical features have not been checked\n",
      "Only continuous features left, added OpenPorchSF to feature list\n",
      "6 continuous features have not been checked\n",
      "0 categorical features have not been checked\n",
      "Only continuous features left, added LotArea to feature list\n",
      "5 continuous features have not been checked\n",
      "0 categorical features have not been checked\n",
      "Only continuous features left, added BsmtUnfSF to feature list\n",
      "4 continuous features have not been checked\n",
      "0 categorical features have not been checked\n",
      "Only continuous features left, added ScreenPorch to feature list\n",
      "3 continuous features have not been checked\n",
      "0 categorical features have not been checked\n",
      "Only continuous features left, added BsmtFinSF2 to feature list\n",
      "2 continuous features have not been checked\n",
      "0 categorical features have not been checked\n",
      "Only continuous features left, added MiscVal to feature list\n",
      "1 continuous features have not been checked\n",
      "0 categorical features have not been checked\n",
      "Only continuous features left, added EnclosedPorch to feature list\n"
     ]
    }
   ],
   "source": [
    "feature_tuples = [([], None, None)]\n",
    "selected_continuous_features_copy = selected_continuous_features.copy()\n",
    "selected_categorical_features_copy = selected_categorical_features.copy()\n",
    "while len(selected_continuous_features_copy) or len(selected_categorical_features_copy):\n",
    "    print('{} continuous features have not been checked'.format(len(selected_continuous_features_copy)))\n",
    "    print('{} categorical features have not been checked'.format(len(selected_categorical_features_copy)))\n",
    "    if not len(selected_continuous_features_copy):\n",
    "        try_categorical_feature = selected_categorical_features_copy[0]\n",
    "        try_categorical_features = feature_tuples[-1][0] + [f for f in features if f.startswith(try_categorical_feature)]\n",
    "        categorical_error, categorical_penalty = calculate_validation_error_and_penalty(data[:training_data_idx][try_categorical_features], saleprice)\n",
    "        feature_tuples.append((try_categorical_features, categorical_error, categorical_penalty))\n",
    "        selected_categorical_features_copy.pop(0)\n",
    "        print('Only categorical features left, added {} to feature list'.format(try_categorical_feature))\n",
    "    elif not len(selected_categorical_features_copy):\n",
    "        selected_continuous_feature = selected_continuous_features_copy[0]\n",
    "        try_continuous_features = feature_tuples[-1][0] + [selected_continuous_feature]\n",
    "        continuous_error, continuous_penalty = calculate_validation_error_and_penalty(data[:training_data_idx][try_continuous_features], saleprice)\n",
    "        feature_tuples.append((try_continuous_features, continuous_error, continuous_penalty))\n",
    "        selected_continuous_features_copy.pop(0)\n",
    "        print('Only continuous features left, added {} to feature list'.format(selected_continuous_feature))\n",
    "    else:\n",
    "        selected_continuous_feature = selected_continuous_features_copy[0]\n",
    "        try_continuous_features = feature_tuples[-1][0] + [selected_continuous_feature]\n",
    "        try_categorical_feature = selected_categorical_features_copy[0]\n",
    "        try_categorical_features = feature_tuples[-1][0] + [f for f in features if f.startswith(try_categorical_feature)]\n",
    "\n",
    "        continuous_error, continuous_penalty = calculate_validation_error_and_penalty(data[:training_data_idx][try_continuous_features], saleprice)\n",
    "        categorical_error, categorical_penalty = calculate_validation_error_and_penalty(data[:training_data_idx][try_categorical_features], saleprice)\n",
    "        if continuous_error < categorical_error:\n",
    "            feature_tuples.append((try_continuous_features, continuous_error, continuous_penalty))\n",
    "            selected_continuous_features_copy.pop(0)\n",
    "            print('Continuous feature {} vs Categorical feature {}. Winner is {}'.format(\n",
    "                selected_continuous_feature,\n",
    "                try_categorical_feature,\n",
    "                selected_continuous_feature))\n",
    "        else:\n",
    "            feature_tuples.append((try_categorical_features, categorical_error, categorical_penalty))\n",
    "            selected_categorical_features_copy.pop(0)\n",
    "            print('Continuous feature {} vs Categorical feature {}. Winner is {}'.format(\n",
    "                selected_continuous_feature,\n",
    "                try_categorical_feature,\n",
    "                try_categorical_feature))"
   ]
  },
  {
   "cell_type": "code",
   "execution_count": 181,
   "metadata": {
    "collapsed": false
   },
   "outputs": [],
   "source": [
    "feature_tuples_copy = feature_tuples[1:].copy()"
   ]
  },
  {
   "cell_type": "code",
   "execution_count": 182,
   "metadata": {
    "collapsed": false
   },
   "outputs": [],
   "source": [
    "feature_tuples_copy = sorted(feature_tuples_copy, key=lambda x: x[1])"
   ]
  },
  {
   "cell_type": "code",
   "execution_count": 184,
   "metadata": {
    "collapsed": false
   },
   "outputs": [
    {
     "data": {
      "text/plain": [
       "Lasso(alpha=1, copy_X=True, fit_intercept=True, max_iter=1000,\n",
       "   normalize=False, positive=False, precompute=False, random_state=None,\n",
       "   selection='cyclic', tol=0.0001, warm_start=False)"
      ]
     },
     "execution_count": 184,
     "metadata": {},
     "output_type": "execute_result"
    }
   ],
   "source": [
    "best_lasso_model = linear_model.Lasso(alpha=feature_tuples_copy[0][2])\n",
    "best_lasso_model.fit(data[:training_data_idx][feature_tuples_copy[0][0]], saleprice)"
   ]
  },
  {
   "cell_type": "code",
   "execution_count": 188,
   "metadata": {
    "collapsed": false
   },
   "outputs": [],
   "source": [
    "predictions = pd.Series(np.exp(best_lasso_model.predict(data[training_data_idx:][feature_tuples_copy[0][0]]))-1, index=data[training_data_idx:].index)"
   ]
  },
  {
   "cell_type": "code",
   "execution_count": 189,
   "metadata": {
    "collapsed": true
   },
   "outputs": [],
   "source": [
    "predictions.to_csv('Lasso_prediction.csv')"
   ]
  },
  {
   "cell_type": "code",
   "execution_count": 190,
   "metadata": {
    "collapsed": false
   },
   "outputs": [
    {
     "data": {
      "text/plain": [
       "Id\n",
       "1461    226607.490664\n",
       "1462    137559.908263\n",
       "1463    168522.167955\n",
       "1464    166124.473741\n",
       "1465    173421.873840\n",
       "1466    160278.425524\n",
       "1467    156495.804321\n",
       "1468    151530.479619\n",
       "1469    173421.873840\n",
       "1470    177401.635365\n",
       "1471    174460.440737\n",
       "1472    129896.713395\n",
       "1473    138880.358515\n",
       "1474    160278.425524\n",
       "1475    136904.398570\n",
       "1476    232362.065228\n",
       "1477    267204.302672\n",
       "1478    226607.490664\n",
       "1479    212963.977632\n",
       "1480    297521.927239\n",
       "1481    233753.603624\n",
       "1482    168925.134729\n",
       "1483    158375.822461\n",
       "1484    159705.257107\n",
       "1485    152802.453610\n",
       "1486    158944.219681\n",
       "1487    298946.481455\n",
       "1488    271060.885252\n",
       "1489    212455.957898\n",
       "1490    178038.314161\n",
       "            ...      \n",
       "2890    131143.604466\n",
       "2891    149910.630347\n",
       "2892     94772.539343\n",
       "2893     94772.539343\n",
       "2894     94772.539343\n",
       "2895    171158.737530\n",
       "2896    177401.635365\n",
       "2897    188541.578022\n",
       "2898    197766.101320\n",
       "2899    170139.825633\n",
       "2900    178038.314161\n",
       "2901    175924.891660\n",
       "2902    166124.473741\n",
       "2903    222318.898427\n",
       "2904    213983.664282\n",
       "2905    130830.764075\n",
       "2906    241701.642026\n",
       "2907    141559.405781\n",
       "2908    133673.408306\n",
       "2909    287051.929234\n",
       "2910     94772.539343\n",
       "2911    128201.572349\n",
       "2912    141559.405781\n",
       "2913    133354.533165\n",
       "2914     94772.539343\n",
       "2915     94772.539343\n",
       "2916    133354.533165\n",
       "2917    188541.578022\n",
       "2918     94772.539343\n",
       "2919    205960.935355\n",
       "dtype: float64"
      ]
     },
     "execution_count": 190,
     "metadata": {},
     "output_type": "execute_result"
    }
   ],
   "source": [
    "predictions"
   ]
  },
  {
   "cell_type": "code",
   "execution_count": 106,
   "metadata": {
    "collapsed": true
   },
   "outputs": [
    {
     "name": "stdout",
     "output_type": "stream",
     "text": [
      "0\n",
      "5\n",
      "10\n",
      "15\n",
      "20\n",
      "25\n",
      "30\n",
      "35\n",
      "40\n",
      "45\n",
      "50\n",
      "55\n",
      "60\n",
      "65\n",
      "70\n",
      "75\n",
      "80\n",
      "85\n",
      "90\n",
      "95\n",
      "100\n",
      "105\n",
      "110\n",
      "115\n",
      "120\n",
      "125\n",
      "130\n",
      "135\n",
      "140\n",
      "145\n",
      "150\n",
      "155\n",
      "160\n",
      "165\n",
      "170\n",
      "175\n",
      "180\n",
      "185\n",
      "190\n",
      "195\n",
      "200\n",
      "205\n",
      "210\n",
      "215\n",
      "220\n",
      "225\n",
      "230\n",
      "235\n",
      "240\n",
      "245\n",
      "250\n",
      "255\n",
      "260\n",
      "265\n",
      "270\n",
      "275\n",
      "280\n",
      "285\n",
      "290\n",
      "295\n",
      "300\n",
      "305\n",
      "310\n",
      "315\n",
      "320\n",
      "325\n",
      "330\n",
      "335\n",
      "340\n",
      "345\n",
      "350\n",
      "355\n",
      "360\n",
      "365\n",
      "370\n",
      "375\n",
      "380\n",
      "385\n",
      "390\n",
      "395\n",
      "400\n",
      "405\n",
      "410\n",
      "415\n",
      "420\n",
      "425\n",
      "430\n",
      "435\n",
      "440\n",
      "445\n",
      "450\n",
      "455\n",
      "460\n",
      "465\n",
      "470\n",
      "475\n",
      "480\n",
      "485\n",
      "490\n",
      "495\n",
      "500\n",
      "505\n",
      "510\n",
      "515\n",
      "520\n",
      "525\n",
      "530\n",
      "535\n",
      "540\n",
      "545\n",
      "550\n",
      "555\n",
      "560\n",
      "565\n",
      "570\n"
     ]
    }
   ],
   "source": [
    "for idx, col in enumerate(categorical_variables):\n",
    "    interested_col = np.array(training_data[col], dtype=float).reshape(len(training_data), 1)\n",
    "    relevance = mutual_information((interested_col, SalePrices), k=7)\n",
    "    redundancy = 0\n",
    "    for col2 in categorical_variables:\n",
    "        if col2 != col:\n",
    "            current_col = np.array(training_data[col2], dtype=float).reshape(len(training_data), 1)\n",
    "            redundancy += mutual_information((current_col, interested_col), k=7)\n",
    "    redundancy = redundancy / len(categorical_variables)\n",
    "    categorical_rankings[col] = relevance - redundancy\n",
    "    if idx % 5 == 0:\n",
    "        print(idx)"
   ]
  }
 ],
 "metadata": {
  "kernelspec": {
   "display_name": "Python 3",
   "language": "python",
   "name": "python3"
  },
  "language_info": {
   "codemirror_mode": {
    "name": "ipython",
    "version": 3
   },
   "file_extension": ".py",
   "mimetype": "text/x-python",
   "name": "python",
   "nbconvert_exporter": "python",
   "pygments_lexer": "ipython3",
   "version": "3.5.1"
  }
 },
 "nbformat": 4,
 "nbformat_minor": 0
}
