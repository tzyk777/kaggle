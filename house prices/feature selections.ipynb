{
 "cells": [
  {
   "cell_type": "markdown",
   "metadata": {},
   "source": [
    "# Feautre Selection"
   ]
  },
  {
   "cell_type": "markdown",
   "metadata": {},
   "source": [
    "#### Data preprocess"
   ]
  },
  {
   "cell_type": "code",
   "execution_count": 211,
   "metadata": {
    "collapsed": false
   },
   "outputs": [],
   "source": [
    "import pandas as pd\n",
    "import numpy as np\n",
    "from sklearn.feature_selection import RFE\n",
    "from sklearn import linear_model\n",
    "from mutual_info import mutual_information_2d, mutual_information\n",
    "import operator\n",
    "from matplotlib import pyplot as plt\n",
    "from scipy import stats\n",
    "from sklearn.model_selection import cross_val_score\n",
    "from sklearn import linear_model\n",
    "import matplotlib\n",
    "from sklearn.metrics import mean_squared_error"
   ]
  },
  {
   "cell_type": "code",
   "execution_count": 150,
   "metadata": {
    "collapsed": true
   },
   "outputs": [],
   "source": [
    "training_data = pd.DataFrame.from_csv('train.csv')\n",
    "test_data = pd.DataFrame.from_csv('test.csv')\n",
    "target = 'SalePrice'\n",
    "saleprice = training_data[target]\n",
    "data = pd.concat([training_data, test_data])"
   ]
  },
  {
   "cell_type": "markdown",
   "metadata": {},
   "source": [
    "Check each feature's data type"
   ]
  },
  {
   "cell_type": "code",
   "execution_count": 151,
   "metadata": {
    "collapsed": true
   },
   "outputs": [],
   "source": [
    "categorical_variables = []\n",
    "numerical_variables = []\n",
    "for col in data.columns:\n",
    "    if data[col].dtype == object or 'yr' in col.lower() or 'year' in col.lower():\n",
    "        categorical_variables.append(col)\n",
    "    elif col != target:\n",
    "        numerical_variables.append(col)"
   ]
  },
  {
   "cell_type": "code",
   "execution_count": 152,
   "metadata": {
    "collapsed": true
   },
   "outputs": [],
   "source": [
    "fig = plt.figure(1)\n",
    "for idx, col_name in enumerate(numerical_variables):\n",
    "    fig.add_subplot(8, 4, idx+1)\n",
    "    plt.scatter(training_data[col_name], saleprice)\n",
    "    plt.title(col_name)\n",
    "plt.show()"
   ]
  },
  {
   "cell_type": "code",
   "execution_count": 153,
   "metadata": {
    "collapsed": true
   },
   "outputs": [],
   "source": [
    "continuous_variables = ['LotFrontage', 'LotArea', 'MasVnrArea', 'BsmtFinSF1', 'BsmtFinSF2',\n",
    "                       'BsmtUnfSF', 'TotalBsmtSF', '1stFlrSF', '2ndFlrSF', 'GrLivArea', \n",
    "                       'GarageArea', 'WoodDeckSF', 'OpenPorchSF', 'EnclosedPorch', 'ScreenPorch',\n",
    "                       'MiscVal']"
   ]
  },
  {
   "cell_type": "code",
   "execution_count": 154,
   "metadata": {
    "collapsed": true
   },
   "outputs": [],
   "source": [
    "categorical_variables = [var for var in data.columns.values.tolist() if var not in continuous_variables and var != target]"
   ]
  },
  {
   "cell_type": "code",
   "execution_count": 155,
   "metadata": {
    "collapsed": false
   },
   "outputs": [],
   "source": [
    "training_data[continuous_variables] = training_data[continuous_variables].fillna(training_data[continuous_variables].mean())\n",
    "training_data[categorical_variables] = training_data[categorical_variables].fillna('NA')\n",
    "for col in categorical_variables: training_data[col] = training_data[col].astype('category')\n",
    "\n",
    "data[continuous_variables] = data[continuous_variables].fillna(training_data[continuous_variables].mean())\n",
    "data[categorical_variables] = data[categorical_variables].fillna('NA')\n",
    "for col in categorical_variables: data[col] = data[col].astype('category')"
   ]
  },
  {
   "cell_type": "markdown",
   "metadata": {},
   "source": [
    "Categorical feature selection"
   ]
  },
  {
   "cell_type": "code",
   "execution_count": 156,
   "metadata": {
    "collapsed": false
   },
   "outputs": [
    {
     "data": {
      "text/html": [
       "<div>\n",
       "<table border=\"1\" class=\"dataframe\">\n",
       "  <thead>\n",
       "    <tr style=\"text-align: right;\">\n",
       "      <th></th>\n",
       "      <th>3SsnPorch</th>\n",
       "      <th>Alley</th>\n",
       "      <th>BedroomAbvGr</th>\n",
       "      <th>BldgType</th>\n",
       "      <th>BsmtCond</th>\n",
       "      <th>BsmtExposure</th>\n",
       "      <th>BsmtFinType1</th>\n",
       "      <th>BsmtFinType2</th>\n",
       "      <th>BsmtFullBath</th>\n",
       "      <th>BsmtHalfBath</th>\n",
       "      <th>...</th>\n",
       "      <th>RoofMatl</th>\n",
       "      <th>RoofStyle</th>\n",
       "      <th>SaleCondition</th>\n",
       "      <th>SaleType</th>\n",
       "      <th>Street</th>\n",
       "      <th>TotRmsAbvGrd</th>\n",
       "      <th>Utilities</th>\n",
       "      <th>YearBuilt</th>\n",
       "      <th>YearRemodAdd</th>\n",
       "      <th>YrSold</th>\n",
       "    </tr>\n",
       "    <tr>\n",
       "      <th>Id</th>\n",
       "      <th></th>\n",
       "      <th></th>\n",
       "      <th></th>\n",
       "      <th></th>\n",
       "      <th></th>\n",
       "      <th></th>\n",
       "      <th></th>\n",
       "      <th></th>\n",
       "      <th></th>\n",
       "      <th></th>\n",
       "      <th></th>\n",
       "      <th></th>\n",
       "      <th></th>\n",
       "      <th></th>\n",
       "      <th></th>\n",
       "      <th></th>\n",
       "      <th></th>\n",
       "      <th></th>\n",
       "      <th></th>\n",
       "      <th></th>\n",
       "      <th></th>\n",
       "    </tr>\n",
       "  </thead>\n",
       "  <tbody>\n",
       "    <tr>\n",
       "      <th>1</th>\n",
       "      <td>0</td>\n",
       "      <td>NA</td>\n",
       "      <td>3</td>\n",
       "      <td>1Fam</td>\n",
       "      <td>TA</td>\n",
       "      <td>No</td>\n",
       "      <td>GLQ</td>\n",
       "      <td>Unf</td>\n",
       "      <td>1</td>\n",
       "      <td>0</td>\n",
       "      <td>...</td>\n",
       "      <td>CompShg</td>\n",
       "      <td>Gable</td>\n",
       "      <td>Normal</td>\n",
       "      <td>WD</td>\n",
       "      <td>Pave</td>\n",
       "      <td>8</td>\n",
       "      <td>AllPub</td>\n",
       "      <td>2003</td>\n",
       "      <td>2003</td>\n",
       "      <td>2008</td>\n",
       "    </tr>\n",
       "    <tr>\n",
       "      <th>2</th>\n",
       "      <td>0</td>\n",
       "      <td>NA</td>\n",
       "      <td>3</td>\n",
       "      <td>1Fam</td>\n",
       "      <td>TA</td>\n",
       "      <td>Gd</td>\n",
       "      <td>ALQ</td>\n",
       "      <td>Unf</td>\n",
       "      <td>0</td>\n",
       "      <td>1</td>\n",
       "      <td>...</td>\n",
       "      <td>CompShg</td>\n",
       "      <td>Gable</td>\n",
       "      <td>Normal</td>\n",
       "      <td>WD</td>\n",
       "      <td>Pave</td>\n",
       "      <td>6</td>\n",
       "      <td>AllPub</td>\n",
       "      <td>1976</td>\n",
       "      <td>1976</td>\n",
       "      <td>2007</td>\n",
       "    </tr>\n",
       "    <tr>\n",
       "      <th>3</th>\n",
       "      <td>0</td>\n",
       "      <td>NA</td>\n",
       "      <td>3</td>\n",
       "      <td>1Fam</td>\n",
       "      <td>TA</td>\n",
       "      <td>Mn</td>\n",
       "      <td>GLQ</td>\n",
       "      <td>Unf</td>\n",
       "      <td>1</td>\n",
       "      <td>0</td>\n",
       "      <td>...</td>\n",
       "      <td>CompShg</td>\n",
       "      <td>Gable</td>\n",
       "      <td>Normal</td>\n",
       "      <td>WD</td>\n",
       "      <td>Pave</td>\n",
       "      <td>6</td>\n",
       "      <td>AllPub</td>\n",
       "      <td>2001</td>\n",
       "      <td>2002</td>\n",
       "      <td>2008</td>\n",
       "    </tr>\n",
       "    <tr>\n",
       "      <th>4</th>\n",
       "      <td>0</td>\n",
       "      <td>NA</td>\n",
       "      <td>3</td>\n",
       "      <td>1Fam</td>\n",
       "      <td>Gd</td>\n",
       "      <td>No</td>\n",
       "      <td>ALQ</td>\n",
       "      <td>Unf</td>\n",
       "      <td>1</td>\n",
       "      <td>0</td>\n",
       "      <td>...</td>\n",
       "      <td>CompShg</td>\n",
       "      <td>Gable</td>\n",
       "      <td>Abnorml</td>\n",
       "      <td>WD</td>\n",
       "      <td>Pave</td>\n",
       "      <td>7</td>\n",
       "      <td>AllPub</td>\n",
       "      <td>1915</td>\n",
       "      <td>1970</td>\n",
       "      <td>2006</td>\n",
       "    </tr>\n",
       "    <tr>\n",
       "      <th>5</th>\n",
       "      <td>0</td>\n",
       "      <td>NA</td>\n",
       "      <td>4</td>\n",
       "      <td>1Fam</td>\n",
       "      <td>TA</td>\n",
       "      <td>Av</td>\n",
       "      <td>GLQ</td>\n",
       "      <td>Unf</td>\n",
       "      <td>1</td>\n",
       "      <td>0</td>\n",
       "      <td>...</td>\n",
       "      <td>CompShg</td>\n",
       "      <td>Gable</td>\n",
       "      <td>Normal</td>\n",
       "      <td>WD</td>\n",
       "      <td>Pave</td>\n",
       "      <td>9</td>\n",
       "      <td>AllPub</td>\n",
       "      <td>2000</td>\n",
       "      <td>2000</td>\n",
       "      <td>2008</td>\n",
       "    </tr>\n",
       "  </tbody>\n",
       "</table>\n",
       "<p>5 rows × 63 columns</p>\n",
       "</div>"
      ],
      "text/plain": [
       "   3SsnPorch Alley BedroomAbvGr BldgType BsmtCond BsmtExposure BsmtFinType1  \\\n",
       "Id                                                                            \n",
       "1          0    NA            3     1Fam       TA           No          GLQ   \n",
       "2          0    NA            3     1Fam       TA           Gd          ALQ   \n",
       "3          0    NA            3     1Fam       TA           Mn          GLQ   \n",
       "4          0    NA            3     1Fam       Gd           No          ALQ   \n",
       "5          0    NA            4     1Fam       TA           Av          GLQ   \n",
       "\n",
       "   BsmtFinType2 BsmtFullBath BsmtHalfBath  ...   RoofMatl RoofStyle  \\\n",
       "Id                                         ...                        \n",
       "1           Unf            1            0  ...    CompShg     Gable   \n",
       "2           Unf            0            1  ...    CompShg     Gable   \n",
       "3           Unf            1            0  ...    CompShg     Gable   \n",
       "4           Unf            1            0  ...    CompShg     Gable   \n",
       "5           Unf            1            0  ...    CompShg     Gable   \n",
       "\n",
       "   SaleCondition SaleType Street TotRmsAbvGrd Utilities YearBuilt  \\\n",
       "Id                                                                  \n",
       "1         Normal       WD   Pave            8    AllPub      2003   \n",
       "2         Normal       WD   Pave            6    AllPub      1976   \n",
       "3         Normal       WD   Pave            6    AllPub      2001   \n",
       "4        Abnorml       WD   Pave            7    AllPub      1915   \n",
       "5         Normal       WD   Pave            9    AllPub      2000   \n",
       "\n",
       "   YearRemodAdd YrSold  \n",
       "Id                      \n",
       "1          2003   2008  \n",
       "2          1976   2007  \n",
       "3          2002   2008  \n",
       "4          1970   2006  \n",
       "5          2000   2008  \n",
       "\n",
       "[5 rows x 63 columns]"
      ]
     },
     "execution_count": 156,
     "metadata": {},
     "output_type": "execute_result"
    }
   ],
   "source": [
    "training_data[categorical_variables].head()"
   ]
  },
  {
   "cell_type": "code",
   "execution_count": 157,
   "metadata": {
    "collapsed": false
   },
   "outputs": [
    {
     "name": "stdout",
     "output_type": "stream",
     "text": [
      "3SsnPorch\n",
      "BsmtHalfBath\n",
      "LandSlope\n",
      "LowQualFinSF\n",
      "MoSold\n",
      "Street\n",
      "Utilities\n",
      "YrSold\n"
     ]
    }
   ],
   "source": [
    "p_vals = {}\n",
    "for col_name in categorical_variables:\n",
    "    df = training_data.groupby(col_name).SalePrice\n",
    "    f_val, p_val = stats.f_oneway(*[tup[1] for tup in df])  \n",
    "    if p_val < 0.05:\n",
    "        p_vals[col_name] = p_val\n",
    "    else:\n",
    "        print(col_name)"
   ]
  },
  {
   "cell_type": "code",
   "execution_count": 158,
   "metadata": {
    "collapsed": false
   },
   "outputs": [],
   "source": [
    "anova_features = sorted(p_vals.items(), key=operator.itemgetter(1))"
   ]
  },
  {
   "cell_type": "code",
   "execution_count": 159,
   "metadata": {
    "collapsed": false
   },
   "outputs": [],
   "source": [
    "training_data.boxplot(column=target, by='ExterQual', figsize=(8,8))\n",
    "plt.show()"
   ]
  },
  {
   "cell_type": "code",
   "execution_count": 160,
   "metadata": {
    "collapsed": false
   },
   "outputs": [],
   "source": [
    "selected_categorical_features = [feature[0] for feature in anova_features[:10]]"
   ]
  },
  {
   "cell_type": "code",
   "execution_count": 161,
   "metadata": {
    "collapsed": false
   },
   "outputs": [
    {
     "data": {
      "text/plain": [
       "['OverallQual',\n",
       " 'Neighborhood',\n",
       " 'GarageCars',\n",
       " 'ExterQual',\n",
       " 'BsmtQual',\n",
       " 'KitchenQual',\n",
       " 'FullBath',\n",
       " 'GarageFinish',\n",
       " 'FireplaceQu',\n",
       " 'YearBuilt']"
      ]
     },
     "execution_count": 161,
     "metadata": {},
     "output_type": "execute_result"
    }
   ],
   "source": [
    "selected_categorical_features"
   ]
  },
  {
   "cell_type": "markdown",
   "metadata": {},
   "source": [
    "Continuous variables"
   ]
  },
  {
   "cell_type": "code",
   "execution_count": 162,
   "metadata": {
    "collapsed": true
   },
   "outputs": [],
   "source": [
    "cvar_cor_rankings = {}\n",
    "for col_name in continuous_variables:\n",
    "    cvar_cor_rankings[col_name] = np.corrcoef(training_data[col_name], training_data[target])[0,1]"
   ]
  },
  {
   "cell_type": "code",
   "execution_count": 163,
   "metadata": {
    "collapsed": false
   },
   "outputs": [],
   "source": [
    "sorted_cvar_cor_rankings = sorted(cvar_cor_rankings.items(), key=operator.itemgetter(1), reverse=True)"
   ]
  },
  {
   "cell_type": "code",
   "execution_count": 164,
   "metadata": {
    "collapsed": false
   },
   "outputs": [
    {
     "data": {
      "text/plain": [
       "[('GrLivArea', 0.70862447761265224),\n",
       " ('GarageArea', 0.62343143891836172),\n",
       " ('TotalBsmtSF', 0.61358055155919544),\n",
       " ('1stFlrSF', 0.60585218469191482),\n",
       " ('MasVnrArea', 0.47524131677366821),\n",
       " ('BsmtFinSF1', 0.38641980624215316),\n",
       " ('LotFrontage', 0.33490085154055105),\n",
       " ('WoodDeckSF', 0.32441344456812948),\n",
       " ('2ndFlrSF', 0.31933380283206764),\n",
       " ('OpenPorchSF', 0.31585622711605543),\n",
       " ('LotArea', 0.26384335387140573),\n",
       " ('BsmtUnfSF', 0.21447910554696892),\n",
       " ('ScreenPorch', 0.11144657114291109),\n",
       " ('BsmtFinSF2', -0.011378121450215136),\n",
       " ('MiscVal', -0.021189579640303248),\n",
       " ('EnclosedPorch', -0.1285779579259565)]"
      ]
     },
     "execution_count": 164,
     "metadata": {},
     "output_type": "execute_result"
    }
   ],
   "source": [
    "sorted_cvar_cor_rankings"
   ]
  },
  {
   "cell_type": "code",
   "execution_count": 165,
   "metadata": {
    "collapsed": false
   },
   "outputs": [],
   "source": [
    "fig = plt.figure(1)\n",
    "for idx, col_tuple in enumerate(sorted_cvar_cor_rankings):\n",
    "    fig.add_subplot(len(sorted_cvar_cor_rankings)/4, 4, idx+1)\n",
    "    plt.scatter(training_data[col_tuple[0]], saleprice)\n",
    "    plt.title(col_tuple[0])\n",
    "plt.show()"
   ]
  },
  {
   "cell_type": "code",
   "execution_count": 166,
   "metadata": {
    "collapsed": true
   },
   "outputs": [],
   "source": [
    "selected_continuous_features = [feature[0] for feature in sorted_cvar_cor_rankings[:12]]"
   ]
  },
  {
   "cell_type": "markdown",
   "metadata": {},
   "source": [
    "Get data ready"
   ]
  },
  {
   "cell_type": "code",
   "execution_count": 377,
   "metadata": {
    "collapsed": false
   },
   "outputs": [],
   "source": [
    "dummy_df = pd.get_dummies(data[selected_categorical_features], dummy_na=True)\n",
    "actual_data = pd.concat([data[selected_continuous_features+[target]], dummy_df], axis=1)"
   ]
  },
  {
   "cell_type": "code",
   "execution_count": 358,
   "metadata": {
    "collapsed": false
   },
   "outputs": [],
   "source": [
    "#actual_data[selected_continuous_features+[target]] = (actual_data[selected_continuous_features+[target]] - actual_data[:len(training_data)][selected_continuous_features+[target]].mean()) / actual_data[:len(training_data)][selected_continuous_features+[target]].std(ddof=0)"
   ]
  },
  {
   "cell_type": "code",
   "execution_count": 379,
   "metadata": {
    "collapsed": true
   },
   "outputs": [],
   "source": [
    "features = actual_data.columns.values.tolist()\n",
    "features.remove('SalePrice')"
   ]
  },
  {
   "cell_type": "code",
   "execution_count": 380,
   "metadata": {
    "collapsed": true
   },
   "outputs": [],
   "source": [
    "X_train = actual_data[:len(training_data)][features]\n",
    "y = actual_data[:len(training_data)][target]"
   ]
  },
  {
   "cell_type": "code",
   "execution_count": 383,
   "metadata": {
    "collapsed": false
   },
   "outputs": [
    {
     "name": "stdout",
     "output_type": "stream",
     "text": [
      "Training model with l1_penalty 1\n",
      "Training model with l1_penalty 3\n",
      "Training model with l1_penalty 5\n",
      "Training model with l1_penalty 10\n",
      "Training model with l1_penalty 15\n",
      "Training model with l1_penalty 30\n",
      "Training model with l1_penalty 50\n",
      "Training model with l1_penalty 70\n",
      "Training model with l1_penalty 100\n",
      "Training model with l1_penalty 150\n",
      "Training model with l1_penalty 250\n"
     ]
    }
   ],
   "source": [
    "coefs = []\n",
    "for l1_penalty in [1, 3, 5, 10, 15, 30, 50, 70,100,150,250]:\n",
    "    print('Training model with l1_penalty {}'.format(l1_penalty))\n",
    "    error = np.sqrt(-cross_val_score(linear_model.Lasso(alpha=l1_penalty, max_iter=1000000, normalize=True), X_train, y, scoring=\"neg_mean_squared_error\", cv=5)).mean()\n",
    "    coefs.append(tuple((l1_penalty, error)))"
   ]
  },
  {
   "cell_type": "code",
   "execution_count": 384,
   "metadata": {
    "collapsed": true
   },
   "outputs": [],
   "source": [
    "lasso_alphas = [x[0] for x in coefs]\n",
    "ridge_errors = [x[1] for x in coefs]"
   ]
  },
  {
   "cell_type": "code",
   "execution_count": 385,
   "metadata": {
    "collapsed": false
   },
   "outputs": [
    {
     "data": {
      "text/plain": [
       "<matplotlib.text.Text at 0x1840cc39c50>"
      ]
     },
     "execution_count": 385,
     "metadata": {},
     "output_type": "execute_result"
    }
   ],
   "source": [
    "errors = pd.Series(ridge_errors, index=lasso_alphas)\n",
    "errors.plot(title='Validation error with different l1 penalty')\n",
    "plt.xlabel('l1 penalty')\n",
    "plt.ylabel('rmse')"
   ]
  },
  {
   "cell_type": "code",
   "execution_count": 386,
   "metadata": {
    "collapsed": true
   },
   "outputs": [],
   "source": [
    "plt.show()"
   ]
  },
  {
   "cell_type": "code",
   "execution_count": 387,
   "metadata": {
    "collapsed": true
   },
   "outputs": [],
   "source": [
    "best_l1_penalty = errors.sort_values().head(1).index[0]"
   ]
  },
  {
   "cell_type": "code",
   "execution_count": 388,
   "metadata": {
    "collapsed": false
   },
   "outputs": [
    {
     "data": {
      "text/plain": [
       "Lasso(alpha=30, copy_X=True, fit_intercept=True, max_iter=1000000,\n",
       "   normalize=True, positive=False, precompute=False, random_state=None,\n",
       "   selection='cyclic', tol=0.0001, warm_start=False)"
      ]
     },
     "execution_count": 388,
     "metadata": {},
     "output_type": "execute_result"
    }
   ],
   "source": [
    "lasso_model = linear_model.Lasso(alpha=best_l1_penalty, max_iter=1000000, normalize=True)\n",
    "lasso_model.fit(X_train, y)"
   ]
  },
  {
   "cell_type": "code",
   "execution_count": 389,
   "metadata": {
    "collapsed": true
   },
   "outputs": [],
   "source": [
    "lasso_coef = pd.Series(lasso_model.coef_, index = features)"
   ]
  },
  {
   "cell_type": "code",
   "execution_count": 390,
   "metadata": {
    "collapsed": false
   },
   "outputs": [
    {
     "name": "stdout",
     "output_type": "stream",
     "text": [
      "Lasso picked 63 variables and eliminated the other 148 variables\n"
     ]
    }
   ],
   "source": [
    "print(\"Lasso picked \" + str(sum(lasso_coef != 0)) + \" variables and eliminated the other \" +  str(sum(lasso_coef == 0)) + \" variables\")"
   ]
  },
  {
   "cell_type": "code",
   "execution_count": 395,
   "metadata": {
    "collapsed": false
   },
   "outputs": [],
   "source": [
    "imp_coef = pd.concat([lasso_coef.sort_values().head(10),\n",
    "                      lasso_coef.sort_values().tail(10)])"
   ]
  },
  {
   "cell_type": "code",
   "execution_count": 396,
   "metadata": {
    "collapsed": true
   },
   "outputs": [],
   "source": [
    "lasso_significant_pos10 = imp_coef.sort_values(ascending=False).index.values.tolist()[:10]"
   ]
  },
  {
   "cell_type": "code",
   "execution_count": 397,
   "metadata": {
    "collapsed": false
   },
   "outputs": [
    {
     "data": {
      "text/plain": [
       "<matplotlib.text.Text at 0x18409c98128>"
      ]
     },
     "execution_count": 397,
     "metadata": {},
     "output_type": "execute_result"
    }
   ],
   "source": [
    "matplotlib.rcParams['figure.figsize'] = (8.0, 10.0)\n",
    "imp_coef.plot(kind = \"barh\")\n",
    "plt.title(\"Coefficients in the Lasso Model\")"
   ]
  },
  {
   "cell_type": "code",
   "execution_count": 398,
   "metadata": {
    "collapsed": true
   },
   "outputs": [],
   "source": [
    "plt.show()"
   ]
  },
  {
   "cell_type": "code",
   "execution_count": 399,
   "metadata": {
    "collapsed": false,
    "scrolled": true
   },
   "outputs": [
    {
     "data": {
      "text/plain": [
       "['OverallQual_10.0',\n",
       " 'OverallQual_9.0',\n",
       " 'FullBath_3.0',\n",
       " 'Neighborhood_NoRidge',\n",
       " 'Neighborhood_StoneBr',\n",
       " 'OverallQual_8.0',\n",
       " 'BsmtQual_Ex',\n",
       " 'GarageCars_3.0',\n",
       " 'YearBuilt_1989.0',\n",
       " 'YearBuilt_2009.0']"
      ]
     },
     "execution_count": 399,
     "metadata": {},
     "output_type": "execute_result"
    }
   ],
   "source": [
    "lasso_significant_pos10"
   ]
  },
  {
   "cell_type": "code",
   "execution_count": 400,
   "metadata": {
    "collapsed": false
   },
   "outputs": [],
   "source": [
    "lasso_training_error = mean_squared_error(y, lasso_model.predict(X_train))**0.5"
   ]
  },
  {
   "cell_type": "code",
   "execution_count": 401,
   "metadata": {
    "collapsed": false
   },
   "outputs": [
    {
     "data": {
      "text/plain": [
       "29732.268303308832"
      ]
     },
     "execution_count": 401,
     "metadata": {},
     "output_type": "execute_result"
    }
   ],
   "source": [
    "lasso_training_error"
   ]
  },
  {
   "cell_type": "code",
   "execution_count": 402,
   "metadata": {
    "collapsed": true
   },
   "outputs": [],
   "source": [
    "X_test = actual_data[len(training_data):][features]"
   ]
  },
  {
   "cell_type": "code",
   "execution_count": 409,
   "metadata": {
    "collapsed": false
   },
   "outputs": [],
   "source": [
    "predictions = lasso_model.predict(X_test)"
   ]
  },
  {
   "cell_type": "code",
   "execution_count": 410,
   "metadata": {
    "collapsed": true
   },
   "outputs": [],
   "source": [
    "predictions = pd.Series(predictions, index=X_test.index.values.tolist())"
   ]
  },
  {
   "cell_type": "code",
   "execution_count": 412,
   "metadata": {
    "collapsed": false
   },
   "outputs": [],
   "source": [
    "predictions.to_csv('Lasso_2.csv')"
   ]
  },
  {
   "cell_type": "code",
   "execution_count": null,
   "metadata": {
    "collapsed": true
   },
   "outputs": [],
   "source": []
  },
  {
   "cell_type": "code",
   "execution_count": null,
   "metadata": {
    "collapsed": true
   },
   "outputs": [],
   "source": []
  },
  {
   "cell_type": "code",
   "execution_count": null,
   "metadata": {
    "collapsed": true
   },
   "outputs": [],
   "source": []
  },
  {
   "cell_type": "code",
   "execution_count": null,
   "metadata": {
    "collapsed": true
   },
   "outputs": [],
   "source": []
  },
  {
   "cell_type": "code",
   "execution_count": null,
   "metadata": {
    "collapsed": true
   },
   "outputs": [],
   "source": []
  },
  {
   "cell_type": "code",
   "execution_count": null,
   "metadata": {
    "collapsed": true
   },
   "outputs": [],
   "source": []
  },
  {
   "cell_type": "code",
   "execution_count": 6,
   "metadata": {
    "collapsed": true
   },
   "outputs": [],
   "source": [
    "categorical_variables = dummy_df.columns.values.tolist()"
   ]
  },
  {
   "cell_type": "code",
   "execution_count": 7,
   "metadata": {
    "collapsed": true
   },
   "outputs": [],
   "source": [
    "features = training_data.columns.values.tolist()\n",
    "features.remove(target)"
   ]
  },
  {
   "cell_type": "code",
   "execution_count": 8,
   "metadata": {
    "collapsed": true
   },
   "outputs": [],
   "source": [
    "training_data[features] = training_data[features].fillna(training_data.mean())"
   ]
  },
  {
   "cell_type": "markdown",
   "metadata": {},
   "source": [
    "Rank continous features"
   ]
  },
  {
   "cell_type": "code",
   "execution_count": 9,
   "metadata": {
    "collapsed": true
   },
   "outputs": [],
   "source": [
    "SalePrices = np.array(training_data[target], dtype=float).reshape(len(training_data), 1)"
   ]
  },
  {
   "cell_type": "code",
   "execution_count": 10,
   "metadata": {
    "collapsed": true
   },
   "outputs": [],
   "source": [
    "continous_rankings = {}"
   ]
  },
  {
   "cell_type": "code",
   "execution_count": 111,
   "metadata": {
    "collapsed": false
   },
   "outputs": [],
   "source": [
    "for col in continuous_variables:\n",
    "    feature = np.array(training_data[col], dtype=float).reshape(len(training_data),1)\n",
    "    continous_rankings[col] = mutual_information((feature, SalePrices), k=20) "
   ]
  },
  {
   "cell_type": "code",
   "execution_count": 112,
   "metadata": {
    "collapsed": false
   },
   "outputs": [],
   "source": [
    "sorted_continous = sorted(continous_rankings.items(), key=operator.itemgetter(1))"
   ]
  },
  {
   "cell_type": "code",
   "execution_count": 113,
   "metadata": {
    "collapsed": true
   },
   "outputs": [
    {
     "data": {
      "text/plain": [
       "[('MoSold', -39.354483361565329),\n",
       " ('BsmtHalfBath', -39.250420169817716),\n",
       " ('KitchenAbvGr', -39.225732500544183),\n",
       " ('Fireplaces', -39.189652359233214),\n",
       " ('OverallCond', -39.184526617254562),\n",
       " ('GarageCars', -39.183955255063935),\n",
       " ('FullBath', -39.077608538800774),\n",
       " ('HalfBath', -39.003546819617),\n",
       " ('BedroomAbvGr', -38.974633021765044),\n",
       " ('BsmtFullBath', -38.90432189448434),\n",
       " ('OverallQual', -38.752249346192926),\n",
       " ('MSSubClass', -38.350979170543987),\n",
       " ('TotRmsAbvGrd', -38.148842311509526),\n",
       " ('PoolArea', -38.11166120931972),\n",
       " ('MiscVal', -37.96844193074125),\n",
       " ('3SsnPorch', -37.644428892897963),\n",
       " ('LowQualFinSF', -37.581578050926822),\n",
       " ('ScreenPorch', -36.306444798507641),\n",
       " ('BsmtFinSF2', -34.911597605974364),\n",
       " ('EnclosedPorch', -33.970478515267793),\n",
       " ('WoodDeckSF', -25.643959965084886),\n",
       " ('MasVnrArea', -23.793829671457615),\n",
       " ('LotFrontage', -23.103014296630242),\n",
       " ('2ndFlrSF', -22.917872090786446),\n",
       " ('OpenPorchSF', -20.911634286151063),\n",
       " ('BsmtFinSF1', -13.432084967869486),\n",
       " ('GarageArea', -12.222131816751792),\n",
       " ('BsmtUnfSF', -4.454803322259874),\n",
       " ('TotalBsmtSF', -3.2408740479361953),\n",
       " ('1stFlrSF', -2.0276254703596202),\n",
       " ('LotArea', -1.9459710364725673),\n",
       " ('GrLivArea', -1.7100681342097879)]"
      ]
     },
     "execution_count": 113,
     "metadata": {},
     "output_type": "execute_result"
    }
   ],
   "source": [
    "sorted_continous"
   ]
  },
  {
   "cell_type": "markdown",
   "metadata": {},
   "source": [
    "Rank categorical variables"
   ]
  },
  {
   "cell_type": "code",
   "execution_count": 26,
   "metadata": {
    "collapsed": true
   },
   "outputs": [],
   "source": [
    "categorical_rankings = {}"
   ]
  },
  {
   "cell_type": "code",
   "execution_count": 106,
   "metadata": {
    "collapsed": true
   },
   "outputs": [
    {
     "name": "stdout",
     "output_type": "stream",
     "text": [
      "0\n",
      "5\n",
      "10\n",
      "15\n",
      "20\n",
      "25\n",
      "30\n",
      "35\n",
      "40\n",
      "45\n",
      "50\n",
      "55\n",
      "60\n",
      "65\n",
      "70\n",
      "75\n",
      "80\n",
      "85\n",
      "90\n",
      "95\n",
      "100\n",
      "105\n",
      "110\n",
      "115\n",
      "120\n",
      "125\n",
      "130\n",
      "135\n",
      "140\n",
      "145\n",
      "150\n",
      "155\n",
      "160\n",
      "165\n",
      "170\n",
      "175\n",
      "180\n",
      "185\n",
      "190\n",
      "195\n",
      "200\n",
      "205\n",
      "210\n",
      "215\n",
      "220\n",
      "225\n",
      "230\n",
      "235\n",
      "240\n",
      "245\n",
      "250\n",
      "255\n",
      "260\n",
      "265\n",
      "270\n",
      "275\n",
      "280\n",
      "285\n",
      "290\n",
      "295\n",
      "300\n",
      "305\n",
      "310\n",
      "315\n",
      "320\n",
      "325\n",
      "330\n",
      "335\n",
      "340\n",
      "345\n",
      "350\n",
      "355\n",
      "360\n",
      "365\n",
      "370\n",
      "375\n",
      "380\n",
      "385\n",
      "390\n",
      "395\n",
      "400\n",
      "405\n",
      "410\n",
      "415\n",
      "420\n",
      "425\n",
      "430\n",
      "435\n",
      "440\n",
      "445\n",
      "450\n",
      "455\n",
      "460\n",
      "465\n",
      "470\n",
      "475\n",
      "480\n",
      "485\n",
      "490\n",
      "495\n",
      "500\n",
      "505\n",
      "510\n",
      "515\n",
      "520\n",
      "525\n",
      "530\n",
      "535\n",
      "540\n",
      "545\n",
      "550\n",
      "555\n",
      "560\n",
      "565\n",
      "570\n"
     ]
    }
   ],
   "source": [
    "for idx, col in enumerate(categorical_variables):\n",
    "    interested_col = np.array(training_data[col], dtype=float).reshape(len(training_data), 1)\n",
    "    relevance = mutual_information((interested_col, SalePrices), k=7)\n",
    "    redundancy = 0\n",
    "    for col2 in categorical_variables:\n",
    "        if col2 != col:\n",
    "            current_col = np.array(training_data[col2], dtype=float).reshape(len(training_data), 1)\n",
    "            redundancy += mutual_information((current_col, interested_col), k=7)\n",
    "    redundancy = redundancy / len(categorical_variables)\n",
    "    categorical_rankings[col] = relevance - redundancy\n",
    "    if idx % 5 == 0:\n",
    "        print(idx)"
   ]
  },
  {
   "cell_type": "code",
   "execution_count": 107,
   "metadata": {
    "collapsed": false
   },
   "outputs": [],
   "source": [
    "sorted_categotical = sorted(categorical_rankings.items(), key=operator.itemgetter(1))"
   ]
  },
  {
   "cell_type": "code",
   "execution_count": 110,
   "metadata": {
    "collapsed": true
   },
   "outputs": [
    {
     "data": {
      "text/plain": [
       "[('MasVnrType_None', -43.625993440055311),\n",
       " ('HouseStyle_1Story', -42.677642095155399),\n",
       " ('Foundation_CBlock', -42.58448319160857),\n",
       " ('HeatingQC_Ex', -42.583193976544841),\n",
       " ('LotShape_Reg', -42.332957243165772),\n",
       " ('MasVnrType_BrkFace', -42.143972667765716),\n",
       " ('KitchenQual_TA', -41.884115176223084),\n",
       " ('GarageFinish_RFn', -41.603780778416379),\n",
       " ('GarageFinish_Unf', -41.590355326351585),\n",
       " ('Foundation_PConc', -41.55535141235238),\n",
       " ('KitchenQual_Gd', -41.540125961048346),\n",
       " ('Exterior1st_VinylSd', -41.360605870491298),\n",
       " ('HeatingQC_TA', -41.343308856579476),\n",
       " ('BsmtExposure_No', -41.34168177892213),\n",
       " ('LotShape_IR1', -41.199829954943517),\n",
       " ('GarageType_Attchd', -41.145121893816153),\n",
       " ('Fence_nan', -41.142196650911302),\n",
       " ('Exterior2nd_VinylSd', -41.016959984404288),\n",
       " ('FireplaceQu_nan', -40.943315385490152),\n",
       " ('BsmtQual_TA', -40.855925631387358),\n",
       " ('LotConfig_Inside', -40.801131593103975),\n",
       " ('BsmtFinType1_Unf', -40.76044465987929),\n",
       " ('FireplaceQu_TA', -40.553486894365847),\n",
       " ('MSZoning_RL', -40.514421576629942),\n",
       " ('BsmtQual_Gd', -40.462481178145488),\n",
       " ('YrSold_2007.0', -40.302909393459529),\n",
       " ('YrSold_2008.0', -40.108755994155551),\n",
       " ('GarageType_Detchd', -40.013964525062562),\n",
       " ('YrSold_2006.0', -39.909638017282042),\n",
       " ('HouseStyle_2Story', -39.824815321111231),\n",
       " ('YrSold_2009.0', -39.470068008441956),\n",
       " ('BsmtFinType1_ALQ', -39.125049497136239),\n",
       " ('BsmtFinType1_GLQ', -38.945793640989649),\n",
       " ('LotConfig_Corner', -38.721787442897416),\n",
       " ('BldgType_1Fam', -38.64144483188656),\n",
       " ('ExterQual_TA', -38.590448882465722),\n",
       " ('ExterQual_Gd', -38.500644838999349),\n",
       " ('Exterior1st_HdBoard', -38.290487700802665),\n",
       " ('FireplaceQu_Gd', -38.285514767118485),\n",
       " ('Exterior2nd_HdBoard', -38.18597411426672),\n",
       " ('HeatingQC_Gd', -38.18125181349383),\n",
       " ('BsmtFinType2_Unf', -37.990719077987301),\n",
       " ('Neighborhood_NAmes', -37.958025455586458),\n",
       " ('GarageFinish_Fin', -37.957005996378307),\n",
       " ('Exterior1st_Wd Sdng', -37.942196735980303),\n",
       " ('MSZoning_RM', -37.900821933228855),\n",
       " ('Condition1_Norm', -37.792187445018207),\n",
       " ('RoofStyle_Gable', -37.696705082870224),\n",
       " ('RoofStyle_Hip', -37.158914898855819),\n",
       " ('Exterior2nd_Wd Sdng', -37.058094273507216),\n",
       " ('Exterior1st_MetalSd', -36.705932824282186),\n",
       " ('Exterior2nd_MetalSd', -36.658364318530843),\n",
       " ('Fence_MnPrv', -36.56245367920063),\n",
       " ('Exterior2nd_Plywood', -36.375885036211493),\n",
       " ('SaleCondition_Normal', -36.364883374112047),\n",
       " ('Neighborhood_NWAmes', -36.195064177316794),\n",
       " ('BsmtFinType1_BLQ', -35.871206175445231),\n",
       " ('ExterCond_TA', -35.664156794854975),\n",
       " ('BsmtExposure_Av', -35.633110469858806),\n",
       " ('BsmtCond_TA', -35.529967082984918),\n",
       " ('YrSold_2010.0', -35.524719265834634),\n",
       " ('ExterCond_Gd', -35.479387333670275),\n",
       " ('SaleCondition_Abnorml', -35.435087977846877),\n",
       " ('HouseStyle_1.5Fin', -35.39199471618646),\n",
       " ('BsmtFinType1_Rec', -35.189762760919152),\n",
       " ('Exterior1st_Plywood', -35.097808383536275),\n",
       " ('YearRemodAdd_1950.0', -35.059702342434285),\n",
       " ('GarageCond_TA', -35.046109977563489),\n",
       " ('LandContour_Lvl', -34.888178907456677),\n",
       " ('BldgType_TwnhsE', -34.864523056367396),\n",
       " ('Alley_nan', -34.856351273114022),\n",
       " ('Neighborhood_OldTown', -34.803880535974834),\n",
       " ('Functional_Typ', -34.798460362656179),\n",
       " ('GarageType_BuiltIn', -34.760526555943962),\n",
       " ('GarageQual_TA', -34.602683834323962),\n",
       " ('Neighborhood_Edwards', -34.602339500454406),\n",
       " ('Foundation_BrkTil', -34.509439344910909),\n",
       " ('MasVnrType_Stone', -34.476492019149909),\n",
       " ('Fence_GdPrv', -34.408364451609621),\n",
       " ('Neighborhood_CollgCr', -34.330697446780931),\n",
       " ('Neighborhood_Gilbert', -34.329148920576635),\n",
       " ('Electrical_SBrkr', -34.310303941842911),\n",
       " ('Neighborhood_Sawyer', -34.267121786168964),\n",
       " ('HouseStyle_SLvl', -34.265917862968024),\n",
       " ('BsmtExposure_Gd', -34.25507951815738),\n",
       " ('BsmtFinType1_LwQ', -34.212412990934567),\n",
       " ('YearRemodAdd_2000.0', -34.17404894841588),\n",
       " ('PavedDrive_Y', -34.106868839631524),\n",
       " ('BsmtFinType2_LwQ', -34.069879330692032),\n",
       " ('SaleType_WD', -33.967791222882113),\n",
       " ('Electrical_FuseA', -33.814748625101039),\n",
       " ('Alley_Grvl', -33.774920925510017),\n",
       " ('Neighborhood_SawyerW', -33.626109416846219),\n",
       " ('BsmtCond_Gd', -33.625677855436571),\n",
       " ('Condition1_Feedr', -33.614411319046184),\n",
       " ('MiscFeature_nan', -33.571141753177713),\n",
       " ('BsmtExposure_Mn', -33.560821543222303),\n",
       " ('GarageYrBlt_2005.0', -33.547070526490089),\n",
       " ('YearRemodAdd_2004.0', -33.539143354023629),\n",
       " ('YearRemodAdd_2005.0', -33.537257573435056),\n",
       " ('LotConfig_CulDSac', -33.512564528891666),\n",
       " ('BsmtFinType2_Rec', -33.476608512293971),\n",
       " ('MiscFeature_Shed', -33.475488677515081),\n",
       " ('YearBuilt_2005.0', -33.448923036262215),\n",
       " ('GarageType_nan', -33.429296614194591),\n",
       " ('GarageCond_nan', -33.429296614194591),\n",
       " ('GarageFinish_nan', -33.429296614194591),\n",
       " ('GarageQual_nan', -33.429296614194591),\n",
       " ('GarageYrBlt_nan', -33.429296614194591),\n",
       " ('YearRemodAdd_2007.0', -33.392826020441539),\n",
       " ('Condition1_Artery', -33.379664123887764),\n",
       " ('PavedDrive_N', -33.373643051483903),\n",
       " ('BldgType_Duplex', -33.33046145240364),\n",
       " ('GarageQual_Fa', -33.329688704032847),\n",
       " ('Neighborhood_BrkSide', -33.325730252964952),\n",
       " ('YearBuilt_2004.0', -33.30276347871407),\n",
       " ('GarageYrBlt_1999.0', -33.299149465398628),\n",
       " ('SaleType_COD', -33.283064852341475),\n",
       " ('Functional_Min2', -33.277300640076099),\n",
       " ('Neighborhood_Somerst', -33.2553661190843),\n",
       " ('YearRemodAdd_1995.0', -33.2383340207302),\n",
       " ('MSZoning_FV', -33.203668617045032),\n",
       " ('BldgType_Twnhs', -33.187927658008398),\n",
       " ('LotConfig_FR2', -33.183626472638906),\n",
       " ('Exterior2nd_Wd Shng', -33.179585710151727),\n",
       " ('YearBuilt_1999.0', -33.152229047703372),\n",
       " ('YearRemodAdd_2002.0', -33.141219117724496),\n",
       " ('GarageYrBlt_1977.0', -33.140788693547051),\n",
       " ('CentralAir_N', -33.127283933349936),\n",
       " ('CentralAir_Y', -33.127283933349936),\n",
       " ('GarageYrBlt_1956.0', -33.096574787827606),\n",
       " ('Neighborhood_Mitchel', -33.084188526100903),\n",
       " ('HeatingQC_Fa', -33.079887531705481),\n",
       " ('YearBuilt_2000.0', -33.054941621061651),\n",
       " ('GarageYrBlt_2000.0', -33.05485561379129),\n",
       " ('GarageType_Basment', -33.040146832537474),\n",
       " ('LandContour_HLS', -33.038856770556713),\n",
       " ('GarageYrBlt_2004.0', -33.007804488284378),\n",
       " ('YearBuilt_2003.0', -33.005911147575013),\n",
       " ('YearRemodAdd_2003.0', -32.990943944715667),\n",
       " ('Exterior1st_BrkFace', -32.983804700086026),\n",
       " ('Fence_GdWo', -32.981568623521653),\n",
       " ('GarageYrBlt_2002.0', -32.954987764610273),\n",
       " ('GarageYrBlt_2003.0', -32.951289285265702),\n",
       " ('FireplaceQu_Fa', -32.943634229117301),\n",
       " ('Neighborhood_ClearCr', -32.942859174948353),\n",
       " ('YearRemodAdd_1985.0', -32.940880555790777),\n",
       " ('LandSlope_Gtl', -32.922903416639564),\n",
       " ('GarageYrBlt_1978.0', -32.895720971629245),\n",
       " ('YearRemodAdd_2006.0', -32.894782474820602),\n",
       " ('BsmtCond_Fa', -32.889011933347966),\n",
       " ('Alley_Pave', -32.889011321525011),\n",
       " ('Neighborhood_Crawfor', -32.88677607334197),\n",
       " ('LandContour_Bnk', -32.879463908385851),\n",
       " ('YearRemodAdd_1992.0', -32.79998166051012),\n",
       " ('GarageYrBlt_1974.0', -32.799380060229652),\n",
       " ('GarageYrBlt_1970.0', -32.793271954190629),\n",
       " ('BsmtQual_Fa', -32.790606588020573),\n",
       " ('YearRemodAdd_1999.0', -32.7552518578796),\n",
       " ('YearBuilt_1956.0', -32.753273214845848),\n",
       " ('YearRemodAdd_1976.0', -32.750435002935987),\n",
       " ('YearBuilt_1950.0', -32.750177089299228),\n",
       " ('YearBuilt_1976.0', -32.748542664500228),\n",
       " ('YearBuilt_1977.0', -32.748284372912103),\n",
       " ('Condition1_RRAn', -32.745624917530371),\n",
       " ('GarageYrBlt_1950.0', -32.744155769199466),\n",
       " ('Exterior2nd_Stucco', -32.740370481735468),\n",
       " ('GarageCond_Fa', -32.740113338924971),\n",
       " ('FireplaceQu_Po', -32.739682371430305),\n",
       " ('Exterior1st_Stucco', -32.738994168879223),\n",
       " ('Functional_Min1', -32.735983681781654),\n",
       " ('YearRemodAdd_2001.0', -32.702350322453434),\n",
       " ('YearBuilt_1959.0', -32.701576493181882),\n",
       " ('YearBuilt_1958.0', -32.698135754661045),\n",
       " ('GarageYrBlt_1958.0', -32.696931347139682),\n",
       " ('YearBuilt_1974.0', -32.696758818448593),\n",
       " ('YearBuilt_1954.0', -32.6965876417486),\n",
       " ('Neighborhood_SWISU', -32.696072489731641),\n",
       " ('YearBuilt_1920.0', -32.694179689225138),\n",
       " ('BsmtFinType2_BLQ', -32.689705796901578),\n",
       " ('LandSlope_Mod', -32.678953710931907),\n",
       " ('GarageYrBlt_1998.0', -32.655986188434753),\n",
       " ('GarageYrBlt_1959.0', -32.654265656943572),\n",
       " ('YearRemodAdd_1954.0', -32.652545182664035),\n",
       " ('YearRemodAdd_1959.0', -32.651169069578735),\n",
       " ('YearRemodAdd_1978.0', -32.650394881616812),\n",
       " ('YearRemodAdd_1994.0', -32.64617978903977),\n",
       " ('BsmtFinType1_nan', -32.639041159615431),\n",
       " ('BsmtQual_nan', -32.639041159615431),\n",
       " ('BsmtCond_nan', -32.639041159615431),\n",
       " ('BsmtFinType2_nan', -32.637664857273641),\n",
       " ('BsmtExposure_nan', -32.637578848709929),\n",
       " ('GarageYrBlt_2007.0', -32.612461648750859),\n",
       " ('YearBuilt_2002.0', -32.612460232891998),\n",
       " ('YearBuilt_1992.0', -32.608675537964821),\n",
       " ('GarageYrBlt_1996.0', -32.605664915859627),\n",
       " ('YearBuilt_1978.0', -32.600503839471983),\n",
       " ('YearRemodAdd_1990.0', -32.599817491119936),\n",
       " ('YearBuilt_1918.0', -32.571343348684962),\n",
       " ('Neighborhood_Blmngtn', -32.564461780016572),\n",
       " ('YearBuilt_1996.0', -32.556117781490421),\n",
       " ('PoolQC_nan', -32.55448350142084),\n",
       " ('YearBuilt_1971.0', -32.553279221888943),\n",
       " ('GarageYrBlt_1966.0', -32.55190362954469),\n",
       " ('HouseStyle_SFoyer', -32.544420321445187),\n",
       " ('KitchenQual_Fa', -32.538226703412114),\n",
       " ('YearBuilt_1966.0', -32.505625438004095),\n",
       " ('YearBuilt_1963.0', -32.504851129362038),\n",
       " ('YearBuilt_1962.0', -32.504334507970604),\n",
       " ('GarageYrBlt_1962.0', -32.502098005814119),\n",
       " ('MSZoning_RH', -32.493065929279553),\n",
       " ('LotShape_IR2', -32.489195538488516),\n",
       " ('YearBuilt_1960.0', -32.457282383570934),\n",
       " ('YearRemodAdd_1971.0', -32.457109968807259),\n",
       " ('GarageYrBlt_1980.0', -32.408165196283164),\n",
       " ('YearBuilt_1964.0', -32.406961190156359),\n",
       " ('BsmtQual_Ex', -32.406445900868704),\n",
       " ('GarageYrBlt_1960.0', -32.405326958877517),\n",
       " ('Fence_MnWw', -32.405326679424086),\n",
       " ('YearBuilt_1948.0', -32.404122595928051),\n",
       " ('BsmtFinType2_ALQ', -32.39921956674965),\n",
       " ('SaleCondition_Family', -32.398015365367655),\n",
       " ('YearRemodAdd_1970.0', -32.397154785354886),\n",
       " ('YearBuilt_1936.0', -32.395262320605895),\n",
       " ('KitchenQual_Ex', -32.393198688793817),\n",
       " ('Exterior1st_WdShing', -32.392770219139017),\n",
       " ('Condition1_PosA', -32.392165633769444),\n",
       " ('YearBuilt_2006.0', -32.36765223695469),\n",
       " ('YearRemodAdd_1956.0', -32.36051075215989),\n",
       " ('YearBuilt_1993.0', -32.359995036148497),\n",
       " ('YearRemodAdd_1964.0', -32.358876390069959),\n",
       " ('GarageYrBlt_1957.0', -32.356984183048773),\n",
       " ('YearRemodAdd_1980.0', -32.3559517180909),\n",
       " ('YearRemodAdd_1997.0', -32.355780011620148),\n",
       " ('YearRemodAdd_1993.0', -32.35457610743795),\n",
       " ('GarageYrBlt_1993.0', -32.35388776191261),\n",
       " ('GarageYrBlt_1990.0', -32.353887370353164),\n",
       " ('YearRemodAdd_1977.0', -32.353199243899731),\n",
       " ('YearBuilt_1970.0', -32.352424941156762),\n",
       " ('YearBuilt_1940.0', -32.352339164787921),\n",
       " ('Exterior1st_AsbShng', -32.349070863476037),\n",
       " ('RoofStyle_Flat', -32.34821010619212),\n",
       " ('Condition2_Norm', -32.346317674450134),\n",
       " ('YearRemodAdd_1974.0', -32.334102859058611),\n",
       " ('YearBuilt_1985.0', -32.326705365728152),\n",
       " ('GarageYrBlt_1992.0', -32.311996237360873),\n",
       " ('Neighborhood_NPkVill', -32.311479899414024),\n",
       " ('YearBuilt_1957.0', -32.307953313332582),\n",
       " ('YearBuilt_1980.0', -32.307867121951681),\n",
       " ('YearBuilt_1961.0', -32.30640505909318),\n",
       " ('GarageYrBlt_1997.0', -32.30606072635802),\n",
       " ('GarageYrBlt_1940.0', -32.305974887664952),\n",
       " ('GarageYrBlt_1979.0', -32.30580361550868),\n",
       " ('GarageYrBlt_1968.0', -32.305717210973867),\n",
       " ('YearRemodAdd_1998.0', -32.304598861943333),\n",
       " ('YearRemodAdd_1991.0', -32.302534226663909),\n",
       " ('YearRemodAdd_1996.0', -32.301932095488681),\n",
       " ('GarageYrBlt_1954.0', -32.301502611544549),\n",
       " ('GarageYrBlt_1981.0', -32.301071592641463),\n",
       " ('YearBuilt_1915.0', -32.299695925794254),\n",
       " ('GarageYrBlt_1985.0', -32.299437374862904),\n",
       " ('Exterior2nd_AsbShng', -32.298921900246242),\n",
       " ('LandContour_Low', -32.293244411504446),\n",
       " ('Electrical_FuseF', -32.292039778422492),\n",
       " ('GarageCond_Gd', -32.290749533796571),\n",
       " ('Neighborhood_NridgHt', -32.27234204324256),\n",
       " ('GarageYrBlt_2006.0', -32.269159522431444),\n",
       " ('YearBuilt_2007.0', -32.268728919360818),\n",
       " ('GarageYrBlt_2001.0', -32.268642762817549),\n",
       " ('YearBuilt_2001.0', -32.268642762817549),\n",
       " ('YearBuilt_1998.0', -32.265890042067575),\n",
       " ('Neighborhood_BrDale', -32.265545802175517),\n",
       " ('YearBuilt_1994.0', -32.264255688248156),\n",
       " ('YearBuilt_1997.0', -32.262191050339027),\n",
       " ('YearBuilt_1968.0', -32.259008919931944),\n",
       " ('YearBuilt_1925.0', -32.257031972710152),\n",
       " ('Condition1_RRAe', -32.255997812075258),\n",
       " ('YearBuilt_1990.0', -32.253503268581866),\n",
       " ('YearRemodAdd_1975.0', -32.25324515172202),\n",
       " ('GarageYrBlt_1987.0', -32.25135266301146),\n",
       " ('YearBuilt_1910.0', -32.249976590712357),\n",
       " ('Foundation_Slab', -32.248170952029035),\n",
       " ('LotShape_IR3', -32.247911911124405),\n",
       " ('PavedDrive_P', -32.245847899643678),\n",
       " ('GarageYrBlt_1991.0', -32.2452453626085),\n",
       " ('YearBuilt_1900.0', -32.243610956123668),\n",
       " ('YearBuilt_1924.0', -32.228730083829909),\n",
       " ('YearBuilt_1914.0', -32.223826637729104),\n",
       " ('SaleCondition_Partial', -32.212832179029128),\n",
       " ('HouseStyle_2.5Unf', -32.206536806513377),\n",
       " ('HouseStyle_1.5Unf', -32.205676624364408),\n",
       " ('YearBuilt_1984.0', -32.204300330641729),\n",
       " ('YearBuilt_1926.0', -32.203612144358942),\n",
       " ('YearBuilt_1955.0', -32.203526134691543),\n",
       " ('YearRemodAdd_1979.0', -32.202666832414607),\n",
       " ('GarageYrBlt_1925.0', -32.202152021141018),\n",
       " ('BldgType_2fmCon', -32.195526996976049),\n",
       " ('GarageYrBlt_1984.0', -32.194494169517299),\n",
       " ('GarageYrBlt_1994.0', -32.15948473262123),\n",
       " ('GarageYrBlt_1963.0', -32.15905508549266),\n",
       " ('Neighborhood_Timber', -32.157248600995558),\n",
       " ('GarageYrBlt_1964.0', -32.156990239867881),\n",
       " ('YearBuilt_1965.0', -32.155958160497022),\n",
       " ('YearBuilt_1967.0', -32.155699629878384),\n",
       " ('FireplaceQu_Ex', -32.155699615451923),\n",
       " ('GarageYrBlt_1920.0', -32.153291586686962),\n",
       " ('Neighborhood_IDOTRR', -32.151484959849164),\n",
       " ('YearBuilt_1979.0', -32.150625377829108),\n",
       " ('RoofMatl_CompShg', -32.147270104751186),\n",
       " ('PoolQC_Fa', -32.129462984393221),\n",
       " ('SaleType_New', -32.116490932042431),\n",
       " ('YearRemodAdd_1963.0', -32.109250052839329),\n",
       " ('YearRemodAdd_1966.0', -32.108906079326815),\n",
       " ('GarageYrBlt_1971.0', -32.108647353271543),\n",
       " ('GarageYrBlt_1967.0', -32.107013116245881),\n",
       " ('MasVnrType_BrkCmn', -32.105722761761548),\n",
       " ('YearRemodAdd_1958.0', -32.105551252318087),\n",
       " ('GarageYrBlt_1965.0', -32.104261116293884),\n",
       " ('Functional_Maj1', -32.099271736012625),\n",
       " ('YearBuilt_1929.0', -32.080776279161306),\n",
       " ('GarageYrBlt_1936.0', -32.080433022314537),\n",
       " ('GarageYrBlt_1924.0', -32.080174967056031),\n",
       " ('GarageYrBlt_1929.0', -32.080087292371495),\n",
       " ('GarageYrBlt_1918.0', -32.079572005877424),\n",
       " ('PoolQC_Ex', -32.079572003137777),\n",
       " ('YearRemodAdd_1967.0', -32.062971218187926),\n",
       " ('GarageYrBlt_1948.0', -32.061939274182308),\n",
       " ('YearRemodAdd_1962.0', -32.061681064029131),\n",
       " ('YearRemodAdd_1968.0', -32.060907250315211),\n",
       " ('Exterior2nd_CmentBd', -32.057036249125773),\n",
       " ('Exterior1st_CemntBd', -32.055918005621443),\n",
       " ('GarageYrBlt_1955.0', -32.055745602692099),\n",
       " ('YearRemodAdd_1965.0', -32.055487838292457),\n",
       " ('LandSlope_Sev', -32.053939202900168),\n",
       " ('YearRemodAdd_1986.0', -32.032003538557994),\n",
       " ('GarageYrBlt_1935.0', -32.03097213846474),\n",
       " ('YearRemodAdd_1960.0', -32.01256442360274),\n",
       " ('YearBuilt_1969.0', -32.009553536000375),\n",
       " ('YearRemodAdd_1969.0', -32.009123575574108),\n",
       " ('GarageYrBlt_1976.0', -32.00895181105308),\n",
       " ('GarageYrBlt_1969.0', -32.008865387274497),\n",
       " ('GarageYrBlt_1961.0', -32.008263430673992),\n",
       " ('YearBuilt_1949.0', -32.00757514749472),\n",
       " ('Condition1_PosN', -32.007230945830685),\n",
       " ('BsmtFinType2_GLQ', -32.005596583322586),\n",
       " ('Exterior2nd_BrkFace', -32.004650903184739),\n",
       " ('YearRemodAdd_1987.0', -32.004220257463224),\n",
       " ('YearRemodAdd_1955.0', -32.002585899755559),\n",
       " ('Functional_Mod', -31.999403203455898),\n",
       " ('RoofMatl_Tar&Grv', -31.998801199232673),\n",
       " ('Heating_GasW', -31.998457203480456),\n",
       " ('ExterCond_Fa', -31.997339525858681),\n",
       " ('Heating_GasA', -31.993984256706923),\n",
       " ('Condition1_RRNn', -31.982285419797339),\n",
       " ('LotConfig_FR3', -31.982027382616685),\n",
       " ('Condition2_Feedr', -31.981941357842448),\n",
       " ('GarageYrBlt_1973.0', -31.963963774747697),\n",
       " ('YearRemodAdd_2008.0', -31.963619486784946),\n",
       " ('YearRemodAdd_1973.0', -31.961382849063902),\n",
       " ('RoofStyle_Mansard', -31.960350593053803),\n",
       " ('YearBuilt_1973.0', -31.95931867838577),\n",
       " ('GarageYrBlt_1988.0', -31.95923237562053),\n",
       " ('YearRemodAdd_1989.0', -31.957598150694569),\n",
       " ('YearRemodAdd_1988.0', -31.952350846868118),\n",
       " ('YearBuilt_1916.0', -31.944007092582872),\n",
       " ('SaleType_ConLD', -31.941770552191496),\n",
       " ('YearBuilt_1923.0', -31.93437289155052),\n",
       " ('GarageYrBlt_1926.0', -31.931448231687753),\n",
       " ('GarageYrBlt_2008.0', -31.921384070441121),\n",
       " ('YearBuilt_1995.0', -31.916137036814732),\n",
       " ('GarageYrBlt_1995.0', -31.91476074366572),\n",
       " ('Neighborhood_MeadowV', -31.91424455087077),\n",
       " ('YearBuilt_1953.0', -31.912954557303031),\n",
       " ('ExterQual_Ex', -31.912696130426692),\n",
       " ('YearRemodAdd_1957.0', -31.912438209603899),\n",
       " ('GarageYrBlt_1953.0', -31.912266409433318),\n",
       " ('Neighborhood_StoneBr', -31.911750084369242),\n",
       " ('Neighborhood_NoRidge', -31.910803725286325),\n",
       " ('YearBuilt_1988.0', -31.909169340546299),\n",
       " ('GarageYrBlt_1989.0', -31.909083818314635),\n",
       " ('YearRemodAdd_1953.0', -31.908309531485628),\n",
       " ('YearRemodAdd_1972.0', -31.908138356010504),\n",
       " ('YearRemodAdd_1961.0', -31.907105157141569),\n",
       " ('RoofStyle_Gambrel', -31.905900633785507),\n",
       " ('GarageType_CarPort', -31.903148217900277),\n",
       " ('GarageQual_Gd', -31.902632119564583),\n",
       " ('ExterQual_Fa', -31.900395610332033),\n",
       " ('GarageYrBlt_1949.0', -31.899793708387431),\n",
       " ('Exterior2nd_ImStucc', -31.899621257315907),\n",
       " ('YearBuilt_1928.0', -31.888094701527312),\n",
       " ('YearRemodAdd_1984.0', -31.887062488222391),\n",
       " ('Exterior2nd_Brk Cmn', -31.884653942648484),\n",
       " ('YearBuilt_1935.0', -31.883363649942837),\n",
       " ('YearBuilt_1946.0', -31.872353236475078),\n",
       " ('YearBuilt_2008.0', -31.871665075571368),\n",
       " ('GarageYrBlt_1972.0', -31.862891285304865),\n",
       " ('YearBuilt_1972.0', -31.860741516331455),\n",
       " ('GarageYrBlt_1939.0', -31.859794823232605),\n",
       " ('YearBuilt_1941.0', -31.859106538126156),\n",
       " ('Neighborhood_Veenker', -31.858848276142432),\n",
       " ('GarageYrBlt_1975.0', -31.857902218829359),\n",
       " ('YearBuilt_1975.0', -31.854461383911435),\n",
       " ('YearBuilt_1930.0', -31.85265491718507),\n",
       " ('YearBuilt_1939.0', -31.852483160638513),\n",
       " ('GarageYrBlt_1930.0', -31.850676467281691),\n",
       " ('YearRemodAdd_1981.0', -31.847149683027435),\n",
       " ('HouseStyle_2.5Fin', -31.844139025006321),\n",
       " ('Condition2_RRAe', -31.833643046016142),\n",
       " ('Exterior1st_AsphShn', -31.833557854188072),\n",
       " ('GarageYrBlt_1906.0', -31.833557854188072),\n",
       " ('GarageYrBlt_1927.0', -31.833557854188072),\n",
       " ('YearBuilt_1906.0', -31.833557854188069),\n",
       " ('YearBuilt_1911.0', -31.833472662359998),\n",
       " ('Functional_Sev', -31.833472662359998),\n",
       " ('RoofMatl_Metal', -31.833472662359998),\n",
       " ('LotShape_nan', -31.833386643426802),\n",
       " ('Neighborhood_nan', -31.833386643426802),\n",
       " ('RoofStyle_nan', -31.833386643426802),\n",
       " ('MSZoning_nan', -31.833386643426802),\n",
       " ('LandContour_nan', -31.833386643426802),\n",
       " ('CentralAir_nan', -31.833386643426802),\n",
       " ('BldgType_nan', -31.833386643426802),\n",
       " ('LotConfig_nan', -31.833386643426802),\n",
       " ('Condition1_nan', -31.833386643426802),\n",
       " ('ExterQual_nan', -31.833386643426802),\n",
       " ('Condition2_nan', -31.833386643426802),\n",
       " ('LandSlope_nan', -31.833386643426802),\n",
       " ('YearRemodAdd_nan', -31.833386643426802),\n",
       " ('HouseStyle_nan', -31.833386643426802),\n",
       " ('Exterior2nd_nan', -31.833386643426802),\n",
       " ('ExterCond_nan', -31.833386643426802),\n",
       " ('YrSold_nan', -31.833386643426802),\n",
       " ('Street_nan', -31.833386643426802),\n",
       " ('KitchenQual_nan', -31.833386643426802),\n",
       " ('SaleCondition_nan', -31.833386643426802),\n",
       " ('Heating_nan', -31.833386643426802),\n",
       " ('YearBuilt_nan', -31.833386643426802),\n",
       " ('Foundation_nan', -31.833386643426802),\n",
       " ('SaleType_nan', -31.833386643426802),\n",
       " ('Functional_nan', -31.833386643426802),\n",
       " ('PavedDrive_nan', -31.833386643426802),\n",
       " ('HeatingQC_nan', -31.833386643426802),\n",
       " ('RoofMatl_nan', -31.833386643426802),\n",
       " ('Exterior1st_nan', -31.833386643426802),\n",
       " ('Utilities_nan', -31.833386643426802),\n",
       " ('Exterior2nd_AsphShn', -31.833213778455271),\n",
       " ('MiscFeature_TenC', -31.833041740588875),\n",
       " ('RoofMatl_ClyTile', -31.833041740588875),\n",
       " ('GarageYrBlt_1983.0', -31.825817085227765),\n",
       " ('YearRemodAdd_1982.0', -31.824957086111709),\n",
       " ('GarageYrBlt_2009.0', -31.822204230851668),\n",
       " ('YearBuilt_2009.0', -31.821085985199669),\n",
       " ('YearRemodAdd_2009.0', -31.817903290439077),\n",
       " ('GarageYrBlt_1941.0', -31.810935922363765),\n",
       " ('MasVnrType_nan', -31.806204803673339),\n",
       " ('SaleCondition_Alloca', -31.804829414235549),\n",
       " ('MSZoning_C (all)', -31.802850068100106),\n",
       " ('YearBuilt_1922.0', -31.794764773715134),\n",
       " ('SaleType_ConLI', -31.784441870443814),\n",
       " ('YearBuilt_1908.0', -31.784441180310797),\n",
       " ('RoofStyle_Shed', -31.784439397682711),\n",
       " ('MiscFeature_Gar2', -31.784354216471062),\n",
       " ('Exterior1st_Stone', -31.784354197464253),\n",
       " ('Foundation_Wood', -31.784269835309793),\n",
       " ('Condition2_RRNn', -31.784269005584385),\n",
       " ('GarageYrBlt_1934.0', -31.78426900547322),\n",
       " ('YearBuilt_1893.0', -31.784268181488727),\n",
       " ('Condition2_PosA', -31.784268181488727),\n",
       " ('YearBuilt_2010.0', -31.784268178383734),\n",
       " ('GarageYrBlt_1915.0', -31.784183817917683),\n",
       " ('Utilities_NoSeWa', -31.784183534367394),\n",
       " ('Utilities_AllPub', -31.784183534367394),\n",
       " ('Exterior1st_CBlock', -31.784183192000924),\n",
       " ('Exterior2nd_CBlock', -31.784183192000924),\n",
       " ('GarageYrBlt_1908.0', -31.784183123511198),\n",
       " ('YearBuilt_1872.0', -31.784182992011186),\n",
       " ('YearBuilt_1917.0', -31.784182990812553),\n",
       " ('YearBuilt_1882.0', -31.784182989271464),\n",
       " ('GarageYrBlt_1933.0', -31.78409834253932),\n",
       " ('RoofMatl_Roll', -31.784098007571611),\n",
       " ('Condition2_RRAn', -31.784097891470967),\n",
       " ('YearBuilt_1913.0', -31.784097801188224),\n",
       " ('GarageYrBlt_1900.0', -31.784097798984483),\n",
       " ('Electrical_nan', -31.784097797443394),\n",
       " ('YearBuilt_1905.0', -31.784097797443394),\n",
       " ('YearBuilt_1875.0', -31.784097795388604),\n",
       " ('Exterior2nd_Other', -31.784097795388604),\n",
       " ('HeatingQC_Po', -31.784097795388604),\n",
       " ('Exterior1st_ImStucc', -31.784097795036288),\n",
       " ('RoofMatl_Membran', -31.784097795008087),\n",
       " ('Heating_Floor', -31.784097794906138),\n",
       " ('ExterCond_Po', -31.78409779485607),\n",
       " ('GarageYrBlt_1923.0', -31.783925757522201),\n",
       " ('Electrical_Mix', -31.783837256620824),\n",
       " ('GarageYrBlt_1947.0', -31.783752895047094),\n",
       " ('YearBuilt_1885.0', -31.783667707058207),\n",
       " ('YearBuilt_1898.0', -31.783666875672271),\n",
       " ('YearBuilt_1904.0', -31.783581683844197),\n",
       " ('GarageCond_Po', -31.780657401125048),\n",
       " ('Heating_Grav', -31.77859259262344),\n",
       " ('GarageYrBlt_1986.0', -31.73575515972508),\n",
       " ('YearBuilt_1986.0', -31.735583119316303),\n",
       " ('YearRemodAdd_1951.0', -31.73557981292457),\n",
       " ('YearBuilt_1927.0', -31.735150540618346),\n",
       " ('YearBuilt_1892.0', -31.735066178415742),\n",
       " ('GarageYrBlt_1932.0', -31.735065352527265),\n",
       " ('Heating_OthW', -31.734979339396943),\n",
       " ('GarageCond_Ex', -31.734979335116137),\n",
       " ('GarageYrBlt_1942.0', -31.734979335116137),\n",
       " ('YearBuilt_1942.0', -31.734979335116137),\n",
       " ('YearBuilt_1987.0', -31.734894977785515),\n",
       " ('YearBuilt_1919.0', -31.734894970393189),\n",
       " ('YearBuilt_1890.0', -31.734809017209997),\n",
       " ('Neighborhood_Blueste', -31.734808965500985),\n",
       " ('Condition1_RRNe', -31.734808964600731),\n",
       " ('SaleType_Con', -31.734808963768611),\n",
       " ('Condition2_PosN', -31.734808956955579),\n",
       " ('Condition2_Artery', -31.734808950565775),\n",
       " ('MiscFeature_Othr', -31.73480894874767),\n",
       " ('PoolQC_Gd', -31.734636221994354),\n",
       " ('Exterior1st_BrkComm', -31.734549235698289),\n",
       " ('BsmtCond_Po', -31.734548407953614),\n",
       " ('GarageYrBlt_1937.0', -31.734463224599114),\n",
       " ('GarageYrBlt_1914.0', -31.734378907692356),\n",
       " ('GarageYrBlt_1952.0', -31.686203291742331),\n",
       " ('GarageYrBlt_1931.0', -31.685950471473575),\n",
       " ('YearBuilt_1938.0', -31.685862533876318),\n",
       " ('GarageQual_Ex', -31.685861697155282),\n",
       " ('GarageYrBlt_2010.0', -31.685860865454),\n",
       " ('YearBuilt_1937.0', -31.685777418074316),\n",
       " ('GarageYrBlt_1921.0', -31.685775757268953),\n",
       " ('SaleType_Oth', -31.685606188465147),\n",
       " ('YearBuilt_1934.0', -31.685605345105635),\n",
       " ('Functional_Maj2', -31.685604464762914),\n",
       " ('YearBuilt_1983.0', -31.68560365444506),\n",
       " ('YearRemodAdd_1983.0', -31.685603653176173),\n",
       " ('YearBuilt_1989.0', -31.685520238839604),\n",
       " ('GarageYrBlt_1928.0', -31.685432430533904),\n",
       " ('GarageYrBlt_1910.0', -31.685431823575311),\n",
       " ('GarageYrBlt_1946.0', -31.68534807295644),\n",
       " ('Electrical_FuseP', -31.685345791662336),\n",
       " ('ExterCond_Ex', -31.685345586170289),\n",
       " ('GarageQual_Po', -31.685258945241795),\n",
       " ('GarageYrBlt_1938.0', -31.685174379772345),\n",
       " ('YearBuilt_1912.0', -31.68500399180531),\n",
       " ('GarageYrBlt_1916.0', -31.684573901701484),\n",
       " ('YearBuilt_1951.0', -31.637088220024221),\n",
       " ('GarageYrBlt_1945.0', -31.636575343545761),\n",
       " ('Heating_Wall', -31.636489326523609),\n",
       " ('YearBuilt_1947.0', -31.636488491170351),\n",
       " ('YearBuilt_1932.0', -31.636401644925837),\n",
       " ('SaleCondition_AdjLand', -31.636316446526742),\n",
       " ('RoofMatl_WdShake', -31.636143585812771),\n",
       " ('Exterior2nd_Stone', -31.63605757553378),\n",
       " ('YearBuilt_1991.0', -31.635973232763021),\n",
       " ('GarageYrBlt_1982.0', -31.635973199269063),\n",
       " ('SaleType_ConLw', -31.635887176573213),\n",
       " ('SaleType_CWD', -31.635801227920101),\n",
       " ('YearBuilt_1880.0', -31.635370240459189),\n",
       " ('Street_Pave', -31.588055693906394),\n",
       " ('Street_Grvl', -31.588055693906394),\n",
       " ('GarageYrBlt_1951.0', -31.58780266807797),\n",
       " ('YearBuilt_1945.0', -31.587372508860604),\n",
       " ('YearBuilt_1921.0', -31.587370108272097),\n",
       " ('YearRemodAdd_2010.0', -31.587369187245319),\n",
       " ('YearBuilt_1952.0', -31.587365063049418),\n",
       " ('YearRemodAdd_1952.0', -31.587365063049418),\n",
       " ('GarageType_2Types', -31.587200534023513),\n",
       " ('YearBuilt_1981.0', -31.586426291341919),\n",
       " ('GarageYrBlt_1922.0', -31.586082788954297),\n",
       " ('YearBuilt_1931.0', -31.537997912535278),\n",
       " ('RoofMatl_WdShngl', -31.537997630043201),\n",
       " ('Foundation_Stone', -31.537051637475418),\n",
       " ('YearBuilt_1982.0', -31.536965702041602)]"
      ]
     },
     "execution_count": 110,
     "metadata": {},
     "output_type": "execute_result"
    }
   ],
   "source": [
    "sorted_categotical"
   ]
  },
  {
   "cell_type": "code",
   "execution_count": 114,
   "metadata": {
    "collapsed": false
   },
   "outputs": [
    {
     "data": {
      "text/plain": [
       "1460"
      ]
     },
     "execution_count": 114,
     "metadata": {},
     "output_type": "execute_result"
    }
   ],
   "source": [
    "len(training_data)"
   ]
  },
  {
   "cell_type": "code",
   "execution_count": 120,
   "metadata": {
    "collapsed": false
   },
   "outputs": [
    {
     "data": {
      "text/plain": [
       "47"
      ]
     },
     "execution_count": 120,
     "metadata": {},
     "output_type": "execute_result"
    }
   ],
   "source": [
    "len(categorical_variables)"
   ]
  },
  {
   "cell_type": "code",
   "execution_count": 15,
   "metadata": {
    "collapsed": false
   },
   "outputs": [
    {
     "data": {
      "text/plain": [
       "16"
      ]
     },
     "execution_count": 15,
     "metadata": {},
     "output_type": "execute_result"
    }
   ],
   "source": [
    "len(continuous_variables)"
   ]
  },
  {
   "cell_type": "markdown",
   "metadata": {},
   "source": [
    "#### Handle continous variables"
   ]
  },
  {
   "cell_type": "code",
   "execution_count": 13,
   "metadata": {
    "collapsed": true
   },
   "outputs": [],
   "source": []
  },
  {
   "cell_type": "code",
   "execution_count": 16,
   "metadata": {
    "collapsed": false
   },
   "outputs": [],
   "source": []
  },
  {
   "cell_type": "code",
   "execution_count": 17,
   "metadata": {
    "collapsed": false
   },
   "outputs": [],
   "source": []
  },
  {
   "cell_type": "code",
   "execution_count": 19,
   "metadata": {
    "collapsed": true
   },
   "outputs": [],
   "source": [
    "import numpy as np"
   ]
  },
  {
   "cell_type": "code",
   "execution_count": 82,
   "metadata": {
    "collapsed": false,
    "scrolled": true
   },
   "outputs": [],
   "source": []
  },
  {
   "cell_type": "code",
   "execution_count": 83,
   "metadata": {
    "collapsed": false
   },
   "outputs": [],
   "source": [
    "sorted_cvar_cor_rankings = sorted(cvar_cor_rankings.items(), key=operator.itemgetter(1), reverse=True)"
   ]
  },
  {
   "cell_type": "code",
   "execution_count": 84,
   "metadata": {
    "collapsed": false
   },
   "outputs": [
    {
     "data": {
      "text/plain": [
       "[('GrLivArea', 0.70862447761265224),\n",
       " ('GarageArea', 0.62343143891836172),\n",
       " ('TotalBsmtSF', 0.61358055155919544),\n",
       " ('1stFlrSF', 0.60585218469191482),\n",
       " ('MasVnrArea', 0.47524131677366821),\n",
       " ('BsmtFinSF1', 0.38641980624215316),\n",
       " ('LotFrontage', 0.33490085154055105),\n",
       " ('WoodDeckSF', 0.32441344456812948),\n",
       " ('2ndFlrSF', 0.31933380283206764),\n",
       " ('OpenPorchSF', 0.31585622711605543),\n",
       " ('LotArea', 0.26384335387140573),\n",
       " ('BsmtUnfSF', 0.21447910554696892),\n",
       " ('ScreenPorch', 0.11144657114291109),\n",
       " ('BsmtFinSF2', -0.011378121450215136),\n",
       " ('MiscVal', -0.021189579640303248),\n",
       " ('EnclosedPorch', -0.1285779579259565)]"
      ]
     },
     "execution_count": 84,
     "metadata": {},
     "output_type": "execute_result"
    }
   ],
   "source": [
    "sorted_cvar_cor_rankings"
   ]
  },
  {
   "cell_type": "code",
   "execution_count": 23,
   "metadata": {
    "collapsed": false
   },
   "outputs": [],
   "source": []
  },
  {
   "cell_type": "code",
   "execution_count": 150,
   "metadata": {
    "collapsed": true
   },
   "outputs": [],
   "source": [
    "cvar_mi_rankings = {}\n",
    "for col_name in continuous_variables:\n",
    "    feature = np.array(training_data[col_name], dtype=float).reshape(len(training_data),1)\n",
    "    cvar_mi_rankings[col_name] = mutual_information((feature, SalePrices), k=20) "
   ]
  },
  {
   "cell_type": "code",
   "execution_count": 151,
   "metadata": {
    "collapsed": false
   },
   "outputs": [],
   "source": [
    "sorted_cvar_mi_rankings = sorted(cvar_mi_rankings.items(), key=operator.itemgetter(1), reverse=True)"
   ]
  },
  {
   "cell_type": "code",
   "execution_count": 152,
   "metadata": {
    "collapsed": false
   },
   "outputs": [
    {
     "data": {
      "text/plain": [
       "[('GrLivArea', -1.7100681342097879),\n",
       " ('LotArea', -1.9459710364725673),\n",
       " ('1stFlrSF', -2.0276254703596202),\n",
       " ('TotalBsmtSF', -3.2408740479361953),\n",
       " ('BsmtUnfSF', -4.454803322259874),\n",
       " ('GarageArea', -12.222131816751792),\n",
       " ('BsmtFinSF1', -13.432084967869486),\n",
       " ('OpenPorchSF', -20.911634286151063),\n",
       " ('2ndFlrSF', -22.917872090786446),\n",
       " ('LotFrontage', -23.103014296630242),\n",
       " ('MasVnrArea', -23.793829671457615),\n",
       " ('WoodDeckSF', -25.643959965084886),\n",
       " ('EnclosedPorch', -33.970478515267793),\n",
       " ('BsmtFinSF2', -34.911597605974364),\n",
       " ('ScreenPorch', -36.306444798507641),\n",
       " ('MiscVal', -37.96844193074125)]"
      ]
     },
     "execution_count": 152,
     "metadata": {},
     "output_type": "execute_result"
    }
   ],
   "source": [
    "sorted_cvar_mi_rankings"
   ]
  },
  {
   "cell_type": "code",
   "execution_count": 153,
   "metadata": {
    "collapsed": true
   },
   "outputs": [],
   "source": [
    "fig = plt.figure(1)\n",
    "for idx, col_tuple in enumerate(sorted_cvar_mi_rankings):\n",
    "    fig.add_subplot(len(sorted_cvar_mi_rankings)/4, 4, idx+1)\n",
    "    plt.scatter(training_data[col_tuple[0]], saleprice)\n",
    "    plt.title(col_tuple[0])\n",
    "plt.show()"
   ]
  },
  {
   "cell_type": "code",
   "execution_count": 219,
   "metadata": {
    "collapsed": false
   },
   "outputs": [],
   "source": [
    "fig = plt.figure(1)\n",
    "for idx, col_name in enumerate(categorical_variables[24:36]):\n",
    "    ax = fig.add_subplot(4, 3, idx+1)\n",
    "    df = training_data.groupby(col_name).SalePrice\n",
    "    data = [(name, np.array(group)) for name, group in df]\n",
    "    names = [t[0] for t in data]\n",
    "    data_to_plot = [t[1] for t in data]\n",
    "    # Create the boxplot\n",
    "    bp = ax.boxplot(data_to_plot)\n",
    "    ax.set_xticklabels(names)\n",
    "    plt.title(col_name)\n",
    "plt.show()"
   ]
  },
  {
   "cell_type": "code",
   "execution_count": 220,
   "metadata": {
    "collapsed": true
   },
   "outputs": [],
   "source": [
    "# TODO\n",
    "# 1. use ANOVA test to select categocial features\n",
    "# 2. rank both continous variables and categorical variables\n",
    "# 3. combine and train model\n",
    "\n",
    "# Learn ANOVA, F distribution, t- test\n",
    "# Learn MI low priority https://pdfs.semanticscholar.org/2bde/35a8b8cb62a906e0233372b7ddeb7c6b5099.pdf"
   ]
  },
  {
   "cell_type": "code",
   "execution_count": null,
   "metadata": {
    "collapsed": true
   },
   "outputs": [],
   "source": []
  }
 ],
 "metadata": {
  "kernelspec": {
   "display_name": "Python 3",
   "language": "python",
   "name": "python3"
  },
  "language_info": {
   "codemirror_mode": {
    "name": "ipython",
    "version": 3
   },
   "file_extension": ".py",
   "mimetype": "text/x-python",
   "name": "python",
   "nbconvert_exporter": "python",
   "pygments_lexer": "ipython3",
   "version": "3.5.1"
  }
 },
 "nbformat": 4,
 "nbformat_minor": 0
}
