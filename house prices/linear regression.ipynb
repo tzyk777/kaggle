{
 "cells": [
  {
   "cell_type": "code",
   "execution_count": 499,
   "metadata": {
    "collapsed": false
   },
   "outputs": [],
   "source": [
    "import pandas as pd\n",
    "import numpy as np\n",
    "from sklearn import linear_model\n",
    "from sklearn.model_selection import cross_val_score\n",
    "import matplotlib.pyplot as plt\n",
    "import matplotlib\n",
    "from scipy.stats import skew\n",
    "from sklearn.preprocessing import normalize\n",
    "\n",
    "%matplotlib inline"
   ]
  },
  {
   "cell_type": "code",
   "execution_count": 500,
   "metadata": {
    "collapsed": true
   },
   "outputs": [],
   "source": [
    "training_data = pd.DataFrame.from_csv('train.csv')\n",
    "test_data = pd.DataFrame.from_csv('test.csv')"
   ]
  },
  {
   "cell_type": "code",
   "execution_count": 501,
   "metadata": {
    "collapsed": true
   },
   "outputs": [],
   "source": [
    "data = pd.concat([training_data, test_data])"
   ]
  },
  {
   "cell_type": "code",
   "execution_count": 502,
   "metadata": {
    "collapsed": false
   },
   "outputs": [],
   "source": [
    "data = pd.get_dummies(data)"
   ]
  },
  {
   "cell_type": "code",
   "execution_count": 503,
   "metadata": {
    "collapsed": false
   },
   "outputs": [
    {
     "name": "stdout",
     "output_type": "stream",
     "text": [
      "Feature BsmtFinSF1 type float64 has 1 null values, accounts for 0.03% data set\n",
      "Feature BsmtFinSF2 type float64 has 1 null values, accounts for 0.03% data set\n",
      "Feature BsmtFullBath type float64 has 2 null values, accounts for 0.07% data set\n",
      "Feature BsmtHalfBath type float64 has 2 null values, accounts for 0.07% data set\n",
      "Feature BsmtUnfSF type float64 has 1 null values, accounts for 0.03% data set\n",
      "Feature GarageArea type float64 has 1 null values, accounts for 0.03% data set\n",
      "Feature GarageCars type float64 has 1 null values, accounts for 0.03% data set\n",
      "Feature GarageYrBlt type float64 has 159 null values, accounts for 5.45% data set\n",
      "Feature LotFrontage type float64 has 486 null values, accounts for 16.65% data set\n",
      "Feature MasVnrArea type float64 has 23 null values, accounts for 0.79% data set\n",
      "Feature SalePrice type float64 has 1459 null values, accounts for 49.98% data set\n",
      "Feature TotalBsmtSF type float64 has 1 null values, accounts for 0.03% data set\n"
     ]
    }
   ],
   "source": [
    "for c in data.columns:\n",
    "    num_nulls = len(data[data[c].isnull()])\n",
    "    if num_nulls != 0:\n",
    "        print('Feature {} type {} has {} null values, accounts for {}% data set'.format(\n",
    "                c, data[c].dtypes, num_nulls, round(100 * num_nulls / len(data),2 )))"
   ]
  },
  {
   "cell_type": "code",
   "execution_count": 504,
   "metadata": {
    "collapsed": true
   },
   "outputs": [],
   "source": [
    "data = data.fillna(data.mean())"
   ]
  },
  {
   "cell_type": "code",
   "execution_count": 505,
   "metadata": {
    "collapsed": false
   },
   "outputs": [],
   "source": [
    "features = data.columns.values.tolist()\n",
    "features.remove('SalePrice')"
   ]
  },
  {
   "cell_type": "code",
   "execution_count": 506,
   "metadata": {
    "collapsed": true
   },
   "outputs": [],
   "source": [
    "X_train = data[:len(training_data)][features]\n",
    "X_test = data[len(training_data):][features]\n",
    "y = data[:len(training_data)]['SalePrice']"
   ]
  },
  {
   "cell_type": "code",
   "execution_count": 507,
   "metadata": {
    "collapsed": false
   },
   "outputs": [],
   "source": [
    "# Feature selection\n",
    "coefs = []\n",
    "for l1_penalty in [0.05, 0.1, 0.3, 1, 3, 5, 10, 15, 30, 50, 75]:\n",
    "    error = np.sqrt(-cross_val_score(linear_model.Lasso(alpha=l1_penalty, normalize=True, max_iter=100000), X_train, y, scoring=\"neg_mean_squared_error\", cv=5)).mean()\n",
    "    coefs.append(tuple((l1_penalty, error)))"
   ]
  },
  {
   "cell_type": "code",
   "execution_count": 508,
   "metadata": {
    "collapsed": false
   },
   "outputs": [],
   "source": [
    "alphas = [x[0] for x in coefs]\n",
    "errors = [x[1] for x in coefs]"
   ]
  },
  {
   "cell_type": "code",
   "execution_count": 509,
   "metadata": {
    "collapsed": false
   },
   "outputs": [
    {
     "data": {
      "text/plain": [
       "<matplotlib.text.Text at 0x1c2b29c59b0>"
      ]
     },
     "execution_count": 509,
     "metadata": {},
     "output_type": "execute_result"
    },
    {
     "data": {
      "image/png": "[encoded data removed]",
      "text/plain": [
       "<matplotlib.figure.Figure at 0x1c2b29b1438>"
      ]
     },
     "metadata": {},
     "output_type": "display_data"
    }
   ],
   "source": [
    "errors = pd.Series(errors, index=alphas)\n",
    "errors.plot(title='Validation error with different l1 penalty')\n",
    "plt.xlabel('l1 penalty')\n",
    "plt.ylabel('rmse')"
   ]
  },
  {
   "cell_type": "code",
   "execution_count": 223,
   "metadata": {
    "collapsed": true
   },
   "outputs": [],
   "source": [
    "# Best penalty = 30"
   ]
  },
  {
   "cell_type": "code",
   "execution_count": 510,
   "metadata": {
    "collapsed": false
   },
   "outputs": [
    {
     "data": {
      "text/plain": [
       "Lasso(alpha=30, copy_X=True, fit_intercept=True, max_iter=1000,\n",
       "   normalize=True, positive=False, precompute=False, random_state=None,\n",
       "   selection='cyclic', tol=0.0001, warm_start=False)"
      ]
     },
     "execution_count": 510,
     "metadata": {},
     "output_type": "execute_result"
    }
   ],
   "source": [
    "model = linear_model.Lasso(alpha=30, normalize=True)\n",
    "model.fit(X_train, y)"
   ]
  },
  {
   "cell_type": "code",
   "execution_count": 511,
   "metadata": {
    "collapsed": true
   },
   "outputs": [],
   "source": [
    "coef = pd.Series(model.coef_, index = features)"
   ]
  },
  {
   "cell_type": "code",
   "execution_count": 512,
   "metadata": {
    "collapsed": false
   },
   "outputs": [
    {
     "name": "stdout",
     "output_type": "stream",
     "text": [
      "Lasso picked 68 variables and eliminated the other 220 variables\n"
     ]
    }
   ],
   "source": [
    "print(\"Lasso picked \" + str(sum(coef != 0)) + \" variables and eliminated the other \" +  str(sum(coef == 0)) + \" variables\")"
   ]
  },
  {
   "cell_type": "code",
   "execution_count": 513,
   "metadata": {
    "collapsed": true
   },
   "outputs": [],
   "source": [
    "imp_coef = pd.concat([coef.sort_values().head(10),\n",
    "                      coef.sort_values().tail(10)])"
   ]
  },
  {
   "cell_type": "code",
   "execution_count": 514,
   "metadata": {
    "collapsed": false
   },
   "outputs": [
    {
     "data": {
      "text/plain": [
       "<matplotlib.text.Text at 0x1c2b2a6f6d8>"
      ]
     },
     "execution_count": 514,
     "metadata": {},
     "output_type": "execute_result"
    },
    {
     "data": {
      "image/png": "[encoded data removed]",
      "text/plain": [
       "<matplotlib.figure.Figure at 0x1c2b2a42400>"
      ]
     },
     "metadata": {},
     "output_type": "display_data"
    }
   ],
   "source": [
    "matplotlib.rcParams['figure.figsize'] = (8.0, 10.0)\n",
    "imp_coef.plot(kind = \"barh\")\n",
    "plt.title(\"Coefficients in the Lasso Model\")"
   ]
  },
  {
   "cell_type": "code",
   "execution_count": 515,
   "metadata": {
    "collapsed": false
   },
   "outputs": [],
   "source": [
    "important_features = [features[i] for i in np.where(model.coef_ != 0)[0]]"
   ]
  },
  {
   "cell_type": "code",
   "execution_count": 516,
   "metadata": {
    "collapsed": false
   },
   "outputs": [
    {
     "data": {
      "text/plain": [
       "['BsmtFinSF1',\n",
       " 'BsmtFullBath',\n",
       " 'Fireplaces',\n",
       " 'FullBath',\n",
       " 'GarageArea',\n",
       " 'GarageCars',\n",
       " 'GarageYrBlt',\n",
       " 'GrLivArea',\n",
       " 'KitchenAbvGr',\n",
       " 'LotArea',\n",
       " 'LowQualFinSF',\n",
       " 'MSSubClass',\n",
       " 'MasVnrArea',\n",
       " 'OverallCond',\n",
       " 'OverallQual',\n",
       " 'PoolArea',\n",
       " 'ScreenPorch',\n",
       " 'TotalBsmtSF',\n",
       " 'WoodDeckSF',\n",
       " 'YearBuilt',\n",
       " 'YearRemodAdd',\n",
       " 'BldgType_1Fam',\n",
       " 'BsmtCond_Fa',\n",
       " 'BsmtExposure_Gd',\n",
       " 'BsmtExposure_No',\n",
       " 'BsmtFinType1_GLQ',\n",
       " 'BsmtFinType2_ALQ',\n",
       " 'BsmtQual_Ex',\n",
       " 'BsmtQual_TA',\n",
       " 'Condition1_Artery',\n",
       " 'Condition1_Norm',\n",
       " 'Condition1_RRAe',\n",
       " 'Condition2_PosN',\n",
       " 'ExterQual_Ex',\n",
       " 'ExterQual_TA',\n",
       " 'Exterior1st_BrkFace',\n",
       " 'Foundation_PConc',\n",
       " 'Functional_Sev',\n",
       " 'Functional_Typ',\n",
       " 'GarageFinish_Fin',\n",
       " 'GarageQual_Ex',\n",
       " 'GarageType_2Types',\n",
       " 'Heating_OthW',\n",
       " 'HeatingQC_Ex',\n",
       " 'KitchenQual_Ex',\n",
       " 'KitchenQual_TA',\n",
       " 'LandContour_Bnk',\n",
       " 'LotConfig_CulDSac',\n",
       " 'LotShape_IR2',\n",
       " 'MSZoning_C (all)',\n",
       " 'MSZoning_RM',\n",
       " 'Neighborhood_BrkSide',\n",
       " 'Neighborhood_Crawfor',\n",
       " 'Neighborhood_Edwards',\n",
       " 'Neighborhood_Mitchel',\n",
       " 'Neighborhood_NoRidge',\n",
       " 'Neighborhood_NridgHt',\n",
       " 'Neighborhood_Somerst',\n",
       " 'Neighborhood_StoneBr',\n",
       " 'PoolQC_Ex',\n",
       " 'RoofMatl_ClyTile',\n",
       " 'RoofMatl_WdShngl',\n",
       " 'SaleCondition_Abnorml',\n",
       " 'SaleCondition_Family',\n",
       " 'SaleType_Con',\n",
       " 'SaleType_New',\n",
       " 'Street_Grvl',\n",
       " 'Street_Pave']"
      ]
     },
     "execution_count": 516,
     "metadata": {},
     "output_type": "execute_result"
    }
   ],
   "source": [
    "important_features"
   ]
  },
  {
   "cell_type": "code",
   "execution_count": null,
   "metadata": {
    "collapsed": true
   },
   "outputs": [],
   "source": []
  }
 ],
 "metadata": {
  "kernelspec": {
   "display_name": "Python 3",
   "language": "python",
   "name": "python3"
  },
  "language_info": {
   "codemirror_mode": {
    "name": "ipython",
    "version": 3
   },
   "file_extension": ".py",
   "mimetype": "text/x-python",
   "name": "python",
   "nbconvert_exporter": "python",
   "pygments_lexer": "ipython3",
   "version": "3.5.1"
  }
 },
 "nbformat": 4,
 "nbformat_minor": 0
}
